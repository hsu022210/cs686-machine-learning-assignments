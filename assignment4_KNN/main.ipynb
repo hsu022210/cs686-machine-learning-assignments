{
 "cells": [
  {
   "cell_type": "code",
   "execution_count": 1,
   "metadata": {
    "collapsed": true
   },
   "outputs": [],
   "source": [
    "import pandas as pd\n",
    "import arff\n",
    "import pprint\n",
    "from sklearn.model_selection import train_test_split\n",
    "from sklearn.metrics import accuracy_score\n",
    "from knn import knn"
   ]
  },
  {
   "cell_type": "code",
   "execution_count": 2,
   "metadata": {
    "collapsed": true
   },
   "outputs": [],
   "source": [
    "def getXandY_from_arff(fileName):\n",
    "    arffData = arff.load(open(fileName, 'r'))\n",
    "    # pp = pprint.PrettyPrinter(indent=4)\n",
    "    # pp.pprint(len(arffData[\"attributes\"]))\n",
    "\n",
    "    attrs_list = []\n",
    "    for attrMeta in arffData[\"attributes\"]:\n",
    "        attrs_list.append(attrMeta[0])\n",
    "\n",
    "    df = pd.DataFrame(data=arffData['data'], columns=attrs_list)\n",
    "    df.head()\n",
    "    X = df.iloc[:, :-1]\n",
    "    y = df.iloc[:, -1]\n",
    "    return X, y"
   ]
  },
  {
   "cell_type": "code",
   "execution_count": 3,
   "metadata": {
    "collapsed": true
   },
   "outputs": [],
   "source": [
    "def runKnn(X, y, start=2, end=32):\n",
    "    X_train, X_test, y_train, y_test = train_test_split(X, y, test_size=0.2, shuffle=False)\n",
    "\n",
    "    for k in range(start, end+1):\n",
    "        model = knn(k)\n",
    "        model.fit(X_train, y_train)\n",
    "        pred = model.predict(X_test)\n",
    "        print(\"k: \" + str(k) + \", accuracy: \" + str(accuracy_score(pred, y_test)))"
   ]
  },
  {
   "cell_type": "code",
   "execution_count": 4,
   "metadata": {},
   "outputs": [
    {
     "name": "stdout",
     "output_type": "stream",
     "text": [
      "k: 2, accuracy: 0.874538745387\n",
      "k: 3, accuracy: 0.885608856089\n",
      "k: 4, accuracy: 0.892988929889\n",
      "k: 5, accuracy: 0.889298892989\n",
      "k: 6, accuracy: 0.889298892989\n",
      "k: 7, accuracy: 0.892988929889\n",
      "k: 8, accuracy: 0.889298892989\n",
      "k: 9, accuracy: 0.89667896679\n",
      "k: 10, accuracy: 0.89667896679\n",
      "k: 11, accuracy: 0.892988929889\n",
      "k: 12, accuracy: 0.889298892989\n",
      "k: 13, accuracy: 0.881918819188\n",
      "k: 14, accuracy: 0.885608856089\n",
      "k: 15, accuracy: 0.874538745387\n",
      "k: 16, accuracy: 0.881918819188\n",
      "k: 17, accuracy: 0.863468634686\n",
      "k: 18, accuracy: 0.867158671587\n",
      "k: 19, accuracy: 0.856088560886\n",
      "k: 20, accuracy: 0.848708487085\n",
      "k: 21, accuracy: 0.845018450185\n",
      "k: 22, accuracy: 0.837638376384\n",
      "k: 23, accuracy: 0.833948339483\n",
      "k: 24, accuracy: 0.841328413284\n",
      "k: 25, accuracy: 0.837638376384\n",
      "k: 26, accuracy: 0.837638376384\n",
      "k: 27, accuracy: 0.833948339483\n",
      "k: 28, accuracy: 0.833948339483\n",
      "k: 29, accuracy: 0.833948339483\n",
      "k: 30, accuracy: 0.837638376384\n",
      "k: 31, accuracy: 0.833948339483\n",
      "k: 32, accuracy: 0.833948339483\n"
     ]
    }
   ],
   "source": [
    "X, y = getXandY_from_arff(\"PhishingData.arff\")\n",
    "runKnn(X, y, 2, 32)"
   ]
  },
  {
   "cell_type": "code",
   "execution_count": null,
   "metadata": {
    "collapsed": true
   },
   "outputs": [],
   "source": []
  }
 ],
 "metadata": {
  "kernelspec": {
   "display_name": "Python 3",
   "language": "python",
   "name": "python3"
  },
  "language_info": {
   "codemirror_mode": {
    "name": "ipython",
    "version": 3
   },
   "file_extension": ".py",
   "mimetype": "text/x-python",
   "name": "python",
   "nbconvert_exporter": "python",
   "pygments_lexer": "ipython3",
   "version": "3.6.1"
  }
 },
 "nbformat": 4,
 "nbformat_minor": 2
}
