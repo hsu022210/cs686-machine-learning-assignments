{
 "cells": [
  {
   "cell_type": "code",
   "execution_count": 1,
   "metadata": {},
   "outputs": [
    {
     "name": "stderr",
     "output_type": "stream",
     "text": [
      "/Users/jinxin/anaconda2/lib/python2.7/site-packages/statsmodels/compat/pandas.py:56: FutureWarning: The pandas.core.datetools module is deprecated and will be removed in a future version. Please use the pandas.tseries module instead.\n",
      "  from pandas.core import datetools\n"
     ]
    }
   ],
   "source": [
    "import numpy as np \n",
    "import pandas as pd\n",
    "import seaborn as sns\n",
    "import matplotlib.pyplot as plt \n",
    "%matplotlib inline\n",
    "import statsmodels.formula.api as smf \n",
    "import statsmodels.api as sm\n",
    "import os"
   ]
  },
  {
   "cell_type": "markdown",
   "metadata": {},
   "source": [
    "***"
   ]
  },
  {
   "cell_type": "markdown",
   "metadata": {},
   "source": [
    "# Homework Assignment \\#3"
   ]
  },
  {
   "cell_type": "markdown",
   "metadata": {},
   "source": [
    "*due Thursday, March 6th, 2018 at 12.45pm*"
   ]
  },
  {
   "cell_type": "markdown",
   "metadata": {},
   "source": [
    "### n.b.\n",
    "All deliverables are required to be typed and all graphs and statistical output generated in Jupyter Notebook using Python and associated packages. Deliverables with *any* handwritten elements will not be accepted and will receive a grade of zero. \n",
    "\n",
    "You are required to upload a ```ipynb``` file to **Canvas** as the deliverable. Use the ```homework_03.ipynb``` file as a template and write the answers in text and include relevant code below each question. Print this document, double-sided, staple it, and hand it in on Thursday, March 6th, 2018, at 12.45pm at the beinning of class.  "
   ]
  },
  {
   "cell_type": "markdown",
   "metadata": {},
   "source": [
    "### Question 1"
   ]
  },
  {
   "cell_type": "markdown",
   "metadata": {
    "collapsed": true
   },
   "source": [
    "*Preamble to Question #1*"
   ]
  },
  {
   "cell_type": "code",
   "execution_count": 2,
   "metadata": {
    "collapsed": true
   },
   "outputs": [],
   "source": [
    "faithfulData = sm.datasets.get_rdataset(\"faithful\")\n",
    "df_faithfulData = pd.DataFrame(faithfulData.data)"
   ]
  },
  {
   "cell_type": "markdown",
   "metadata": {},
   "source": [
    "The `faithful` data set consists of the waiting time between eruptions and the duration of the eruption for the Old Faithful geyser in Yellowstone National Park, Wyoming, USA. Regress `waiting` on `eruptions` and evalute the model in totality, i.e., evaluate the quality of the model, citing specific metrics, as well as validating necessary assumptions for the normal error regression model. Discuss, in detail, your approach and your evaluation of the model. Include all appropriate graphs *and*, if hypothesis tests are run, be certain to include all test details (null and alternative hypotheses, decision rules, $p$-values and conclusions)."
   ]
  },
  {
   "cell_type": "code",
   "execution_count": 3,
   "metadata": {},
   "outputs": [
    {
     "data": {
      "text/html": [
       "<div>\n",
       "<style scoped>\n",
       "    .dataframe tbody tr th:only-of-type {\n",
       "        vertical-align: middle;\n",
       "    }\n",
       "\n",
       "    .dataframe tbody tr th {\n",
       "        vertical-align: top;\n",
       "    }\n",
       "\n",
       "    .dataframe thead th {\n",
       "        text-align: right;\n",
       "    }\n",
       "</style>\n",
       "<table border=\"1\" class=\"dataframe\">\n",
       "  <thead>\n",
       "    <tr style=\"text-align: right;\">\n",
       "      <th></th>\n",
       "      <th>eruptions</th>\n",
       "      <th>waiting</th>\n",
       "    </tr>\n",
       "  </thead>\n",
       "  <tbody>\n",
       "    <tr>\n",
       "      <th>0</th>\n",
       "      <td>3.600</td>\n",
       "      <td>79</td>\n",
       "    </tr>\n",
       "    <tr>\n",
       "      <th>1</th>\n",
       "      <td>1.800</td>\n",
       "      <td>54</td>\n",
       "    </tr>\n",
       "    <tr>\n",
       "      <th>2</th>\n",
       "      <td>3.333</td>\n",
       "      <td>74</td>\n",
       "    </tr>\n",
       "    <tr>\n",
       "      <th>3</th>\n",
       "      <td>2.283</td>\n",
       "      <td>62</td>\n",
       "    </tr>\n",
       "    <tr>\n",
       "      <th>4</th>\n",
       "      <td>4.533</td>\n",
       "      <td>85</td>\n",
       "    </tr>\n",
       "  </tbody>\n",
       "</table>\n",
       "</div>"
      ],
      "text/plain": [
       "   eruptions  waiting\n",
       "0      3.600       79\n",
       "1      1.800       54\n",
       "2      3.333       74\n",
       "3      2.283       62\n",
       "4      4.533       85"
      ]
     },
     "execution_count": 3,
     "metadata": {},
     "output_type": "execute_result"
    }
   ],
   "source": [
    "df_faithfulData.head(5)"
   ]
  },
  {
   "cell_type": "code",
   "execution_count": 5,
   "metadata": {},
   "outputs": [
    {
     "name": "stdout",
     "output_type": "stream",
     "text": [
      "                            OLS Regression Results                            \n",
      "==============================================================================\n",
      "Dep. Variable:                waiting   R-squared:                       0.811\n",
      "Model:                            OLS   Adj. R-squared:                  0.811\n",
      "Method:                 Least Squares   F-statistic:                     1162.\n",
      "Date:                Sun, 04 Mar 2018   Prob (F-statistic):          8.13e-100\n",
      "Time:                        19:57:32   Log-Likelihood:                -868.38\n",
      "No. Observations:                 272   AIC:                             1741.\n",
      "Df Residuals:                     270   BIC:                             1748.\n",
      "Df Model:                           1                                         \n",
      "Covariance Type:            nonrobust                                         \n",
      "==============================================================================\n",
      "                 coef    std err          t      P>|t|      [0.025      0.975]\n",
      "------------------------------------------------------------------------------\n",
      "const         33.4744      1.155     28.985      0.000      31.201      35.748\n",
      "eruptions     10.7296      0.315     34.089      0.000      10.110      11.349\n",
      "==============================================================================\n",
      "Omnibus:                        5.492   Durbin-Watson:                   2.543\n",
      "Prob(Omnibus):                  0.064   Jarque-Bera (JB):                4.683\n",
      "Skew:                           0.237   Prob(JB):                       0.0962\n",
      "Kurtosis:                       2.567   Cond. No.                         12.6\n",
      "==============================================================================\n",
      "\n",
      "Warnings:\n",
      "[1] Standard Errors assume that the covariance matrix of the errors is correctly specified.\n"
     ]
    }
   ],
   "source": [
    "X = sm.add_constant(df_faithfulData.eruptions)\n",
    "model = sm.OLS(df_faithfulData.waiting, X)\n",
    "results = model.fit()\n",
    "print(results.summary())"
   ]
  },
  {
   "cell_type": "markdown",
   "metadata": {},
   "source": [
    "**Answer:**\n",
    "\n",
    "`Model evaluation:` The model has $R^2$ and adjusted $R^2$ of 0.811, meaning 81% of the variation of $waiting$ can be explained by $eruptions$. The regression scatter plot looks reasonable. Both F-statistics and its associated p-value are good.\n",
    "\n",
    "The coefficient of $eruptions$ is 10.73 and its p-value is 0.000, thus statistically speaking, the coefficient significantly different from zero. As eruption duration increases by 1, the waiting time between eruptions goes up by 10.73."
   ]
  },
  {
   "cell_type": "code",
   "execution_count": 44,
   "metadata": {},
   "outputs": [
    {
     "data": {
      "text/plain": [
       "<matplotlib.axes._subplots.AxesSubplot at 0x1206b5850>"
      ]
     },
     "execution_count": 44,
     "metadata": {},
     "output_type": "execute_result"
    },
    {
     "data": {
      "image/png": "[encoded data removed]",
      "text/plain": [
       "<matplotlib.figure.Figure at 0x10a3dfa10>"
      ]
     },
     "metadata": {},
     "output_type": "display_data"
    }
   ],
   "source": [
    "sns.regplot(df_faithfulData.waiting, df_faithfulData.eruptions)"
   ]
  },
  {
   "cell_type": "markdown",
   "metadata": {},
   "source": [
    "`Assumption validation:`\n",
    "\n",
    "1.First let's take a look at the residual plot. The mean of the errors is close to zero and errors are randomly scattered around zero."
   ]
  },
  {
   "cell_type": "code",
   "execution_count": 14,
   "metadata": {},
   "outputs": [
    {
     "name": "stdout",
     "output_type": "stream",
     "text": [
      "-2.75335310107e-14\n"
     ]
    },
    {
     "data": {
      "text/plain": [
       "<matplotlib.axes._subplots.AxesSubplot at 0x11552f610>"
      ]
     },
     "execution_count": 14,
     "metadata": {},
     "output_type": "execute_result"
    },
    {
     "data": {
      "image/png": "[encoded data removed]",
      "text/plain": [
       "<matplotlib.figure.Figure at 0x1088d9990>"
      ]
     },
     "metadata": {},
     "output_type": "display_data"
    }
   ],
   "source": [
    "print(np.mean(results.resid))\n",
    "sns.residplot(df_faithfulData.eruptions, df_faithfulData.waiting)"
   ]
  },
  {
   "cell_type": "markdown",
   "metadata": {},
   "source": [
    "2.Homoscedasticity\n",
    "\n",
    "let's run a Brown-Forsythe test to check for homoscedasticity. The median of $eruptions$ is 4, so we will split the data into two groups based on that.\n",
    "\n",
    "$H_0: \\sigma^2_{eruptions <= 4} = \\sigma^2_{eruptions > 4}$\n",
    "\n",
    "$H_1: \\sigma^2_{eruptions <= 4} \\neq \\sigma^2_{eruptions > 4}$\n",
    "\n",
    "We got a p-value of 0.22 which is greater than 0.05 or the 5% significance level. We don't have enough evidence to reject the null hypothesis. Given the data we have, we can conclude that variance of errors is constant, so homoscedasticity is not violated."
   ]
  },
  {
   "cell_type": "code",
   "execution_count": 16,
   "metadata": {},
   "outputs": [
    {
     "data": {
      "text/plain": [
       "4.0"
      ]
     },
     "execution_count": 16,
     "metadata": {},
     "output_type": "execute_result"
    }
   ],
   "source": [
    "np.median(df_faithfulData.eruptions)"
   ]
  },
  {
   "cell_type": "code",
   "execution_count": 17,
   "metadata": {},
   "outputs": [
    {
     "data": {
      "text/plain": [
       "LeveneResult(statistic=1.5169060118480575, pvalue=0.21915992095863476)"
      ]
     },
     "execution_count": 17,
     "metadata": {},
     "output_type": "execute_result"
    }
   ],
   "source": [
    "import scipy as sp\n",
    "sample_1 = results.resid[df_faithfulData.eruptions <= 4.0]\n",
    "sample_2 = results.resid[df_faithfulData.eruptions > 4.0]\n",
    "sp.stats.levene(sample_1, sample_2, center = 'median')"
   ]
  },
  {
   "cell_type": "markdown",
   "metadata": {},
   "source": [
    "3.Normality\n",
    "\n",
    "The errors look roughly normally distributed."
   ]
  },
  {
   "cell_type": "code",
   "execution_count": 20,
   "metadata": {},
   "outputs": [
    {
     "data": {
      "text/plain": [
       "<matplotlib.axes._subplots.AxesSubplot at 0x1165cef50>"
      ]
     },
     "execution_count": 20,
     "metadata": {},
     "output_type": "execute_result"
    },
    {
     "data": {
      "image/png": "[encoded data removed]",
      "text/plain": [
       "<matplotlib.figure.Figure at 0x1154ae4d0>"
      ]
     },
     "metadata": {},
     "output_type": "display_data"
    }
   ],
   "source": [
    "sns.distplot(results.resid, bins=50)"
   ]
  },
  {
   "cell_type": "markdown",
   "metadata": {},
   "source": [
    "### Question 2"
   ]
  },
  {
   "cell_type": "markdown",
   "metadata": {
    "collapsed": true
   },
   "source": [
    "In 1987, Phillip Ein-Dor and Jacob Feldmesser estimated the relative performance (ERP, #10 in data dictionary) of CPUs in an academic journal paper using linear regression. Import `erpData.csv`, using `header = None` as there is no header in the file. The data dictionary follows:\n",
    "\n",
    "1. Vendor Name\n",
    "2. Model Name\n",
    "3. MYCT: machine cycle time in nanoseconds (integer) \n",
    "4. MMIN: minimum main memory in kilobytes (integer) \n",
    "5. MMAX: maximum main memory in kilobytes (integer) \n",
    "6. CACH: cache memory in kilobytes (integer) \n",
    "7. CHMIN: minimum channels in units (integer) \n",
    "8. CHMAX: maximum channels in units (integer) \n",
    "9. PRP: published relative performance (integer) \n",
    "10. ERP: estimated relative performance from the original article (integer)"
   ]
  },
  {
   "cell_type": "code",
   "execution_count": 21,
   "metadata": {},
   "outputs": [
    {
     "data": {
      "text/html": [
       "<div>\n",
       "<style scoped>\n",
       "    .dataframe tbody tr th:only-of-type {\n",
       "        vertical-align: middle;\n",
       "    }\n",
       "\n",
       "    .dataframe tbody tr th {\n",
       "        vertical-align: top;\n",
       "    }\n",
       "\n",
       "    .dataframe thead th {\n",
       "        text-align: right;\n",
       "    }\n",
       "</style>\n",
       "<table border=\"1\" class=\"dataframe\">\n",
       "  <thead>\n",
       "    <tr style=\"text-align: right;\">\n",
       "      <th></th>\n",
       "      <th>0</th>\n",
       "      <th>1</th>\n",
       "      <th>2</th>\n",
       "      <th>3</th>\n",
       "      <th>4</th>\n",
       "      <th>5</th>\n",
       "      <th>6</th>\n",
       "      <th>7</th>\n",
       "      <th>8</th>\n",
       "      <th>9</th>\n",
       "    </tr>\n",
       "  </thead>\n",
       "  <tbody>\n",
       "    <tr>\n",
       "      <th>0</th>\n",
       "      <td>adviser</td>\n",
       "      <td>32/60</td>\n",
       "      <td>125</td>\n",
       "      <td>256</td>\n",
       "      <td>6000</td>\n",
       "      <td>256</td>\n",
       "      <td>16</td>\n",
       "      <td>128</td>\n",
       "      <td>198</td>\n",
       "      <td>199</td>\n",
       "    </tr>\n",
       "    <tr>\n",
       "      <th>1</th>\n",
       "      <td>amdahl</td>\n",
       "      <td>470v/7</td>\n",
       "      <td>29</td>\n",
       "      <td>8000</td>\n",
       "      <td>32000</td>\n",
       "      <td>32</td>\n",
       "      <td>8</td>\n",
       "      <td>32</td>\n",
       "      <td>269</td>\n",
       "      <td>253</td>\n",
       "    </tr>\n",
       "    <tr>\n",
       "      <th>2</th>\n",
       "      <td>amdahl</td>\n",
       "      <td>470v/7a</td>\n",
       "      <td>29</td>\n",
       "      <td>8000</td>\n",
       "      <td>32000</td>\n",
       "      <td>32</td>\n",
       "      <td>8</td>\n",
       "      <td>32</td>\n",
       "      <td>220</td>\n",
       "      <td>253</td>\n",
       "    </tr>\n",
       "    <tr>\n",
       "      <th>3</th>\n",
       "      <td>amdahl</td>\n",
       "      <td>470v/7b</td>\n",
       "      <td>29</td>\n",
       "      <td>8000</td>\n",
       "      <td>32000</td>\n",
       "      <td>32</td>\n",
       "      <td>8</td>\n",
       "      <td>32</td>\n",
       "      <td>172</td>\n",
       "      <td>253</td>\n",
       "    </tr>\n",
       "    <tr>\n",
       "      <th>4</th>\n",
       "      <td>amdahl</td>\n",
       "      <td>470v/7c</td>\n",
       "      <td>29</td>\n",
       "      <td>8000</td>\n",
       "      <td>16000</td>\n",
       "      <td>32</td>\n",
       "      <td>8</td>\n",
       "      <td>16</td>\n",
       "      <td>132</td>\n",
       "      <td>132</td>\n",
       "    </tr>\n",
       "  </tbody>\n",
       "</table>\n",
       "</div>"
      ],
      "text/plain": [
       "         0        1    2     3      4    5   6    7    8    9\n",
       "0  adviser    32/60  125   256   6000  256  16  128  198  199\n",
       "1   amdahl   470v/7   29  8000  32000   32   8   32  269  253\n",
       "2   amdahl  470v/7a   29  8000  32000   32   8   32  220  253\n",
       "3   amdahl  470v/7b   29  8000  32000   32   8   32  172  253\n",
       "4   amdahl  470v/7c   29  8000  16000   32   8   16  132  132"
      ]
     },
     "execution_count": 21,
     "metadata": {},
     "output_type": "execute_result"
    }
   ],
   "source": [
    "erp = pd.read_csv('erpData.csv', header=None)\n",
    "erp.head(5)"
   ]
  },
  {
   "cell_type": "markdown",
   "metadata": {},
   "source": [
    "(a) Create a correlation matrix or scatterplot matrix of variables 3-10. Identify three explanatory variables you believe would be good predictors of ERP.\n",
    "\n",
    "**Answer:** From the correlation matrix, we can see the top 3 variables that are most correlated to ERP is variable 8, 4 and 3. Notice that these three variables are also highly correlated with each other, so we might run into the multicolinearity problem."
   ]
  },
  {
   "cell_type": "code",
   "execution_count": 41,
   "metadata": {},
   "outputs": [
    {
     "data": {
      "text/html": [
       "<div>\n",
       "<style scoped>\n",
       "    .dataframe tbody tr th:only-of-type {\n",
       "        vertical-align: middle;\n",
       "    }\n",
       "\n",
       "    .dataframe tbody tr th {\n",
       "        vertical-align: top;\n",
       "    }\n",
       "\n",
       "    .dataframe thead th {\n",
       "        text-align: right;\n",
       "    }\n",
       "</style>\n",
       "<table border=\"1\" class=\"dataframe\">\n",
       "  <thead>\n",
       "    <tr style=\"text-align: right;\">\n",
       "      <th></th>\n",
       "      <th>2</th>\n",
       "      <th>3</th>\n",
       "      <th>4</th>\n",
       "      <th>5</th>\n",
       "      <th>6</th>\n",
       "      <th>7</th>\n",
       "      <th>8</th>\n",
       "      <th>9</th>\n",
       "    </tr>\n",
       "  </thead>\n",
       "  <tbody>\n",
       "    <tr>\n",
       "      <th>2</th>\n",
       "      <td>1.000000</td>\n",
       "      <td>-0.335642</td>\n",
       "      <td>-0.378561</td>\n",
       "      <td>-0.321000</td>\n",
       "      <td>-0.301090</td>\n",
       "      <td>-0.250502</td>\n",
       "      <td>-0.307099</td>\n",
       "      <td>-0.288396</td>\n",
       "    </tr>\n",
       "    <tr>\n",
       "      <th>3</th>\n",
       "      <td>-0.335642</td>\n",
       "      <td>1.000000</td>\n",
       "      <td>0.758157</td>\n",
       "      <td>0.534729</td>\n",
       "      <td>0.517189</td>\n",
       "      <td>0.266907</td>\n",
       "      <td>0.794931</td>\n",
       "      <td>0.819292</td>\n",
       "    </tr>\n",
       "    <tr>\n",
       "      <th>4</th>\n",
       "      <td>-0.378561</td>\n",
       "      <td>0.758157</td>\n",
       "      <td>1.000000</td>\n",
       "      <td>0.537990</td>\n",
       "      <td>0.560513</td>\n",
       "      <td>0.527246</td>\n",
       "      <td>0.863004</td>\n",
       "      <td>0.901202</td>\n",
       "    </tr>\n",
       "    <tr>\n",
       "      <th>5</th>\n",
       "      <td>-0.321000</td>\n",
       "      <td>0.534729</td>\n",
       "      <td>0.537990</td>\n",
       "      <td>1.000000</td>\n",
       "      <td>0.582245</td>\n",
       "      <td>0.487846</td>\n",
       "      <td>0.662641</td>\n",
       "      <td>0.648620</td>\n",
       "    </tr>\n",
       "    <tr>\n",
       "      <th>6</th>\n",
       "      <td>-0.301090</td>\n",
       "      <td>0.517189</td>\n",
       "      <td>0.560513</td>\n",
       "      <td>0.582245</td>\n",
       "      <td>1.000000</td>\n",
       "      <td>0.548281</td>\n",
       "      <td>0.608903</td>\n",
       "      <td>0.610580</td>\n",
       "    </tr>\n",
       "    <tr>\n",
       "      <th>7</th>\n",
       "      <td>-0.250502</td>\n",
       "      <td>0.266907</td>\n",
       "      <td>0.527246</td>\n",
       "      <td>0.487846</td>\n",
       "      <td>0.548281</td>\n",
       "      <td>1.000000</td>\n",
       "      <td>0.605209</td>\n",
       "      <td>0.592156</td>\n",
       "    </tr>\n",
       "    <tr>\n",
       "      <th>8</th>\n",
       "      <td>-0.307099</td>\n",
       "      <td>0.794931</td>\n",
       "      <td>0.863004</td>\n",
       "      <td>0.662641</td>\n",
       "      <td>0.608903</td>\n",
       "      <td>0.605209</td>\n",
       "      <td>1.000000</td>\n",
       "      <td>0.966472</td>\n",
       "    </tr>\n",
       "    <tr>\n",
       "      <th>9</th>\n",
       "      <td>-0.288396</td>\n",
       "      <td>0.819292</td>\n",
       "      <td>0.901202</td>\n",
       "      <td>0.648620</td>\n",
       "      <td>0.610580</td>\n",
       "      <td>0.592156</td>\n",
       "      <td>0.966472</td>\n",
       "      <td>1.000000</td>\n",
       "    </tr>\n",
       "  </tbody>\n",
       "</table>\n",
       "</div>"
      ],
      "text/plain": [
       "          2         3         4         5         6         7         8  \\\n",
       "2  1.000000 -0.335642 -0.378561 -0.321000 -0.301090 -0.250502 -0.307099   \n",
       "3 -0.335642  1.000000  0.758157  0.534729  0.517189  0.266907  0.794931   \n",
       "4 -0.378561  0.758157  1.000000  0.537990  0.560513  0.527246  0.863004   \n",
       "5 -0.321000  0.534729  0.537990  1.000000  0.582245  0.487846  0.662641   \n",
       "6 -0.301090  0.517189  0.560513  0.582245  1.000000  0.548281  0.608903   \n",
       "7 -0.250502  0.266907  0.527246  0.487846  0.548281  1.000000  0.605209   \n",
       "8 -0.307099  0.794931  0.863004  0.662641  0.608903  0.605209  1.000000   \n",
       "9 -0.288396  0.819292  0.901202  0.648620  0.610580  0.592156  0.966472   \n",
       "\n",
       "          9  \n",
       "2 -0.288396  \n",
       "3  0.819292  \n",
       "4  0.901202  \n",
       "5  0.648620  \n",
       "6  0.610580  \n",
       "7  0.592156  \n",
       "8  0.966472  \n",
       "9  1.000000  "
      ]
     },
     "execution_count": 41,
     "metadata": {},
     "output_type": "execute_result"
    }
   ],
   "source": [
    "erp.loc[:, '2':'9'].corr()"
   ]
  },
  {
   "cell_type": "markdown",
   "metadata": {},
   "source": [
    "(b) Run three simple linear regression models: $X_1 \\sim Y$, $X_2 \\sim Y$, and $X_3 \\sim Y$. Discuss the merits of each model with supporting evidence, and choose the model which you feel is the most appropriate in predicting ERP.\n",
    "    \n",
    "**Answer:** Based on the regression results below, PRP seems to be the most explanatory variable of ERP. However, we should figure out how PRP is derived before making the judgement. Other than that, MMIN is a pretty reasonable and explanatory variable.\n",
    "    \n",
    "Model 1\n",
    "\n",
    "Adjusted $R^2$ of Model 1 is 0.934. 93.4% of the variation in ERP can be explained by PRP: published relative performance. The coefficient of PRP is also significantly different from zero."
   ]
  },
  {
   "cell_type": "code",
   "execution_count": 33,
   "metadata": {},
   "outputs": [
    {
     "name": "stdout",
     "output_type": "stream",
     "text": [
      "                            OLS Regression Results                            \n",
      "==============================================================================\n",
      "Dep. Variable:                      9   R-squared:                       0.934\n",
      "Model:                            OLS   Adj. R-squared:                  0.934\n",
      "Method:                 Least Squares   F-statistic:                     2933.\n",
      "Date:                Sun, 04 Mar 2018   Prob (F-statistic):          3.43e-124\n",
      "Time:                        20:29:02   Log-Likelihood:                -1065.7\n",
      "No. Observations:                 209   AIC:                             2135.\n",
      "Df Residuals:                     207   BIC:                             2142.\n",
      "Df Model:                           1                                         \n",
      "Covariance Type:            nonrobust                                         \n",
      "==============================================================================\n",
      "                 coef    std err          t      P>|t|      [0.025      0.975]\n",
      "------------------------------------------------------------------------------\n",
      "const          1.1045      3.299      0.335      0.738      -5.399       7.608\n",
      "8              0.9300      0.017     54.153      0.000       0.896       0.964\n",
      "==============================================================================\n",
      "Omnibus:                       56.581   Durbin-Watson:                   1.502\n",
      "Prob(Omnibus):                  0.000   Jarque-Bera (JB):              906.868\n",
      "Skew:                          -0.458   Prob(JB):                    1.19e-197\n",
      "Kurtosis:                      13.164   Cond. No.                         230.\n",
      "==============================================================================\n",
      "\n",
      "Warnings:\n",
      "[1] Standard Errors assume that the covariance matrix of the errors is correctly specified.\n"
     ]
    }
   ],
   "source": [
    "X = sm.add_constant(erp.loc[:, 8])\n",
    "model = sm.OLS(erp.loc[:, 9], X)\n",
    "results = model.fit()\n",
    "print(results.summary())"
   ]
  },
  {
   "cell_type": "markdown",
   "metadata": {},
   "source": [
    "Model 2\n",
    "\n",
    "Adjusted $R^2$ of Model 1 is 0.812. 81.2% of the variation in ERP can be explained by MMIN: minimum main memory in kilobytes. The coefficient of MMIN is also significantly different from zero."
   ]
  },
  {
   "cell_type": "code",
   "execution_count": 34,
   "metadata": {},
   "outputs": [
    {
     "name": "stdout",
     "output_type": "stream",
     "text": [
      "                            OLS Regression Results                            \n",
      "==============================================================================\n",
      "Dep. Variable:                      9   R-squared:                       0.812\n",
      "Model:                            OLS   Adj. R-squared:                  0.811\n",
      "Method:                 Least Squares   F-statistic:                     895.0\n",
      "Date:                Sun, 04 Mar 2018   Prob (F-statistic):           4.21e-77\n",
      "Time:                        20:29:32   Log-Likelihood:                -1175.1\n",
      "No. Observations:                 209   AIC:                             2354.\n",
      "Df Residuals:                     207   BIC:                             2361.\n",
      "Df Model:                           1                                         \n",
      "Covariance Type:            nonrobust                                         \n",
      "==============================================================================\n",
      "                 coef    std err          t      P>|t|      [0.025      0.975]\n",
      "------------------------------------------------------------------------------\n",
      "const        -40.9650      6.604     -6.203      0.000     -53.986     -27.944\n",
      "4              0.0119      0.000     29.917      0.000       0.011       0.013\n",
      "==============================================================================\n",
      "Omnibus:                      156.706   Durbin-Watson:                   1.536\n",
      "Prob(Omnibus):                  0.000   Jarque-Bera (JB):             3061.543\n",
      "Skew:                           2.577   Prob(JB):                         0.00\n",
      "Kurtosis:                      21.028   Cond. No.                     2.36e+04\n",
      "==============================================================================\n",
      "\n",
      "Warnings:\n",
      "[1] Standard Errors assume that the covariance matrix of the errors is correctly specified.\n",
      "[2] The condition number is large, 2.36e+04. This might indicate that there are\n",
      "strong multicollinearity or other numerical problems.\n"
     ]
    }
   ],
   "source": [
    "X = sm.add_constant(erp.loc[:, 4])\n",
    "model = sm.OLS(erp.loc[:, 9], X)\n",
    "results = model.fit()\n",
    "print(results.summary())"
   ]
  },
  {
   "cell_type": "markdown",
   "metadata": {},
   "source": [
    "Model 3\n",
    "\n",
    "Adjusted $R^2$ of Model 1 is 0.67. 67% of the variation in ERP can be explained by MYCT: machine cycle time in nanoseconds. The coefficient of MYCT is also significantly different from zero."
   ]
  },
  {
   "cell_type": "code",
   "execution_count": 35,
   "metadata": {},
   "outputs": [
    {
     "name": "stdout",
     "output_type": "stream",
     "text": [
      "                            OLS Regression Results                            \n",
      "==============================================================================\n",
      "Dep. Variable:                      9   R-squared:                       0.671\n",
      "Model:                            OLS   Adj. R-squared:                  0.670\n",
      "Method:                 Least Squares   F-statistic:                     422.6\n",
      "Date:                Sun, 04 Mar 2018   Prob (F-statistic):           6.70e-52\n",
      "Time:                        20:29:57   Log-Likelihood:                -1233.6\n",
      "No. Observations:                 209   AIC:                             2471.\n",
      "Df Residuals:                     207   BIC:                             2478.\n",
      "Df Model:                           1                                         \n",
      "Covariance Type:            nonrobust                                         \n",
      "==============================================================================\n",
      "                 coef    std err          t      P>|t|      [0.025      0.975]\n",
      "------------------------------------------------------------------------------\n",
      "const          5.5795      7.658      0.729      0.467      -9.519      20.678\n",
      "3              0.0327      0.002     20.558      0.000       0.030       0.036\n",
      "==============================================================================\n",
      "Omnibus:                      237.682   Durbin-Watson:                   0.893\n",
      "Prob(Omnibus):                  0.000   Jarque-Bera (JB):             9921.384\n",
      "Skew:                           4.579   Prob(JB):                         0.00\n",
      "Kurtosis:                      35.488   Cond. No.                     6.00e+03\n",
      "==============================================================================\n",
      "\n",
      "Warnings:\n",
      "[1] Standard Errors assume that the covariance matrix of the errors is correctly specified.\n",
      "[2] The condition number is large,  6e+03. This might indicate that there are\n",
      "strong multicollinearity or other numerical problems.\n"
     ]
    }
   ],
   "source": [
    "X = sm.add_constant(erp.loc[:, 3])\n",
    "model = sm.OLS(erp.loc[:, 9], X)\n",
    "results = model.fit()\n",
    "print(results.summary())"
   ]
  },
  {
   "cell_type": "markdown",
   "metadata": {},
   "source": [
    "### Question 3"
   ]
  },
  {
   "cell_type": "markdown",
   "metadata": {
    "collapsed": true
   },
   "source": [
    "An OLS simple linear regression is run and the resulting model is\n",
    "\n",
    "$$\\ln(\\hat{y}) = 12.63 - 3.3\\ln(x)$$\n",
    "\n",
    "Interpret the coefficient $b_1$, showing all math where appropriate.\n",
    "\n",
    "**Answer:** When x increase by 1%, y will decrease by 3.3%. Let's derive this:\n",
    "\n",
    "$\\ln(\\hat{y}) = 12.63 - 3.3\\ln(x)$\n",
    "\n",
    "$\\hat{y} = \\exp^{12.63 - 3.3\\ln(x)}$\n",
    "\n",
    "$\\frac{d\\hat{y}}{d{x}} = \\frac{-3.3}{x}\\exp^{12.63 - 3.3\\ln(x)} = -3.3\\frac{\\hat{y}}{x}$\n",
    "\n",
    "$-3.3 = \\frac{d\\hat{y}}{d{x}}\\frac{\\hat{x}}{y}$\n",
    "\n",
    "The right hand side means -3.3 or $\\beta_1$ in general is an elasticity. It means when x increases by 1%, y changes by $\\beta_1$%. For more details, please refer: https://en.wikipedia.org/wiki/Elasticity_(economics)"
   ]
  },
  {
   "cell_type": "markdown",
   "metadata": {},
   "source": [
    "### Question 4"
   ]
  },
  {
   "cell_type": "markdown",
   "metadata": {
    "collapsed": true
   },
   "source": [
    "An OLS multiple linear regression is run and the resulting model is\n",
    "\n",
    "$$\\hat{y} = -22.51 - 59x_1 + 445x_2 - x_3$$\n",
    "\n",
    "Interpret the coefficients $b_1$, $b_2$ and $b_3$."
   ]
  },
  {
   "cell_type": "markdown",
   "metadata": {},
   "source": [
    "**Answer:** \n",
    "\n",
    "$b_1$ means, given that $x_2$ and $x_3$ are constant, on average when $x_1$ inceases by 1 unit, $\\hat{y}$ decreases by 59.\n",
    "\n",
    "$b_2$ means, given that $x_1$ and $x_3$ are constant, on average when $x_2$ inceases by 1 unit, $\\hat{y}$ goes up by 445.\n",
    "\n",
    "$b_2$ means, given that $x_1$ and $x_2$ are constant, on average when $x_3$ inceases by 1 unit, $\\hat{y}$ drops by 1"
   ]
  },
  {
   "cell_type": "markdown",
   "metadata": {},
   "source": [
    "### Question 5"
   ]
  },
  {
   "cell_type": "markdown",
   "metadata": {
    "collapsed": true
   },
   "source": [
    "Refer to the ERP data in Question 2. Generate a correlation matrix. Based solely on the correlation matrix and *without* running a MLR model, which three predictors would you select to include in an initial model. Support your decision with evidence.\n",
    "\n",
    "**Answer:** I would include variable 3, 4, and 5. It's tempting to include variable 8, but it just looks suspicious to me. For variabls 3, 4, and 5. First of all, their correlation with ERP is 0.82, 0.90, and 0.65. Their correlations with each other are not high as can be seen in the table below. This means the multicolinearity is not a huge problem here."
   ]
  },
  {
   "cell_type": "code",
   "execution_count": 43,
   "metadata": {},
   "outputs": [
    {
     "data": {
      "text/html": [
       "<div>\n",
       "<style scoped>\n",
       "    .dataframe tbody tr th:only-of-type {\n",
       "        vertical-align: middle;\n",
       "    }\n",
       "\n",
       "    .dataframe tbody tr th {\n",
       "        vertical-align: top;\n",
       "    }\n",
       "\n",
       "    .dataframe thead th {\n",
       "        text-align: right;\n",
       "    }\n",
       "</style>\n",
       "<table border=\"1\" class=\"dataframe\">\n",
       "  <thead>\n",
       "    <tr style=\"text-align: right;\">\n",
       "      <th></th>\n",
       "      <th>3</th>\n",
       "      <th>4</th>\n",
       "      <th>5</th>\n",
       "    </tr>\n",
       "  </thead>\n",
       "  <tbody>\n",
       "    <tr>\n",
       "      <th>3</th>\n",
       "      <td>1.000000</td>\n",
       "      <td>0.758157</td>\n",
       "      <td>0.534729</td>\n",
       "    </tr>\n",
       "    <tr>\n",
       "      <th>4</th>\n",
       "      <td>0.758157</td>\n",
       "      <td>1.000000</td>\n",
       "      <td>0.537990</td>\n",
       "    </tr>\n",
       "    <tr>\n",
       "      <th>5</th>\n",
       "      <td>0.534729</td>\n",
       "      <td>0.537990</td>\n",
       "      <td>1.000000</td>\n",
       "    </tr>\n",
       "  </tbody>\n",
       "</table>\n",
       "</div>"
      ],
      "text/plain": [
       "          3         4         5\n",
       "3  1.000000  0.758157  0.534729\n",
       "4  0.758157  1.000000  0.537990\n",
       "5  0.534729  0.537990  1.000000"
      ]
     },
     "execution_count": 43,
     "metadata": {},
     "output_type": "execute_result"
    }
   ],
   "source": [
    "erp.loc[:, '3':'5'].corr()"
   ]
  },
  {
   "cell_type": "markdown",
   "metadata": {},
   "source": [
    "### Question 6"
   ]
  },
  {
   "cell_type": "markdown",
   "metadata": {},
   "source": [
    "Using both math and words, explain the tradeoffs involved in the calculation of the Adjusted Coefficient of Multiple Determination ($R_a^2$), and how it differs from the Coefficient of Multiple Determination ($R^2$)."
   ]
  },
  {
   "cell_type": "markdown",
   "metadata": {
    "collapsed": true
   },
   "source": [
    "**Answer:**\n",
    "\n",
    "$R_a^2 = 1-\\frac{(n-1)}{(n-p)}\\frac{SSE}{SSTO}$\n",
    "\n",
    "$R^2 = 1-\\frac{SSE}{SSTO}$\n",
    "\n",
    "There is an extra term $\\frac{(n-1)}{(n-p)}$ in $R_a^2$. This term offsets the effect of increasing $R^2$ by adding more variables in the model.\n",
    "\n",
    "- Increasing p decreases n - p\n",
    "- Decreasing n - p increases (n-1)/(n-p) which increases $\\frac{(n-1)}{(n-p)}\\frac{SSE}{SSTO}$\n",
    "- Increasing $\\frac{(n-1)}{(n-p)}\\frac{SSE}{SSTO}$ decreases $1 - \\frac{(n-1)}{(n-p)}\\frac{SSE}{SSTO}$ which is the definition of $R_a^2$"
   ]
  },
  {
   "cell_type": "markdown",
   "metadata": {},
   "source": [
    "### Question 7"
   ]
  },
  {
   "cell_type": "markdown",
   "metadata": {},
   "source": [
    "Explain why we need to be cautious of extrapolations in MLR."
   ]
  },
  {
   "cell_type": "markdown",
   "metadata": {},
   "source": [
    "**Answer:** When running an MLR, each variable in the dataset has its certain range. If we were to predict for a new sample, it's best that the values of each variable of this new sample falls lies within the range of those in the dataset. Otherwise, we are doing something beyond the model's capability and therefore, maybe get unreliable result."
   ]
  },
  {
   "cell_type": "markdown",
   "metadata": {},
   "source": [
    "### Question 8"
   ]
  },
  {
   "cell_type": "markdown",
   "metadata": {},
   "source": [
    "Discuss the differences between Type 1 and Type 2 ANOVA Tables. "
   ]
  },
  {
   "cell_type": "markdown",
   "metadata": {},
   "source": [
    "**Answer:** Type I ANOVA table, also known as a sequential ANOVA table because variables are sequentially added to the regression model. Then we check if the SSR has improved.\n",
    "\n",
    "In Type II ANOVA, for each variable, we get a test for adding one of the predictors\n",
    "to a model that includes all other variables."
   ]
  },
  {
   "cell_type": "markdown",
   "metadata": {},
   "source": [
    "### Question 9"
   ]
  },
  {
   "cell_type": "markdown",
   "metadata": {},
   "source": [
    "Refer to the Figure on slide 333. Discuss the sequential nature of model building, using the Body Fat Example on the slide (data on course website if you would like to explore, but not necessary)."
   ]
  },
  {
   "cell_type": "markdown",
   "metadata": {},
   "source": [
    "**Answer:** When adding variables sequentially into a regression model, we can get a sense of which variable can give us a higher margin on SSR. On slide 333, when we add $X_2$ first the SSR is 381.97, then after adding $X_1$, the SSR only increases by 3.47. On the other hand, when only $X_1$ is in the model, the SSR is 352.27. After adding $X_2$, the SSR increased by 33.17. This tells us $X_2$ can explain more variation in y than $X_1$. That's basically the concept of Extra Sum of Squares."
   ]
  },
  {
   "cell_type": "markdown",
   "metadata": {},
   "source": [
    "### Question 10"
   ]
  },
  {
   "cell_type": "markdown",
   "metadata": {},
   "source": [
    "Using `bodyFat.txt`. Regress `bodyFat` ($Y$) on `tricep` ($X_1$) and `thigh` ($X_2$). Compute the coefficient of partial determination for $X_2|X_1$, i.e., $R_{YX_2|X_1}^2$. Interpret the result. "
   ]
  },
  {
   "cell_type": "code",
   "execution_count": 49,
   "metadata": {},
   "outputs": [
    {
     "data": {
      "text/html": [
       "<div>\n",
       "<style scoped>\n",
       "    .dataframe tbody tr th:only-of-type {\n",
       "        vertical-align: middle;\n",
       "    }\n",
       "\n",
       "    .dataframe tbody tr th {\n",
       "        vertical-align: top;\n",
       "    }\n",
       "\n",
       "    .dataframe thead th {\n",
       "        text-align: right;\n",
       "    }\n",
       "</style>\n",
       "<table border=\"1\" class=\"dataframe\">\n",
       "  <thead>\n",
       "    <tr style=\"text-align: right;\">\n",
       "      <th></th>\n",
       "      <th>tricep</th>\n",
       "      <th>thigh</th>\n",
       "      <th>midarm</th>\n",
       "      <th>bodyFat</th>\n",
       "    </tr>\n",
       "  </thead>\n",
       "  <tbody>\n",
       "    <tr>\n",
       "      <th>0</th>\n",
       "      <td>19.5</td>\n",
       "      <td>43.1</td>\n",
       "      <td>29.1</td>\n",
       "      <td>11.9</td>\n",
       "    </tr>\n",
       "    <tr>\n",
       "      <th>1</th>\n",
       "      <td>24.7</td>\n",
       "      <td>49.8</td>\n",
       "      <td>28.2</td>\n",
       "      <td>22.8</td>\n",
       "    </tr>\n",
       "    <tr>\n",
       "      <th>2</th>\n",
       "      <td>30.7</td>\n",
       "      <td>51.9</td>\n",
       "      <td>37.0</td>\n",
       "      <td>18.7</td>\n",
       "    </tr>\n",
       "    <tr>\n",
       "      <th>3</th>\n",
       "      <td>29.8</td>\n",
       "      <td>54.3</td>\n",
       "      <td>31.1</td>\n",
       "      <td>20.1</td>\n",
       "    </tr>\n",
       "    <tr>\n",
       "      <th>4</th>\n",
       "      <td>19.1</td>\n",
       "      <td>42.2</td>\n",
       "      <td>30.9</td>\n",
       "      <td>12.9</td>\n",
       "    </tr>\n",
       "  </tbody>\n",
       "</table>\n",
       "</div>"
      ],
      "text/plain": [
       "   tricep  thigh  midarm  bodyFat\n",
       "0    19.5   43.1    29.1     11.9\n",
       "1    24.7   49.8    28.2     22.8\n",
       "2    30.7   51.9    37.0     18.7\n",
       "3    29.8   54.3    31.1     20.1\n",
       "4    19.1   42.2    30.9     12.9"
      ]
     },
     "execution_count": 49,
     "metadata": {},
     "output_type": "execute_result"
    }
   ],
   "source": [
    "bodyfat = pd.read_csv('bodyFat.txt', sep=' ', skipinitialspace=True)\n",
    "bodyfat.head(5)"
   ]
  },
  {
   "cell_type": "code",
   "execution_count": 57,
   "metadata": {},
   "outputs": [
    {
     "name": "stdout",
     "output_type": "stream",
     "text": [
      "The coefficient of partial determination for X2|X1 is: 0.231756439537\n"
     ]
    }
   ],
   "source": [
    "X1 = sm.add_constant(bodyfat.tricep)\n",
    "model1 = sm.OLS(bodyfat.bodyFat, X1)\n",
    "results1 = model1.fit()\n",
    "SSE_X1 = results1.ssr\n",
    "\n",
    "X12 = sm.add_constant(bodyfat[['tricep', 'thigh']])\n",
    "model12 = sm.OLS(bodyfat.bodyFat, X12)\n",
    "results12 = model12.fit()\n",
    "SSE_X1X2 = results12.ssr\n",
    "\n",
    "partial_R = (SSE_X1 - SSE_X1X2) / SSE_X1\n",
    "print('The coefficient of partial determination for X2|X1 is: %s' % partial_R)"
   ]
  },
  {
   "cell_type": "markdown",
   "metadata": {},
   "source": [
    "### Question 11"
   ]
  },
  {
   "cell_type": "markdown",
   "metadata": {},
   "source": [
    "In the context of polynomial and interaction terms, discuss the hierarchical principle in model building and its implications."
   ]
  },
  {
   "cell_type": "markdown",
   "metadata": {},
   "source": [
    "**Answer:** \n",
    "\n",
    "- When ftting polynomial regression models, statisticians willoften fit the highest order model which they feel comfortable employing -- typically a second- or third-order polynomial regression model -- and subsequently scale back, lowering powers to evaluate whether lower-order models are adequate\n",
    "- With the hierarchal approach, if a polynomial term of a given order is retained, then all related terms of lower order are also retained in the model\n",
    "- The same is true for interaction terms: keeping a significantinteraction term in the model implies keeping all related first-order predictor variables"
   ]
  },
  {
   "cell_type": "markdown",
   "metadata": {},
   "source": [
    "### Question 12"
   ]
  },
  {
   "cell_type": "markdown",
   "metadata": {},
   "source": [
    "*Preamble*"
   ]
  },
  {
   "cell_type": "code",
   "execution_count": 61,
   "metadata": {},
   "outputs": [
    {
     "data": {
      "text/html": [
       "<div>\n",
       "<style scoped>\n",
       "    .dataframe tbody tr th:only-of-type {\n",
       "        vertical-align: middle;\n",
       "    }\n",
       "\n",
       "    .dataframe tbody tr th {\n",
       "        vertical-align: top;\n",
       "    }\n",
       "\n",
       "    .dataframe thead th {\n",
       "        text-align: right;\n",
       "    }\n",
       "</style>\n",
       "<table border=\"1\" class=\"dataframe\">\n",
       "  <thead>\n",
       "    <tr style=\"text-align: right;\">\n",
       "      <th></th>\n",
       "      <th>height</th>\n",
       "      <th>weight</th>\n",
       "    </tr>\n",
       "  </thead>\n",
       "  <tbody>\n",
       "    <tr>\n",
       "      <th>0</th>\n",
       "      <td>58</td>\n",
       "      <td>115</td>\n",
       "    </tr>\n",
       "    <tr>\n",
       "      <th>1</th>\n",
       "      <td>59</td>\n",
       "      <td>117</td>\n",
       "    </tr>\n",
       "    <tr>\n",
       "      <th>2</th>\n",
       "      <td>60</td>\n",
       "      <td>120</td>\n",
       "    </tr>\n",
       "    <tr>\n",
       "      <th>3</th>\n",
       "      <td>61</td>\n",
       "      <td>123</td>\n",
       "    </tr>\n",
       "    <tr>\n",
       "      <th>4</th>\n",
       "      <td>62</td>\n",
       "      <td>126</td>\n",
       "    </tr>\n",
       "  </tbody>\n",
       "</table>\n",
       "</div>"
      ],
      "text/plain": [
       "   height  weight\n",
       "0      58     115\n",
       "1      59     117\n",
       "2      60     120\n",
       "3      61     123\n",
       "4      62     126"
      ]
     },
     "execution_count": 61,
     "metadata": {},
     "output_type": "execute_result"
    }
   ],
   "source": [
    "womenData = sm.datasets.get_rdataset(\"women\") \n",
    "womenDF = pd.DataFrame(womenData.data)\n",
    "womenDF.head(5)"
   ]
  },
  {
   "cell_type": "markdown",
   "metadata": {},
   "source": [
    "Regress `height` on `weight` and determine whether a quadratic term is appropriate. If not, what about a cubic? Show results and provide evidence for you conclusions. Be sure to verify all modeling assumptions.\n",
    "\n",
    "**Answer:** \n",
    "\n",
    "- The scatter plot below shows that there is some quadratic relationship between `height` and `weight`\n",
    "\n",
    "- The SLR with only `weight` has an adjusted $R^2$ of 0.9 and the MLR with quadratic/cubic terms of `weight` both have a adjusted $R^2$ of 1. In the regression with $weight^2$ The coefficients are both signiticantly different from zero, whereas the coeffcients are not significantly different from zero in the regression with $weight^2$ and $weight^3$. This indicates the cubic regression is surely not necessary\n",
    "\n",
    "- Regarding the SLR and MLR with $weight^2$, both did a good job at explaining the relationship between `height` and `weight`. However, when looking at the diagnostic plots for residuas, the SLR clearly has non-randomly scattered residuals. On the other hand, MLR with $weight^2$ has more randomly scattered errors, the error distribution also looks more normal then the SLR.\n",
    "\n",
    "- The result of BF test also indicates that the errors are homescedastic"
   ]
  },
  {
   "cell_type": "code",
   "execution_count": 73,
   "metadata": {
    "scrolled": true
   },
   "outputs": [
    {
     "data": {
      "text/plain": [
       "<matplotlib.axes._subplots.AxesSubplot at 0x12086ed50>"
      ]
     },
     "execution_count": 73,
     "metadata": {},
     "output_type": "execute_result"
    },
    {
     "data": {
      "image/png": "[encoded data removed]",
      "text/plain": [
       "<matplotlib.figure.Figure at 0x120a08550>"
      ]
     },
     "metadata": {},
     "output_type": "display_data"
    }
   ],
   "source": [
    "sns.regplot(womenDF.height, womenDF.weight, fit_reg=False)"
   ]
  },
  {
   "cell_type": "markdown",
   "metadata": {},
   "source": [
    "1. SLR with weight"
   ]
  },
  {
   "cell_type": "code",
   "execution_count": 109,
   "metadata": {},
   "outputs": [
    {
     "name": "stdout",
     "output_type": "stream",
     "text": [
      "                            OLS Regression Results                            \n",
      "==============================================================================\n",
      "Dep. Variable:                 height   R-squared:                       0.991\n",
      "Model:                            OLS   Adj. R-squared:                  0.990\n",
      "Method:                 Least Squares   F-statistic:                     1433.\n",
      "Date:                Mon, 05 Mar 2018   Prob (F-statistic):           1.09e-14\n",
      "Time:                        21:38:31   Log-Likelihood:                -7.8974\n",
      "No. Observations:                  15   AIC:                             19.79\n",
      "Df Residuals:                      13   BIC:                             21.21\n",
      "Df Model:                           1                                         \n",
      "Covariance Type:            nonrobust                                         \n",
      "==============================================================================\n",
      "                 coef    std err          t      P>|t|      [0.025      0.975]\n",
      "------------------------------------------------------------------------------\n",
      "Intercept     25.7235      1.044     24.645      0.000      23.469      27.978\n",
      "weight         0.2872      0.008     37.855      0.000       0.271       0.304\n",
      "==============================================================================\n",
      "Omnibus:                        1.951   Durbin-Watson:                   0.312\n",
      "Prob(Omnibus):                  0.377   Jarque-Bera (JB):                1.485\n",
      "Skew:                          -0.710   Prob(JB):                        0.476\n",
      "Kurtosis:                       2.397   Cond. No.                     1.26e+03\n",
      "==============================================================================\n",
      "\n",
      "Warnings:\n",
      "[1] Standard Errors assume that the covariance matrix of the errors is correctly specified.\n",
      "[2] The condition number is large, 1.26e+03. This might indicate that there are\n",
      "strong multicollinearity or other numerical problems.\n"
     ]
    }
   ],
   "source": [
    "lm_women = smf.ols('height ~ weight', data=womenDF).fit()\n",
    "print(lm_women.summary())"
   ]
  },
  {
   "cell_type": "code",
   "execution_count": 110,
   "metadata": {
    "scrolled": true
   },
   "outputs": [
    {
     "name": "stdout",
     "output_type": "stream",
     "text": [
      "1.61056353439e-14\n"
     ]
    },
    {
     "data": {
      "text/plain": [
       "<matplotlib.axes._subplots.AxesSubplot at 0x1205fa110>"
      ]
     },
     "execution_count": 110,
     "metadata": {},
     "output_type": "execute_result"
    },
    {
     "data": {
      "image/png": "[encoded data removed]",
      "text/plain": [
       "<matplotlib.figure.Figure at 0x122bd1e50>"
      ]
     },
     "metadata": {},
     "output_type": "display_data"
    }
   ],
   "source": [
    "print(np.mean(lm_women.resid))\n",
    "sns.regplot(womenDF.weight, lm_women.resid, fit_reg=False)"
   ]
  },
  {
   "cell_type": "code",
   "execution_count": 111,
   "metadata": {},
   "outputs": [
    {
     "data": {
      "text/plain": [
       "<matplotlib.axes._subplots.AxesSubplot at 0x122a9d9d0>"
      ]
     },
     "execution_count": 111,
     "metadata": {},
     "output_type": "execute_result"
    },
    {
     "data": {
      "image/png": "[encoded data removed]",
      "text/plain": [
       "<matplotlib.figure.Figure at 0x122925350>"
      ]
     },
     "metadata": {},
     "output_type": "display_data"
    }
   ],
   "source": [
    "sns.distplot(lm_women.resid, bins=50)"
   ]
  },
  {
   "cell_type": "code",
   "execution_count": 112,
   "metadata": {},
   "outputs": [
    {
     "data": {
      "text/plain": [
       "LeveneResult(statistic=0.027027894781622232, pvalue=0.87194365822732234)"
      ]
     },
     "execution_count": 112,
     "metadata": {},
     "output_type": "execute_result"
    }
   ],
   "source": [
    "weight_md = np.median(womenDF.weight)\n",
    "import scipy as sp\n",
    "sample_1 = lm_women.resid[womenDF.weight <= weight_md]\n",
    "sample_2 = lm_women.resid[womenDF.weight > weight_md]\n",
    "sp.stats.levene(sample_1, sample_2, center = 'median')"
   ]
  },
  {
   "cell_type": "markdown",
   "metadata": {},
   "source": [
    "2.MLR with $weight$ and $weight^2$"
   ]
  },
  {
   "cell_type": "code",
   "execution_count": 113,
   "metadata": {},
   "outputs": [
    {
     "name": "stdout",
     "output_type": "stream",
     "text": [
      "                            OLS Regression Results                            \n",
      "==============================================================================\n",
      "Dep. Variable:                 height   R-squared:                       1.000\n",
      "Model:                            OLS   Adj. R-squared:                  1.000\n",
      "Method:                 Least Squares   F-statistic:                 2.732e+04\n",
      "Date:                Mon, 05 Mar 2018   Prob (F-statistic):           1.12e-22\n",
      "Time:                        21:38:33   Log-Likelihood:                 19.943\n",
      "No. Observations:                  15   AIC:                            -33.89\n",
      "Df Residuals:                      12   BIC:                            -31.76\n",
      "Df Model:                           2                                         \n",
      "Covariance Type:            nonrobust                                         \n",
      "=====================================================================================\n",
      "                        coef    std err          t      P>|t|      [0.025      0.975]\n",
      "-------------------------------------------------------------------------------------\n",
      "Intercept           -11.7469      1.720     -6.830      0.000     -15.494      -7.999\n",
      "weight                0.8343      0.025     33.346      0.000       0.780       0.889\n",
      "np.square(weight)    -0.0020   9.01e-05    -21.892      0.000      -0.002      -0.002\n",
      "==============================================================================\n",
      "Omnibus:                        0.600   Durbin-Watson:                   2.525\n",
      "Prob(Omnibus):                  0.741   Jarque-Bera (JB):                0.303\n",
      "Skew:                           0.327   Prob(JB):                        0.860\n",
      "Kurtosis:                       2.761   Cond. No.                     1.80e+06\n",
      "==============================================================================\n",
      "\n",
      "Warnings:\n",
      "[1] Standard Errors assume that the covariance matrix of the errors is correctly specified.\n",
      "[2] The condition number is large, 1.8e+06. This might indicate that there are\n",
      "strong multicollinearity or other numerical problems.\n"
     ]
    }
   ],
   "source": [
    "lm_women= smf.ols('height ~ weight + np.square(weight)', data=womenDF).fit()\n",
    "print(lm_women.summary())"
   ]
  },
  {
   "cell_type": "code",
   "execution_count": 114,
   "metadata": {},
   "outputs": [
    {
     "name": "stdout",
     "output_type": "stream",
     "text": [
      "-5.30964901676e-12\n"
     ]
    },
    {
     "data": {
      "text/plain": [
       "<matplotlib.axes._subplots.AxesSubplot at 0x11df10390>"
      ]
     },
     "execution_count": 114,
     "metadata": {},
     "output_type": "execute_result"
    },
    {
     "data": {
      "image/png": "[encoded data removed]",
      "text/plain": [
       "<matplotlib.figure.Figure at 0x122210350>"
      ]
     },
     "metadata": {},
     "output_type": "display_data"
    }
   ],
   "source": [
    "print(np.mean(lm_women.resid))\n",
    "sns.regplot(womenDF.weight, lm_women.resid, fit_reg=False)"
   ]
  },
  {
   "cell_type": "code",
   "execution_count": 115,
   "metadata": {},
   "outputs": [
    {
     "data": {
      "text/plain": [
       "<matplotlib.axes._subplots.AxesSubplot at 0x11e0d4c90>"
      ]
     },
     "execution_count": 115,
     "metadata": {},
     "output_type": "execute_result"
    },
    {
     "data": {
      "image/png": "[encoded data removed]",
      "text/plain": [
       "<matplotlib.figure.Figure at 0x11dab6190>"
      ]
     },
     "metadata": {},
     "output_type": "display_data"
    }
   ],
   "source": [
    "sns.distplot(lm_women.resid, bins=50)"
   ]
  },
  {
   "cell_type": "code",
   "execution_count": 116,
   "metadata": {},
   "outputs": [
    {
     "data": {
      "text/plain": [
       "LeveneResult(statistic=1.0954297327104709, pvalue=0.31434202304418885)"
      ]
     },
     "execution_count": 116,
     "metadata": {},
     "output_type": "execute_result"
    }
   ],
   "source": [
    "sample_1 = lm_women.resid[womenDF.weight <= weight_md]\n",
    "sample_2 = lm_women.resid[womenDF.weight > weight_md]\n",
    "sp.stats.levene(sample_1, sample_2, center = 'median')"
   ]
  },
  {
   "cell_type": "markdown",
   "metadata": {},
   "source": [
    "3.MLR with $weight$, $weight^2$, and $weight^3$"
   ]
  },
  {
   "cell_type": "code",
   "execution_count": 117,
   "metadata": {},
   "outputs": [
    {
     "name": "stdout",
     "output_type": "stream",
     "text": [
      "                            OLS Regression Results                            \n",
      "==============================================================================\n",
      "Dep. Variable:                 height   R-squared:                       1.000\n",
      "Model:                            OLS   Adj. R-squared:                  1.000\n",
      "Method:                 Least Squares   F-statistic:                 1.690e+04\n",
      "Date:                Mon, 05 Mar 2018   Prob (F-statistic):           2.00e-20\n",
      "Time:                        21:38:41   Log-Likelihood:                 20.035\n",
      "No. Observations:                  15   AIC:                            -32.07\n",
      "Df Residuals:                      11   BIC:                            -29.24\n",
      "Df Model:                           3                                         \n",
      "Covariance Type:            nonrobust                                         \n",
      "=======================================================================================\n",
      "                          coef    std err          t      P>|t|      [0.025      0.975]\n",
      "---------------------------------------------------------------------------------------\n",
      "Intercept              -4.8121     18.981     -0.254      0.805     -46.589      36.965\n",
      "weight                  0.6826      0.414      1.648      0.128      -0.229       1.594\n",
      "np.square(weight)      -0.0009      0.003     -0.292      0.776      -0.007       0.006\n",
      "np.power(weight, 3) -2.633e-06   7.17e-06     -0.367      0.721   -1.84e-05    1.32e-05\n",
      "==============================================================================\n",
      "Omnibus:                        0.377   Durbin-Watson:                   2.578\n",
      "Prob(Omnibus):                  0.828   Jarque-Bera (JB):                0.085\n",
      "Skew:                           0.167   Prob(JB):                        0.958\n",
      "Kurtosis:                       2.845   Cond. No.                     2.76e+09\n",
      "==============================================================================\n",
      "\n",
      "Warnings:\n",
      "[1] Standard Errors assume that the covariance matrix of the errors is correctly specified.\n",
      "[2] The condition number is large, 2.76e+09. This might indicate that there are\n",
      "strong multicollinearity or other numerical problems.\n"
     ]
    }
   ],
   "source": [
    "lm_women= smf.ols('height ~ weight + np.square(weight) + np.power(weight, 3)', data=womenDF).fit()\n",
    "print(lm_women.summary())"
   ]
  },
  {
   "cell_type": "code",
   "execution_count": 118,
   "metadata": {},
   "outputs": [
    {
     "name": "stdout",
     "output_type": "stream",
     "text": [
      "-2.82305734345e-10\n"
     ]
    },
    {
     "data": {
      "text/plain": [
       "<matplotlib.axes._subplots.AxesSubplot at 0x11ca954d0>"
      ]
     },
     "execution_count": 118,
     "metadata": {},
     "output_type": "execute_result"
    },
    {
     "data": {
      "image/png": "[encoded data removed]",
      "text/plain": [
       "<matplotlib.figure.Figure at 0x11d23aad0>"
      ]
     },
     "metadata": {},
     "output_type": "display_data"
    }
   ],
   "source": [
    "print(np.mean(lm_women.resid))\n",
    "sns.regplot(womenDF.weight, lm_women.resid, fit_reg=False)"
   ]
  },
  {
   "cell_type": "code",
   "execution_count": 119,
   "metadata": {},
   "outputs": [
    {
     "data": {
      "text/plain": [
       "<matplotlib.axes._subplots.AxesSubplot at 0x1202bfdd0>"
      ]
     },
     "execution_count": 119,
     "metadata": {},
     "output_type": "execute_result"
    },
    {
     "data": {
      "image/png": "[encoded data removed]",
      "text/plain": [
       "<matplotlib.figure.Figure at 0x120231990>"
      ]
     },
     "metadata": {},
     "output_type": "display_data"
    }
   ],
   "source": [
    "sns.distplot(lm_women.resid, bins=50)"
   ]
  },
  {
   "cell_type": "code",
   "execution_count": 120,
   "metadata": {},
   "outputs": [
    {
     "data": {
      "text/plain": [
       "LeveneResult(statistic=1.1323355146914733, pvalue=0.30664448426157631)"
      ]
     },
     "execution_count": 120,
     "metadata": {},
     "output_type": "execute_result"
    }
   ],
   "source": [
    "sample_1 = lm_women.resid[womenDF.weight <= weight_md]\n",
    "sample_2 = lm_women.resid[womenDF.weight > weight_md]\n",
    "sp.stats.levene(sample_1, sample_2, center = 'median')"
   ]
  },
  {
   "cell_type": "markdown",
   "metadata": {},
   "source": [
    "### Question 13"
   ]
  },
  {
   "cell_type": "markdown",
   "metadata": {},
   "source": [
    "What is the difference between a *reinforcement* and *interference* interaction effect. Provide an eample of each."
   ]
  },
  {
   "cell_type": "markdown",
   "metadata": {},
   "source": [
    "**Answer:** An reinforcement interaction effect means the coefficient of the interaction term is positive. The effect of the independent variables is strengthened after interacting with one another.\n",
    "\n",
    "An interference interaction effect means the coefficient of the interaction term is negative. The effect of the independent variables is weakened. after interacting with one another.\n",
    "\n",
    "For example, when regressing height on weight for people 18-64. As weight increases, the height also does so. Now if we code men-1 and women-0, then interact weight with gender and run a regression of height on weight, gender and weight x gender. The coefficient of weight x gender is likely to be positive. On the other hand, if we code women-0 and men-1 and run the same regression, the coefficient of weight x gender could be negative."
   ]
  },
  {
   "cell_type": "markdown",
   "metadata": {},
   "source": [
    "### Question 14"
   ]
  },
  {
   "cell_type": "markdown",
   "metadata": {},
   "source": [
    "Import `advertising.csv`. Fit the best possible regression model using interaction and/or polynomials regressors, if appropriate. Provide an intuition as to why the significant regressors are contextually relevant.\n",
    "\n",
    "**Answer:** Regression with $TV + Radio + TV^2$ gives us the highest adjusted $R^2$. TV and Radio are still the most effective means of advertising. Regression lm_ad and lm_ad_2 include $Newspaper$, but the coefficient of $Newspaper$ is insignificant. lm_ad_5 is a complicated regression with all single terms having significant coefficients. Also, when combining TV ad with radio ad, there is a postive effect on sales. However, when doing TV and newspaper ad together, the effect on sales is negative."
   ]
  },
  {
   "cell_type": "code",
   "execution_count": 122,
   "metadata": {},
   "outputs": [
    {
     "data": {
      "text/html": [
       "<div>\n",
       "<style scoped>\n",
       "    .dataframe tbody tr th:only-of-type {\n",
       "        vertical-align: middle;\n",
       "    }\n",
       "\n",
       "    .dataframe tbody tr th {\n",
       "        vertical-align: top;\n",
       "    }\n",
       "\n",
       "    .dataframe thead th {\n",
       "        text-align: right;\n",
       "    }\n",
       "</style>\n",
       "<table border=\"1\" class=\"dataframe\">\n",
       "  <thead>\n",
       "    <tr style=\"text-align: right;\">\n",
       "      <th></th>\n",
       "      <th>TV</th>\n",
       "      <th>Radio</th>\n",
       "      <th>Newspaper</th>\n",
       "      <th>Sales</th>\n",
       "    </tr>\n",
       "  </thead>\n",
       "  <tbody>\n",
       "    <tr>\n",
       "      <th>0</th>\n",
       "      <td>230.1</td>\n",
       "      <td>37.8</td>\n",
       "      <td>69.2</td>\n",
       "      <td>22.1</td>\n",
       "    </tr>\n",
       "    <tr>\n",
       "      <th>1</th>\n",
       "      <td>44.5</td>\n",
       "      <td>39.3</td>\n",
       "      <td>45.1</td>\n",
       "      <td>10.4</td>\n",
       "    </tr>\n",
       "    <tr>\n",
       "      <th>2</th>\n",
       "      <td>17.2</td>\n",
       "      <td>45.9</td>\n",
       "      <td>69.3</td>\n",
       "      <td>9.3</td>\n",
       "    </tr>\n",
       "    <tr>\n",
       "      <th>3</th>\n",
       "      <td>151.5</td>\n",
       "      <td>41.3</td>\n",
       "      <td>58.5</td>\n",
       "      <td>18.5</td>\n",
       "    </tr>\n",
       "    <tr>\n",
       "      <th>4</th>\n",
       "      <td>180.8</td>\n",
       "      <td>10.8</td>\n",
       "      <td>58.4</td>\n",
       "      <td>12.9</td>\n",
       "    </tr>\n",
       "  </tbody>\n",
       "</table>\n",
       "</div>"
      ],
      "text/plain": [
       "      TV  Radio  Newspaper  Sales\n",
       "0  230.1   37.8       69.2   22.1\n",
       "1   44.5   39.3       45.1   10.4\n",
       "2   17.2   45.9       69.3    9.3\n",
       "3  151.5   41.3       58.5   18.5\n",
       "4  180.8   10.8       58.4   12.9"
      ]
     },
     "execution_count": 122,
     "metadata": {},
     "output_type": "execute_result"
    }
   ],
   "source": [
    "ad = pd.read_csv('advertising.csv')\n",
    "del ad['Unnamed: 0']\n",
    "ad.head(5)"
   ]
  },
  {
   "cell_type": "code",
   "execution_count": 131,
   "metadata": {},
   "outputs": [
    {
     "name": "stderr",
     "output_type": "stream",
     "text": [
      "/Users/jinxin/anaconda2/lib/python2.7/site-packages/ipykernel_launcher.py:1: FutureWarning: pandas.scatter_matrix is deprecated. Use pandas.plotting.scatter_matrix instead\n",
      "  \"\"\"Entry point for launching an IPython kernel.\n"
     ]
    },
    {
     "data": {
      "image/png": "[encoded data removed]",
      "text/plain": [
       "<matplotlib.figure.Figure at 0x11fbeb0d0>"
      ]
     },
     "metadata": {},
     "output_type": "display_data"
    }
   ],
   "source": [
    "pd.scatter_matrix(ad, alpha=0.2, diagonal='kde', figsize=(8, 6));"
   ]
  },
  {
   "cell_type": "code",
   "execution_count": 138,
   "metadata": {
    "collapsed": true
   },
   "outputs": [],
   "source": [
    "lm_ad = smf.ols('Sales ~ Newspaper + TV + Radio', data = ad).fit()\n",
    "lm_ad_2 = smf.ols('Sales ~ Newspaper + TV + Radio + np.square(TV)', data = ad).fit()\n",
    "lm_ad_3 = smf.ols('Sales ~ TV + Radio', data = ad).fit()\n",
    "lm_ad_4 = smf.ols('Sales ~ TV + Radio + np.square(TV)', data = ad).fit()\n",
    "lm_ad_5 = smf.ols('np.log(Sales) ~ Radio + Newspaper + TV + np.square(TV) + TV * Radio + TV * Newspaper', data = ad).fit()\n",
    "lm_ad_6 = smf.ols('np.log(Sales) ~ Radio + TV + np.square(TV) + TV * Radio', data = ad).fit()"
   ]
  },
  {
   "cell_type": "code",
   "execution_count": 152,
   "metadata": {},
   "outputs": [
    {
     "name": "stdout",
     "output_type": "stream",
     "text": [
      "                            OLS Regression Results                            \n",
      "==============================================================================\n",
      "Dep. Variable:                  Sales   R-squared:                       0.897\n",
      "Model:                            OLS   Adj. R-squared:                  0.896\n",
      "Method:                 Least Squares   F-statistic:                     570.3\n",
      "Date:                Mon, 05 Mar 2018   Prob (F-statistic):           1.58e-96\n",
      "Time:                        22:11:30   Log-Likelihood:                -386.18\n",
      "No. Observations:                 200   AIC:                             780.4\n",
      "Df Residuals:                     196   BIC:                             793.6\n",
      "Df Model:                           3                                         \n",
      "Covariance Type:            nonrobust                                         \n",
      "==============================================================================\n",
      "                 coef    std err          t      P>|t|      [0.025      0.975]\n",
      "------------------------------------------------------------------------------\n",
      "Intercept      2.9389      0.312      9.422      0.000       2.324       3.554\n",
      "Newspaper     -0.0010      0.006     -0.177      0.860      -0.013       0.011\n",
      "TV             0.0458      0.001     32.809      0.000       0.043       0.049\n",
      "Radio          0.1885      0.009     21.893      0.000       0.172       0.206\n",
      "==============================================================================\n",
      "Omnibus:                       60.414   Durbin-Watson:                   2.084\n",
      "Prob(Omnibus):                  0.000   Jarque-Bera (JB):              151.241\n",
      "Skew:                          -1.327   Prob(JB):                     1.44e-33\n",
      "Kurtosis:                       6.332   Cond. No.                         454.\n",
      "==============================================================================\n",
      "\n",
      "Warnings:\n",
      "[1] Standard Errors assume that the covariance matrix of the errors is correctly specified.\n"
     ]
    }
   ],
   "source": [
    "print(lm_ad.summary())"
   ]
  },
  {
   "cell_type": "code",
   "execution_count": 150,
   "metadata": {},
   "outputs": [
    {
     "name": "stdout",
     "output_type": "stream",
     "text": [
      "                            OLS Regression Results                            \n",
      "==============================================================================\n",
      "Dep. Variable:                  Sales   R-squared:                       0.917\n",
      "Model:                            OLS   Adj. R-squared:                  0.915\n",
      "Method:                 Least Squares   F-statistic:                     719.0\n",
      "Date:                Mon, 05 Mar 2018   Prob (F-statistic):          1.80e-105\n",
      "Time:                        22:05:57   Log-Likelihood:                -365.16\n",
      "No. Observations:                 200   AIC:                             738.3\n",
      "Df Residuals:                     196   BIC:                             751.5\n",
      "Df Model:                           3                                         \n",
      "Covariance Type:            nonrobust                                         \n",
      "=================================================================================\n",
      "                    coef    std err          t      P>|t|      [0.025      0.975]\n",
      "---------------------------------------------------------------------------------\n",
      "Intercept         1.2876      0.359      3.588      0.000       0.580       1.995\n",
      "TV                0.0784      0.005     15.736      0.000       0.069       0.088\n",
      "Radio             0.1930      0.007     26.465      0.000       0.179       0.207\n",
      "np.square(TV)    -0.0001   1.68e-05     -6.775      0.000      -0.000   -8.05e-05\n",
      "==============================================================================\n",
      "Omnibus:                       19.524   Durbin-Watson:                   2.136\n",
      "Prob(Omnibus):                  0.000   Jarque-Bera (JB):               44.712\n",
      "Skew:                          -0.413   Prob(JB):                     1.95e-10\n",
      "Kurtosis:                       5.164   Cond. No.                     1.29e+05\n",
      "==============================================================================\n",
      "\n",
      "Warnings:\n",
      "[1] Standard Errors assume that the covariance matrix of the errors is correctly specified.\n",
      "[2] The condition number is large, 1.29e+05. This might indicate that there are\n",
      "strong multicollinearity or other numerical problems.\n"
     ]
    }
   ],
   "source": [
    "print(lm_ad_4.summary())"
   ]
  },
  {
   "cell_type": "code",
   "execution_count": 141,
   "metadata": {},
   "outputs": [
    {
     "name": "stdout",
     "output_type": "stream",
     "text": [
      "                            OLS Regression Results                            \n",
      "==============================================================================\n",
      "Dep. Variable:          np.log(Sales)   R-squared:                       0.904\n",
      "Model:                            OLS   Adj. R-squared:                  0.901\n",
      "Method:                 Least Squares   F-statistic:                     302.3\n",
      "Date:                Mon, 05 Mar 2018   Prob (F-statistic):           2.84e-95\n",
      "Time:                        22:04:18   Log-Likelihood:                 127.10\n",
      "No. Observations:                 200   AIC:                            -240.2\n",
      "Df Residuals:                     193   BIC:                            -217.1\n",
      "Df Model:                           6                                         \n",
      "Covariance Type:            nonrobust                                         \n",
      "=================================================================================\n",
      "                    coef    std err          t      P>|t|      [0.025      0.975]\n",
      "---------------------------------------------------------------------------------\n",
      "Intercept         1.6099      0.042     38.009      0.000       1.526       1.693\n",
      "Radio             0.0042      0.001      3.063      0.003       0.001       0.007\n",
      "Newspaper         0.0028      0.001      3.141      0.002       0.001       0.005\n",
      "TV                0.0079      0.000     16.719      0.000       0.007       0.009\n",
      "np.square(TV)  -1.78e-05   1.45e-06    -12.292      0.000   -2.07e-05   -1.49e-05\n",
      "TV:Radio       5.528e-05    7.9e-06      6.998      0.000    3.97e-05    7.09e-05\n",
      "TV:Newspaper  -1.308e-05   4.93e-06     -2.650      0.009   -2.28e-05   -3.35e-06\n",
      "==============================================================================\n",
      "Omnibus:                      276.867   Durbin-Watson:                   2.044\n",
      "Prob(Omnibus):                  0.000   Jarque-Bera (JB):            29354.893\n",
      "Skew:                          -5.875   Prob(JB):                         0.00\n",
      "Kurtosis:                      61.177   Cond. No.                     1.80e+05\n",
      "==============================================================================\n",
      "\n",
      "Warnings:\n",
      "[1] Standard Errors assume that the covariance matrix of the errors is correctly specified.\n",
      "[2] The condition number is large, 1.8e+05. This might indicate that there are\n",
      "strong multicollinearity or other numerical problems.\n"
     ]
    }
   ],
   "source": [
    "print(lm_ad_5.summary())"
   ]
  },
  {
   "cell_type": "markdown",
   "metadata": {},
   "source": [
    "### Question 15"
   ]
  },
  {
   "cell_type": "markdown",
   "metadata": {},
   "source": [
    "Import `credit.csv`. Fit the best possible model you can to predict loan `balance`. Be explicit about your coding scheme for the dummy variables.  In your final model, provide insight  as to why the significant regressors are contextually relevant?\n",
    "\n",
    "**Answer:** For student, Yes-1 and No-0. For default Yes-1 and No-0. The regression that has the highest adjusted $R^2$ is the one with $income$, $default$, and $student$. The coefficients of $default$ and $student$ are significant, meaning for people who either default or are students are have a higher loan balance, this is consistent with our common sense."
   ]
  },
  {
   "cell_type": "code",
   "execution_count": 154,
   "metadata": {},
   "outputs": [
    {
     "data": {
      "text/html": [
       "<div>\n",
       "<style scoped>\n",
       "    .dataframe tbody tr th:only-of-type {\n",
       "        vertical-align: middle;\n",
       "    }\n",
       "\n",
       "    .dataframe tbody tr th {\n",
       "        vertical-align: top;\n",
       "    }\n",
       "\n",
       "    .dataframe thead th {\n",
       "        text-align: right;\n",
       "    }\n",
       "</style>\n",
       "<table border=\"1\" class=\"dataframe\">\n",
       "  <thead>\n",
       "    <tr style=\"text-align: right;\">\n",
       "      <th></th>\n",
       "      <th>default</th>\n",
       "      <th>student</th>\n",
       "      <th>balance</th>\n",
       "      <th>income</th>\n",
       "    </tr>\n",
       "  </thead>\n",
       "  <tbody>\n",
       "    <tr>\n",
       "      <th>0</th>\n",
       "      <td>No</td>\n",
       "      <td>No</td>\n",
       "      <td>729.526495</td>\n",
       "      <td>44361.625074</td>\n",
       "    </tr>\n",
       "    <tr>\n",
       "      <th>1</th>\n",
       "      <td>No</td>\n",
       "      <td>Yes</td>\n",
       "      <td>817.180407</td>\n",
       "      <td>12106.134700</td>\n",
       "    </tr>\n",
       "    <tr>\n",
       "      <th>2</th>\n",
       "      <td>No</td>\n",
       "      <td>No</td>\n",
       "      <td>1073.549164</td>\n",
       "      <td>31767.138947</td>\n",
       "    </tr>\n",
       "    <tr>\n",
       "      <th>3</th>\n",
       "      <td>No</td>\n",
       "      <td>No</td>\n",
       "      <td>529.250605</td>\n",
       "      <td>35704.493935</td>\n",
       "    </tr>\n",
       "    <tr>\n",
       "      <th>4</th>\n",
       "      <td>No</td>\n",
       "      <td>No</td>\n",
       "      <td>785.655883</td>\n",
       "      <td>38463.495879</td>\n",
       "    </tr>\n",
       "  </tbody>\n",
       "</table>\n",
       "</div>"
      ],
      "text/plain": [
       "  default student      balance        income\n",
       "0      No      No   729.526495  44361.625074\n",
       "1      No     Yes   817.180407  12106.134700\n",
       "2      No      No  1073.549164  31767.138947\n",
       "3      No      No   529.250605  35704.493935\n",
       "4      No      No   785.655883  38463.495879"
      ]
     },
     "execution_count": 154,
     "metadata": {},
     "output_type": "execute_result"
    }
   ],
   "source": [
    "credit = pd.read_csv('credit.csv')\n",
    "del credit['Unnamed: 0']\n",
    "credit.head(5)"
   ]
  },
  {
   "cell_type": "code",
   "execution_count": 191,
   "metadata": {
    "collapsed": true
   },
   "outputs": [],
   "source": [
    "lm_credit = smf.ols('balance ~ income + C(student)', data = credit).fit()\n",
    "lm_credit2 = smf.ols('balance ~ income + C(default) + C(student)', data = credit).fit()\n",
    "lm_credit3 = smf.ols('balance ~ income + C(default) + C(student) + C(default) * C(student)', data = credit).fit()\n",
    "lm_credit4 = smf.ols('balance ~ income + C(default) + income * C(default)', data = credit).fit()\n",
    "lm_credit5 = smf.ols('balance ~ income + C(default) + income * C(default)'\n",
    "                     + '+ C(student) + income * C(student)', data = credit).fit()"
   ]
  },
  {
   "cell_type": "code",
   "execution_count": 192,
   "metadata": {},
   "outputs": [
    {
     "name": "stdout",
     "output_type": "stream",
     "text": [
      "                            OLS Regression Results                            \n",
      "==============================================================================\n",
      "Dep. Variable:                balance   R-squared:                       0.041\n",
      "Model:                            OLS   Adj. R-squared:                  0.041\n",
      "Method:                 Least Squares   F-statistic:                     216.1\n",
      "Date:                Mon, 05 Mar 2018   Prob (F-statistic):           1.28e-92\n",
      "Time:                        22:36:24   Log-Likelihood:                -75792.\n",
      "No. Observations:               10000   AIC:                         1.516e+05\n",
      "Df Residuals:                    9997   BIC:                         1.516e+05\n",
      "Df Model:                           2                                         \n",
      "Covariance Type:            nonrobust                                         \n",
      "=====================================================================================\n",
      "                        coef    std err          t      P>|t|      [0.025      0.975]\n",
      "-------------------------------------------------------------------------------------\n",
      "Intercept           767.5623     22.356     34.334      0.000     723.741     811.384\n",
      "C(student)[T.Yes]   218.3681     15.820     13.804      0.000     187.358     249.378\n",
      "income                0.0001      0.001      0.195      0.846      -0.001       0.001\n",
      "==============================================================================\n",
      "Omnibus:                      170.544   Durbin-Watson:                   2.014\n",
      "Prob(Omnibus):                  0.000   Jarque-Bera (JB):              147.115\n",
      "Skew:                           0.238   Prob(JB):                     1.13e-32\n",
      "Kurtosis:                       2.644   Cond. No.                     2.00e+05\n",
      "==============================================================================\n",
      "\n",
      "Warnings:\n",
      "[1] Standard Errors assume that the covariance matrix of the errors is correctly specified.\n",
      "[2] The condition number is large,  2e+05. This might indicate that there are\n",
      "strong multicollinearity or other numerical problems.\n"
     ]
    }
   ],
   "source": [
    "print(lm_credit.summary())"
   ]
  },
  {
   "cell_type": "code",
   "execution_count": 193,
   "metadata": {},
   "outputs": [
    {
     "name": "stdout",
     "output_type": "stream",
     "text": [
      "                            OLS Regression Results                            \n",
      "==============================================================================\n",
      "Dep. Variable:                balance   R-squared:                       0.159\n",
      "Model:                            OLS   Adj. R-squared:                  0.159\n",
      "Method:                 Least Squares   F-statistic:                     630.8\n",
      "Date:                Mon, 05 Mar 2018   Prob (F-statistic):               0.00\n",
      "Time:                        22:36:24   Log-Likelihood:                -75137.\n",
      "No. Observations:               10000   AIC:                         1.503e+05\n",
      "Df Residuals:                    9996   BIC:                         1.503e+05\n",
      "Df Model:                           3                                         \n",
      "Covariance Type:            nonrobust                                         \n",
      "=====================================================================================\n",
      "                        coef    std err          t      P>|t|      [0.025      0.975]\n",
      "-------------------------------------------------------------------------------------\n",
      "Intercept           748.4309     20.945     35.733      0.000     707.375     789.487\n",
      "C(default)[T.Yes]   925.6466     24.742     37.412      0.000     877.147     974.146\n",
      "C(student)[T.Yes]   201.1093     14.824     13.566      0.000     172.051     230.168\n",
      "income            -9.209e-05      0.001     -0.182      0.856      -0.001       0.001\n",
      "==============================================================================\n",
      "Omnibus:                      239.165   Durbin-Watson:                   2.004\n",
      "Prob(Omnibus):                  0.000   Jarque-Bera (JB):              135.533\n",
      "Skew:                           0.112   Prob(JB):                     3.71e-30\n",
      "Kurtosis:                       2.475   Cond. No.                     2.02e+05\n",
      "==============================================================================\n",
      "\n",
      "Warnings:\n",
      "[1] Standard Errors assume that the covariance matrix of the errors is correctly specified.\n",
      "[2] The condition number is large, 2.02e+05. This might indicate that there are\n",
      "strong multicollinearity or other numerical problems.\n"
     ]
    }
   ],
   "source": [
    "print(lm_credit2.summary())"
   ]
  },
  {
   "cell_type": "code",
   "execution_count": 194,
   "metadata": {},
   "outputs": [
    {
     "name": "stdout",
     "output_type": "stream",
     "text": [
      "                            OLS Regression Results                            \n",
      "==============================================================================\n",
      "Dep. Variable:                balance   R-squared:                       0.159\n",
      "Model:                            OLS   Adj. R-squared:                  0.159\n",
      "Method:                 Least Squares   F-statistic:                     473.1\n",
      "Date:                Mon, 05 Mar 2018   Prob (F-statistic):               0.00\n",
      "Time:                        22:36:25   Log-Likelihood:                -75137.\n",
      "No. Observations:               10000   AIC:                         1.503e+05\n",
      "Df Residuals:                    9995   BIC:                         1.503e+05\n",
      "Df Model:                           4                                         \n",
      "Covariance Type:            nonrobust                                         \n",
      "=======================================================================================================\n",
      "                                          coef    std err          t      P>|t|      [0.025      0.975]\n",
      "-------------------------------------------------------------------------------------------------------\n",
      "Intercept                             748.2158     20.952     35.711      0.000     707.146     789.285\n",
      "C(default)[T.Yes]                     933.9837     31.372     29.771      0.000     872.488     995.480\n",
      "C(student)[T.Yes]                     201.9290     14.946     13.511      0.000     172.632     231.226\n",
      "C(default)[T.Yes]:C(student)[T.Yes]   -22.0563     51.026     -0.432      0.666    -122.078      77.966\n",
      "income                               -9.28e-05      0.001     -0.183      0.855      -0.001       0.001\n",
      "==============================================================================\n",
      "Omnibus:                      238.683   Durbin-Watson:                   2.004\n",
      "Prob(Omnibus):                  0.000   Jarque-Bera (JB):              135.346\n",
      "Skew:                           0.111   Prob(JB):                     4.07e-30\n",
      "Kurtosis:                       2.475   Cond. No.                     4.51e+05\n",
      "==============================================================================\n",
      "\n",
      "Warnings:\n",
      "[1] Standard Errors assume that the covariance matrix of the errors is correctly specified.\n",
      "[2] The condition number is large, 4.51e+05. This might indicate that there are\n",
      "strong multicollinearity or other numerical problems.\n"
     ]
    }
   ],
   "source": [
    "print(lm_credit3.summary())"
   ]
  },
  {
   "cell_type": "code",
   "execution_count": 195,
   "metadata": {},
   "outputs": [
    {
     "name": "stdout",
     "output_type": "stream",
     "text": [
      "                            OLS Regression Results                            \n",
      "==============================================================================\n",
      "Dep. Variable:                balance   R-squared:                       0.144\n",
      "Model:                            OLS   Adj. R-squared:                  0.143\n",
      "Method:                 Least Squares   F-statistic:                     559.3\n",
      "Date:                Mon, 05 Mar 2018   Prob (F-statistic):               0.00\n",
      "Time:                        22:36:33   Log-Likelihood:                -75228.\n",
      "No. Observations:               10000   AIC:                         1.505e+05\n",
      "Df Residuals:                    9996   BIC:                         1.505e+05\n",
      "Df Model:                           3                                         \n",
      "Covariance Type:            nonrobust                                         \n",
      "============================================================================================\n",
      "                               coef    std err          t      P>|t|      [0.025      0.975]\n",
      "--------------------------------------------------------------------------------------------\n",
      "Intercept                  982.3476     12.346     79.567      0.000     958.147    1006.549\n",
      "C(default)[T.Yes]          896.8594     63.373     14.152      0.000     772.635    1021.083\n",
      "income                      -0.0053      0.000    -15.546      0.000      -0.006      -0.005\n",
      "income:C(default)[T.Yes]     0.0012      0.002      0.673      0.501      -0.002       0.005\n",
      "==============================================================================\n",
      "Omnibus:                      243.734   Durbin-Watson:                   2.005\n",
      "Prob(Omnibus):                  0.000   Jarque-Bera (JB):              137.012\n",
      "Skew:                           0.111   Prob(JB):                     1.77e-30\n",
      "Kurtosis:                       2.471   Cond. No.                     5.11e+05\n",
      "==============================================================================\n",
      "\n",
      "Warnings:\n",
      "[1] Standard Errors assume that the covariance matrix of the errors is correctly specified.\n",
      "[2] The condition number is large, 5.11e+05. This might indicate that there are\n",
      "strong multicollinearity or other numerical problems.\n"
     ]
    }
   ],
   "source": [
    "print(lm_credit4.summary())"
   ]
  },
  {
   "cell_type": "markdown",
   "metadata": {},
   "source": [
    "### Question 16"
   ]
  },
  {
   "cell_type": "markdown",
   "metadata": {},
   "source": [
    "Code up a backward elimination algorithm, which begins with a regression model that contains all avaiable explanatory variables in the model, and eliminates them sequentially (*one at a time*), until the $p-values$ of remaining variables are all below a threshold value, in this case, $\\alpha = 0.05$.\n",
    "\n",
    "Import `mlb_01.csv`. Regress `Salary` on all other variables except `Player`. Explicitly state the coding scheme you employ for all dummy variables. Using the abovementioned algorithm, find a purely additive regression model. Discuss and interpret the merits of this model. \n",
    "\n",
    "Using the model identified by the backward elimination algorithm as a baseline, begin to test polynomial and interaction terms you think may be appropriate for this model. Settle on a final model which you believe is the best possible mode you can build to pedict `Salary`."
   ]
  },
  {
   "cell_type": "markdown",
   "metadata": {},
   "source": [
    "**Answer:** \n",
    "\n",
    "Using pd.get_dummies, the code scheme is fairly straight-forward. Please refer to the second table below.\n",
    "\n",
    "Regarding the algorithm:\n",
    "- Merits: to remove the variable with the highest p-value in each iteration is intuitive and easy to understand. We will be able to identify what is the least useful variable.\n",
    "- Drawbacks: a otherwise influential variable might have a high p-value if there is multicolinearity. As a result, we might remove potentially useful variables.\n",
    "- For the final model, please see the last table."
   ]
  },
  {
   "cell_type": "code",
   "execution_count": 315,
   "metadata": {},
   "outputs": [
    {
     "data": {
      "text/html": [
       "<div>\n",
       "<style scoped>\n",
       "    .dataframe tbody tr th:only-of-type {\n",
       "        vertical-align: middle;\n",
       "    }\n",
       "\n",
       "    .dataframe tbody tr th {\n",
       "        vertical-align: top;\n",
       "    }\n",
       "\n",
       "    .dataframe thead th {\n",
       "        text-align: right;\n",
       "    }\n",
       "</style>\n",
       "<table border=\"1\" class=\"dataframe\">\n",
       "  <thead>\n",
       "    <tr style=\"text-align: right;\">\n",
       "      <th></th>\n",
       "      <th>Salary</th>\n",
       "      <th>Experience</th>\n",
       "      <th>Japanese</th>\n",
       "      <th>Dominican</th>\n",
       "      <th>HR</th>\n",
       "      <th>League</th>\n",
       "      <th>Position.Name</th>\n",
       "    </tr>\n",
       "  </thead>\n",
       "  <tbody>\n",
       "    <tr>\n",
       "      <th>0</th>\n",
       "      <td>5000000</td>\n",
       "      <td>4</td>\n",
       "      <td>0</td>\n",
       "      <td>0</td>\n",
       "      <td>8</td>\n",
       "      <td>National</td>\n",
       "      <td>Infielder</td>\n",
       "    </tr>\n",
       "    <tr>\n",
       "      <th>1</th>\n",
       "      <td>412500</td>\n",
       "      <td>0</td>\n",
       "      <td>0</td>\n",
       "      <td>0</td>\n",
       "      <td>4</td>\n",
       "      <td>American</td>\n",
       "      <td>Infielder</td>\n",
       "    </tr>\n",
       "    <tr>\n",
       "      <th>2</th>\n",
       "      <td>2400000</td>\n",
       "      <td>3</td>\n",
       "      <td>0</td>\n",
       "      <td>1</td>\n",
       "      <td>15</td>\n",
       "      <td>American</td>\n",
       "      <td>Infielder</td>\n",
       "    </tr>\n",
       "    <tr>\n",
       "      <th>3</th>\n",
       "      <td>400000</td>\n",
       "      <td>0</td>\n",
       "      <td>0</td>\n",
       "      <td>0</td>\n",
       "      <td>0</td>\n",
       "      <td>National</td>\n",
       "      <td>Infielder</td>\n",
       "    </tr>\n",
       "    <tr>\n",
       "      <th>4</th>\n",
       "      <td>13000000</td>\n",
       "      <td>6</td>\n",
       "      <td>1</td>\n",
       "      <td>0</td>\n",
       "      <td>9</td>\n",
       "      <td>American</td>\n",
       "      <td>Outfielder</td>\n",
       "    </tr>\n",
       "  </tbody>\n",
       "</table>\n",
       "</div>"
      ],
      "text/plain": [
       "     Salary  Experience  Japanese  Dominican  HR    League Position.Name\n",
       "0   5000000           4         0          0   8  National     Infielder\n",
       "1    412500           0         0          0   4  American     Infielder\n",
       "2   2400000           3         0          1  15  American     Infielder\n",
       "3    400000           0         0          0   0  National     Infielder\n",
       "4  13000000           6         1          0   9  American    Outfielder"
      ]
     },
     "execution_count": 315,
     "metadata": {},
     "output_type": "execute_result"
    }
   ],
   "source": [
    "mlb = pd.read_csv('mlb_01.csv')\n",
    "del mlb['Player']\n",
    "mlb.head(5)"
   ]
  },
  {
   "cell_type": "code",
   "execution_count": 316,
   "metadata": {},
   "outputs": [
    {
     "data": {
      "text/html": [
       "<div>\n",
       "<style scoped>\n",
       "    .dataframe tbody tr th:only-of-type {\n",
       "        vertical-align: middle;\n",
       "    }\n",
       "\n",
       "    .dataframe tbody tr th {\n",
       "        vertical-align: top;\n",
       "    }\n",
       "\n",
       "    .dataframe thead th {\n",
       "        text-align: right;\n",
       "    }\n",
       "</style>\n",
       "<table border=\"1\" class=\"dataframe\">\n",
       "  <thead>\n",
       "    <tr style=\"text-align: right;\">\n",
       "      <th></th>\n",
       "      <th>Salary</th>\n",
       "      <th>Experience</th>\n",
       "      <th>HR</th>\n",
       "      <th>Japanese_1</th>\n",
       "      <th>Dominican_1</th>\n",
       "      <th>League_National</th>\n",
       "      <th>PositionName_Designated Hitter</th>\n",
       "      <th>PositionName_Infielder</th>\n",
       "      <th>PositionName_Outfielder</th>\n",
       "    </tr>\n",
       "  </thead>\n",
       "  <tbody>\n",
       "    <tr>\n",
       "      <th>0</th>\n",
       "      <td>5000000</td>\n",
       "      <td>4</td>\n",
       "      <td>8</td>\n",
       "      <td>0</td>\n",
       "      <td>0</td>\n",
       "      <td>1</td>\n",
       "      <td>0</td>\n",
       "      <td>1</td>\n",
       "      <td>0</td>\n",
       "    </tr>\n",
       "    <tr>\n",
       "      <th>1</th>\n",
       "      <td>412500</td>\n",
       "      <td>0</td>\n",
       "      <td>4</td>\n",
       "      <td>0</td>\n",
       "      <td>0</td>\n",
       "      <td>0</td>\n",
       "      <td>0</td>\n",
       "      <td>1</td>\n",
       "      <td>0</td>\n",
       "    </tr>\n",
       "    <tr>\n",
       "      <th>2</th>\n",
       "      <td>2400000</td>\n",
       "      <td>3</td>\n",
       "      <td>15</td>\n",
       "      <td>0</td>\n",
       "      <td>1</td>\n",
       "      <td>0</td>\n",
       "      <td>0</td>\n",
       "      <td>1</td>\n",
       "      <td>0</td>\n",
       "    </tr>\n",
       "    <tr>\n",
       "      <th>3</th>\n",
       "      <td>400000</td>\n",
       "      <td>0</td>\n",
       "      <td>0</td>\n",
       "      <td>0</td>\n",
       "      <td>0</td>\n",
       "      <td>1</td>\n",
       "      <td>0</td>\n",
       "      <td>1</td>\n",
       "      <td>0</td>\n",
       "    </tr>\n",
       "    <tr>\n",
       "      <th>4</th>\n",
       "      <td>13000000</td>\n",
       "      <td>6</td>\n",
       "      <td>9</td>\n",
       "      <td>1</td>\n",
       "      <td>0</td>\n",
       "      <td>0</td>\n",
       "      <td>0</td>\n",
       "      <td>0</td>\n",
       "      <td>1</td>\n",
       "    </tr>\n",
       "  </tbody>\n",
       "</table>\n",
       "</div>"
      ],
      "text/plain": [
       "     Salary  Experience  HR  Japanese_1  Dominican_1  League_National  \\\n",
       "0   5000000           4   8           0            0                1   \n",
       "1    412500           0   4           0            0                0   \n",
       "2   2400000           3  15           0            1                0   \n",
       "3    400000           0   0           0            0                1   \n",
       "4  13000000           6   9           1            0                0   \n",
       "\n",
       "   PositionName_Designated Hitter  PositionName_Infielder  \\\n",
       "0                               0                       1   \n",
       "1                               0                       1   \n",
       "2                               0                       1   \n",
       "3                               0                       1   \n",
       "4                               0                       0   \n",
       "\n",
       "   PositionName_Outfielder  \n",
       "0                        0  \n",
       "1                        0  \n",
       "2                        0  \n",
       "3                        0  \n",
       "4                        1  "
      ]
     },
     "execution_count": 316,
     "metadata": {},
     "output_type": "execute_result"
    }
   ],
   "source": [
    "mlb.columns = ['Salary', 'Experience', 'Japanese', 'Dominican', 'HR', 'League', 'PositionName']\n",
    "mlb = pd.get_dummies(data=mlb, columns=['Japanese', 'Dominican', 'League', 'PositionName'], drop_first=True)\n",
    "mlb.head(5)"
   ]
  },
  {
   "cell_type": "code",
   "execution_count": 239,
   "metadata": {
    "collapsed": true
   },
   "outputs": [],
   "source": [
    "mlb.columns = ['Salary', 'Experience', 'HR', 'Japanese_1', 'Dominican_1',\n",
    "       'League_National', 'PositionName_Designated_Hitter',\n",
    "       'PositionName_Infielder', 'PositionName_Outfielder']"
   ]
  },
  {
   "cell_type": "code",
   "execution_count": 313,
   "metadata": {
    "collapsed": true
   },
   "outputs": [],
   "source": [
    "def backward_elimination(df, response):\n",
    "    # first run a regression with all variables\n",
    "    df_cp = df.copy()\n",
    "    \n",
    "    for i in range(mlb.shape[1]):\n",
    "        formula = ''\n",
    "        columns = list(df_cp.columns)\n",
    "        columns.remove(response)\n",
    " \n",
    "        for var in columns:\n",
    "            formula += '+ %s' % var \n",
    "        formula = formula[1:]\n",
    "        lm_all = smf.ols('%s ~ %s' % (response, formula), data = df_cp).fit()\n",
    "\n",
    "        # extract pvalues and remove variables with the highest p-value\n",
    "        pvalue_df = pd.DataFrame(lm_all.pvalues).reset_index()\n",
    "        pvalue_df.columns = ['name', 'pvalue']\n",
    "        pvalue_df = pvalue_df.loc[2:, :]\n",
    "        pvalue_df = pvalue_df.sort_values('pvalue', ascending=False)\n",
    "        pvalue_df = pvalue_df.reset_index(drop=True)\n",
    "\n",
    "        if pvalue_df.pvalue[0] <= 0.05:\n",
    "            formula = ''\n",
    "            columns = list(df_cp.columns)\n",
    "            columns.remove(response)\n",
    "\n",
    "            for var in columns:\n",
    "                formula += '+ %s' % var \n",
    "            formula = formula[1:]\n",
    "            lm_all = smf.ols('%s ~ %s' % (response, formula), data = df_cp).fit()\n",
    "            print(lm_all.summary())\n",
    "            break\n",
    "        else:\n",
    "            var_to_remove = pvalue_df.name[0]\n",
    "            del df_cp[var_to_remove]"
   ]
  },
  {
   "cell_type": "code",
   "execution_count": 314,
   "metadata": {
    "scrolled": false
   },
   "outputs": [
    {
     "name": "stdout",
     "output_type": "stream",
     "text": [
      "                            OLS Regression Results                            \n",
      "==============================================================================\n",
      "Dep. Variable:                 Salary   R-squared:                       0.586\n",
      "Model:                            OLS   Adj. R-squared:                  0.577\n",
      "Method:                 Least Squares   F-statistic:                     68.90\n",
      "Date:                Mon, 05 Mar 2018   Prob (F-statistic):           2.87e-36\n",
      "Time:                        23:28:54   Log-Likelihood:                -3275.2\n",
      "No. Observations:                 200   AIC:                             6560.\n",
      "Df Residuals:                     195   BIC:                             6577.\n",
      "Df Model:                           4                                         \n",
      "Covariance Type:            nonrobust                                         \n",
      "==========================================================================================\n",
      "                             coef    std err          t      P>|t|      [0.025      0.975]\n",
      "------------------------------------------------------------------------------------------\n",
      "Intercept              -1.678e+06   4.32e+05     -3.881      0.000   -2.53e+06   -8.25e+05\n",
      "Experience              5.751e+05   6.01e+04      9.571      0.000    4.57e+05    6.94e+05\n",
      "HR                      2.158e+05   2.23e+04      9.672      0.000    1.72e+05     2.6e+05\n",
      "Japanese_1              1.037e+07   2.26e+06      4.579      0.000     5.9e+06    1.48e+07\n",
      "PositionName_Infielder  1.149e+06   4.54e+05      2.533      0.012    2.55e+05    2.04e+06\n",
      "==============================================================================\n",
      "Omnibus:                       64.037   Durbin-Watson:                   2.010\n",
      "Prob(Omnibus):                  0.000   Jarque-Bera (JB):              208.470\n",
      "Skew:                           1.289   Prob(JB):                     5.39e-46\n",
      "Kurtosis:                       7.285   Cond. No.                         157.\n",
      "==============================================================================\n",
      "\n",
      "Warnings:\n",
      "[1] Standard Errors assume that the covariance matrix of the errors is correctly specified.\n"
     ]
    }
   ],
   "source": [
    "backward_elimination(mlb, 'Salary')"
   ]
  },
  {
   "cell_type": "code",
   "execution_count": 333,
   "metadata": {},
   "outputs": [
    {
     "name": "stdout",
     "output_type": "stream",
     "text": [
      "                            OLS Regression Results                            \n",
      "==============================================================================\n",
      "Dep. Variable:                 Salary   R-squared:                       0.607\n",
      "Model:                            OLS   Adj. R-squared:                  0.594\n",
      "Method:                 Least Squares   F-statistic:                     49.61\n",
      "Date:                Mon, 05 Mar 2018   Prob (F-statistic):           1.42e-36\n",
      "Time:                        23:44:27   Log-Likelihood:                -3270.0\n",
      "No. Observations:                 200   AIC:                             6554.\n",
      "Df Residuals:                     193   BIC:                             6577.\n",
      "Df Model:                           6                                         \n",
      "Covariance Type:            nonrobust                                         \n",
      "==========================================================================================\n",
      "                             coef    std err          t      P>|t|      [0.025      0.975]\n",
      "------------------------------------------------------------------------------------------\n",
      "Intercept              -1.543e+06   4.98e+05     -3.098      0.002   -2.53e+06   -5.61e+05\n",
      "Experience               9.85e+05   1.66e+05      5.922      0.000    6.57e+05    1.31e+06\n",
      "HR                      4.292e+04   6.71e+04      0.640      0.523   -8.94e+04    1.75e+05\n",
      "Japanese_1              1.055e+07   2.22e+06      4.748      0.000    6.17e+06    1.49e+07\n",
      "PositionName_Infielder  8.581e+05   4.54e+05      1.891      0.060   -3.69e+04    1.75e+06\n",
      "np.square(Experience)  -3.043e+04   1.17e+04     -2.600      0.010   -5.35e+04   -7345.425\n",
      "np.square(HR)           4969.4110   1920.138      2.588      0.010    1182.261    8756.561\n",
      "==============================================================================\n",
      "Omnibus:                       76.306   Durbin-Watson:                   1.993\n",
      "Prob(Omnibus):                  0.000   Jarque-Bera (JB):              297.342\n",
      "Skew:                           1.486   Prob(JB):                     2.71e-65\n",
      "Kurtosis:                       8.182   Cond. No.                     4.27e+03\n",
      "==============================================================================\n",
      "\n",
      "Warnings:\n",
      "[1] Standard Errors assume that the covariance matrix of the errors is correctly specified.\n",
      "[2] The condition number is large, 4.27e+03. This might indicate that there are\n",
      "strong multicollinearity or other numerical problems.\n"
     ]
    }
   ],
   "source": [
    "lm_all = smf.ols('Salary ~ Experience + HR + Japanese_1 + PositionName_Infielder + \\\n",
    "                 np.square(Experience) + np.square(HR)', data = mlb).fit()\n",
    "print(lm_all.summary())"
   ]
  }
 ],
 "metadata": {
  "kernelspec": {
   "display_name": "Python 3",
   "language": "python",
   "name": "python3"
  },
  "language_info": {
   "codemirror_mode": {
    "name": "ipython",
    "version": 3
   },
   "file_extension": ".py",
   "mimetype": "text/x-python",
   "name": "python",
   "nbconvert_exporter": "python",
   "pygments_lexer": "ipython3",
   "version": "3.6.1"
  }
 },
 "nbformat": 4,
 "nbformat_minor": 2
}
