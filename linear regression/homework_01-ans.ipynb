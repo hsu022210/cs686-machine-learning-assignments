{
 "cells": [
  {
   "cell_type": "code",
   "execution_count": 1,
   "metadata": {},
   "outputs": [
    {
     "name": "stderr",
     "output_type": "stream",
     "text": [
      "/Users/jinxin/anaconda2/lib/python2.7/site-packages/statsmodels/compat/pandas.py:56: FutureWarning: The pandas.core.datetools module is deprecated and will be removed in a future version. Please use the pandas.tseries module instead.\n",
      "  from pandas.core import datetools\n"
     ]
    }
   ],
   "source": [
    "import numpy as np\n",
    "import pandas as pd\n",
    "import os\n",
    "import seaborn as sns\n",
    "import matplotlib.pyplot as plt \n",
    "%matplotlib inline\n",
    "import statsmodels.api as sm \n",
    "import patsy"
   ]
  },
  {
   "cell_type": "markdown",
   "metadata": {},
   "source": [
    "# Homework Assignment \\#1"
   ]
  },
  {
   "cell_type": "markdown",
   "metadata": {},
   "source": [
    "*due Thursday, February 15, 2018 at 12.45pm*"
   ]
  },
  {
   "cell_type": "markdown",
   "metadata": {},
   "source": [
    "### n.b.\n",
    "All deliverables are required to be typed and all graphs and statistical output generated in Jupyter Notebook using Python and associated packages. Deliverables with *any* handwritten elements will not be accepted and will receive a grade of zero. \n",
    "\n",
    "You are required to upload a ```ipynb``` file to **Canvas** as the deliverable. Use the ```homeowrk_01.ipynb``` file as a template and write the answers in text and include relevant code below each question. "
   ]
  },
  {
   "cell_type": "markdown",
   "metadata": {},
   "source": [
    "### Question 1"
   ]
  },
  {
   "cell_type": "markdown",
   "metadata": {},
   "source": [
    "In the SLR model, the probability distribution of $Y$ (i.e., $Y_i$) has the same mean and variance for all levels of $X$ (i.e., $X_i$). True or False? Explain."
   ]
  },
  {
   "cell_type": "markdown",
   "metadata": {},
   "source": [
    "**Answer:** False. The mean of the probability distribution of Y varies systematically with X. The reasoning is as follows:\n",
    "\n",
    "- $Y_i = \\beta_0 + \\beta_1 X_i + \\epsilon_i$\n",
    "- $E[Y_i] = E[\\beta_0] + E[\\beta_1 X_i] + E[\\epsilon_i]$ \n",
    "- $E[Y_i] = \\beta_0 + \\beta_1 X_i$ (the expected value of the error term is zero)\n",
    "\n",
    "Therefore, as $X_i$ increases by 1 unit, the mean of the probability distribution of Y changes by $\\beta_1$.\n",
    "\n",
    "The variance of the probability distribution of Y, on the other hand, has the same variance regardless of the values of X. The proof is as follows:\n",
    "\n",
    "- $\\sigma^2[Y_i] = \\sigma^2[\\beta_0 + \\beta_1 X_i + \\epsilon_i]$\n",
    "- $\\sigma^2[Y_i] = \\sigma^2[\\beta_0] + \\sigma^2[\\beta_1 X_i] + \\sigma^2[\\epsilon_i]$\n",
    "- $\\sigma^2[Y_i] = \\sigma^2[\\epsilon_i]$ (the first two terms on the RHS from last step have variance of 0 because $\\beta_0$ and $\\beta_1 X_i$ are constant) \n",
    "- $\\sigma^2[Y_i] = \\sigma^2$"
   ]
  },
  {
   "cell_type": "markdown",
   "metadata": {},
   "source": [
    "### Question 2"
   ]
  },
  {
   "cell_type": "markdown",
   "metadata": {},
   "source": [
    "The number of points above the fitted regression line is always equal to the number of points below it. True or False? Explain."
   ]
  },
  {
   "cell_type": "markdown",
   "metadata": {
    "collapsed": true
   },
   "source": [
    "**Answer: ** False. Using the OLS approach, linear regression fits a regression line that minimize the sum of distances squared between the observed responses in the dataset, and the responses predicted by the regression model. It is not required that the number of points above and below the regression line is equal. For example, in the scatter plot below, there are clearly more points under the fitted regression line.\n",
    "\n",
    "![title](http://scikit-learn.org/stable/_images/sphx_glr_plot_ols_001.png)"
   ]
  },
  {
   "cell_type": "markdown",
   "metadata": {},
   "source": [
    "### Question 3"
   ]
  },
  {
   "cell_type": "markdown",
   "metadata": {},
   "source": [
    "In a SLR model, what does $\\beta_1$ measure?  "
   ]
  },
  {
   "cell_type": "markdown",
   "metadata": {
    "collapsed": true
   },
   "source": [
    "**Answer: ** $\\beta_1$ measures on average, how much the response variable Y changes as the independent variable X increases by 1 unit."
   ]
  },
  {
   "cell_type": "markdown",
   "metadata": {},
   "source": [
    "### Question 4"
   ]
  },
  {
   "cell_type": "markdown",
   "metadata": {},
   "source": [
    "In the context of an SLR model, prove the following:\n",
    "\n",
    "- $E[Y_i] = \\beta_0 + \\beta_1 X_i$ \n",
    "- $V(Y_i) = \\sigma^2 \\hspace{5pt} \\forall \\hspace{5pt} i$ "
   ]
  },
  {
   "cell_type": "markdown",
   "metadata": {
    "collapsed": true
   },
   "source": [
    "**Answer: ** Please see the answer to question 1."
   ]
  },
  {
   "cell_type": "markdown",
   "metadata": {},
   "source": [
    "### Question 5"
   ]
  },
  {
   "cell_type": "markdown",
   "metadata": {},
   "source": [
    "For the SLR model, $Y_i = \\beta_0 + \\beta_1 X_i + \\epsilon_i$, how many random variables are there. Explain."
   ]
  },
  {
   "cell_type": "markdown",
   "metadata": {
    "collapsed": true
   },
   "source": [
    "**Answer: ** In the equation, $\\epsilon_i$ is a random error term that cannot be explained by the model, so it's a random variable. The constant term $\\beta_0 + \\beta_1 X_i$ is the systematic part of $Y_i$. As a result, $Y_i$ is also a random variable."
   ]
  },
  {
   "cell_type": "markdown",
   "metadata": {},
   "source": [
    "### Question 6"
   ]
  },
  {
   "cell_type": "markdown",
   "metadata": {},
   "source": [
    "Write out the normal error regression model and its assumptions (in English and math)."
   ]
  },
  {
   "cell_type": "markdown",
   "metadata": {
    "collapsed": true
   },
   "source": [
    "**Answer: ** $Y_i = \\beta_0 + \\beta_1 X_i + \\epsilon_i$ \n",
    "1. $\\epsilon_i$ $\\tilde{}$ $N(0, \\sigma^2)$. The error terms follows a normal distribution with a mean of zero and a variance of $\\epsilon_i$. This has two implications:\n",
    "    - $E[\\epsilon_i | X_i] = 0$ or exogeneity, meaning the errors are not correlated with the independent variables\n",
    "    - $\\sigma^2[\\epsilon_i | X_i] = \\sigma^2$ - constant variance or homoscedasticity\n",
    "2. The error terms are iid, aka independently and identically distributed, written as $\\epsilon_i$ $\\tilde{}$ $N(0, \\sigma^2)$ $iid$. This implies that there is no serial correlation between $\\epsilon_i$ and $\\epsilon_j$ where $i \\neq j$\n"
   ]
  },
  {
   "cell_type": "markdown",
   "metadata": {},
   "source": [
    "### Question 7"
   ]
  },
  {
   "cell_type": "markdown",
   "metadata": {},
   "source": [
    "What does a negative value of $\\beta_1$ indicate about the relation between $X$ and $Y$?"
   ]
  },
  {
   "cell_type": "markdown",
   "metadata": {
    "collapsed": true
   },
   "source": [
    "**Answer: ** A negative value of $\\beta_1$ indicates that there exists a negative correlation between X and Y. We can say on average as X increases by 1 unit Y drops by $\\beta_1$."
   ]
  },
  {
   "cell_type": "markdown",
   "metadata": {},
   "source": [
    "### Question 8"
   ]
  },
  {
   "cell_type": "markdown",
   "metadata": {},
   "source": [
    "***DO NOT USE ANY REGRESSION FUNCTIONS OR REGRESSION PACKAGES FOR THIS PROBLEM***"
   ]
  },
  {
   "cell_type": "markdown",
   "metadata": {},
   "source": [
    "Using the following code"
   ]
  },
  {
   "cell_type": "code",
   "execution_count": 2,
   "metadata": {
    "collapsed": true
   },
   "outputs": [],
   "source": [
    "x = np.random.uniform(9, 27, 1000)\n",
    "y = 0.5*x + np.random.uniform(-2, 2, 1000)\n",
    "myData = pd.DataFrame(pd.concat([pd.Series(x), pd.Series(y)], axis = 1))\n",
    "myData.rename(columns={0: \"x\", 1: \"y\"}, inplace = True)"
   ]
  },
  {
   "cell_type": "markdown",
   "metadata": {},
   "source": [
    "manually compute the coefficients $b_0$ and $b_1$ for the SLR model."
   ]
  },
  {
   "cell_type": "markdown",
   "metadata": {},
   "source": [
    "$$ b_0 = \\frac{1}{n} \\Big( \\sum Y_i - b_1 \\sum X_i \\Big) $$\n",
    "$$ b_1 = \\frac{\\sum (X_i - \\bar{X})(Y_i - \\bar{Y})}{\\sum (X_i - \\bar{X})^2}$$"
   ]
  },
  {
   "cell_type": "code",
   "execution_count": 3,
   "metadata": {},
   "outputs": [
    {
     "name": "stdout",
     "output_type": "stream",
     "text": [
      "b0 = 0.0173 and b1 = 0.4964\n"
     ]
    }
   ],
   "source": [
    "n = len(x)\n",
    "b1 = sum((x - x.mean()) * (y - y.mean())) / sum((x - x.mean())**2)\n",
    "b0 = (y.sum() - b1 * x.sum()) / n\n",
    "\n",
    "print (\"b0 = %s and b1 = %s\" % (round(b0, 4), round(b1, 4)))"
   ]
  },
  {
   "cell_type": "markdown",
   "metadata": {},
   "source": [
    "We can compare our calculations with the output from the statsmodels package."
   ]
  },
  {
   "cell_type": "code",
   "execution_count": 4,
   "metadata": {},
   "outputs": [
    {
     "name": "stdout",
     "output_type": "stream",
     "text": [
      "                            OLS Regression Results                            \n",
      "==============================================================================\n",
      "Dep. Variable:                      y   R-squared:                       0.827\n",
      "Model:                            OLS   Adj. R-squared:                  0.826\n",
      "Method:                 Least Squares   F-statistic:                     4758.\n",
      "Date:                Sun, 11 Feb 2018   Prob (F-statistic):               0.00\n",
      "Time:                        22:17:34   Log-Likelihood:                -1559.7\n",
      "No. Observations:                1000   AIC:                             3123.\n",
      "Df Residuals:                     998   BIC:                             3133.\n",
      "Df Model:                           1                                         \n",
      "Covariance Type:            nonrobust                                         \n",
      "==============================================================================\n",
      "                 coef    std err          t      P>|t|      [0.025      0.975]\n",
      "------------------------------------------------------------------------------\n",
      "const          0.0173      0.134      0.129      0.897      -0.245       0.280\n",
      "x1             0.4964      0.007     68.978      0.000       0.482       0.510\n",
      "==============================================================================\n",
      "Omnibus:                      648.448   Durbin-Watson:                   1.922\n",
      "Prob(Omnibus):                  0.000   Jarque-Bera (JB):               58.584\n",
      "Skew:                           0.034   Prob(JB):                     1.90e-13\n",
      "Kurtosis:                       1.816   Cond. No.                         68.6\n",
      "==============================================================================\n",
      "\n",
      "Warnings:\n",
      "[1] Standard Errors assume that the covariance matrix of the errors is correctly specified.\n"
     ]
    }
   ],
   "source": [
    "X = sm.add_constant(x)\n",
    "model = sm.OLS(y, X)\n",
    "results = model.fit()\n",
    "print(results.summary())"
   ]
  },
  {
   "cell_type": "markdown",
   "metadata": {},
   "source": [
    "### Question 9"
   ]
  },
  {
   "cell_type": "markdown",
   "metadata": {},
   "source": [
    "Prove the equivalence of the $F$-Test and the $t$-Test on $\\beta_1$ for an SLR model. "
   ]
  },
  {
   "cell_type": "markdown",
   "metadata": {
    "collapsed": true
   },
   "source": [
    "**Answer:** F-statistics = $\\frac{MSR}{MSE} = \\frac{SSR}{MSE}$, because MSR = SSR.\n",
    "\n",
    "SSR = $\\sum_{i}^{n} (\\hat{Y_i} - \\bar{Y})^2  \n",
    "    = \\sum_{i}^{n} (b_0 + b_1X_i - \\bar{Y})^2  \n",
    "    = \\sum_{i}^{n} (\\bar{Y_i} - b_1\\bar{X} + b_1X_i - \\bar{Y})^2  \n",
    "    = b_1^2\\sum_{i}^{n} (X_i - \\bar{X})^2$ \n",
    "\n",
    "Therefore, F-statistics = $\\frac{b_1^2\\sum_{i}^{n}(X_i - \\bar{X})^2}{MSE}$  \n",
    "(MSE = $\\frac{SSE}{n - 2} = \\frac{\\sum_{i}^{n}(Y_i - \\hat{Y_i})^2}{n - 2}$)\n",
    "\n",
    "$t-score^2 = \\frac{b_1^2}{s(b1)^2} = \\frac{b_1^2}{\\frac{MSE}{\\sum_{i}^{n}(X_i - \\bar{X})^2}} = \\frac{b_1^2\\sum_{i}^{n}(X_i - \\bar{X})^2}{MSE}$\n",
    "\n",
    "$t-score^2$ = F-statistics\n",
    "\n",
    "Therefore, F-test and T-test are equivalent on $\\beta_1$ for an SLR model."
   ]
  },
  {
   "cell_type": "markdown",
   "metadata": {},
   "source": [
    "### Question 10"
   ]
  },
  {
   "cell_type": "markdown",
   "metadata": {},
   "source": [
    "Are hypotheses tested concerning the actual values of the coefficients, e.g., $\\beta_1$, or their estimated values, e.g., $b_1$? Why?"
   ]
  },
  {
   "cell_type": "markdown",
   "metadata": {
    "collapsed": true
   },
   "source": [
    "**Answer: ** In linear regression, hypothesis testing is about whether the population coefficients (e.g. $\\beta_1$) are statistically different from 0. However, the test statistic (e.g. t-score) is based on the estimated values of the coefficients (e.g. $b_1$)."
   ]
  },
  {
   "cell_type": "markdown",
   "metadata": {},
   "source": [
    "### Question 11"
   ]
  },
  {
   "cell_type": "markdown",
   "metadata": {},
   "source": [
    "You compute a coefficient of determination for a regression model an obtain an $R^2=0.832$. What does the strength of the coefficient of determination say about the causal relationship between the explanatory and response variables?"
   ]
  },
  {
   "cell_type": "markdown",
   "metadata": {
    "collapsed": true
   },
   "source": [
    "**Answer: ** $R^2$ = 0.832 means 83.2% of the variation of the response variable can be explain by the independent variables. While it indicates that there is a strong strength of the relationship between the explanatory and responsib variables, it doesn't imply any causal relationship between the two."
   ]
  },
  {
   "cell_type": "markdown",
   "metadata": {},
   "source": [
    "### Question 12"
   ]
  },
  {
   "cell_type": "markdown",
   "metadata": {},
   "source": [
    "You compute a coefficient of determination for a regression model, regressing crime rate per capita ($Y$) on the size of municipal police force ($X$), obtaining an $R^2 = 0.6533$. What can you say about the relationship between $Y$ and $X$?"
   ]
  },
  {
   "cell_type": "markdown",
   "metadata": {
    "collapsed": true
   },
   "source": [
    "**Answer: ** $R^2$ = 0.6533 means 65.33% of the variation of crime rate per capita can be explained by the size of municipal police force, we can say there is a relatively strong relationship/correlation between the two."
   ]
  },
  {
   "cell_type": "markdown",
   "metadata": {},
   "source": [
    "### Question 13"
   ]
  },
  {
   "cell_type": "markdown",
   "metadata": {},
   "source": [
    "From the discussion of SLR so far, how do you believe outliers will effect the regression line? "
   ]
  },
  {
   "cell_type": "markdown",
   "metadata": {
    "collapsed": true
   },
   "source": [
    "**Answer:** Outliers can cause a fitted regression line to be significantly altered in an attempt to minimize the sums of squared errors (SSE), with the SSE for the singular outliers influencing the fitted regression line disproportionately."
   ]
  },
  {
   "cell_type": "markdown",
   "metadata": {},
   "source": [
    "### Question 14"
   ]
  },
  {
   "cell_type": "markdown",
   "metadata": {},
   "source": [
    "Write out the hypothesis test which tests for the statistical significance of $\\beta_1$ for an SLR model. Be sure to include the null an alternate hypothesis, the critical value including degrees of freedom (two-tailed test) for $\\alpha = 0.05$ and an interpretation of both possible results. "
   ]
  },
  {
   "cell_type": "markdown",
   "metadata": {
    "collapsed": true
   },
   "source": [
    "**Answer:** \n",
    "$H_0: \\beta_1 = 0 \\\\\n",
    "H_1: \\beta_1 \\neq 0$\n",
    "\n",
    "The critical value for a t-test is computed using $t-score = \\frac{b_1 - \\beta_1}{s(b_1)} ~~ \\tilde{} ~~ t_(n - 2)$ (the degrees of freedom is n - 2). \n",
    "\n",
    "For $\\alpha =  0.05$, we compare the t-score (e.g. the critical value) with the threshold 1.69 or -1.69, if the t-score is greater than 1.69 or less than -1.69, then we have enough evidence to reject the null hypothesis and accept the alternatie hypothesis that states $\\beta_1 \\neq 0$. If the t-score falls within (-1.69, 1.69), then we don't have enough evidence to reject the null hypothesis."
   ]
  },
  {
   "cell_type": "markdown",
   "metadata": {},
   "source": [
    "### Question 15"
   ]
  },
  {
   "cell_type": "markdown",
   "metadata": {},
   "source": [
    "Using ```modified_SENIC_data_01.csv```\n",
    "1. Regress Infection Risk ($Y$) on Length of Stay ($X$). Report the $R^2$, $b_0$ and $b_1$  values.\n",
    "2. Multiply the observations, both $X$ and $Y$, by 192; we will refer to these as $X_{(2)}$ and $Y_{(2)}$. Regress $Y_{(2)}$ on $X_{(2)}$. Report the $R^2$, $b_0$ and $b_1$  values.\n",
    "3. Multiply only $Y$ by 47; we will refer to this as $Y_{(3)}$. Regress $Y_{(3)}$ on $X$. Report the $R^2$, $b_0$ and $b_1$  values.\n",
    "4. Multiply only $X$ by 12; we will refer to this as $X_{(3)}$. Regress $Y$ on $X_{(3)}$. Report the $R^2$, $b_0$ and $b_1$  values.\n",
    "\n",
    "\n",
    "**Succinctly** explain what you have gleaned from this exercise. Include a summarized tabular representation of the regression output and the associated $R^2$, $b_0$ and $b_1$ values."
   ]
  },
  {
   "cell_type": "code",
   "execution_count": 5,
   "metadata": {},
   "outputs": [
    {
     "data": {
      "text/html": [
       "<div>\n",
       "<style scoped>\n",
       "    .dataframe tbody tr th:only-of-type {\n",
       "        vertical-align: middle;\n",
       "    }\n",
       "\n",
       "    .dataframe tbody tr th {\n",
       "        vertical-align: top;\n",
       "    }\n",
       "\n",
       "    .dataframe thead th {\n",
       "        text-align: right;\n",
       "    }\n",
       "</style>\n",
       "<table border=\"1\" class=\"dataframe\">\n",
       "  <thead>\n",
       "    <tr style=\"text-align: right;\">\n",
       "      <th></th>\n",
       "      <th>lengthOfStay</th>\n",
       "      <th>age</th>\n",
       "      <th>infectionRisk</th>\n",
       "    </tr>\n",
       "  </thead>\n",
       "  <tbody>\n",
       "    <tr>\n",
       "      <th>0</th>\n",
       "      <td>7.13</td>\n",
       "      <td>55.7</td>\n",
       "      <td>4.1</td>\n",
       "    </tr>\n",
       "    <tr>\n",
       "      <th>1</th>\n",
       "      <td>8.82</td>\n",
       "      <td>58.2</td>\n",
       "      <td>1.6</td>\n",
       "    </tr>\n",
       "    <tr>\n",
       "      <th>2</th>\n",
       "      <td>8.34</td>\n",
       "      <td>56.9</td>\n",
       "      <td>2.7</td>\n",
       "    </tr>\n",
       "    <tr>\n",
       "      <th>3</th>\n",
       "      <td>8.95</td>\n",
       "      <td>53.7</td>\n",
       "      <td>5.6</td>\n",
       "    </tr>\n",
       "    <tr>\n",
       "      <th>4</th>\n",
       "      <td>11.20</td>\n",
       "      <td>56.5</td>\n",
       "      <td>5.7</td>\n",
       "    </tr>\n",
       "  </tbody>\n",
       "</table>\n",
       "</div>"
      ],
      "text/plain": [
       "   lengthOfStay   age  infectionRisk\n",
       "0          7.13  55.7            4.1\n",
       "1          8.82  58.2            1.6\n",
       "2          8.34  56.9            2.7\n",
       "3          8.95  53.7            5.6\n",
       "4         11.20  56.5            5.7"
      ]
     },
     "execution_count": 5,
     "metadata": {},
     "output_type": "execute_result"
    }
   ],
   "source": [
    "senic_data = pd.read_csv('modified_SENIC_data_01.csv')\n",
    "senic_data.head(5)"
   ]
  },
  {
   "cell_type": "markdown",
   "metadata": {},
   "source": [
    "1.Regress Infection Risk ($Y$) on Length of Stay ($X$). Report the $R^2$, $b_0$ and $b_1$  values.\n",
    "\n",
    "**Answer:** $R^2$, $b_0$ and $b_1$ are 0.285, 0.7443, and 0.3742 respectively."
   ]
  },
  {
   "cell_type": "code",
   "execution_count": 6,
   "metadata": {},
   "outputs": [
    {
     "name": "stdout",
     "output_type": "stream",
     "text": [
      "                            OLS Regression Results                            \n",
      "==============================================================================\n",
      "Dep. Variable:          infectionRisk   R-squared:                       0.285\n",
      "Model:                            OLS   Adj. R-squared:                  0.278\n",
      "Method:                 Least Squares   F-statistic:                     44.15\n",
      "Date:                Sun, 11 Feb 2018   Prob (F-statistic):           1.18e-09\n",
      "Time:                        22:17:34   Log-Likelihood:                -174.07\n",
      "No. Observations:                 113   AIC:                             352.1\n",
      "Df Residuals:                     111   BIC:                             357.6\n",
      "Df Model:                           1                                         \n",
      "Covariance Type:            nonrobust                                         \n",
      "================================================================================\n",
      "                   coef    std err          t      P>|t|      [0.025      0.975]\n",
      "--------------------------------------------------------------------------------\n",
      "const            0.7443      0.554      1.344      0.182      -0.353       1.842\n",
      "lengthOfStay     0.3742      0.056      6.645      0.000       0.263       0.486\n",
      "==============================================================================\n",
      "Omnibus:                        1.189   Durbin-Watson:                   1.821\n",
      "Prob(Omnibus):                  0.552   Jarque-Bera (JB):                1.228\n",
      "Skew:                          -0.237   Prob(JB):                        0.541\n",
      "Kurtosis:                       2.811   Cond. No.                         51.3\n",
      "==============================================================================\n",
      "\n",
      "Warnings:\n",
      "[1] Standard Errors assume that the covariance matrix of the errors is correctly specified.\n"
     ]
    }
   ],
   "source": [
    "X = sm.add_constant(senic_data['lengthOfStay'])\n",
    "model = sm.OLS(senic_data['infectionRisk'], X)\n",
    "results = model.fit()\n",
    "print(results.summary())"
   ]
  },
  {
   "cell_type": "markdown",
   "metadata": {},
   "source": [
    "2.Multiply the observations, both $X$ and $Y$, by 192; we will refer to these as $X_{(2)}$ and $Y_{(2)}$. Regress $Y_{(2)}$ on $X_{(2)}$. Report the $R^2$, $b_0$ and $b_1$  values.\n",
    "\n",
    "**Answer:** $R^2$, $b_0$ and $b_1$ are 0.285, 142.9063, and 0.3742 respectively."
   ]
  },
  {
   "cell_type": "code",
   "execution_count": 7,
   "metadata": {},
   "outputs": [
    {
     "name": "stdout",
     "output_type": "stream",
     "text": [
      "                            OLS Regression Results                            \n",
      "==============================================================================\n",
      "Dep. Variable:          infectionRisk   R-squared:                       0.285\n",
      "Model:                            OLS   Adj. R-squared:                  0.278\n",
      "Method:                 Least Squares   F-statistic:                     44.15\n",
      "Date:                Sun, 11 Feb 2018   Prob (F-statistic):           1.18e-09\n",
      "Time:                        22:17:34   Log-Likelihood:                -768.16\n",
      "No. Observations:                 113   AIC:                             1540.\n",
      "Df Residuals:                     111   BIC:                             1546.\n",
      "Df Model:                           1                                         \n",
      "Covariance Type:            nonrobust                                         \n",
      "================================================================================\n",
      "                   coef    std err          t      P>|t|      [0.025      0.975]\n",
      "--------------------------------------------------------------------------------\n",
      "const          142.9063    106.341      1.344      0.182     -67.815     353.627\n",
      "lengthOfStay     0.3742      0.056      6.645      0.000       0.263       0.486\n",
      "==============================================================================\n",
      "Omnibus:                        1.189   Durbin-Watson:                   1.821\n",
      "Prob(Omnibus):                  0.552   Jarque-Bera (JB):                1.228\n",
      "Skew:                          -0.237   Prob(JB):                        0.541\n",
      "Kurtosis:                       2.811   Cond. No.                     9.76e+03\n",
      "==============================================================================\n",
      "\n",
      "Warnings:\n",
      "[1] Standard Errors assume that the covariance matrix of the errors is correctly specified.\n",
      "[2] The condition number is large, 9.76e+03. This might indicate that there are\n",
      "strong multicollinearity or other numerical problems.\n"
     ]
    }
   ],
   "source": [
    "X = sm.add_constant(senic_data['lengthOfStay'] * 192)\n",
    "model = sm.OLS(senic_data['infectionRisk'] * 192, X)\n",
    "results = model.fit()\n",
    "print(results.summary())"
   ]
  },
  {
   "cell_type": "markdown",
   "metadata": {},
   "source": [
    "3.Multiply only $Y$ by 47; we will refer to this as $Y_{(3)}$. Regress $Y_{(3)}$ on $X$. Report the $R^2$, $b_0$ and $b_1$  values.\n",
    "\n",
    "**Answer:** $R^2$, $b_0$ and $b_1$ are 0.285, 34.9823, and 17.5882 respectively."
   ]
  },
  {
   "cell_type": "code",
   "execution_count": 8,
   "metadata": {},
   "outputs": [
    {
     "name": "stdout",
     "output_type": "stream",
     "text": [
      "                            OLS Regression Results                            \n",
      "==============================================================================\n",
      "Dep. Variable:          infectionRisk   R-squared:                       0.285\n",
      "Model:                            OLS   Adj. R-squared:                  0.278\n",
      "Method:                 Least Squares   F-statistic:                     44.15\n",
      "Date:                Sun, 11 Feb 2018   Prob (F-statistic):           1.18e-09\n",
      "Time:                        22:17:34   Log-Likelihood:                -609.13\n",
      "No. Observations:                 113   AIC:                             1222.\n",
      "Df Residuals:                     111   BIC:                             1228.\n",
      "Df Model:                           1                                         \n",
      "Covariance Type:            nonrobust                                         \n",
      "================================================================================\n",
      "                   coef    std err          t      P>|t|      [0.025      0.975]\n",
      "--------------------------------------------------------------------------------\n",
      "const           34.9823     26.031      1.344      0.182     -16.600      86.565\n",
      "lengthOfStay    17.5882      2.647      6.645      0.000      12.343      22.833\n",
      "==============================================================================\n",
      "Omnibus:                        1.189   Durbin-Watson:                   1.821\n",
      "Prob(Omnibus):                  0.552   Jarque-Bera (JB):                1.228\n",
      "Skew:                          -0.237   Prob(JB):                        0.541\n",
      "Kurtosis:                       2.811   Cond. No.                         51.3\n",
      "==============================================================================\n",
      "\n",
      "Warnings:\n",
      "[1] Standard Errors assume that the covariance matrix of the errors is correctly specified.\n"
     ]
    }
   ],
   "source": [
    "X = sm.add_constant(senic_data['lengthOfStay'])\n",
    "model = sm.OLS(senic_data['infectionRisk'] * 47, X)\n",
    "results = model.fit()\n",
    "print(results.summary())"
   ]
  },
  {
   "cell_type": "markdown",
   "metadata": {},
   "source": [
    "4.Multiply only $X$ by 12; we will refer to this as $X_{(3)}$. Regress $Y$ on $X_{(3)}$. Report the $R^2$, $b_0$ and $b_1$  values.\n",
    "\n",
    "**Answer:** $R^2$, $b_0$ and $b_1$ are 0.285, 0.7443, and 0.0312 respectively."
   ]
  },
  {
   "cell_type": "code",
   "execution_count": 9,
   "metadata": {},
   "outputs": [
    {
     "name": "stdout",
     "output_type": "stream",
     "text": [
      "                            OLS Regression Results                            \n",
      "==============================================================================\n",
      "Dep. Variable:          infectionRisk   R-squared:                       0.285\n",
      "Model:                            OLS   Adj. R-squared:                  0.278\n",
      "Method:                 Least Squares   F-statistic:                     44.15\n",
      "Date:                Sun, 11 Feb 2018   Prob (F-statistic):           1.18e-09\n",
      "Time:                        22:17:34   Log-Likelihood:                -174.07\n",
      "No. Observations:                 113   AIC:                             352.1\n",
      "Df Residuals:                     111   BIC:                             357.6\n",
      "Df Model:                           1                                         \n",
      "Covariance Type:            nonrobust                                         \n",
      "================================================================================\n",
      "                   coef    std err          t      P>|t|      [0.025      0.975]\n",
      "--------------------------------------------------------------------------------\n",
      "const            0.7443      0.554      1.344      0.182      -0.353       1.842\n",
      "lengthOfStay     0.0312      0.005      6.645      0.000       0.022       0.040\n",
      "==============================================================================\n",
      "Omnibus:                        1.189   Durbin-Watson:                   1.821\n",
      "Prob(Omnibus):                  0.552   Jarque-Bera (JB):                1.228\n",
      "Skew:                          -0.237   Prob(JB):                        0.541\n",
      "Kurtosis:                       2.811   Cond. No.                         610.\n",
      "==============================================================================\n",
      "\n",
      "Warnings:\n",
      "[1] Standard Errors assume that the covariance matrix of the errors is correctly specified.\n"
     ]
    }
   ],
   "source": [
    "X = sm.add_constant(senic_data['lengthOfStay'] * 12)\n",
    "model = sm.OLS(senic_data['infectionRisk'], X)\n",
    "results = model.fit()\n",
    "print(results.summary())"
   ]
  },
  {
   "cell_type": "markdown",
   "metadata": {},
   "source": [
    "**Summary:** From the table below, we have the following observations:\n",
    "1. $R^2$ remains the same regardless of how we scale X and Y\n",
    "2. Scaling X and Y by the same number will change $b_0$ but not $b_1$\n",
    "3. Scaling only Y changes $b_1$ but not $b_0$\n",
    "4. Scaling only X changes $b_0$ but not $b_1$"
   ]
  },
  {
   "cell_type": "code",
   "execution_count": 14,
   "metadata": {},
   "outputs": [
    {
     "data": {
      "text/html": [
       "<div>\n",
       "<style scoped>\n",
       "    .dataframe tbody tr th:only-of-type {\n",
       "        vertical-align: middle;\n",
       "    }\n",
       "\n",
       "    .dataframe tbody tr th {\n",
       "        vertical-align: top;\n",
       "    }\n",
       "\n",
       "    .dataframe thead th {\n",
       "        text-align: right;\n",
       "    }\n",
       "</style>\n",
       "<table border=\"1\" class=\"dataframe\">\n",
       "  <thead>\n",
       "    <tr style=\"text-align: right;\">\n",
       "      <th></th>\n",
       "      <th>R2</th>\n",
       "      <th>b0</th>\n",
       "      <th>b1</th>\n",
       "      <th>data transformation</th>\n",
       "    </tr>\n",
       "  </thead>\n",
       "  <tbody>\n",
       "    <tr>\n",
       "      <th>0</th>\n",
       "      <td>0.285</td>\n",
       "      <td>0.7443</td>\n",
       "      <td>0.3742</td>\n",
       "      <td>original data</td>\n",
       "    </tr>\n",
       "    <tr>\n",
       "      <th>1</th>\n",
       "      <td>0.285</td>\n",
       "      <td>142.9063</td>\n",
       "      <td>0.3742</td>\n",
       "      <td>multiply X and Y by 192</td>\n",
       "    </tr>\n",
       "    <tr>\n",
       "      <th>2</th>\n",
       "      <td>0.285</td>\n",
       "      <td>34.9823</td>\n",
       "      <td>17.5882</td>\n",
       "      <td>multiply Y by 47</td>\n",
       "    </tr>\n",
       "    <tr>\n",
       "      <th>3</th>\n",
       "      <td>0.285</td>\n",
       "      <td>0.7443</td>\n",
       "      <td>0.031</td>\n",
       "      <td>multiply X by 12</td>\n",
       "    </tr>\n",
       "  </tbody>\n",
       "</table>\n",
       "</div>"
      ],
      "text/plain": [
       "      R2        b0       b1      data transformation\n",
       "0  0.285    0.7443   0.3742            original data\n",
       "1  0.285  142.9063   0.3742  multiply X and Y by 192\n",
       "2  0.285   34.9823  17.5882         multiply Y by 47\n",
       "3  0.285    0.7443    0.031         multiply X by 12"
      ]
     },
     "execution_count": 14,
     "metadata": {},
     "output_type": "execute_result"
    }
   ],
   "source": [
    "output = np.array([[0.285, 0.7443, 0.3742, 'original data'],\n",
    "[0.285, 142.9063, 0.3742, 'multiply X and Y by 192'],\n",
    "[0.285, 34.9823, 17.5882, 'multiply Y by 47'],\n",
    "[0.285, 0.7443, 0.031, 'multiply X by 12']])\n",
    "\n",
    "output_df = pd.DataFrame(output, columns=['R2', 'b0', 'b1', 'data transformation'])\n",
    "output_df"
   ]
  },
  {
   "cell_type": "markdown",
   "metadata": {},
   "source": [
    "### Question 16"
   ]
  },
  {
   "cell_type": "markdown",
   "metadata": {},
   "source": [
    "Using the ```fourDataSets.csv```, regress $Y$ on $X$ for $i=1,2,3,4$, i.e., generate four separate SLR models. **For each** of the four data sets, run and report summary statistics, generate a scatter plot and run a SLR model, reporting the regression function $R^2$, $R_a^2$, and the significance of $b_1$ ($p$-value). Intelligently discuss what you observe about each data set and the data sets as a whole."
   ]
  },
  {
   "cell_type": "code",
   "execution_count": 11,
   "metadata": {},
   "outputs": [
    {
     "data": {
      "text/html": [
       "<div>\n",
       "<style scoped>\n",
       "    .dataframe tbody tr th:only-of-type {\n",
       "        vertical-align: middle;\n",
       "    }\n",
       "\n",
       "    .dataframe tbody tr th {\n",
       "        vertical-align: top;\n",
       "    }\n",
       "\n",
       "    .dataframe thead th {\n",
       "        text-align: right;\n",
       "    }\n",
       "</style>\n",
       "<table border=\"1\" class=\"dataframe\">\n",
       "  <thead>\n",
       "    <tr style=\"text-align: right;\">\n",
       "      <th></th>\n",
       "      <th>dataSet</th>\n",
       "      <th>x</th>\n",
       "      <th>y</th>\n",
       "    </tr>\n",
       "  </thead>\n",
       "  <tbody>\n",
       "    <tr>\n",
       "      <th>0</th>\n",
       "      <td>1</td>\n",
       "      <td>10</td>\n",
       "      <td>8.04</td>\n",
       "    </tr>\n",
       "    <tr>\n",
       "      <th>1</th>\n",
       "      <td>1</td>\n",
       "      <td>8</td>\n",
       "      <td>6.95</td>\n",
       "    </tr>\n",
       "    <tr>\n",
       "      <th>2</th>\n",
       "      <td>1</td>\n",
       "      <td>13</td>\n",
       "      <td>7.58</td>\n",
       "    </tr>\n",
       "    <tr>\n",
       "      <th>3</th>\n",
       "      <td>1</td>\n",
       "      <td>9</td>\n",
       "      <td>8.81</td>\n",
       "    </tr>\n",
       "    <tr>\n",
       "      <th>4</th>\n",
       "      <td>1</td>\n",
       "      <td>11</td>\n",
       "      <td>8.33</td>\n",
       "    </tr>\n",
       "  </tbody>\n",
       "</table>\n",
       "</div>"
      ],
      "text/plain": [
       "   dataSet   x     y\n",
       "0        1  10  8.04\n",
       "1        1   8  6.95\n",
       "2        1  13  7.58\n",
       "3        1   9  8.81\n",
       "4        1  11  8.33"
      ]
     },
     "execution_count": 11,
     "metadata": {},
     "output_type": "execute_result"
    }
   ],
   "source": [
    "fourdata = pd.read_csv('fourDataSets.csv')\n",
    "fourdata.head(5)"
   ]
  },
  {
   "cell_type": "markdown",
   "metadata": {},
   "source": [
    "First, let's check out the summary statistics and the scatter plot for each data set."
   ]
  },
  {
   "cell_type": "code",
   "execution_count": 12,
   "metadata": {
    "scrolled": false
   },
   "outputs": [
    {
     "name": "stdout",
     "output_type": "stream",
     "text": [
      "Data set 1\n",
      "       dataSet          x          y\n",
      "count     11.0  11.000000  11.000000\n",
      "mean       1.0   9.000000   7.500909\n",
      "std        0.0   3.316625   2.031568\n",
      "min        1.0   4.000000   4.260000\n",
      "25%        1.0   6.500000   6.315000\n",
      "50%        1.0   9.000000   7.580000\n",
      "75%        1.0  11.500000   8.570000\n",
      "max        1.0  14.000000  10.840000\n"
     ]
    },
    {
     "data": {
      "image/png": "[encoded data removed]",
      "text/plain": [
       "<matplotlib.figure.Figure at 0x116747e10>"
      ]
     },
     "metadata": {},
     "output_type": "display_data"
    },
    {
     "name": "stdout",
     "output_type": "stream",
     "text": [
      "\n",
      "Data set 2\n",
      "       dataSet          x          y\n",
      "count     11.0  11.000000  11.000000\n",
      "mean       2.0   9.000000   7.500909\n",
      "std        0.0   3.316625   2.031657\n",
      "min        2.0   4.000000   3.100000\n",
      "25%        2.0   6.500000   6.695000\n",
      "50%        2.0   9.000000   8.140000\n",
      "75%        2.0  11.500000   8.950000\n",
      "max        2.0  14.000000   9.260000\n"
     ]
    },
    {
     "data": {
      "image/png": "[encoded data removed]",
      "text/plain": [
       "<matplotlib.figure.Figure at 0x11684df10>"
      ]
     },
     "metadata": {},
     "output_type": "display_data"
    },
    {
     "name": "stdout",
     "output_type": "stream",
     "text": [
      "\n",
      "Data set 3\n",
      "       dataSet          x          y\n",
      "count     11.0  11.000000  11.000000\n",
      "mean       3.0   9.000000   7.500000\n",
      "std        0.0   3.316625   2.030424\n",
      "min        3.0   4.000000   5.390000\n",
      "25%        3.0   6.500000   6.250000\n",
      "50%        3.0   9.000000   7.110000\n",
      "75%        3.0  11.500000   7.980000\n",
      "max        3.0  14.000000  12.740000\n"
     ]
    },
    {
     "data": {
      "image/png": "[encoded data removed]",
      "text/plain": [
       "<matplotlib.figure.Figure at 0x11697c850>"
      ]
     },
     "metadata": {},
     "output_type": "display_data"
    },
    {
     "name": "stdout",
     "output_type": "stream",
     "text": [
      "\n",
      "Data set 4\n",
      "       dataSet          x          y\n",
      "count     11.0  11.000000  11.000000\n",
      "mean       4.0   9.000000   7.500909\n",
      "std        0.0   3.316625   2.030579\n",
      "min        4.0   8.000000   5.250000\n",
      "25%        4.0   8.000000   6.170000\n",
      "50%        4.0   8.000000   7.040000\n",
      "75%        4.0   8.000000   8.190000\n",
      "max        4.0  19.000000  12.500000\n"
     ]
    },
    {
     "data": {
      "image/png": "[encoded data removed]",
      "text/plain": [
       "<matplotlib.figure.Figure at 0x1167cb490>"
      ]
     },
     "metadata": {},
     "output_type": "display_data"
    },
    {
     "name": "stdout",
     "output_type": "stream",
     "text": [
      "\n"
     ]
    }
   ],
   "source": [
    "for i in range(1, 5):\n",
    "    print \"Data set \" + str(i)\n",
    "    temp = fourdata.loc[fourdata['dataSet'] == i, ] \n",
    "    print temp.describe()\n",
    "    \n",
    "    plt.scatter(temp['x'], temp['y'])\n",
    "    plt.show()\n",
    "    \n",
    "    print \"\""
   ]
  },
  {
   "cell_type": "code",
   "execution_count": 16,
   "metadata": {},
   "outputs": [
    {
     "name": "stdout",
     "output_type": "stream",
     "text": [
      "Whole data set\n",
      "regression function: y = 3.001 * b0 + 0.5 * b1\n",
      "R-squared, adjusted R-squared, and p-value of b1 are 0.666, 0.659, and 0.0 respectively\n",
      "\n",
      "Data set 1\n",
      "regression function: y = 3.0 * b0 + 0.5 * b1\n",
      "R-squared, adjusted R-squared, and p-value of b1 are 0.667, 0.629, and 0.002 respectively\n",
      "\n",
      "Data set 2\n",
      "regression function: y = 3.001 * b0 + 0.5 * b1\n",
      "R-squared, adjusted R-squared, and p-value of b1 are 0.666, 0.629, and 0.002 respectively\n",
      "\n",
      "Data set 3\n",
      "regression function: y = 3.002 * b0 + 0.5 * b1\n",
      "R-squared, adjusted R-squared, and p-value of b1 are 0.666, 0.629, and 0.002 respectively\n",
      "\n",
      "Data set 4\n",
      "regression function: y = 3.002 * b0 + 0.5 * b1\n",
      "R-squared, adjusted R-squared, and p-value of b1 are 0.667, 0.63, and 0.002 respectively\n",
      "\n"
     ]
    }
   ],
   "source": [
    "for i in range(0, 5):\n",
    "    if i == 0:\n",
    "        print 'Whole data set'\n",
    "        X = sm.add_constant(fourdata['x'])\n",
    "        model = sm.OLS(fourdata['y'], X)\n",
    "        results = model.fit()\n",
    "    else: \n",
    "        print \"Data set \" + str(i)\n",
    "        temp = fourdata.loc[fourdata['dataSet'] == i, ]\n",
    "        X = sm.add_constant(temp['x'])\n",
    "        model = sm.OLS(temp['y'], X)\n",
    "        results = model.fit()\n",
    "\n",
    "    print 'regression function: y = ' + str(round(results.params['const'], 3)) + ' * b0 + ' + \\\n",
    "    str(round(results.params['x'], 3)) + ' * b1'\n",
    "    print \"R-squared, adjusted R-squared, and p-value of b1 are %s, %s, and %s respectively\" % \\\n",
    "            (round(results.rsquared, 3), round(results.rsquared_adj, 3), round(results.pvalues['x'], 3))\n",
    "    print ''"
   ]
  },
  {
   "cell_type": "markdown",
   "metadata": {},
   "source": [
    "**Summary:** From the scatter plots, summary statistics, and regression results, we have the following observations:\n",
    "1. Each data set has its unique scatter plot. Data set 1, data set 3, and data set 4 show a linear relationship between x and y, especially for data set 3 and 4 the relationship is almost perfectly linear except for one point. For data set 2, the relationship between x and y is quadratic\n",
    "2. Regarding summary statistics, all four data sets have the same mean and standard deviation for both x and y\n",
    "3. As for regression results, all four data sets have almost the same regression function, p-value of b1, R-squared, and adjusted R-squared. When running the regression on the entire data set, the result is also similar\n",
    "\n",
    "We should keep in mind that even when the underlying relationship between x and y looks rather different for each data set, they can still have very similar summary statistics and regression results. There are several possible explanations for this, including the influence of outliers (data set 3 and 4) and the inappropriately modeled relationship (data set 2). In practice, it's recommended to use a mix of plots and summary statistics to get a good sense of the relationship between the response and the independent variables. Then we can proceed to fit the data with a proper model."
   ]
  }
 ],
 "metadata": {
  "kernelspec": {
   "display_name": "Python 3",
   "language": "python",
   "name": "python3"
  },
  "language_info": {
   "codemirror_mode": {
    "name": "ipython",
    "version": 3
   },
   "file_extension": ".py",
   "mimetype": "text/x-python",
   "name": "python",
   "nbconvert_exporter": "python",
   "pygments_lexer": "ipython3",
   "version": "3.6.1"
  }
 },
 "nbformat": 4,
 "nbformat_minor": 2
}
