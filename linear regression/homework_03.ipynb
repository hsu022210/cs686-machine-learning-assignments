{
 "cells": [
  {
   "cell_type": "code",
   "execution_count": 1,
   "metadata": {},
   "outputs": [
    {
     "name": "stderr",
     "output_type": "stream",
     "text": [
      "/Users/hsu022210/anaconda/lib/python3.6/site-packages/statsmodels/compat/pandas.py:56: FutureWarning: The pandas.core.datetools module is deprecated and will be removed in a future version. Please use the pandas.tseries module instead.\n",
      "  from pandas.core import datetools\n"
     ]
    }
   ],
   "source": [
    "import numpy as np \n",
    "import pandas as pd\n",
    "import seaborn as sns\n",
    "import matplotlib.pyplot as plt \n",
    "%matplotlib inline\n",
    "import statsmodels.formula.api as smf \n",
    "import statsmodels.api as sm\n",
    "import os"
   ]
  },
  {
   "cell_type": "markdown",
   "metadata": {},
   "source": [
    "***"
   ]
  },
  {
   "cell_type": "markdown",
   "metadata": {},
   "source": [
    "<div class=\"alert alert-block alert-danger\">\n",
    "## *Alec Hsu*"
   ]
  },
  {
   "cell_type": "markdown",
   "metadata": {},
   "source": [
    "***"
   ]
  },
  {
   "cell_type": "markdown",
   "metadata": {},
   "source": [
    "# Homework Assignment \\#3"
   ]
  },
  {
   "cell_type": "markdown",
   "metadata": {},
   "source": [
    "*due Thursday, March 6th, 2018 at 12.45pm*"
   ]
  },
  {
   "cell_type": "markdown",
   "metadata": {},
   "source": [
    "### n.b.\n",
    "All deliverables are required to be typed and all graphs and statistical output generated in Jupyter Notebook using Python and associated packages. Deliverables with *any* handwritten elements will not be accepted and will receive a grade of zero. \n",
    "\n",
    "You are required to upload a ```ipynb``` file to **Canvas** as the deliverable. Use the ```homework_03.ipynb``` file as a template and write the answers in text and include relevant code below each question. Print this document, double-sided, staple it, and hand it in on Thursday, March 6th, 2018, at 12.45pm at the beinning of class.  "
   ]
  },
  {
   "cell_type": "markdown",
   "metadata": {},
   "source": [
    "### Question 1"
   ]
  },
  {
   "cell_type": "markdown",
   "metadata": {
    "collapsed": true
   },
   "source": [
    "*Preamble to Question #1*"
   ]
  },
  {
   "cell_type": "code",
   "execution_count": 10,
   "metadata": {
    "collapsed": true
   },
   "outputs": [],
   "source": [
    "faithfulData = sm.datasets.get_rdataset(\"faithful\")\n",
    "df_faithfulData = pd.DataFrame(faithfulData.data)"
   ]
  },
  {
   "cell_type": "markdown",
   "metadata": {},
   "source": [
    "The faithful data set consists of the waiting time between eruptions and the duration of the eruption for the Old Faithful geyser in Yellowstone National Park, Wyoming, USA. Regress waiting on eruptions and evalute the model in totality, i.e., evaluate the quality of the model, citing specific metrics, as well as validating necessary assumptions for the normal error regression model. Discuss, in detail, your approach and your evaluation of the model. Include all appropriate graphs and, if hypothesis tests are run, be certain to include all test details (null and alternative hypotheses, decision rules, p\n",
    "-values and conclusions)."
   ]
  },
  {
   "cell_type": "code",
   "execution_count": 11,
   "metadata": {},
   "outputs": [
    {
     "data": {
      "image/png": "[encoded data removed]",
      "text/plain": [
       "<matplotlib.figure.Figure at 0x111c26c50>"
      ]
     },
     "metadata": {},
     "output_type": "display_data"
    }
   ],
   "source": [
    "faithfulPlot = sns.lmplot('eruptions', 'waiting', data = df_faithfulData)"
   ]
  },
  {
   "cell_type": "markdown",
   "metadata": {},
   "source": [
    "As we can see from the plot, the data is actually roughly linear, though they seems to cluster on two sides."
   ]
  },
  {
   "cell_type": "code",
   "execution_count": 14,
   "metadata": {},
   "outputs": [
    {
     "data": {
      "text/html": [
       "<table class=\"simpletable\">\n",
       "<caption>OLS Regression Results</caption>\n",
       "<tr>\n",
       "  <th>Dep. Variable:</th>         <td>waiting</td>     <th>  R-squared:         </th> <td>   0.811</td> \n",
       "</tr>\n",
       "<tr>\n",
       "  <th>Model:</th>                   <td>OLS</td>       <th>  Adj. R-squared:    </th> <td>   0.811</td> \n",
       "</tr>\n",
       "<tr>\n",
       "  <th>Method:</th>             <td>Least Squares</td>  <th>  F-statistic:       </th> <td>   1162.</td> \n",
       "</tr>\n",
       "<tr>\n",
       "  <th>Date:</th>             <td>Sat, 03 Mar 2018</td> <th>  Prob (F-statistic):</th> <td>8.13e-100</td>\n",
       "</tr>\n",
       "<tr>\n",
       "  <th>Time:</th>                 <td>17:53:46</td>     <th>  Log-Likelihood:    </th> <td> -868.38</td> \n",
       "</tr>\n",
       "<tr>\n",
       "  <th>No. Observations:</th>      <td>   272</td>      <th>  AIC:               </th> <td>   1741.</td> \n",
       "</tr>\n",
       "<tr>\n",
       "  <th>Df Residuals:</th>          <td>   270</td>      <th>  BIC:               </th> <td>   1748.</td> \n",
       "</tr>\n",
       "<tr>\n",
       "  <th>Df Model:</th>              <td>     1</td>      <th>                     </th>     <td> </td>    \n",
       "</tr>\n",
       "<tr>\n",
       "  <th>Covariance Type:</th>      <td>nonrobust</td>    <th>                     </th>     <td> </td>    \n",
       "</tr>\n",
       "</table>\n",
       "<table class=\"simpletable\">\n",
       "<tr>\n",
       "      <td></td>         <th>coef</th>     <th>std err</th>      <th>t</th>      <th>P>|t|</th>  <th>[0.025</th>    <th>0.975]</th>  \n",
       "</tr>\n",
       "<tr>\n",
       "  <th>Intercept</th> <td>   33.4744</td> <td>    1.155</td> <td>   28.985</td> <td> 0.000</td> <td>   31.201</td> <td>   35.748</td>\n",
       "</tr>\n",
       "<tr>\n",
       "  <th>eruptions</th> <td>   10.7296</td> <td>    0.315</td> <td>   34.089</td> <td> 0.000</td> <td>   10.110</td> <td>   11.349</td>\n",
       "</tr>\n",
       "</table>\n",
       "<table class=\"simpletable\">\n",
       "<tr>\n",
       "  <th>Omnibus:</th>       <td> 5.492</td> <th>  Durbin-Watson:     </th> <td>   2.543</td>\n",
       "</tr>\n",
       "<tr>\n",
       "  <th>Prob(Omnibus):</th> <td> 0.064</td> <th>  Jarque-Bera (JB):  </th> <td>   4.683</td>\n",
       "</tr>\n",
       "<tr>\n",
       "  <th>Skew:</th>          <td> 0.237</td> <th>  Prob(JB):          </th> <td>  0.0962</td>\n",
       "</tr>\n",
       "<tr>\n",
       "  <th>Kurtosis:</th>      <td> 2.567</td> <th>  Cond. No.          </th> <td>    12.6</td>\n",
       "</tr>\n",
       "</table>"
      ],
      "text/plain": [
       "<class 'statsmodels.iolib.summary.Summary'>\n",
       "\"\"\"\n",
       "                            OLS Regression Results                            \n",
       "==============================================================================\n",
       "Dep. Variable:                waiting   R-squared:                       0.811\n",
       "Model:                            OLS   Adj. R-squared:                  0.811\n",
       "Method:                 Least Squares   F-statistic:                     1162.\n",
       "Date:                Sat, 03 Mar 2018   Prob (F-statistic):          8.13e-100\n",
       "Time:                        17:53:46   Log-Likelihood:                -868.38\n",
       "No. Observations:                 272   AIC:                             1741.\n",
       "Df Residuals:                     270   BIC:                             1748.\n",
       "Df Model:                           1                                         \n",
       "Covariance Type:            nonrobust                                         \n",
       "==============================================================================\n",
       "                 coef    std err          t      P>|t|      [0.025      0.975]\n",
       "------------------------------------------------------------------------------\n",
       "Intercept     33.4744      1.155     28.985      0.000      31.201      35.748\n",
       "eruptions     10.7296      0.315     34.089      0.000      10.110      11.349\n",
       "==============================================================================\n",
       "Omnibus:                        5.492   Durbin-Watson:                   2.543\n",
       "Prob(Omnibus):                  0.064   Jarque-Bera (JB):                4.683\n",
       "Skew:                           0.237   Prob(JB):                       0.0962\n",
       "Kurtosis:                       2.567   Cond. No.                         12.6\n",
       "==============================================================================\n",
       "\n",
       "Warnings:\n",
       "[1] Standard Errors assume that the covariance matrix of the errors is correctly specified.\n",
       "\"\"\""
      ]
     },
     "execution_count": 14,
     "metadata": {},
     "output_type": "execute_result"
    }
   ],
   "source": [
    "faithfulOLS = sm.OLS.from_formula('waiting ~ eruptions', df_faithfulData)\n",
    "faithfulModel = faithfulOLS.fit()\n",
    "faithfulModel.summary()"
   ]
  },
  {
   "cell_type": "markdown",
   "metadata": {},
   "source": [
    "***"
   ]
  },
  {
   "cell_type": "code",
   "execution_count": 20,
   "metadata": {},
   "outputs": [
    {
     "data": {
      "text/plain": [
       "Intercept     7.136015e-85\n",
       "eruptions    8.129959e-100\n",
       "dtype: float64"
      ]
     },
     "execution_count": 20,
     "metadata": {},
     "output_type": "execute_result"
    }
   ],
   "source": [
    "faithfulModel.pvalues"
   ]
  },
  {
   "cell_type": "markdown",
   "metadata": {},
   "source": [
    "For hypothesis test: \n",
    "    \n",
    "   $H_0: \\beta_1 = 0$\n",
    "    \n",
    "   $H_1: \\beta_1 \\neq 0$\n",
    "\n",
    "With p-value at around 0.000 which is smaller than 0.05, we can conclude that we reject the null hyphothesis."
   ]
  },
  {
   "cell_type": "markdown",
   "metadata": {},
   "source": []
  },
  {
   "cell_type": "markdown",
   "metadata": {},
   "source": [
    "### Question 2"
   ]
  },
  {
   "cell_type": "markdown",
   "metadata": {
    "collapsed": true
   },
   "source": [
    "In 1987, Phillip Ein-Dor and Jacob Feldmesser estimated the relative performance (ERP, #10 in data dictionary) of CPUs in an academic journal paper using linear regression. Import `erpData.csv`, using `header = None` as there is no header in the file. The data dictionary follows:\n",
    "\n",
    "1. Vendor Name\n",
    "2. Model Name\n",
    "3. MYCT: machine cycle time in nanoseconds (integer) \n",
    "4. MMIN: minimum main memory in kilobytes (integer) \n",
    "5. MMAX: maximum main memory in kilobytes (integer) \n",
    "6. CACH: cache memory in kilobytes (integer) \n",
    "7. CHMIN: minimum channels in units (integer) \n",
    "8. CHMAX: maximum channels in units (integer) \n",
    "9. PRP: published relative performance (integer) \n",
    "10. ERP: estimated relative performance from the original article (integer)\n",
    "\n",
    "    (a) Create a correlation matrix or scatterplot matrix of variables 3-10. Identify three explanatory variables you believe would be good predictors of ERP.\n",
    "    \n",
    "    (b) Run three simple linear regression models: $X_1 \\sim Y$, $X_2 \\sim Y$, and $X_3 \\sim Y$. Discuss the merits of each model with supporting evidence, and choose the model which you feel is the most appropriate in predicting ERP."
   ]
  },
  {
   "cell_type": "code",
   "execution_count": 2,
   "metadata": {},
   "outputs": [
    {
     "data": {
      "text/html": [
       "<div>\n",
       "<style>\n",
       "    .dataframe thead tr:only-child th {\n",
       "        text-align: right;\n",
       "    }\n",
       "\n",
       "    .dataframe thead th {\n",
       "        text-align: left;\n",
       "    }\n",
       "\n",
       "    .dataframe tbody tr th {\n",
       "        vertical-align: top;\n",
       "    }\n",
       "</style>\n",
       "<table border=\"1\" class=\"dataframe\">\n",
       "  <thead>\n",
       "    <tr style=\"text-align: right;\">\n",
       "      <th></th>\n",
       "      <th>MYCT</th>\n",
       "      <th>MMIN</th>\n",
       "      <th>MMAX</th>\n",
       "      <th>CACH</th>\n",
       "      <th>CHMIN</th>\n",
       "      <th>CHMAX</th>\n",
       "      <th>PRP</th>\n",
       "      <th>ERP</th>\n",
       "    </tr>\n",
       "  </thead>\n",
       "  <tbody>\n",
       "    <tr>\n",
       "      <th>MYCT</th>\n",
       "      <td>1.000000</td>\n",
       "      <td>-0.335642</td>\n",
       "      <td>-0.378561</td>\n",
       "      <td>-0.321000</td>\n",
       "      <td>-0.301090</td>\n",
       "      <td>-0.250502</td>\n",
       "      <td>-0.307099</td>\n",
       "      <td>-0.288396</td>\n",
       "    </tr>\n",
       "    <tr>\n",
       "      <th>MMIN</th>\n",
       "      <td>-0.335642</td>\n",
       "      <td>1.000000</td>\n",
       "      <td>0.758157</td>\n",
       "      <td>0.534729</td>\n",
       "      <td>0.517189</td>\n",
       "      <td>0.266907</td>\n",
       "      <td>0.794931</td>\n",
       "      <td>0.819292</td>\n",
       "    </tr>\n",
       "    <tr>\n",
       "      <th>MMAX</th>\n",
       "      <td>-0.378561</td>\n",
       "      <td>0.758157</td>\n",
       "      <td>1.000000</td>\n",
       "      <td>0.537990</td>\n",
       "      <td>0.560513</td>\n",
       "      <td>0.527246</td>\n",
       "      <td>0.863004</td>\n",
       "      <td>0.901202</td>\n",
       "    </tr>\n",
       "    <tr>\n",
       "      <th>CACH</th>\n",
       "      <td>-0.321000</td>\n",
       "      <td>0.534729</td>\n",
       "      <td>0.537990</td>\n",
       "      <td>1.000000</td>\n",
       "      <td>0.582245</td>\n",
       "      <td>0.487846</td>\n",
       "      <td>0.662641</td>\n",
       "      <td>0.648620</td>\n",
       "    </tr>\n",
       "    <tr>\n",
       "      <th>CHMIN</th>\n",
       "      <td>-0.301090</td>\n",
       "      <td>0.517189</td>\n",
       "      <td>0.560513</td>\n",
       "      <td>0.582245</td>\n",
       "      <td>1.000000</td>\n",
       "      <td>0.548281</td>\n",
       "      <td>0.608903</td>\n",
       "      <td>0.610580</td>\n",
       "    </tr>\n",
       "    <tr>\n",
       "      <th>CHMAX</th>\n",
       "      <td>-0.250502</td>\n",
       "      <td>0.266907</td>\n",
       "      <td>0.527246</td>\n",
       "      <td>0.487846</td>\n",
       "      <td>0.548281</td>\n",
       "      <td>1.000000</td>\n",
       "      <td>0.605209</td>\n",
       "      <td>0.592156</td>\n",
       "    </tr>\n",
       "    <tr>\n",
       "      <th>PRP</th>\n",
       "      <td>-0.307099</td>\n",
       "      <td>0.794931</td>\n",
       "      <td>0.863004</td>\n",
       "      <td>0.662641</td>\n",
       "      <td>0.608903</td>\n",
       "      <td>0.605209</td>\n",
       "      <td>1.000000</td>\n",
       "      <td>0.966472</td>\n",
       "    </tr>\n",
       "    <tr>\n",
       "      <th>ERP</th>\n",
       "      <td>-0.288396</td>\n",
       "      <td>0.819292</td>\n",
       "      <td>0.901202</td>\n",
       "      <td>0.648620</td>\n",
       "      <td>0.610580</td>\n",
       "      <td>0.592156</td>\n",
       "      <td>0.966472</td>\n",
       "      <td>1.000000</td>\n",
       "    </tr>\n",
       "  </tbody>\n",
       "</table>\n",
       "</div>"
      ],
      "text/plain": [
       "           MYCT      MMIN      MMAX      CACH     CHMIN     CHMAX       PRP  \\\n",
       "MYCT   1.000000 -0.335642 -0.378561 -0.321000 -0.301090 -0.250502 -0.307099   \n",
       "MMIN  -0.335642  1.000000  0.758157  0.534729  0.517189  0.266907  0.794931   \n",
       "MMAX  -0.378561  0.758157  1.000000  0.537990  0.560513  0.527246  0.863004   \n",
       "CACH  -0.321000  0.534729  0.537990  1.000000  0.582245  0.487846  0.662641   \n",
       "CHMIN -0.301090  0.517189  0.560513  0.582245  1.000000  0.548281  0.608903   \n",
       "CHMAX -0.250502  0.266907  0.527246  0.487846  0.548281  1.000000  0.605209   \n",
       "PRP   -0.307099  0.794931  0.863004  0.662641  0.608903  0.605209  1.000000   \n",
       "ERP   -0.288396  0.819292  0.901202  0.648620  0.610580  0.592156  0.966472   \n",
       "\n",
       "            ERP  \n",
       "MYCT  -0.288396  \n",
       "MMIN   0.819292  \n",
       "MMAX   0.901202  \n",
       "CACH   0.648620  \n",
       "CHMIN  0.610580  \n",
       "CHMAX  0.592156  \n",
       "PRP    0.966472  \n",
       "ERP    1.000000  "
      ]
     },
     "execution_count": 2,
     "metadata": {},
     "output_type": "execute_result"
    }
   ],
   "source": [
    "df_erpData = pd.read_csv('erpData.csv', header=None, names = ['Vendorname', 'ModelName', 'MYCT', 'MMIN', 'MMAX', 'CACH', 'CHMIN', 'CHMAX', 'PRP', 'ERP'])\n",
    "df_erpData.loc[:, 'MYCT':'ERP'].corr()\n",
    "# df_erpData.corr()"
   ]
  },
  {
   "cell_type": "markdown",
   "metadata": {},
   "source": [
    "As we can see from the correlation matrix, for ERP the three variables that has highest correlations are PRP, MMAX, and MMIN, which means the strength of their relationship with ERP is relativily strong compare to others."
   ]
  },
  {
   "cell_type": "code",
   "execution_count": 11,
   "metadata": {},
   "outputs": [
    {
     "data": {
      "text/html": [
       "<table class=\"simpletable\">\n",
       "<caption>OLS Regression Results</caption>\n",
       "<tr>\n",
       "  <th>Dep. Variable:</th>           <td>ERP</td>       <th>  R-squared:         </th> <td>   0.934</td> \n",
       "</tr>\n",
       "<tr>\n",
       "  <th>Model:</th>                   <td>OLS</td>       <th>  Adj. R-squared:    </th> <td>   0.934</td> \n",
       "</tr>\n",
       "<tr>\n",
       "  <th>Method:</th>             <td>Least Squares</td>  <th>  F-statistic:       </th> <td>   2933.</td> \n",
       "</tr>\n",
       "<tr>\n",
       "  <th>Date:</th>             <td>Mon, 05 Mar 2018</td> <th>  Prob (F-statistic):</th> <td>3.43e-124</td>\n",
       "</tr>\n",
       "<tr>\n",
       "  <th>Time:</th>                 <td>18:15:07</td>     <th>  Log-Likelihood:    </th> <td> -1065.7</td> \n",
       "</tr>\n",
       "<tr>\n",
       "  <th>No. Observations:</th>      <td>   209</td>      <th>  AIC:               </th> <td>   2135.</td> \n",
       "</tr>\n",
       "<tr>\n",
       "  <th>Df Residuals:</th>          <td>   207</td>      <th>  BIC:               </th> <td>   2142.</td> \n",
       "</tr>\n",
       "<tr>\n",
       "  <th>Df Model:</th>              <td>     1</td>      <th>                     </th>     <td> </td>    \n",
       "</tr>\n",
       "<tr>\n",
       "  <th>Covariance Type:</th>      <td>nonrobust</td>    <th>                     </th>     <td> </td>    \n",
       "</tr>\n",
       "</table>\n",
       "<table class=\"simpletable\">\n",
       "<tr>\n",
       "      <td></td>         <th>coef</th>     <th>std err</th>      <th>t</th>      <th>P>|t|</th>  <th>[0.025</th>    <th>0.975]</th>  \n",
       "</tr>\n",
       "<tr>\n",
       "  <th>Intercept</th> <td>    1.1045</td> <td>    3.299</td> <td>    0.335</td> <td> 0.738</td> <td>   -5.399</td> <td>    7.608</td>\n",
       "</tr>\n",
       "<tr>\n",
       "  <th>PRP</th>       <td>    0.9300</td> <td>    0.017</td> <td>   54.153</td> <td> 0.000</td> <td>    0.896</td> <td>    0.964</td>\n",
       "</tr>\n",
       "</table>\n",
       "<table class=\"simpletable\">\n",
       "<tr>\n",
       "  <th>Omnibus:</th>       <td>56.581</td> <th>  Durbin-Watson:     </th> <td>   1.502</td> \n",
       "</tr>\n",
       "<tr>\n",
       "  <th>Prob(Omnibus):</th> <td> 0.000</td> <th>  Jarque-Bera (JB):  </th> <td> 906.868</td> \n",
       "</tr>\n",
       "<tr>\n",
       "  <th>Skew:</th>          <td>-0.458</td> <th>  Prob(JB):          </th> <td>1.19e-197</td>\n",
       "</tr>\n",
       "<tr>\n",
       "  <th>Kurtosis:</th>      <td>13.164</td> <th>  Cond. No.          </th> <td>    230.</td> \n",
       "</tr>\n",
       "</table>"
      ],
      "text/plain": [
       "<class 'statsmodels.iolib.summary.Summary'>\n",
       "\"\"\"\n",
       "                            OLS Regression Results                            \n",
       "==============================================================================\n",
       "Dep. Variable:                    ERP   R-squared:                       0.934\n",
       "Model:                            OLS   Adj. R-squared:                  0.934\n",
       "Method:                 Least Squares   F-statistic:                     2933.\n",
       "Date:                Mon, 05 Mar 2018   Prob (F-statistic):          3.43e-124\n",
       "Time:                        18:15:07   Log-Likelihood:                -1065.7\n",
       "No. Observations:                 209   AIC:                             2135.\n",
       "Df Residuals:                     207   BIC:                             2142.\n",
       "Df Model:                           1                                         \n",
       "Covariance Type:            nonrobust                                         \n",
       "==============================================================================\n",
       "                 coef    std err          t      P>|t|      [0.025      0.975]\n",
       "------------------------------------------------------------------------------\n",
       "Intercept      1.1045      3.299      0.335      0.738      -5.399       7.608\n",
       "PRP            0.9300      0.017     54.153      0.000       0.896       0.964\n",
       "==============================================================================\n",
       "Omnibus:                       56.581   Durbin-Watson:                   1.502\n",
       "Prob(Omnibus):                  0.000   Jarque-Bera (JB):              906.868\n",
       "Skew:                          -0.458   Prob(JB):                    1.19e-197\n",
       "Kurtosis:                      13.164   Cond. No.                         230.\n",
       "==============================================================================\n",
       "\n",
       "Warnings:\n",
       "[1] Standard Errors assume that the covariance matrix of the errors is correctly specified.\n",
       "\"\"\""
      ]
     },
     "execution_count": 11,
     "metadata": {},
     "output_type": "execute_result"
    }
   ],
   "source": [
    "erpOLS = sm.OLS.from_formula('ERP ~ PRP', df_erpData)\n",
    "erpModel = erpOLS.fit()\n",
    "erpModel.summary()"
   ]
  },
  {
   "cell_type": "code",
   "execution_count": 12,
   "metadata": {},
   "outputs": [
    {
     "data": {
      "text/html": [
       "<table class=\"simpletable\">\n",
       "<caption>OLS Regression Results</caption>\n",
       "<tr>\n",
       "  <th>Dep. Variable:</th>           <td>ERP</td>       <th>  R-squared:         </th> <td>   0.812</td>\n",
       "</tr>\n",
       "<tr>\n",
       "  <th>Model:</th>                   <td>OLS</td>       <th>  Adj. R-squared:    </th> <td>   0.811</td>\n",
       "</tr>\n",
       "<tr>\n",
       "  <th>Method:</th>             <td>Least Squares</td>  <th>  F-statistic:       </th> <td>   895.0</td>\n",
       "</tr>\n",
       "<tr>\n",
       "  <th>Date:</th>             <td>Mon, 05 Mar 2018</td> <th>  Prob (F-statistic):</th> <td>4.21e-77</td>\n",
       "</tr>\n",
       "<tr>\n",
       "  <th>Time:</th>                 <td>18:15:31</td>     <th>  Log-Likelihood:    </th> <td> -1175.1</td>\n",
       "</tr>\n",
       "<tr>\n",
       "  <th>No. Observations:</th>      <td>   209</td>      <th>  AIC:               </th> <td>   2354.</td>\n",
       "</tr>\n",
       "<tr>\n",
       "  <th>Df Residuals:</th>          <td>   207</td>      <th>  BIC:               </th> <td>   2361.</td>\n",
       "</tr>\n",
       "<tr>\n",
       "  <th>Df Model:</th>              <td>     1</td>      <th>                     </th>     <td> </td>   \n",
       "</tr>\n",
       "<tr>\n",
       "  <th>Covariance Type:</th>      <td>nonrobust</td>    <th>                     </th>     <td> </td>   \n",
       "</tr>\n",
       "</table>\n",
       "<table class=\"simpletable\">\n",
       "<tr>\n",
       "      <td></td>         <th>coef</th>     <th>std err</th>      <th>t</th>      <th>P>|t|</th>  <th>[0.025</th>    <th>0.975]</th>  \n",
       "</tr>\n",
       "<tr>\n",
       "  <th>Intercept</th> <td>  -40.9650</td> <td>    6.604</td> <td>   -6.203</td> <td> 0.000</td> <td>  -53.986</td> <td>  -27.944</td>\n",
       "</tr>\n",
       "<tr>\n",
       "  <th>MMAX</th>      <td>    0.0119</td> <td>    0.000</td> <td>   29.917</td> <td> 0.000</td> <td>    0.011</td> <td>    0.013</td>\n",
       "</tr>\n",
       "</table>\n",
       "<table class=\"simpletable\">\n",
       "<tr>\n",
       "  <th>Omnibus:</th>       <td>156.706</td> <th>  Durbin-Watson:     </th> <td>   1.536</td>\n",
       "</tr>\n",
       "<tr>\n",
       "  <th>Prob(Omnibus):</th> <td> 0.000</td>  <th>  Jarque-Bera (JB):  </th> <td>3061.543</td>\n",
       "</tr>\n",
       "<tr>\n",
       "  <th>Skew:</th>          <td> 2.577</td>  <th>  Prob(JB):          </th> <td>    0.00</td>\n",
       "</tr>\n",
       "<tr>\n",
       "  <th>Kurtosis:</th>      <td>21.028</td>  <th>  Cond. No.          </th> <td>2.36e+04</td>\n",
       "</tr>\n",
       "</table>"
      ],
      "text/plain": [
       "<class 'statsmodels.iolib.summary.Summary'>\n",
       "\"\"\"\n",
       "                            OLS Regression Results                            \n",
       "==============================================================================\n",
       "Dep. Variable:                    ERP   R-squared:                       0.812\n",
       "Model:                            OLS   Adj. R-squared:                  0.811\n",
       "Method:                 Least Squares   F-statistic:                     895.0\n",
       "Date:                Mon, 05 Mar 2018   Prob (F-statistic):           4.21e-77\n",
       "Time:                        18:15:31   Log-Likelihood:                -1175.1\n",
       "No. Observations:                 209   AIC:                             2354.\n",
       "Df Residuals:                     207   BIC:                             2361.\n",
       "Df Model:                           1                                         \n",
       "Covariance Type:            nonrobust                                         \n",
       "==============================================================================\n",
       "                 coef    std err          t      P>|t|      [0.025      0.975]\n",
       "------------------------------------------------------------------------------\n",
       "Intercept    -40.9650      6.604     -6.203      0.000     -53.986     -27.944\n",
       "MMAX           0.0119      0.000     29.917      0.000       0.011       0.013\n",
       "==============================================================================\n",
       "Omnibus:                      156.706   Durbin-Watson:                   1.536\n",
       "Prob(Omnibus):                  0.000   Jarque-Bera (JB):             3061.543\n",
       "Skew:                           2.577   Prob(JB):                         0.00\n",
       "Kurtosis:                      21.028   Cond. No.                     2.36e+04\n",
       "==============================================================================\n",
       "\n",
       "Warnings:\n",
       "[1] Standard Errors assume that the covariance matrix of the errors is correctly specified.\n",
       "[2] The condition number is large, 2.36e+04. This might indicate that there are\n",
       "strong multicollinearity or other numerical problems.\n",
       "\"\"\""
      ]
     },
     "execution_count": 12,
     "metadata": {},
     "output_type": "execute_result"
    }
   ],
   "source": [
    "erpOLS = sm.OLS.from_formula('ERP ~ MMAX', df_erpData)\n",
    "erpModel = erpOLS.fit()\n",
    "erpModel.summary()"
   ]
  },
  {
   "cell_type": "code",
   "execution_count": 13,
   "metadata": {},
   "outputs": [
    {
     "data": {
      "text/html": [
       "<table class=\"simpletable\">\n",
       "<caption>OLS Regression Results</caption>\n",
       "<tr>\n",
       "  <th>Dep. Variable:</th>           <td>ERP</td>       <th>  R-squared:         </th> <td>   0.671</td>\n",
       "</tr>\n",
       "<tr>\n",
       "  <th>Model:</th>                   <td>OLS</td>       <th>  Adj. R-squared:    </th> <td>   0.670</td>\n",
       "</tr>\n",
       "<tr>\n",
       "  <th>Method:</th>             <td>Least Squares</td>  <th>  F-statistic:       </th> <td>   422.6</td>\n",
       "</tr>\n",
       "<tr>\n",
       "  <th>Date:</th>             <td>Mon, 05 Mar 2018</td> <th>  Prob (F-statistic):</th> <td>6.70e-52</td>\n",
       "</tr>\n",
       "<tr>\n",
       "  <th>Time:</th>                 <td>18:16:00</td>     <th>  Log-Likelihood:    </th> <td> -1233.6</td>\n",
       "</tr>\n",
       "<tr>\n",
       "  <th>No. Observations:</th>      <td>   209</td>      <th>  AIC:               </th> <td>   2471.</td>\n",
       "</tr>\n",
       "<tr>\n",
       "  <th>Df Residuals:</th>          <td>   207</td>      <th>  BIC:               </th> <td>   2478.</td>\n",
       "</tr>\n",
       "<tr>\n",
       "  <th>Df Model:</th>              <td>     1</td>      <th>                     </th>     <td> </td>   \n",
       "</tr>\n",
       "<tr>\n",
       "  <th>Covariance Type:</th>      <td>nonrobust</td>    <th>                     </th>     <td> </td>   \n",
       "</tr>\n",
       "</table>\n",
       "<table class=\"simpletable\">\n",
       "<tr>\n",
       "      <td></td>         <th>coef</th>     <th>std err</th>      <th>t</th>      <th>P>|t|</th>  <th>[0.025</th>    <th>0.975]</th>  \n",
       "</tr>\n",
       "<tr>\n",
       "  <th>Intercept</th> <td>    5.5795</td> <td>    7.658</td> <td>    0.729</td> <td> 0.467</td> <td>   -9.519</td> <td>   20.678</td>\n",
       "</tr>\n",
       "<tr>\n",
       "  <th>MMIN</th>      <td>    0.0327</td> <td>    0.002</td> <td>   20.558</td> <td> 0.000</td> <td>    0.030</td> <td>    0.036</td>\n",
       "</tr>\n",
       "</table>\n",
       "<table class=\"simpletable\">\n",
       "<tr>\n",
       "  <th>Omnibus:</th>       <td>237.682</td> <th>  Durbin-Watson:     </th> <td>   0.893</td>\n",
       "</tr>\n",
       "<tr>\n",
       "  <th>Prob(Omnibus):</th> <td> 0.000</td>  <th>  Jarque-Bera (JB):  </th> <td>9921.384</td>\n",
       "</tr>\n",
       "<tr>\n",
       "  <th>Skew:</th>          <td> 4.579</td>  <th>  Prob(JB):          </th> <td>    0.00</td>\n",
       "</tr>\n",
       "<tr>\n",
       "  <th>Kurtosis:</th>      <td>35.488</td>  <th>  Cond. No.          </th> <td>6.00e+03</td>\n",
       "</tr>\n",
       "</table>"
      ],
      "text/plain": [
       "<class 'statsmodels.iolib.summary.Summary'>\n",
       "\"\"\"\n",
       "                            OLS Regression Results                            \n",
       "==============================================================================\n",
       "Dep. Variable:                    ERP   R-squared:                       0.671\n",
       "Model:                            OLS   Adj. R-squared:                  0.670\n",
       "Method:                 Least Squares   F-statistic:                     422.6\n",
       "Date:                Mon, 05 Mar 2018   Prob (F-statistic):           6.70e-52\n",
       "Time:                        18:16:00   Log-Likelihood:                -1233.6\n",
       "No. Observations:                 209   AIC:                             2471.\n",
       "Df Residuals:                     207   BIC:                             2478.\n",
       "Df Model:                           1                                         \n",
       "Covariance Type:            nonrobust                                         \n",
       "==============================================================================\n",
       "                 coef    std err          t      P>|t|      [0.025      0.975]\n",
       "------------------------------------------------------------------------------\n",
       "Intercept      5.5795      7.658      0.729      0.467      -9.519      20.678\n",
       "MMIN           0.0327      0.002     20.558      0.000       0.030       0.036\n",
       "==============================================================================\n",
       "Omnibus:                      237.682   Durbin-Watson:                   0.893\n",
       "Prob(Omnibus):                  0.000   Jarque-Bera (JB):             9921.384\n",
       "Skew:                           4.579   Prob(JB):                         0.00\n",
       "Kurtosis:                      35.488   Cond. No.                     6.00e+03\n",
       "==============================================================================\n",
       "\n",
       "Warnings:\n",
       "[1] Standard Errors assume that the covariance matrix of the errors is correctly specified.\n",
       "[2] The condition number is large,  6e+03. This might indicate that there are\n",
       "strong multicollinearity or other numerical problems.\n",
       "\"\"\""
      ]
     },
     "execution_count": 13,
     "metadata": {},
     "output_type": "execute_result"
    }
   ],
   "source": [
    "erpOLS = sm.OLS.from_formula('ERP ~ MMIN', df_erpData)\n",
    "erpModel = erpOLS.fit()\n",
    "erpModel.summary()"
   ]
  },
  {
   "cell_type": "markdown",
   "metadata": {},
   "source": [
    "### Question 3"
   ]
  },
  {
   "cell_type": "markdown",
   "metadata": {
    "collapsed": true
   },
   "source": [
    "An OLS simple linear regression is run and the resulting model is\n",
    "\n",
    "$$\\ln(\\hat{y}) = 12.63 - 3.3\\ln(x)$$\n",
    "\n",
    "$$\\hat{y} = \\begin{equation} e^{12.63 - 3.3\\ln(x)} \\end{equation}$$\n",
    "\n",
    "$$\\hat{y} = \\begin{equation} e^{12.63} x^{-3.3} \\end{equation}$$\n",
    "\n",
    "Interpret the coefficient $b_1$, showing all math where appropriate.\n",
    "\n",
    "An increase in x by 1% will result in a decrease of $\\hat{y}$ by 3.3% on average."
   ]
  },
  {
   "cell_type": "markdown",
   "metadata": {},
   "source": []
  },
  {
   "cell_type": "markdown",
   "metadata": {},
   "source": [
    "### Question 4"
   ]
  },
  {
   "cell_type": "markdown",
   "metadata": {
    "collapsed": true
   },
   "source": [
    "An OLS multiple linear regression is run and the resulting model is\n",
    "\n",
    "$$\\hat{y} = -22.51 - 59x_1 + 445x_2 - x_3$$\n",
    "\n",
    "Interpret the coefficients $b_1$, $b_2$ and $b_3$."
   ]
  },
  {
   "cell_type": "markdown",
   "metadata": {},
   "source": [
    "$b_1$: An increase in x1 by 1 unit will result in decrease in the estimated $\\hat{y}$ variable by 59  on average, when x2 and x3 are held constant.\n",
    " \n",
    "$b_2$: An increase in x2 by 1 unit will result in increase in the estimated $\\hat{y}$ variable by 445  on average, when x1 and x3 are held constant.\n",
    " \n",
    "$b_3$: An increase in x3 by 1 unit will result in increase in the estimated $\\hat{y}$ variable by 1  on average, when x1 and x2 are held constant."
   ]
  },
  {
   "cell_type": "markdown",
   "metadata": {},
   "source": []
  },
  {
   "cell_type": "markdown",
   "metadata": {},
   "source": [
    "### Question 5"
   ]
  },
  {
   "cell_type": "markdown",
   "metadata": {
    "collapsed": true
   },
   "source": [
    "Refer to the ERP data in Question 2. Generate a correlation matrix. Based solely on the correlation matrix and *without* running a MLR model, which three predictors would you select to include in an initial model. Support your decision with evidence."
   ]
  },
  {
   "cell_type": "code",
   "execution_count": 29,
   "metadata": {},
   "outputs": [
    {
     "data": {
      "text/html": [
       "<div>\n",
       "<style>\n",
       "    .dataframe thead tr:only-child th {\n",
       "        text-align: right;\n",
       "    }\n",
       "\n",
       "    .dataframe thead th {\n",
       "        text-align: left;\n",
       "    }\n",
       "\n",
       "    .dataframe tbody tr th {\n",
       "        vertical-align: top;\n",
       "    }\n",
       "</style>\n",
       "<table border=\"1\" class=\"dataframe\">\n",
       "  <thead>\n",
       "    <tr style=\"text-align: right;\">\n",
       "      <th></th>\n",
       "      <th>MYCT</th>\n",
       "      <th>MMIN</th>\n",
       "      <th>MMAX</th>\n",
       "      <th>CACH</th>\n",
       "      <th>CHMIN</th>\n",
       "      <th>CHMAX</th>\n",
       "      <th>PRP</th>\n",
       "      <th>ERP</th>\n",
       "    </tr>\n",
       "  </thead>\n",
       "  <tbody>\n",
       "    <tr>\n",
       "      <th>MYCT</th>\n",
       "      <td>1.000000</td>\n",
       "      <td>-0.335642</td>\n",
       "      <td>-0.378561</td>\n",
       "      <td>-0.321000</td>\n",
       "      <td>-0.301090</td>\n",
       "      <td>-0.250502</td>\n",
       "      <td>-0.307099</td>\n",
       "      <td>-0.288396</td>\n",
       "    </tr>\n",
       "    <tr>\n",
       "      <th>MMIN</th>\n",
       "      <td>-0.335642</td>\n",
       "      <td>1.000000</td>\n",
       "      <td>0.758157</td>\n",
       "      <td>0.534729</td>\n",
       "      <td>0.517189</td>\n",
       "      <td>0.266907</td>\n",
       "      <td>0.794931</td>\n",
       "      <td>0.819292</td>\n",
       "    </tr>\n",
       "    <tr>\n",
       "      <th>MMAX</th>\n",
       "      <td>-0.378561</td>\n",
       "      <td>0.758157</td>\n",
       "      <td>1.000000</td>\n",
       "      <td>0.537990</td>\n",
       "      <td>0.560513</td>\n",
       "      <td>0.527246</td>\n",
       "      <td>0.863004</td>\n",
       "      <td>0.901202</td>\n",
       "    </tr>\n",
       "    <tr>\n",
       "      <th>CACH</th>\n",
       "      <td>-0.321000</td>\n",
       "      <td>0.534729</td>\n",
       "      <td>0.537990</td>\n",
       "      <td>1.000000</td>\n",
       "      <td>0.582245</td>\n",
       "      <td>0.487846</td>\n",
       "      <td>0.662641</td>\n",
       "      <td>0.648620</td>\n",
       "    </tr>\n",
       "    <tr>\n",
       "      <th>CHMIN</th>\n",
       "      <td>-0.301090</td>\n",
       "      <td>0.517189</td>\n",
       "      <td>0.560513</td>\n",
       "      <td>0.582245</td>\n",
       "      <td>1.000000</td>\n",
       "      <td>0.548281</td>\n",
       "      <td>0.608903</td>\n",
       "      <td>0.610580</td>\n",
       "    </tr>\n",
       "    <tr>\n",
       "      <th>CHMAX</th>\n",
       "      <td>-0.250502</td>\n",
       "      <td>0.266907</td>\n",
       "      <td>0.527246</td>\n",
       "      <td>0.487846</td>\n",
       "      <td>0.548281</td>\n",
       "      <td>1.000000</td>\n",
       "      <td>0.605209</td>\n",
       "      <td>0.592156</td>\n",
       "    </tr>\n",
       "    <tr>\n",
       "      <th>PRP</th>\n",
       "      <td>-0.307099</td>\n",
       "      <td>0.794931</td>\n",
       "      <td>0.863004</td>\n",
       "      <td>0.662641</td>\n",
       "      <td>0.608903</td>\n",
       "      <td>0.605209</td>\n",
       "      <td>1.000000</td>\n",
       "      <td>0.966472</td>\n",
       "    </tr>\n",
       "    <tr>\n",
       "      <th>ERP</th>\n",
       "      <td>-0.288396</td>\n",
       "      <td>0.819292</td>\n",
       "      <td>0.901202</td>\n",
       "      <td>0.648620</td>\n",
       "      <td>0.610580</td>\n",
       "      <td>0.592156</td>\n",
       "      <td>0.966472</td>\n",
       "      <td>1.000000</td>\n",
       "    </tr>\n",
       "  </tbody>\n",
       "</table>\n",
       "</div>"
      ],
      "text/plain": [
       "           MYCT      MMIN      MMAX      CACH     CHMIN     CHMAX       PRP  \\\n",
       "MYCT   1.000000 -0.335642 -0.378561 -0.321000 -0.301090 -0.250502 -0.307099   \n",
       "MMIN  -0.335642  1.000000  0.758157  0.534729  0.517189  0.266907  0.794931   \n",
       "MMAX  -0.378561  0.758157  1.000000  0.537990  0.560513  0.527246  0.863004   \n",
       "CACH  -0.321000  0.534729  0.537990  1.000000  0.582245  0.487846  0.662641   \n",
       "CHMIN -0.301090  0.517189  0.560513  0.582245  1.000000  0.548281  0.608903   \n",
       "CHMAX -0.250502  0.266907  0.527246  0.487846  0.548281  1.000000  0.605209   \n",
       "PRP   -0.307099  0.794931  0.863004  0.662641  0.608903  0.605209  1.000000   \n",
       "ERP   -0.288396  0.819292  0.901202  0.648620  0.610580  0.592156  0.966472   \n",
       "\n",
       "            ERP  \n",
       "MYCT  -0.288396  \n",
       "MMIN   0.819292  \n",
       "MMAX   0.901202  \n",
       "CACH   0.648620  \n",
       "CHMIN  0.610580  \n",
       "CHMAX  0.592156  \n",
       "PRP    0.966472  \n",
       "ERP    1.000000  "
      ]
     },
     "execution_count": 29,
     "metadata": {},
     "output_type": "execute_result"
    }
   ],
   "source": [
    "df_erpData.corr()"
   ]
  },
  {
   "cell_type": "markdown",
   "metadata": {},
   "source": [
    "We want three variables that have higher correlation with ERP, but not highly correlated with each others, so I'll go with PRP, MMAX, and MMIN, though I am a little wondering if the relationship betweem PRP and MMIN are a bit highly correlated."
   ]
  },
  {
   "cell_type": "markdown",
   "metadata": {},
   "source": [
    "### Question 6"
   ]
  },
  {
   "cell_type": "markdown",
   "metadata": {},
   "source": [
    "Using both math and words, explain the tradeoffs involved in the calculation of the Adjusted Coefficient of Multiple Determination ($R_a^2$), and how it differs from the Coefficient of Multiple Determination ($R^2$)."
   ]
  },
  {
   "cell_type": "markdown",
   "metadata": {},
   "source": [
    "$R^2 = SSR/SSTO = 1 - SSE/SSTO$\n",
    "\n",
    "$R^2_a = 1 - (SSE/n-p)/(SSTO/n-1) = 1 - (n-1/n-p)(SSE/SSTO)$\n",
    "\n",
    "We cannot unexplain errors, that being said, by adding more variables to the model, the $R^2$ value just going to be larger, never become smaller. However, $R^2_a$ has been adjusted for the number of predictors in the model. It increases only if the new variable improves the model more than would be expected, It decreases when a predictor improves the model by less than expected. So usually we test it out the model result, to see when the model has a smallest gap between $R^2$ and $R^2_a$."
   ]
  },
  {
   "cell_type": "markdown",
   "metadata": {},
   "source": [
    "### Question 7"
   ]
  },
  {
   "cell_type": "markdown",
   "metadata": {},
   "source": [
    "Explain why we need to be cautious of extrapolations in MLR.\n",
    "\n",
    "Since it is MLR, we should not predicting the response to an input which lies outside of the range of the values of the predictor variable used to fit the model, because the real regress funtion might not be the same line that we predict within the range of the values of the predictor variable used."
   ]
  },
  {
   "cell_type": "markdown",
   "metadata": {},
   "source": []
  },
  {
   "cell_type": "markdown",
   "metadata": {},
   "source": [
    "### Question 8"
   ]
  },
  {
   "cell_type": "markdown",
   "metadata": {},
   "source": [
    "Discuss the differences between Type 1 and Type 2 ANOVA Tables. "
   ]
  },
  {
   "cell_type": "markdown",
   "metadata": {},
   "source": [
    "Type 1: Variables are sequentially added to the regression model.\n",
    "\n",
    "Type 2: For each variable, we get a test for adding one of the predictors to a model that includes all other variables."
   ]
  },
  {
   "cell_type": "markdown",
   "metadata": {},
   "source": []
  },
  {
   "cell_type": "markdown",
   "metadata": {},
   "source": [
    "### Question 9"
   ]
  },
  {
   "cell_type": "markdown",
   "metadata": {},
   "source": [
    "Refer to the Figure on slide 333. Discuss the sequential nature of model building, using the Body Fat Example on the slide (data on course website if you would like to explore, but not necessary)."
   ]
  },
  {
   "cell_type": "markdown",
   "metadata": {},
   "source": [
    "When regressing $\\hat{y}$ on only $X_1$, the model is able to explain an SSR=352.27 of SSTO=495.39, \n",
    "\n",
    "when regressing $\\hat{y}$ on only $X_2$, the model is able to explain an SSR=381.97 of SSTO=495.39,\n",
    "\n",
    "when regressing $\\hat{y}$ on only $X_1$ and $X_2$, the model is able to explain an SSR=385.44 of SSTO=495.39.\n",
    "\n",
    "The model is able to explain 3.47 more by taking $X1$ into consideration under the circumstances that $X_2$ is in the model.\n",
    "\n",
    "The model is able to explain 33.17 more by taking $X2$ into consideration under the circumstances that $X_1$ is in the model."
   ]
  },
  {
   "cell_type": "markdown",
   "metadata": {},
   "source": []
  },
  {
   "cell_type": "markdown",
   "metadata": {},
   "source": [
    "### Question 10"
   ]
  },
  {
   "cell_type": "markdown",
   "metadata": {},
   "source": [
    "Using `bodyFat.txt`. Regress `bodyFat` ($Y$) on `tricep` ($X_1$) and `thigh` ($X_2$). Compute the coefficient of partial determination for $X_2|X_1$, i.e., $R_{YX_2|X_1}$. Interpret the result. "
   ]
  },
  {
   "cell_type": "code",
   "execution_count": 32,
   "metadata": {},
   "outputs": [
    {
     "name": "stdout",
     "output_type": "stream",
     "text": [
      "0.231756439537\n"
     ]
    }
   ],
   "source": [
    "bodyFatData = pd.read_csv(\"bodyFat.csv\")\n",
    "bodyFatModel = sm.OLS.from_formula('bodyFat ~ tricep + thigh', bodyFatData).fit()\n",
    "tricepModel = sm.OLS.from_formula('bodyFat ~ tricep', bodyFatData).fit()\n",
    "\n",
    "print((tricepModel.ssr - bodyFatModel.ssr)/tricepModel.ssr)"
   ]
  },
  {
   "cell_type": "markdown",
   "metadata": {},
   "source": [
    "The model is able to explain 0.2317 more by taking $X2$ into consideration under the circumstances that $X_1$ is in the model."
   ]
  },
  {
   "cell_type": "markdown",
   "metadata": {},
   "source": []
  },
  {
   "cell_type": "markdown",
   "metadata": {},
   "source": [
    "### Question 11"
   ]
  },
  {
   "cell_type": "markdown",
   "metadata": {},
   "source": [
    "In the context of polynomial and interaction terms, discuss the hierarchical principle in model building and its implications."
   ]
  },
  {
   "cell_type": "markdown",
   "metadata": {},
   "source": [
    "If a polynomial term exist in the formula, we should keep the related term of lower order in the formula as well, interacton term as well, we should keep all related first order variables.\n",
    "\n",
    "The lower order terms provide basic information about the shape of the responses, higher order  terms provide refinements in the shape of the responses."
   ]
  },
  {
   "cell_type": "markdown",
   "metadata": {},
   "source": []
  },
  {
   "cell_type": "markdown",
   "metadata": {},
   "source": [
    "### Question 12"
   ]
  },
  {
   "cell_type": "markdown",
   "metadata": {},
   "source": [
    "*Preamble*"
   ]
  },
  {
   "cell_type": "code",
   "execution_count": 43,
   "metadata": {
    "collapsed": true
   },
   "outputs": [],
   "source": [
    "womenData = sm.datasets.get_rdataset(\"women\") \n",
    "womenDF = pd.DataFrame(womenData.data)"
   ]
  },
  {
   "cell_type": "markdown",
   "metadata": {},
   "source": [
    "Regress `height` on `weight` and determine whether a quadratic term is appropriate. If not, what about a cubic? Show results and provide evidence for you conclusions. Be sure to verify all modeling assumptions."
   ]
  },
  {
   "cell_type": "code",
   "execution_count": 44,
   "metadata": {},
   "outputs": [
    {
     "data": {
      "image/png": "[encoded data removed]",
      "text/plain": [
       "<matplotlib.figure.Figure at 0x117cc1898>"
      ]
     },
     "metadata": {},
     "output_type": "display_data"
    }
   ],
   "source": [
    "womenPlot = sns.lmplot('weight', 'height', data = womenDF)"
   ]
  },
  {
   "cell_type": "code",
   "execution_count": 70,
   "metadata": {},
   "outputs": [
    {
     "name": "stdout",
     "output_type": "stream",
     "text": [
      "                            OLS Regression Results                            \n",
      "==============================================================================\n",
      "Dep. Variable:                 height   R-squared:                       0.991\n",
      "Model:                            OLS   Adj. R-squared:                  0.990\n",
      "Method:                 Least Squares   F-statistic:                     1433.\n",
      "Date:                Mon, 05 Mar 2018   Prob (F-statistic):           1.09e-14\n",
      "Time:                        22:57:36   Log-Likelihood:                -7.8974\n",
      "No. Observations:                  15   AIC:                             19.79\n",
      "Df Residuals:                      13   BIC:                             21.21\n",
      "Df Model:                           1                                         \n",
      "Covariance Type:            nonrobust                                         \n",
      "==============================================================================\n",
      "                 coef    std err          t      P>|t|      [0.025      0.975]\n",
      "------------------------------------------------------------------------------\n",
      "Intercept     25.7235      1.044     24.645      0.000      23.469      27.978\n",
      "weight         0.2872      0.008     37.855      0.000       0.271       0.304\n",
      "==============================================================================\n",
      "Omnibus:                        1.951   Durbin-Watson:                   0.312\n",
      "Prob(Omnibus):                  0.377   Jarque-Bera (JB):                1.485\n",
      "Skew:                          -0.710   Prob(JB):                        0.476\n",
      "Kurtosis:                       2.397   Cond. No.                     1.26e+03\n",
      "==============================================================================\n",
      "\n",
      "Warnings:\n",
      "[1] Standard Errors assume that the covariance matrix of the errors is correctly specified.\n",
      "[2] The condition number is large, 1.26e+03. This might indicate that there are\n",
      "strong multicollinearity or other numerical problems.\n",
      "277.482753152\n"
     ]
    },
    {
     "name": "stderr",
     "output_type": "stream",
     "text": [
      "/Users/hsu022210/anaconda/lib/python3.6/site-packages/scipy/stats/stats.py:1334: UserWarning: kurtosistest only valid for n>=20 ... continuing anyway, n=15\n",
      "  \"anyway, n=%i\" % int(n))\n"
     ]
    }
   ],
   "source": [
    "womenOLS = sm.OLS.from_formula('height ~ weight', womenDF).fit()\n",
    "print(womenOLS.summary())\n",
    "print(womenOLS.ess)"
   ]
  },
  {
   "cell_type": "code",
   "execution_count": 73,
   "metadata": {},
   "outputs": [
    {
     "name": "stdout",
     "output_type": "stream",
     "text": [
      "                            OLS Regression Results                            \n",
      "==============================================================================\n",
      "Dep. Variable:                 height   R-squared:                       1.000\n",
      "Model:                            OLS   Adj. R-squared:                  1.000\n",
      "Method:                 Least Squares   F-statistic:                 2.732e+04\n",
      "Date:                Mon, 05 Mar 2018   Prob (F-statistic):           1.12e-22\n",
      "Time:                        23:00:39   Log-Likelihood:                 19.943\n",
      "No. Observations:                  15   AIC:                            -33.89\n",
      "Df Residuals:                      12   BIC:                            -31.76\n",
      "Df Model:                           2                                         \n",
      "Covariance Type:            nonrobust                                         \n",
      "=======================================================================================\n",
      "                          coef    std err          t      P>|t|      [0.025      0.975]\n",
      "---------------------------------------------------------------------------------------\n",
      "Intercept             -11.7469      1.720     -6.830      0.000     -15.494      -7.999\n",
      "weight                  0.8343      0.025     33.346      0.000       0.780       0.889\n",
      "np.power(weight, 2)    -0.0020   9.01e-05    -21.892      0.000      -0.002      -0.002\n",
      "==============================================================================\n",
      "Omnibus:                        0.600   Durbin-Watson:                   2.525\n",
      "Prob(Omnibus):                  0.741   Jarque-Bera (JB):                0.303\n",
      "Skew:                           0.327   Prob(JB):                        0.860\n",
      "Kurtosis:                       2.761   Cond. No.                     1.80e+06\n",
      "==============================================================================\n",
      "\n",
      "Warnings:\n",
      "[1] Standard Errors assume that the covariance matrix of the errors is correctly specified.\n",
      "[2] The condition number is large, 1.8e+06. This might indicate that there are\n",
      "strong multicollinearity or other numerical problems.\n",
      "279.938512759\n"
     ]
    },
    {
     "name": "stderr",
     "output_type": "stream",
     "text": [
      "/Users/hsu022210/anaconda/lib/python3.6/site-packages/scipy/stats/stats.py:1334: UserWarning: kurtosistest only valid for n>=20 ... continuing anyway, n=15\n",
      "  \"anyway, n=%i\" % int(n))\n"
     ]
    }
   ],
   "source": [
    "womenOLS = sm.OLS.from_formula('height ~ weight + np.power(weight, 2)', womenDF).fit()\n",
    "print(womenOLS.summary())\n",
    "print(womenOLS.ess)"
   ]
  },
  {
   "cell_type": "markdown",
   "metadata": {},
   "source": [
    "From the two ssr and summarys above, we can see that the R-squared value raised from 0.991 to 1.000, which is good, now that means SSE is 0, every data point is on our regression line!"
   ]
  },
  {
   "cell_type": "markdown",
   "metadata": {},
   "source": []
  },
  {
   "cell_type": "markdown",
   "metadata": {},
   "source": [
    "### Question 13"
   ]
  },
  {
   "cell_type": "markdown",
   "metadata": {},
   "source": [
    "What is the difference between a *reinforcement* and *interference* interaction effect. Provide an eample of each."
   ]
  },
  {
   "cell_type": "markdown",
   "metadata": {},
   "source": [
    "reinforcement: $E\\{Y\\}=10+2X1+5X2+0.5X1X2$\n",
    "\n",
    "interference: $E\\{Y\\}=10+2X1+5X2−0.5X1X2$\n",
    "\n",
    "As we can see, there is a positive linear relationship between $X1$ and $X2$, which means the lines are going to be more seperate from each other on effect plot as $X$ goes larger, on the other hand, there is a negative linear relationship between $X1$ and $X2$, which means the lines are going to be closer to each other even intersect on effect plot as $X$ goes larger."
   ]
  },
  {
   "cell_type": "markdown",
   "metadata": {},
   "source": []
  },
  {
   "cell_type": "markdown",
   "metadata": {},
   "source": [
    "### Question 14"
   ]
  },
  {
   "cell_type": "markdown",
   "metadata": {},
   "source": [
    "Import `advertising.csv`. Fit the best possible regression model using interaction and/or polynomials regressors, if appropriate. Provide an intuition as to why the significant regressors are contextually relevant."
   ]
  },
  {
   "cell_type": "markdown",
   "metadata": {},
   "source": []
  },
  {
   "cell_type": "code",
   "execution_count": 14,
   "metadata": {},
   "outputs": [
    {
     "data": {
      "text/html": [
       "<div>\n",
       "<style>\n",
       "    .dataframe thead tr:only-child th {\n",
       "        text-align: right;\n",
       "    }\n",
       "\n",
       "    .dataframe thead th {\n",
       "        text-align: left;\n",
       "    }\n",
       "\n",
       "    .dataframe tbody tr th {\n",
       "        vertical-align: top;\n",
       "    }\n",
       "</style>\n",
       "<table border=\"1\" class=\"dataframe\">\n",
       "  <thead>\n",
       "    <tr style=\"text-align: right;\">\n",
       "      <th></th>\n",
       "      <th>Unnamed: 0</th>\n",
       "      <th>TV</th>\n",
       "      <th>Radio</th>\n",
       "      <th>Newspaper</th>\n",
       "      <th>Sales</th>\n",
       "    </tr>\n",
       "  </thead>\n",
       "  <tbody>\n",
       "    <tr>\n",
       "      <th>0</th>\n",
       "      <td>1</td>\n",
       "      <td>230.1</td>\n",
       "      <td>37.8</td>\n",
       "      <td>69.2</td>\n",
       "      <td>22.1</td>\n",
       "    </tr>\n",
       "    <tr>\n",
       "      <th>1</th>\n",
       "      <td>2</td>\n",
       "      <td>44.5</td>\n",
       "      <td>39.3</td>\n",
       "      <td>45.1</td>\n",
       "      <td>10.4</td>\n",
       "    </tr>\n",
       "    <tr>\n",
       "      <th>2</th>\n",
       "      <td>3</td>\n",
       "      <td>17.2</td>\n",
       "      <td>45.9</td>\n",
       "      <td>69.3</td>\n",
       "      <td>9.3</td>\n",
       "    </tr>\n",
       "    <tr>\n",
       "      <th>3</th>\n",
       "      <td>4</td>\n",
       "      <td>151.5</td>\n",
       "      <td>41.3</td>\n",
       "      <td>58.5</td>\n",
       "      <td>18.5</td>\n",
       "    </tr>\n",
       "    <tr>\n",
       "      <th>4</th>\n",
       "      <td>5</td>\n",
       "      <td>180.8</td>\n",
       "      <td>10.8</td>\n",
       "      <td>58.4</td>\n",
       "      <td>12.9</td>\n",
       "    </tr>\n",
       "  </tbody>\n",
       "</table>\n",
       "</div>"
      ],
      "text/plain": [
       "   Unnamed: 0     TV  Radio  Newspaper  Sales\n",
       "0           1  230.1   37.8       69.2   22.1\n",
       "1           2   44.5   39.3       45.1   10.4\n",
       "2           3   17.2   45.9       69.3    9.3\n",
       "3           4  151.5   41.3       58.5   18.5\n",
       "4           5  180.8   10.8       58.4   12.9"
      ]
     },
     "execution_count": 14,
     "metadata": {},
     "output_type": "execute_result"
    }
   ],
   "source": [
    "adData = pd.read_csv(\"advertising.csv\")\n",
    "adData.head()"
   ]
  },
  {
   "cell_type": "code",
   "execution_count": 75,
   "metadata": {},
   "outputs": [
    {
     "data": {
      "text/plain": [
       "<seaborn.axisgrid.FacetGrid at 0x1180bcba8>"
      ]
     },
     "execution_count": 75,
     "metadata": {},
     "output_type": "execute_result"
    },
    {
     "data": {
      "image/png": "[encoded data removed]",
      "text/plain": [
       "<matplotlib.figure.Figure at 0x1180bcc18>"
      ]
     },
     "metadata": {},
     "output_type": "display_data"
    }
   ],
   "source": [
    "sns.lmplot('TV', 'Sales', data = adData)"
   ]
  },
  {
   "cell_type": "code",
   "execution_count": 76,
   "metadata": {},
   "outputs": [
    {
     "data": {
      "text/plain": [
       "<seaborn.axisgrid.FacetGrid at 0x1180ca2e8>"
      ]
     },
     "execution_count": 76,
     "metadata": {},
     "output_type": "execute_result"
    },
    {
     "data": {
      "image/png": "[encoded data removed]",
      "text/plain": [
       "<matplotlib.figure.Figure at 0x1181e2d68>"
      ]
     },
     "metadata": {},
     "output_type": "display_data"
    }
   ],
   "source": [
    "sns.lmplot('Radio', 'Sales', data = adData)"
   ]
  },
  {
   "cell_type": "code",
   "execution_count": 77,
   "metadata": {},
   "outputs": [
    {
     "data": {
      "text/plain": [
       "<seaborn.axisgrid.FacetGrid at 0x118264cf8>"
      ]
     },
     "execution_count": 77,
     "metadata": {},
     "output_type": "execute_result"
    },
    {
     "data": {
      "image/png": "[encoded data removed]",
      "text/plain": [
       "<matplotlib.figure.Figure at 0x118264710>"
      ]
     },
     "metadata": {},
     "output_type": "display_data"
    }
   ],
   "source": [
    "sns.lmplot('Newspaper', 'Sales', data = adData)"
   ]
  },
  {
   "cell_type": "markdown",
   "metadata": {},
   "source": [
    "From the three plots above we can see that the Newspaper V.S. Sales is terrible, we can even draw a circle around the data, which is bad for predicting a fitted regression line."
   ]
  },
  {
   "cell_type": "code",
   "execution_count": 80,
   "metadata": {},
   "outputs": [
    {
     "data": {
      "text/html": [
       "<table class=\"simpletable\">\n",
       "<caption>OLS Regression Results</caption>\n",
       "<tr>\n",
       "  <th>Dep. Variable:</th>          <td>Sales</td>      <th>  R-squared:         </th> <td>   0.986</td> \n",
       "</tr>\n",
       "<tr>\n",
       "  <th>Model:</th>                   <td>OLS</td>       <th>  Adj. R-squared:    </th> <td>   0.986</td> \n",
       "</tr>\n",
       "<tr>\n",
       "  <th>Method:</th>             <td>Least Squares</td>  <th>  F-statistic:       </th> <td>   2740.</td> \n",
       "</tr>\n",
       "<tr>\n",
       "  <th>Date:</th>             <td>Mon, 05 Mar 2018</td> <th>  Prob (F-statistic):</th> <td>8.17e-178</td>\n",
       "</tr>\n",
       "<tr>\n",
       "  <th>Time:</th>                 <td>23:26:30</td>     <th>  Log-Likelihood:    </th> <td> -186.54</td> \n",
       "</tr>\n",
       "<tr>\n",
       "  <th>No. Observations:</th>      <td>   200</td>      <th>  AIC:               </th> <td>   385.1</td> \n",
       "</tr>\n",
       "<tr>\n",
       "  <th>Df Residuals:</th>          <td>   194</td>      <th>  BIC:               </th> <td>   404.9</td> \n",
       "</tr>\n",
       "<tr>\n",
       "  <th>Df Model:</th>              <td>     5</td>      <th>                     </th>     <td> </td>    \n",
       "</tr>\n",
       "<tr>\n",
       "  <th>Covariance Type:</th>      <td>nonrobust</td>    <th>                     </th>     <td> </td>    \n",
       "</tr>\n",
       "</table>\n",
       "<table class=\"simpletable\">\n",
       "<tr>\n",
       "           <td></td>             <th>coef</th>     <th>std err</th>      <th>t</th>      <th>P>|t|</th>  <th>[0.025</th>    <th>0.975]</th>  \n",
       "</tr>\n",
       "<tr>\n",
       "  <th>Intercept</th>          <td>    5.1944</td> <td>    0.206</td> <td>   25.202</td> <td> 0.000</td> <td>    4.788</td> <td>    5.601</td>\n",
       "</tr>\n",
       "<tr>\n",
       "  <th>TV</th>                 <td>    0.0510</td> <td>    0.002</td> <td>   22.801</td> <td> 0.000</td> <td>    0.047</td> <td>    0.055</td>\n",
       "</tr>\n",
       "<tr>\n",
       "  <th>Radio</th>              <td>    0.0265</td> <td>    0.012</td> <td>    2.136</td> <td> 0.034</td> <td>    0.002</td> <td>    0.051</td>\n",
       "</tr>\n",
       "<tr>\n",
       "  <th>np.power(TV, 2)</th>    <td>   -0.0001</td> <td>  6.9e-06</td> <td>  -15.914</td> <td> 0.000</td> <td>   -0.000</td> <td>-9.62e-05</td>\n",
       "</tr>\n",
       "<tr>\n",
       "  <th>np.power(Radio, 2)</th> <td>    0.0002</td> <td>    0.000</td> <td>    0.789</td> <td> 0.431</td> <td>   -0.000</td> <td>    0.001</td>\n",
       "</tr>\n",
       "<tr>\n",
       "  <th>TV:Radio</th>           <td>    0.0011</td> <td> 3.48e-05</td> <td>   30.892</td> <td> 0.000</td> <td>    0.001</td> <td>    0.001</td>\n",
       "</tr>\n",
       "</table>\n",
       "<table class=\"simpletable\">\n",
       "<tr>\n",
       "  <th>Omnibus:</th>       <td>170.235</td> <th>  Durbin-Watson:     </th> <td>   2.200</td>\n",
       "</tr>\n",
       "<tr>\n",
       "  <th>Prob(Omnibus):</th> <td> 0.000</td>  <th>  Jarque-Bera (JB):  </th> <td>4115.221</td>\n",
       "</tr>\n",
       "<tr>\n",
       "  <th>Skew:</th>          <td>-2.994</td>  <th>  Prob(JB):          </th> <td>    0.00</td>\n",
       "</tr>\n",
       "<tr>\n",
       "  <th>Kurtosis:</th>      <td>24.400</td>  <th>  Cond. No.          </th> <td>1.81e+05</td>\n",
       "</tr>\n",
       "</table>"
      ],
      "text/plain": [
       "<class 'statsmodels.iolib.summary.Summary'>\n",
       "\"\"\"\n",
       "                            OLS Regression Results                            \n",
       "==============================================================================\n",
       "Dep. Variable:                  Sales   R-squared:                       0.986\n",
       "Model:                            OLS   Adj. R-squared:                  0.986\n",
       "Method:                 Least Squares   F-statistic:                     2740.\n",
       "Date:                Mon, 05 Mar 2018   Prob (F-statistic):          8.17e-178\n",
       "Time:                        23:26:30   Log-Likelihood:                -186.54\n",
       "No. Observations:                 200   AIC:                             385.1\n",
       "Df Residuals:                     194   BIC:                             404.9\n",
       "Df Model:                           5                                         \n",
       "Covariance Type:            nonrobust                                         \n",
       "======================================================================================\n",
       "                         coef    std err          t      P>|t|      [0.025      0.975]\n",
       "--------------------------------------------------------------------------------------\n",
       "Intercept              5.1944      0.206     25.202      0.000       4.788       5.601\n",
       "TV                     0.0510      0.002     22.801      0.000       0.047       0.055\n",
       "Radio                  0.0265      0.012      2.136      0.034       0.002       0.051\n",
       "np.power(TV, 2)       -0.0001    6.9e-06    -15.914      0.000      -0.000   -9.62e-05\n",
       "np.power(Radio, 2)     0.0002      0.000      0.789      0.431      -0.000       0.001\n",
       "TV:Radio               0.0011   3.48e-05     30.892      0.000       0.001       0.001\n",
       "==============================================================================\n",
       "Omnibus:                      170.235   Durbin-Watson:                   2.200\n",
       "Prob(Omnibus):                  0.000   Jarque-Bera (JB):             4115.221\n",
       "Skew:                          -2.994   Prob(JB):                         0.00\n",
       "Kurtosis:                      24.400   Cond. No.                     1.81e+05\n",
       "==============================================================================\n",
       "\n",
       "Warnings:\n",
       "[1] Standard Errors assume that the covariance matrix of the errors is correctly specified.\n",
       "[2] The condition number is large, 1.81e+05. This might indicate that there are\n",
       "strong multicollinearity or other numerical problems.\n",
       "\"\"\""
      ]
     },
     "execution_count": 80,
     "metadata": {},
     "output_type": "execute_result"
    }
   ],
   "source": [
    "adModel = sm.OLS.from_formula(\"Sales ~ TV + Radio + np.power(TV, 2) + np.power(Radio, 2) + TV*Radio\", adData).fit()\n",
    "adModel.summary()"
   ]
  },
  {
   "cell_type": "markdown",
   "metadata": {},
   "source": [
    "### Question 15"
   ]
  },
  {
   "cell_type": "markdown",
   "metadata": {},
   "source": [
    "Import `credit.csv`. Fit the best possible model you can to predict loan `balance`. Be explicit about your coding scheme for the dummy variables.  In your final model, provide insight  as to why the significant regressors are contextually relevant?"
   ]
  },
  {
   "cell_type": "code",
   "execution_count": 23,
   "metadata": {},
   "outputs": [
    {
     "data": {
      "text/html": [
       "<div>\n",
       "<style>\n",
       "    .dataframe thead tr:only-child th {\n",
       "        text-align: right;\n",
       "    }\n",
       "\n",
       "    .dataframe thead th {\n",
       "        text-align: left;\n",
       "    }\n",
       "\n",
       "    .dataframe tbody tr th {\n",
       "        vertical-align: top;\n",
       "    }\n",
       "</style>\n",
       "<table border=\"1\" class=\"dataframe\">\n",
       "  <thead>\n",
       "    <tr style=\"text-align: right;\">\n",
       "      <th></th>\n",
       "      <th>Unnamed: 0</th>\n",
       "      <th>default</th>\n",
       "      <th>student</th>\n",
       "      <th>balance</th>\n",
       "      <th>income</th>\n",
       "    </tr>\n",
       "  </thead>\n",
       "  <tbody>\n",
       "    <tr>\n",
       "      <th>0</th>\n",
       "      <td>1</td>\n",
       "      <td>No</td>\n",
       "      <td>No</td>\n",
       "      <td>729.526495</td>\n",
       "      <td>44361.625074</td>\n",
       "    </tr>\n",
       "    <tr>\n",
       "      <th>1</th>\n",
       "      <td>2</td>\n",
       "      <td>No</td>\n",
       "      <td>Yes</td>\n",
       "      <td>817.180407</td>\n",
       "      <td>12106.134700</td>\n",
       "    </tr>\n",
       "    <tr>\n",
       "      <th>2</th>\n",
       "      <td>3</td>\n",
       "      <td>No</td>\n",
       "      <td>No</td>\n",
       "      <td>1073.549164</td>\n",
       "      <td>31767.138947</td>\n",
       "    </tr>\n",
       "    <tr>\n",
       "      <th>3</th>\n",
       "      <td>4</td>\n",
       "      <td>No</td>\n",
       "      <td>No</td>\n",
       "      <td>529.250605</td>\n",
       "      <td>35704.493935</td>\n",
       "    </tr>\n",
       "    <tr>\n",
       "      <th>4</th>\n",
       "      <td>5</td>\n",
       "      <td>No</td>\n",
       "      <td>No</td>\n",
       "      <td>785.655883</td>\n",
       "      <td>38463.495879</td>\n",
       "    </tr>\n",
       "  </tbody>\n",
       "</table>\n",
       "</div>"
      ],
      "text/plain": [
       "   Unnamed: 0 default student      balance        income\n",
       "0           1      No      No   729.526495  44361.625074\n",
       "1           2      No     Yes   817.180407  12106.134700\n",
       "2           3      No      No  1073.549164  31767.138947\n",
       "3           4      No      No   529.250605  35704.493935\n",
       "4           5      No      No   785.655883  38463.495879"
      ]
     },
     "execution_count": 23,
     "metadata": {},
     "output_type": "execute_result"
    }
   ],
   "source": [
    "cdData = pd.read_csv(\"credit.csv\")\n",
    "cdData.head()"
   ]
  },
  {
   "cell_type": "code",
   "execution_count": 93,
   "metadata": {},
   "outputs": [
    {
     "data": {
      "text/html": [
       "<div>\n",
       "<style>\n",
       "    .dataframe thead tr:only-child th {\n",
       "        text-align: right;\n",
       "    }\n",
       "\n",
       "    .dataframe thead th {\n",
       "        text-align: left;\n",
       "    }\n",
       "\n",
       "    .dataframe tbody tr th {\n",
       "        vertical-align: top;\n",
       "    }\n",
       "</style>\n",
       "<table border=\"1\" class=\"dataframe\">\n",
       "  <thead>\n",
       "    <tr style=\"text-align: right;\">\n",
       "      <th></th>\n",
       "      <th>Unnamed: 0</th>\n",
       "      <th>default</th>\n",
       "      <th>student</th>\n",
       "      <th>balance</th>\n",
       "      <th>income</th>\n",
       "      <th>student_No</th>\n",
       "      <th>student_Yes</th>\n",
       "    </tr>\n",
       "  </thead>\n",
       "  <tbody>\n",
       "    <tr>\n",
       "      <th>0</th>\n",
       "      <td>1</td>\n",
       "      <td>No</td>\n",
       "      <td>No</td>\n",
       "      <td>729.526495</td>\n",
       "      <td>44361.625074</td>\n",
       "      <td>1</td>\n",
       "      <td>0</td>\n",
       "    </tr>\n",
       "    <tr>\n",
       "      <th>1</th>\n",
       "      <td>2</td>\n",
       "      <td>No</td>\n",
       "      <td>Yes</td>\n",
       "      <td>817.180407</td>\n",
       "      <td>12106.134700</td>\n",
       "      <td>0</td>\n",
       "      <td>1</td>\n",
       "    </tr>\n",
       "    <tr>\n",
       "      <th>2</th>\n",
       "      <td>3</td>\n",
       "      <td>No</td>\n",
       "      <td>No</td>\n",
       "      <td>1073.549164</td>\n",
       "      <td>31767.138947</td>\n",
       "      <td>1</td>\n",
       "      <td>0</td>\n",
       "    </tr>\n",
       "    <tr>\n",
       "      <th>3</th>\n",
       "      <td>4</td>\n",
       "      <td>No</td>\n",
       "      <td>No</td>\n",
       "      <td>529.250605</td>\n",
       "      <td>35704.493935</td>\n",
       "      <td>1</td>\n",
       "      <td>0</td>\n",
       "    </tr>\n",
       "    <tr>\n",
       "      <th>4</th>\n",
       "      <td>5</td>\n",
       "      <td>No</td>\n",
       "      <td>No</td>\n",
       "      <td>785.655883</td>\n",
       "      <td>38463.495879</td>\n",
       "      <td>1</td>\n",
       "      <td>0</td>\n",
       "    </tr>\n",
       "  </tbody>\n",
       "</table>\n",
       "</div>"
      ],
      "text/plain": [
       "   Unnamed: 0 default student      balance        income  student_No  \\\n",
       "0           1      No      No   729.526495  44361.625074           1   \n",
       "1           2      No     Yes   817.180407  12106.134700           0   \n",
       "2           3      No      No  1073.549164  31767.138947           1   \n",
       "3           4      No      No   529.250605  35704.493935           1   \n",
       "4           5      No      No   785.655883  38463.495879           1   \n",
       "\n",
       "   student_Yes  \n",
       "0            0  \n",
       "1            1  \n",
       "2            0  \n",
       "3            0  \n",
       "4            0  "
      ]
     },
     "execution_count": 93,
     "metadata": {},
     "output_type": "execute_result"
    }
   ],
   "source": [
    "cdDataNew = cdData.join(pd.get_dummies(cdData['student'], prefix=\"student\"))\n",
    "cdDataNew.head()"
   ]
  },
  {
   "cell_type": "code",
   "execution_count": 90,
   "metadata": {},
   "outputs": [
    {
     "data": {
      "text/plain": [
       "<seaborn.axisgrid.FacetGrid at 0x118bed9b0>"
      ]
     },
     "execution_count": 90,
     "metadata": {},
     "output_type": "execute_result"
    },
    {
     "data": {
      "image/png": "[encoded data removed]",
      "text/plain": [
       "<matplotlib.figure.Figure at 0x118beda20>"
      ]
     },
     "metadata": {},
     "output_type": "display_data"
    }
   ],
   "source": [
    "sns.lmplot('income', 'balance', data = cdDataNew)"
   ]
  },
  {
   "cell_type": "code",
   "execution_count": 94,
   "metadata": {},
   "outputs": [
    {
     "data": {
      "text/plain": [
       "<seaborn.axisgrid.FacetGrid at 0x118c00d30>"
      ]
     },
     "execution_count": 94,
     "metadata": {},
     "output_type": "execute_result"
    },
    {
     "data": {
      "image/png": "[encoded data removed]",
      "text/plain": [
       "<matplotlib.figure.Figure at 0x118c00ac8>"
      ]
     },
     "metadata": {},
     "output_type": "display_data"
    }
   ],
   "source": [
    "sns.lmplot('student_Yes', 'balance', data = cdDataNew)"
   ]
  },
  {
   "cell_type": "markdown",
   "metadata": {},
   "source": []
  },
  {
   "cell_type": "code",
   "execution_count": 110,
   "metadata": {},
   "outputs": [
    {
     "data": {
      "text/html": [
       "<table class=\"simpletable\">\n",
       "<caption>OLS Regression Results</caption>\n",
       "<tr>\n",
       "  <th>Dep. Variable:</th>         <td>balance</td>     <th>  R-squared:         </th> <td>   0.041</td> \n",
       "</tr>\n",
       "<tr>\n",
       "  <th>Model:</th>                   <td>OLS</td>       <th>  Adj. R-squared:    </th> <td>   0.041</td> \n",
       "</tr>\n",
       "<tr>\n",
       "  <th>Method:</th>             <td>Least Squares</td>  <th>  F-statistic:       </th> <td>   216.1</td> \n",
       "</tr>\n",
       "<tr>\n",
       "  <th>Date:</th>             <td>Mon, 05 Mar 2018</td> <th>  Prob (F-statistic):</th> <td>1.28e-92</td> \n",
       "</tr>\n",
       "<tr>\n",
       "  <th>Time:</th>                 <td>23:59:47</td>     <th>  Log-Likelihood:    </th> <td> -75792.</td> \n",
       "</tr>\n",
       "<tr>\n",
       "  <th>No. Observations:</th>      <td> 10000</td>      <th>  AIC:               </th> <td>1.516e+05</td>\n",
       "</tr>\n",
       "<tr>\n",
       "  <th>Df Residuals:</th>          <td>  9997</td>      <th>  BIC:               </th> <td>1.516e+05</td>\n",
       "</tr>\n",
       "<tr>\n",
       "  <th>Df Model:</th>              <td>     2</td>      <th>                     </th>     <td> </td>    \n",
       "</tr>\n",
       "<tr>\n",
       "  <th>Covariance Type:</th>      <td>nonrobust</td>    <th>                     </th>     <td> </td>    \n",
       "</tr>\n",
       "</table>\n",
       "<table class=\"simpletable\">\n",
       "<tr>\n",
       "       <td></td>          <th>coef</th>     <th>std err</th>      <th>t</th>      <th>P>|t|</th>  <th>[0.025</th>    <th>0.975]</th>  \n",
       "</tr>\n",
       "<tr>\n",
       "  <th>Intercept</th>   <td>  767.5623</td> <td>   22.356</td> <td>   34.334</td> <td> 0.000</td> <td>  723.741</td> <td>  811.384</td>\n",
       "</tr>\n",
       "<tr>\n",
       "  <th>income</th>      <td>    0.0001</td> <td>    0.001</td> <td>    0.195</td> <td> 0.846</td> <td>   -0.001</td> <td>    0.001</td>\n",
       "</tr>\n",
       "<tr>\n",
       "  <th>student_Yes</th> <td>  218.3681</td> <td>   15.820</td> <td>   13.804</td> <td> 0.000</td> <td>  187.358</td> <td>  249.378</td>\n",
       "</tr>\n",
       "</table>\n",
       "<table class=\"simpletable\">\n",
       "<tr>\n",
       "  <th>Omnibus:</th>       <td>170.544</td> <th>  Durbin-Watson:     </th> <td>   2.014</td>\n",
       "</tr>\n",
       "<tr>\n",
       "  <th>Prob(Omnibus):</th> <td> 0.000</td>  <th>  Jarque-Bera (JB):  </th> <td> 147.115</td>\n",
       "</tr>\n",
       "<tr>\n",
       "  <th>Skew:</th>          <td> 0.238</td>  <th>  Prob(JB):          </th> <td>1.13e-32</td>\n",
       "</tr>\n",
       "<tr>\n",
       "  <th>Kurtosis:</th>      <td> 2.644</td>  <th>  Cond. No.          </th> <td>2.00e+05</td>\n",
       "</tr>\n",
       "</table>"
      ],
      "text/plain": [
       "<class 'statsmodels.iolib.summary.Summary'>\n",
       "\"\"\"\n",
       "                            OLS Regression Results                            \n",
       "==============================================================================\n",
       "Dep. Variable:                balance   R-squared:                       0.041\n",
       "Model:                            OLS   Adj. R-squared:                  0.041\n",
       "Method:                 Least Squares   F-statistic:                     216.1\n",
       "Date:                Mon, 05 Mar 2018   Prob (F-statistic):           1.28e-92\n",
       "Time:                        23:59:47   Log-Likelihood:                -75792.\n",
       "No. Observations:               10000   AIC:                         1.516e+05\n",
       "Df Residuals:                    9997   BIC:                         1.516e+05\n",
       "Df Model:                           2                                         \n",
       "Covariance Type:            nonrobust                                         \n",
       "===============================================================================\n",
       "                  coef    std err          t      P>|t|      [0.025      0.975]\n",
       "-------------------------------------------------------------------------------\n",
       "Intercept     767.5623     22.356     34.334      0.000     723.741     811.384\n",
       "income          0.0001      0.001      0.195      0.846      -0.001       0.001\n",
       "student_Yes   218.3681     15.820     13.804      0.000     187.358     249.378\n",
       "==============================================================================\n",
       "Omnibus:                      170.544   Durbin-Watson:                   2.014\n",
       "Prob(Omnibus):                  0.000   Jarque-Bera (JB):              147.115\n",
       "Skew:                           0.238   Prob(JB):                     1.13e-32\n",
       "Kurtosis:                       2.644   Cond. No.                     2.00e+05\n",
       "==============================================================================\n",
       "\n",
       "Warnings:\n",
       "[1] Standard Errors assume that the covariance matrix of the errors is correctly specified.\n",
       "[2] The condition number is large,  2e+05. This might indicate that there are\n",
       "strong multicollinearity or other numerical problems.\n",
       "\"\"\""
      ]
     },
     "execution_count": 110,
     "metadata": {},
     "output_type": "execute_result"
    }
   ],
   "source": [
    "cdDataModel = sm.OLS.from_formula('balance ~ income + student_Yes', cdDataNew).fit()\n",
    "cdDataModel.summary()"
   ]
  },
  {
   "cell_type": "markdown",
   "metadata": {},
   "source": [
    "### Question 16"
   ]
  },
  {
   "cell_type": "markdown",
   "metadata": {},
   "source": [
    "Code up a backward elimination algorithm, which begins with a regression model that contains all avaiable explanatory variables in the model, and eliminates them sequentially (*one at a time*), until the $p$-values of remaining variables are all below a threshold value, in this case, &\\alpha = 0.05$.\n",
    "\n",
    "Import `mlb_01.csv`. Regress `Salary` on all other variables except `Player`. Explicitly state the coding scheme you employ for all dummy variables. Using the abovementioned algorithm, find a purely additive regression model. Discuss and interpret the merits of this model. \n",
    "\n",
    "Using the model identified by the backward elimination algorithm as a baseline, begin to test polynomial and interaction terms you think may be appropriate for this model. Settle on a final model which you believe is the best possible mode you can build to rpedict `Salary` using the e"
   ]
  },
  {
   "cell_type": "markdown",
   "metadata": {},
   "source": [
    "By removing every variable that has a p-value higher than 0.05, we have \"Japanese\", \"Experience\", and \"HR\" in our model as explanatory variables."
   ]
  },
  {
   "cell_type": "code",
   "execution_count": 97,
   "metadata": {},
   "outputs": [
    {
     "data": {
      "text/html": [
       "<div>\n",
       "<style>\n",
       "    .dataframe thead tr:only-child th {\n",
       "        text-align: right;\n",
       "    }\n",
       "\n",
       "    .dataframe thead th {\n",
       "        text-align: left;\n",
       "    }\n",
       "\n",
       "    .dataframe tbody tr th {\n",
       "        vertical-align: top;\n",
       "    }\n",
       "</style>\n",
       "<table border=\"1\" class=\"dataframe\">\n",
       "  <thead>\n",
       "    <tr style=\"text-align: right;\">\n",
       "      <th></th>\n",
       "      <th>Player</th>\n",
       "      <th>Salary</th>\n",
       "      <th>Experience</th>\n",
       "      <th>Japanese</th>\n",
       "      <th>Dominican</th>\n",
       "      <th>HR</th>\n",
       "      <th>League</th>\n",
       "      <th>Position.Name</th>\n",
       "    </tr>\n",
       "  </thead>\n",
       "  <tbody>\n",
       "    <tr>\n",
       "      <th>0</th>\n",
       "      <td>Tracy, Chad</td>\n",
       "      <td>5000000</td>\n",
       "      <td>4</td>\n",
       "      <td>0</td>\n",
       "      <td>0</td>\n",
       "      <td>8</td>\n",
       "      <td>National</td>\n",
       "      <td>Infielder</td>\n",
       "    </tr>\n",
       "    <tr>\n",
       "      <th>1</th>\n",
       "      <td>Buscher, Brian</td>\n",
       "      <td>412500</td>\n",
       "      <td>0</td>\n",
       "      <td>0</td>\n",
       "      <td>0</td>\n",
       "      <td>4</td>\n",
       "      <td>American</td>\n",
       "      <td>Infielder</td>\n",
       "    </tr>\n",
       "    <tr>\n",
       "      <th>2</th>\n",
       "      <td>Bautista, Jose A.</td>\n",
       "      <td>2400000</td>\n",
       "      <td>3</td>\n",
       "      <td>0</td>\n",
       "      <td>1</td>\n",
       "      <td>15</td>\n",
       "      <td>American</td>\n",
       "      <td>Infielder</td>\n",
       "    </tr>\n",
       "    <tr>\n",
       "      <th>3</th>\n",
       "      <td>Roberts, Ryan</td>\n",
       "      <td>400000</td>\n",
       "      <td>0</td>\n",
       "      <td>0</td>\n",
       "      <td>0</td>\n",
       "      <td>0</td>\n",
       "      <td>National</td>\n",
       "      <td>Infielder</td>\n",
       "    </tr>\n",
       "    <tr>\n",
       "      <th>4</th>\n",
       "      <td>Matsui, Hideki</td>\n",
       "      <td>13000000</td>\n",
       "      <td>6</td>\n",
       "      <td>1</td>\n",
       "      <td>0</td>\n",
       "      <td>9</td>\n",
       "      <td>American</td>\n",
       "      <td>Outfielder</td>\n",
       "    </tr>\n",
       "  </tbody>\n",
       "</table>\n",
       "</div>"
      ],
      "text/plain": [
       "              Player    Salary  Experience  Japanese  Dominican  HR    League  \\\n",
       "0        Tracy, Chad   5000000           4         0          0   8  National   \n",
       "1     Buscher, Brian    412500           0         0          0   4  American   \n",
       "2  Bautista, Jose A.   2400000           3         0          1  15  American   \n",
       "3      Roberts, Ryan    400000           0         0          0   0  National   \n",
       "4     Matsui, Hideki  13000000           6         1          0   9  American   \n",
       "\n",
       "  Position.Name  \n",
       "0     Infielder  \n",
       "1     Infielder  \n",
       "2     Infielder  \n",
       "3     Infielder  \n",
       "4    Outfielder  "
      ]
     },
     "execution_count": 97,
     "metadata": {},
     "output_type": "execute_result"
    }
   ],
   "source": [
    "mlbData = pd.read_csv(\"mlb_01.csv\")\n",
    "mlbData.head()"
   ]
  },
  {
   "cell_type": "code",
   "execution_count": 122,
   "metadata": {},
   "outputs": [
    {
     "data": {
      "text/html": [
       "<table class=\"simpletable\">\n",
       "<caption>OLS Regression Results</caption>\n",
       "<tr>\n",
       "  <th>Dep. Variable:</th>         <td>Salary</td>      <th>  R-squared:         </th> <td>   0.578</td>\n",
       "</tr>\n",
       "<tr>\n",
       "  <th>Model:</th>                   <td>OLS</td>       <th>  Adj. R-squared:    </th> <td>   0.567</td>\n",
       "</tr>\n",
       "<tr>\n",
       "  <th>Method:</th>             <td>Least Squares</td>  <th>  F-statistic:       </th> <td>   53.17</td>\n",
       "</tr>\n",
       "<tr>\n",
       "  <th>Date:</th>             <td>Tue, 06 Mar 2018</td> <th>  Prob (F-statistic):</th> <td>1.44e-34</td>\n",
       "</tr>\n",
       "<tr>\n",
       "  <th>Time:</th>                 <td>00:06:21</td>     <th>  Log-Likelihood:    </th> <td> -3277.0</td>\n",
       "</tr>\n",
       "<tr>\n",
       "  <th>No. Observations:</th>      <td>   200</td>      <th>  AIC:               </th> <td>   6566.</td>\n",
       "</tr>\n",
       "<tr>\n",
       "  <th>Df Residuals:</th>          <td>   194</td>      <th>  BIC:               </th> <td>   6586.</td>\n",
       "</tr>\n",
       "<tr>\n",
       "  <th>Df Model:</th>              <td>     5</td>      <th>                     </th>     <td> </td>   \n",
       "</tr>\n",
       "<tr>\n",
       "  <th>Covariance Type:</th>      <td>nonrobust</td>    <th>                     </th>     <td> </td>   \n",
       "</tr>\n",
       "</table>\n",
       "<table class=\"simpletable\">\n",
       "<tr>\n",
       "            <td></td>               <th>coef</th>     <th>std err</th>      <th>t</th>      <th>P>|t|</th>  <th>[0.025</th>    <th>0.975]</th>  \n",
       "</tr>\n",
       "<tr>\n",
       "  <th>Intercept</th>             <td>-1.439e+06</td> <td> 4.78e+05</td> <td>   -3.010</td> <td> 0.003</td> <td>-2.38e+06</td> <td>-4.96e+05</td>\n",
       "</tr>\n",
       "<tr>\n",
       "  <th>C(League)[T.National]</th> <td> 3.618e+05</td> <td>  4.6e+05</td> <td>    0.786</td> <td> 0.433</td> <td>-5.46e+05</td> <td> 1.27e+06</td>\n",
       "</tr>\n",
       "<tr>\n",
       "  <th>Experience</th>            <td> 5.675e+05</td> <td> 6.11e+04</td> <td>    9.289</td> <td> 0.000</td> <td> 4.47e+05</td> <td> 6.88e+05</td>\n",
       "</tr>\n",
       "<tr>\n",
       "  <th>Japanese</th>              <td> 9.996e+06</td> <td> 2.28e+06</td> <td>    4.380</td> <td> 0.000</td> <td> 5.49e+06</td> <td> 1.45e+07</td>\n",
       "</tr>\n",
       "<tr>\n",
       "  <th>Dominican</th>             <td> 1.066e+06</td> <td> 7.03e+05</td> <td>    1.516</td> <td> 0.131</td> <td>-3.21e+05</td> <td> 2.45e+06</td>\n",
       "</tr>\n",
       "<tr>\n",
       "  <th>HR</th>                    <td> 2.132e+05</td> <td> 2.26e+04</td> <td>    9.452</td> <td> 0.000</td> <td> 1.69e+05</td> <td> 2.58e+05</td>\n",
       "</tr>\n",
       "</table>\n",
       "<table class=\"simpletable\">\n",
       "<tr>\n",
       "  <th>Omnibus:</th>       <td>67.368</td> <th>  Durbin-Watson:     </th> <td>   2.055</td>\n",
       "</tr>\n",
       "<tr>\n",
       "  <th>Prob(Omnibus):</th> <td> 0.000</td> <th>  Jarque-Bera (JB):  </th> <td> 248.895</td>\n",
       "</tr>\n",
       "<tr>\n",
       "  <th>Skew:</th>          <td> 1.310</td> <th>  Prob(JB):          </th> <td>8.98e-55</td>\n",
       "</tr>\n",
       "<tr>\n",
       "  <th>Kurtosis:</th>      <td> 7.796</td> <th>  Cond. No.          </th> <td>    156.</td>\n",
       "</tr>\n",
       "</table>"
      ],
      "text/plain": [
       "<class 'statsmodels.iolib.summary.Summary'>\n",
       "\"\"\"\n",
       "                            OLS Regression Results                            \n",
       "==============================================================================\n",
       "Dep. Variable:                 Salary   R-squared:                       0.578\n",
       "Model:                            OLS   Adj. R-squared:                  0.567\n",
       "Method:                 Least Squares   F-statistic:                     53.17\n",
       "Date:                Tue, 06 Mar 2018   Prob (F-statistic):           1.44e-34\n",
       "Time:                        00:06:21   Log-Likelihood:                -3277.0\n",
       "No. Observations:                 200   AIC:                             6566.\n",
       "Df Residuals:                     194   BIC:                             6586.\n",
       "Df Model:                           5                                         \n",
       "Covariance Type:            nonrobust                                         \n",
       "=========================================================================================\n",
       "                            coef    std err          t      P>|t|      [0.025      0.975]\n",
       "-----------------------------------------------------------------------------------------\n",
       "Intercept             -1.439e+06   4.78e+05     -3.010      0.003   -2.38e+06   -4.96e+05\n",
       "C(League)[T.National]  3.618e+05    4.6e+05      0.786      0.433   -5.46e+05    1.27e+06\n",
       "Experience             5.675e+05   6.11e+04      9.289      0.000    4.47e+05    6.88e+05\n",
       "Japanese               9.996e+06   2.28e+06      4.380      0.000    5.49e+06    1.45e+07\n",
       "Dominican              1.066e+06   7.03e+05      1.516      0.131   -3.21e+05    2.45e+06\n",
       "HR                     2.132e+05   2.26e+04      9.452      0.000    1.69e+05    2.58e+05\n",
       "==============================================================================\n",
       "Omnibus:                       67.368   Durbin-Watson:                   2.055\n",
       "Prob(Omnibus):                  0.000   Jarque-Bera (JB):              248.895\n",
       "Skew:                           1.310   Prob(JB):                     8.98e-55\n",
       "Kurtosis:                       7.796   Cond. No.                         156.\n",
       "==============================================================================\n",
       "\n",
       "Warnings:\n",
       "[1] Standard Errors assume that the covariance matrix of the errors is correctly specified.\n",
       "\"\"\""
      ]
     },
     "execution_count": 122,
     "metadata": {},
     "output_type": "execute_result"
    }
   ],
   "source": [
    "mlbDataModel = sm.OLS.from_formula('Salary ~ Experience + Japanese + Dominican + HR + C(League)', mlbData).fit()\n",
    "mlbDataModel.summary()"
   ]
  },
  {
   "cell_type": "code",
   "execution_count": 111,
   "metadata": {},
   "outputs": [
    {
     "data": {
      "text/html": [
       "<table class=\"simpletable\">\n",
       "<caption>OLS Regression Results</caption>\n",
       "<tr>\n",
       "  <th>Dep. Variable:</th>         <td>Salary</td>      <th>  R-squared:         </th> <td>   0.577</td>\n",
       "</tr>\n",
       "<tr>\n",
       "  <th>Model:</th>                   <td>OLS</td>       <th>  Adj. R-squared:    </th> <td>   0.568</td>\n",
       "</tr>\n",
       "<tr>\n",
       "  <th>Method:</th>             <td>Least Squares</td>  <th>  F-statistic:       </th> <td>   66.43</td>\n",
       "</tr>\n",
       "<tr>\n",
       "  <th>Date:</th>             <td>Tue, 06 Mar 2018</td> <th>  Prob (F-statistic):</th> <td>2.24e-35</td>\n",
       "</tr>\n",
       "<tr>\n",
       "  <th>Time:</th>                 <td>00:00:07</td>     <th>  Log-Likelihood:    </th> <td> -3277.3</td>\n",
       "</tr>\n",
       "<tr>\n",
       "  <th>No. Observations:</th>      <td>   200</td>      <th>  AIC:               </th> <td>   6565.</td>\n",
       "</tr>\n",
       "<tr>\n",
       "  <th>Df Residuals:</th>          <td>   195</td>      <th>  BIC:               </th> <td>   6581.</td>\n",
       "</tr>\n",
       "<tr>\n",
       "  <th>Df Model:</th>              <td>     4</td>      <th>                     </th>     <td> </td>   \n",
       "</tr>\n",
       "<tr>\n",
       "  <th>Covariance Type:</th>      <td>nonrobust</td>    <th>                     </th>     <td> </td>   \n",
       "</tr>\n",
       "</table>\n",
       "<table class=\"simpletable\">\n",
       "<tr>\n",
       "       <td></td>         <th>coef</th>     <th>std err</th>      <th>t</th>      <th>P>|t|</th>  <th>[0.025</th>    <th>0.975]</th>  \n",
       "</tr>\n",
       "<tr>\n",
       "  <th>Intercept</th>  <td>-1.214e+06</td> <td> 3.82e+05</td> <td>   -3.176</td> <td> 0.002</td> <td>-1.97e+06</td> <td> -4.6e+05</td>\n",
       "</tr>\n",
       "<tr>\n",
       "  <th>Experience</th> <td> 5.656e+05</td> <td>  6.1e+04</td> <td>    9.274</td> <td> 0.000</td> <td> 4.45e+05</td> <td> 6.86e+05</td>\n",
       "</tr>\n",
       "<tr>\n",
       "  <th>Japanese</th>   <td> 9.963e+06</td> <td> 2.28e+06</td> <td>    4.370</td> <td> 0.000</td> <td> 5.47e+06</td> <td> 1.45e+07</td>\n",
       "</tr>\n",
       "<tr>\n",
       "  <th>Dominican</th>  <td> 1.038e+06</td> <td> 7.01e+05</td> <td>    1.480</td> <td> 0.141</td> <td>-3.46e+05</td> <td> 2.42e+06</td>\n",
       "</tr>\n",
       "<tr>\n",
       "  <th>HR</th>         <td> 2.127e+05</td> <td> 2.25e+04</td> <td>    9.444</td> <td> 0.000</td> <td> 1.68e+05</td> <td> 2.57e+05</td>\n",
       "</tr>\n",
       "</table>\n",
       "<table class=\"simpletable\">\n",
       "<tr>\n",
       "  <th>Omnibus:</th>       <td>64.648</td> <th>  Durbin-Watson:     </th> <td>   2.029</td>\n",
       "</tr>\n",
       "<tr>\n",
       "  <th>Prob(Omnibus):</th> <td> 0.000</td> <th>  Jarque-Bera (JB):  </th> <td> 225.508</td>\n",
       "</tr>\n",
       "<tr>\n",
       "  <th>Skew:</th>          <td> 1.274</td> <th>  Prob(JB):          </th> <td>1.08e-49</td>\n",
       "</tr>\n",
       "<tr>\n",
       "  <th>Kurtosis:</th>      <td> 7.535</td> <th>  Cond. No.          </th> <td>    156.</td>\n",
       "</tr>\n",
       "</table>"
      ],
      "text/plain": [
       "<class 'statsmodels.iolib.summary.Summary'>\n",
       "\"\"\"\n",
       "                            OLS Regression Results                            \n",
       "==============================================================================\n",
       "Dep. Variable:                 Salary   R-squared:                       0.577\n",
       "Model:                            OLS   Adj. R-squared:                  0.568\n",
       "Method:                 Least Squares   F-statistic:                     66.43\n",
       "Date:                Tue, 06 Mar 2018   Prob (F-statistic):           2.24e-35\n",
       "Time:                        00:00:07   Log-Likelihood:                -3277.3\n",
       "No. Observations:                 200   AIC:                             6565.\n",
       "Df Residuals:                     195   BIC:                             6581.\n",
       "Df Model:                           4                                         \n",
       "Covariance Type:            nonrobust                                         \n",
       "==============================================================================\n",
       "                 coef    std err          t      P>|t|      [0.025      0.975]\n",
       "------------------------------------------------------------------------------\n",
       "Intercept  -1.214e+06   3.82e+05     -3.176      0.002   -1.97e+06    -4.6e+05\n",
       "Experience  5.656e+05    6.1e+04      9.274      0.000    4.45e+05    6.86e+05\n",
       "Japanese    9.963e+06   2.28e+06      4.370      0.000    5.47e+06    1.45e+07\n",
       "Dominican   1.038e+06   7.01e+05      1.480      0.141   -3.46e+05    2.42e+06\n",
       "HR          2.127e+05   2.25e+04      9.444      0.000    1.68e+05    2.57e+05\n",
       "==============================================================================\n",
       "Omnibus:                       64.648   Durbin-Watson:                   2.029\n",
       "Prob(Omnibus):                  0.000   Jarque-Bera (JB):              225.508\n",
       "Skew:                           1.274   Prob(JB):                     1.08e-49\n",
       "Kurtosis:                       7.535   Cond. No.                         156.\n",
       "==============================================================================\n",
       "\n",
       "Warnings:\n",
       "[1] Standard Errors assume that the covariance matrix of the errors is correctly specified.\n",
       "\"\"\""
      ]
     },
     "execution_count": 111,
     "metadata": {},
     "output_type": "execute_result"
    }
   ],
   "source": [
    "mlbDataModel = sm.OLS.from_formula('Salary ~ Experience + Japanese + Dominican + HR', mlbData).fit()\n",
    "mlbDataModel.summary()"
   ]
  },
  {
   "cell_type": "code",
   "execution_count": 129,
   "metadata": {},
   "outputs": [
    {
     "data": {
      "text/html": [
       "<table class=\"simpletable\">\n",
       "<caption>OLS Regression Results</caption>\n",
       "<tr>\n",
       "  <th>Dep. Variable:</th>         <td>Salary</td>      <th>  R-squared:         </th> <td>   0.572</td>\n",
       "</tr>\n",
       "<tr>\n",
       "  <th>Model:</th>                   <td>OLS</td>       <th>  Adj. R-squared:    </th> <td>   0.565</td>\n",
       "</tr>\n",
       "<tr>\n",
       "  <th>Method:</th>             <td>Least Squares</td>  <th>  F-statistic:       </th> <td>   87.32</td>\n",
       "</tr>\n",
       "<tr>\n",
       "  <th>Date:</th>             <td>Tue, 06 Mar 2018</td> <th>  Prob (F-statistic):</th> <td>6.46e-36</td>\n",
       "</tr>\n",
       "<tr>\n",
       "  <th>Time:</th>                 <td>00:16:38</td>     <th>  Log-Likelihood:    </th> <td> -3278.4</td>\n",
       "</tr>\n",
       "<tr>\n",
       "  <th>No. Observations:</th>      <td>   200</td>      <th>  AIC:               </th> <td>   6565.</td>\n",
       "</tr>\n",
       "<tr>\n",
       "  <th>Df Residuals:</th>          <td>   196</td>      <th>  BIC:               </th> <td>   6578.</td>\n",
       "</tr>\n",
       "<tr>\n",
       "  <th>Df Model:</th>              <td>     3</td>      <th>                     </th>     <td> </td>   \n",
       "</tr>\n",
       "<tr>\n",
       "  <th>Covariance Type:</th>      <td>nonrobust</td>    <th>                     </th>     <td> </td>   \n",
       "</tr>\n",
       "</table>\n",
       "<table class=\"simpletable\">\n",
       "<tr>\n",
       "       <td></td>         <th>coef</th>     <th>std err</th>      <th>t</th>      <th>P>|t|</th>  <th>[0.025</th>    <th>0.975]</th>  \n",
       "</tr>\n",
       "<tr>\n",
       "  <th>Intercept</th>  <td>-1.127e+06</td> <td> 3.79e+05</td> <td>   -2.976</td> <td> 0.003</td> <td>-1.87e+06</td> <td> -3.8e+05</td>\n",
       "</tr>\n",
       "<tr>\n",
       "  <th>Experience</th> <td> 5.739e+05</td> <td> 6.09e+04</td> <td>    9.421</td> <td> 0.000</td> <td> 4.54e+05</td> <td> 6.94e+05</td>\n",
       "</tr>\n",
       "<tr>\n",
       "  <th>Japanese</th>   <td> 9.844e+06</td> <td> 2.29e+06</td> <td>    4.308</td> <td> 0.000</td> <td> 5.34e+06</td> <td> 1.44e+07</td>\n",
       "</tr>\n",
       "<tr>\n",
       "  <th>HR</th>         <td> 2.131e+05</td> <td> 2.26e+04</td> <td>    9.434</td> <td> 0.000</td> <td> 1.69e+05</td> <td> 2.58e+05</td>\n",
       "</tr>\n",
       "</table>\n",
       "<table class=\"simpletable\">\n",
       "<tr>\n",
       "  <th>Omnibus:</th>       <td>62.234</td> <th>  Durbin-Watson:     </th> <td>   2.042</td>\n",
       "</tr>\n",
       "<tr>\n",
       "  <th>Prob(Omnibus):</th> <td> 0.000</td> <th>  Jarque-Bera (JB):  </th> <td> 211.087</td>\n",
       "</tr>\n",
       "<tr>\n",
       "  <th>Skew:</th>          <td> 1.233</td> <th>  Prob(JB):          </th> <td>1.46e-46</td>\n",
       "</tr>\n",
       "<tr>\n",
       "  <th>Kurtosis:</th>      <td> 7.388</td> <th>  Cond. No.          </th> <td>    156.</td>\n",
       "</tr>\n",
       "</table>"
      ],
      "text/plain": [
       "<class 'statsmodels.iolib.summary.Summary'>\n",
       "\"\"\"\n",
       "                            OLS Regression Results                            \n",
       "==============================================================================\n",
       "Dep. Variable:                 Salary   R-squared:                       0.572\n",
       "Model:                            OLS   Adj. R-squared:                  0.565\n",
       "Method:                 Least Squares   F-statistic:                     87.32\n",
       "Date:                Tue, 06 Mar 2018   Prob (F-statistic):           6.46e-36\n",
       "Time:                        00:16:38   Log-Likelihood:                -3278.4\n",
       "No. Observations:                 200   AIC:                             6565.\n",
       "Df Residuals:                     196   BIC:                             6578.\n",
       "Df Model:                           3                                         \n",
       "Covariance Type:            nonrobust                                         \n",
       "==============================================================================\n",
       "                 coef    std err          t      P>|t|      [0.025      0.975]\n",
       "------------------------------------------------------------------------------\n",
       "Intercept  -1.127e+06   3.79e+05     -2.976      0.003   -1.87e+06    -3.8e+05\n",
       "Experience  5.739e+05   6.09e+04      9.421      0.000    4.54e+05    6.94e+05\n",
       "Japanese    9.844e+06   2.29e+06      4.308      0.000    5.34e+06    1.44e+07\n",
       "HR          2.131e+05   2.26e+04      9.434      0.000    1.69e+05    2.58e+05\n",
       "==============================================================================\n",
       "Omnibus:                       62.234   Durbin-Watson:                   2.042\n",
       "Prob(Omnibus):                  0.000   Jarque-Bera (JB):              211.087\n",
       "Skew:                           1.233   Prob(JB):                     1.46e-46\n",
       "Kurtosis:                       7.388   Cond. No.                         156.\n",
       "==============================================================================\n",
       "\n",
       "Warnings:\n",
       "[1] Standard Errors assume that the covariance matrix of the errors is correctly specified.\n",
       "\"\"\""
      ]
     },
     "execution_count": 129,
     "metadata": {},
     "output_type": "execute_result"
    }
   ],
   "source": [
    "mlbDataModel = sm.OLS.from_formula('Salary ~ Experience + Japanese + HR', mlbData).fit()\n",
    "mlbDataModel.summary()"
   ]
  },
  {
   "cell_type": "code",
   "execution_count": 123,
   "metadata": {},
   "outputs": [
    {
     "data": {
      "text/html": [
       "<div>\n",
       "<style>\n",
       "    .dataframe thead tr:only-child th {\n",
       "        text-align: right;\n",
       "    }\n",
       "\n",
       "    .dataframe thead th {\n",
       "        text-align: left;\n",
       "    }\n",
       "\n",
       "    .dataframe tbody tr th {\n",
       "        vertical-align: top;\n",
       "    }\n",
       "</style>\n",
       "<table border=\"1\" class=\"dataframe\">\n",
       "  <thead>\n",
       "    <tr style=\"text-align: right;\">\n",
       "      <th></th>\n",
       "      <th>Salary</th>\n",
       "      <th>Experience</th>\n",
       "      <th>Japanese</th>\n",
       "      <th>Dominican</th>\n",
       "      <th>HR</th>\n",
       "    </tr>\n",
       "  </thead>\n",
       "  <tbody>\n",
       "    <tr>\n",
       "      <th>Salary</th>\n",
       "      <td>1.000000</td>\n",
       "      <td>0.581716</td>\n",
       "      <td>0.186972</td>\n",
       "      <td>0.124779</td>\n",
       "      <td>0.583580</td>\n",
       "    </tr>\n",
       "    <tr>\n",
       "      <th>Experience</th>\n",
       "      <td>0.581716</td>\n",
       "      <td>1.000000</td>\n",
       "      <td>-0.019272</td>\n",
       "      <td>0.099481</td>\n",
       "      <td>0.277450</td>\n",
       "    </tr>\n",
       "    <tr>\n",
       "      <th>Japanese</th>\n",
       "      <td>0.186972</td>\n",
       "      <td>-0.019272</td>\n",
       "      <td>1.000000</td>\n",
       "      <td>-0.037113</td>\n",
       "      <td>-0.012043</td>\n",
       "    </tr>\n",
       "    <tr>\n",
       "      <th>Dominican</th>\n",
       "      <td>0.124779</td>\n",
       "      <td>0.099481</td>\n",
       "      <td>-0.037113</td>\n",
       "      <td>1.000000</td>\n",
       "      <td>0.039489</td>\n",
       "    </tr>\n",
       "    <tr>\n",
       "      <th>HR</th>\n",
       "      <td>0.583580</td>\n",
       "      <td>0.277450</td>\n",
       "      <td>-0.012043</td>\n",
       "      <td>0.039489</td>\n",
       "      <td>1.000000</td>\n",
       "    </tr>\n",
       "  </tbody>\n",
       "</table>\n",
       "</div>"
      ],
      "text/plain": [
       "              Salary  Experience  Japanese  Dominican        HR\n",
       "Salary      1.000000    0.581716  0.186972   0.124779  0.583580\n",
       "Experience  0.581716    1.000000 -0.019272   0.099481  0.277450\n",
       "Japanese    0.186972   -0.019272  1.000000  -0.037113 -0.012043\n",
       "Dominican   0.124779    0.099481 -0.037113   1.000000  0.039489\n",
       "HR          0.583580    0.277450 -0.012043   0.039489  1.000000"
      ]
     },
     "execution_count": 123,
     "metadata": {},
     "output_type": "execute_result"
    }
   ],
   "source": [
    "mlbData.corr()"
   ]
  },
  {
   "cell_type": "markdown",
   "metadata": {},
   "source": []
  }
 ],
 "metadata": {
  "kernelspec": {
   "display_name": "Python 3",
   "language": "python",
   "name": "python3"
  },
  "language_info": {
   "codemirror_mode": {
    "name": "ipython",
    "version": 3
   },
   "file_extension": ".py",
   "mimetype": "text/x-python",
   "name": "python",
   "nbconvert_exporter": "python",
   "pygments_lexer": "ipython3",
   "version": "3.6.1"
  }
 },
 "nbformat": 4,
 "nbformat_minor": 2
}
