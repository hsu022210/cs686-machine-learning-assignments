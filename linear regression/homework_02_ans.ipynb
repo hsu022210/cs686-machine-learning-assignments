{
 "cells": [
  {
   "cell_type": "code",
   "execution_count": 1,
   "metadata": {},
   "outputs": [
    {
     "name": "stderr",
     "output_type": "stream",
     "text": [
      "/Users/jinxin/anaconda2/lib/python2.7/site-packages/statsmodels/compat/pandas.py:56: FutureWarning: The pandas.core.datetools module is deprecated and will be removed in a future version. Please use the pandas.tseries module instead.\n",
      "  from pandas.core import datetools\n"
     ]
    }
   ],
   "source": [
    "import numpy as np \n",
    "import pandas as pd\n",
    "import seaborn as sns\n",
    "import matplotlib.pyplot as plt \n",
    "%matplotlib inline\n",
    "import statsmodels.formula.api as smf \n",
    "import statsmodels.api as sm\n",
    "import os"
   ]
  },
  {
   "cell_type": "markdown",
   "metadata": {},
   "source": [
    "***"
   ]
  },
  {
   "cell_type": "markdown",
   "metadata": {},
   "source": [
    "# Homework Assignment \\#2"
   ]
  },
  {
   "cell_type": "markdown",
   "metadata": {},
   "source": [
    "*due Thursday, February 22nd at 12.45pm*"
   ]
  },
  {
   "cell_type": "markdown",
   "metadata": {},
   "source": [
    "### n.b.\n",
    "All deliverables are required to be typed and all graphs and statistical output generated in Jupyter Notebook using Python and associated packages. Deliverables with *any* handwritten elements will not be accepted and will receive a grade of zero. \n",
    "\n",
    "You are required to upload a ```ipynb``` file to **Canvas** as the deliverable. Use the ```homework_02.ipynb``` file as a template and write the answers in text and include relevant code below each question. Print this document, double-sided, staple it, and hand it in on Thursday, February 22nd at 12.45pm at the beinning of class.  "
   ]
  },
  {
   "cell_type": "markdown",
   "metadata": {},
   "source": [
    "### Question 1"
   ]
  },
  {
   "cell_type": "markdown",
   "metadata": {
    "collapsed": true
   },
   "source": [
    "Maximum Likelihood Estimation (MLE) and Gradient Descent are two alternatives to Ordinary Least Squares that used to obtain estimates of the regression parameters. In fact, MLE and Gradient Descent are techniques often used in machine learning algorithms. Research and *briefly* discuss, both methods, their merits and their drawbacks. This answer should not exceed a page, and should probably not be shorter than a paragraph. Although the use of some light math is preferred, it is not required."
   ]
  },
  {
   "cell_type": "markdown",
   "metadata": {
    "collapsed": true
   },
   "source": [
    "**Answer:**\n",
    "1.MLE\n",
    "\n",
    "Using MLE in linear regression, we assume the errors follow a Gaussian distribution, that is $\\epsilon_i$ $\\tilde{}$ $N(0, \\sigma^2)$.\n",
    "\n",
    "Under the normal errors assumptions, the joint probability density function (pdf) of $Y_1, Y_2,...,Y_n$ is \n",
    "\n",
    "$f(Y_1, Y_2,...,Y_n | \\beta_0, \\beta_1, \\sigma^2)$\n",
    "\n",
    "$= \\Pi_{i = 1}^n f(Y_i | \\beta_0, \\beta_1, \\sigma^2)$\n",
    "\n",
    "For MLE, we'd like to find a set of $\\beta_0$ and $\\beta_1$ that maximize the above probability density function. For more detailed mathematical explanation please refer: https://ctu.edu.vn/~dvxe/econometrics/MLE_simple_linear_regression.pdf\n",
    "\n",
    "`Merits:` since we assume the errors are normally distributed, we can perform hypothesis testing and compute confidence interval for $\\beta_0$ and especially, $\\beta_1$.\n",
    "\n",
    "`Drawbacks:` If the errors don't follow a normal distribution, then we'd get different estimation as compared to OLD. The inferences we make about $\\beta_0$ and $\\beta_1$ would not be reliable. (e.g. we might have a wider confidence interval)\n",
    "\n",
    "2.Gradient Descent\n",
    "\n",
    "For GD, we change our perspective from maximizing PDF to minimizing a loss function. In linear regression, we'd like to find a set of $\\beta_0$ and $\\beta_1$ that minimize the following loss function:\n",
    "\n",
    "$error = \\frac{1}{N} \\sum_{i=1}^n(Y_i - (\\beta_0 + \\beta_1 X_i))^2$ -> this is basically the SSE.\n",
    "\n",
    "But how do we minimize this loss function: \n",
    "- We take partial derivative with respect to $\\beta_0$ and $\\beta_1$. For $\\beta_1$, the partial derivative looks like $- \\frac{2}{N} \\sum_{i=1}^n X_i (Y_i - (\\beta_0 + \\beta_1 X_i))$ and this is what we call a gradient. Let's denote it as PD\n",
    "- We initilize $\\beta_1$ with some arbitrary value, e.g. 0 and perform the following update:\n",
    "$\\beta_1 := \\beta_1 + \\alpha * PD$ (:= means we are updating $\\beta_1$, $\\alpha$ is a learning rate that controls how fast we want to perform the update). We keep updating $\\beta_1$ until its value become stable which means we have found the $\\beta_1$ that gives us the minimum loss. We do the same thing to $\\beta_0$.\n",
    "\n",
    "For more detailed explanation please refer: http://cs229.stanford.edu/notes/cs229-notes1.pdf\n",
    "\n",
    "`Merits:` For large dataset, Gradient Descent can be more computationally efficient than OLS.\n",
    "\n",
    "`Drawbacks:` However, sometimes if the loss function has multiple local minima. Gradient Descent might not converge to the global minimum. Luckily, the loss function of linear regression is convex, meaning we can always find a global minimum."
   ]
  },
  {
   "cell_type": "markdown",
   "metadata": {},
   "source": [
    "### Question 2"
   ]
  },
  {
   "cell_type": "markdown",
   "metadata": {
    "collapsed": true
   },
   "source": [
    "Import `pga_data.csv`, data on professional male golfers. Regress `AvgDrive` ($y$), the mean length of a golfer's drive in yards, against `DrvAcc` ($x$), the percentage of times a golfer is able to land their ball on the fairway when driving the ball."
   ]
  },
  {
   "cell_type": "code",
   "execution_count": 2,
   "metadata": {
    "scrolled": true
   },
   "outputs": [
    {
     "data": {
      "text/html": [
       "<div>\n",
       "<style scoped>\n",
       "    .dataframe tbody tr th:only-of-type {\n",
       "        vertical-align: middle;\n",
       "    }\n",
       "\n",
       "    .dataframe tbody tr th {\n",
       "        vertical-align: top;\n",
       "    }\n",
       "\n",
       "    .dataframe thead th {\n",
       "        text-align: right;\n",
       "    }\n",
       "</style>\n",
       "<table border=\"1\" class=\"dataframe\">\n",
       "  <thead>\n",
       "    <tr style=\"text-align: right;\">\n",
       "      <th></th>\n",
       "      <th>First</th>\n",
       "      <th>Last</th>\n",
       "      <th>Age</th>\n",
       "      <th>AvgDrive</th>\n",
       "      <th>DrvAcc</th>\n",
       "      <th>PercGreens</th>\n",
       "      <th>AvgNoPutts</th>\n",
       "      <th>Saveperc</th>\n",
       "      <th>MoneyRank</th>\n",
       "      <th>NoEvents</th>\n",
       "      <th>TotWin</th>\n",
       "      <th>AvgWin</th>\n",
       "    </tr>\n",
       "  </thead>\n",
       "  <tbody>\n",
       "    <tr>\n",
       "      <th>0</th>\n",
       "      <td>Aaron</td>\n",
       "      <td>Baddeley</td>\n",
       "      <td>23</td>\n",
       "      <td>288.0</td>\n",
       "      <td>53.1</td>\n",
       "      <td>58.2</td>\n",
       "      <td>1.767</td>\n",
       "      <td>50.9</td>\n",
       "      <td>123</td>\n",
       "      <td>27</td>\n",
       "      <td>632878</td>\n",
       "      <td>23440</td>\n",
       "    </tr>\n",
       "    <tr>\n",
       "      <th>1</th>\n",
       "      <td>Adam</td>\n",
       "      <td>Scott</td>\n",
       "      <td>24</td>\n",
       "      <td>295.4</td>\n",
       "      <td>57.7</td>\n",
       "      <td>65.6</td>\n",
       "      <td>1.757</td>\n",
       "      <td>59.3</td>\n",
       "      <td>7</td>\n",
       "      <td>16</td>\n",
       "      <td>3724984</td>\n",
       "      <td>232812</td>\n",
       "    </tr>\n",
       "    <tr>\n",
       "      <th>2</th>\n",
       "      <td>Alex</td>\n",
       "      <td>Cejka</td>\n",
       "      <td>34</td>\n",
       "      <td>285.8</td>\n",
       "      <td>64.2</td>\n",
       "      <td>63.8</td>\n",
       "      <td>1.795</td>\n",
       "      <td>50.7</td>\n",
       "      <td>54</td>\n",
       "      <td>24</td>\n",
       "      <td>1313484</td>\n",
       "      <td>54729</td>\n",
       "    </tr>\n",
       "    <tr>\n",
       "      <th>3</th>\n",
       "      <td>Andre</td>\n",
       "      <td>Stolz</td>\n",
       "      <td>34</td>\n",
       "      <td>297.9</td>\n",
       "      <td>59.0</td>\n",
       "      <td>63.0</td>\n",
       "      <td>1.787</td>\n",
       "      <td>47.7</td>\n",
       "      <td>101</td>\n",
       "      <td>20</td>\n",
       "      <td>808373</td>\n",
       "      <td>40419</td>\n",
       "    </tr>\n",
       "    <tr>\n",
       "      <th>4</th>\n",
       "      <td>Arjun</td>\n",
       "      <td>Atwal</td>\n",
       "      <td>31</td>\n",
       "      <td>289.4</td>\n",
       "      <td>60.5</td>\n",
       "      <td>62.5</td>\n",
       "      <td>1.766</td>\n",
       "      <td>43.5</td>\n",
       "      <td>146</td>\n",
       "      <td>30</td>\n",
       "      <td>486053</td>\n",
       "      <td>16202</td>\n",
       "    </tr>\n",
       "  </tbody>\n",
       "</table>\n",
       "</div>"
      ],
      "text/plain": [
       "   First      Last  Age  AvgDrive  DrvAcc  PercGreens  AvgNoPutts  Saveperc  \\\n",
       "0  Aaron  Baddeley   23     288.0    53.1        58.2       1.767      50.9   \n",
       "1   Adam     Scott   24     295.4    57.7        65.6       1.757      59.3   \n",
       "2   Alex     Cejka   34     285.8    64.2        63.8       1.795      50.7   \n",
       "3  Andre     Stolz   34     297.9    59.0        63.0       1.787      47.7   \n",
       "4  Arjun     Atwal   31     289.4    60.5        62.5       1.766      43.5   \n",
       "\n",
       "   MoneyRank  NoEvents   TotWin  AvgWin  \n",
       "0        123        27   632878   23440  \n",
       "1          7        16  3724984  232812  \n",
       "2         54        24  1313484   54729  \n",
       "3        101        20   808373   40419  \n",
       "4        146        30   486053   16202  "
      ]
     },
     "execution_count": 2,
     "metadata": {},
     "output_type": "execute_result"
    }
   ],
   "source": [
    "pga = pd.read_csv('pga_data.csv')\n",
    "pga.head(5)"
   ]
  },
  {
   "cell_type": "code",
   "execution_count": 3,
   "metadata": {},
   "outputs": [
    {
     "name": "stdout",
     "output_type": "stream",
     "text": [
      "                            OLS Regression Results                            \n",
      "==============================================================================\n",
      "Dep. Variable:               AvgDrive   R-squared:                       0.373\n",
      "Model:                            OLS   Adj. R-squared:                  0.370\n",
      "Method:                 Least Squares   F-statistic:                     115.3\n",
      "Date:                Thu, 01 Mar 2018   Prob (F-statistic):           2.07e-21\n",
      "Time:                        21:18:08   Log-Likelihood:                -646.08\n",
      "No. Observations:                 196   AIC:                             1296.\n",
      "Df Residuals:                     194   BIC:                             1303.\n",
      "Df Model:                           1                                         \n",
      "Covariance Type:            nonrobust                                         \n",
      "==============================================================================\n",
      "                 coef    std err          t      P>|t|      [0.025      0.975]\n",
      "------------------------------------------------------------------------------\n",
      "const        348.1576      5.698     61.097      0.000     336.919     359.396\n",
      "DrvAcc        -0.9516      0.089    -10.738      0.000      -1.126      -0.777\n",
      "==============================================================================\n",
      "Omnibus:                        0.045   Durbin-Watson:                   1.848\n",
      "Prob(Omnibus):                  0.978   Jarque-Bera (JB):                0.136\n",
      "Skew:                           0.030   Prob(JB):                        0.934\n",
      "Kurtosis:                       2.886   Cond. No.                         781.\n",
      "==============================================================================\n",
      "\n",
      "Warnings:\n",
      "[1] Standard Errors assume that the covariance matrix of the errors is correctly specified.\n"
     ]
    }
   ],
   "source": [
    "X = sm.add_constant(pga.DrvAcc)\n",
    "model = sm.OLS(pga.AvgDrive, X)\n",
    "results = model.fit()\n",
    "print(results.summary())"
   ]
  },
  {
   "cell_type": "markdown",
   "metadata": {},
   "source": [
    "1.What is the equation of the fitted regression line?\n",
    "\n",
    "**Answer:** $AvgDrive = 348.1576 - 0.9516 * DrvAcc$ \n",
    "\n",
    "2.Compute the sum of the residuals squared, i.e., $\\sum e_i^2$\n",
    "\n",
    "**Answer:** 8374.06"
   ]
  },
  {
   "cell_type": "code",
   "execution_count": 4,
   "metadata": {},
   "outputs": [
    {
     "data": {
      "text/plain": [
       "8374.056879056001"
      ]
     },
     "execution_count": 4,
     "metadata": {},
     "output_type": "execute_result"
    }
   ],
   "source": [
    "sum((pga.AvgDrive - (348.1576 - 0.9516 * pga.DrvAcc))**2)"
   ]
  },
  {
   "cell_type": "code",
   "execution_count": 5,
   "metadata": {},
   "outputs": [
    {
     "data": {
      "text/plain": [
       "8374.0563758884091"
      ]
     },
     "execution_count": 5,
     "metadata": {},
     "output_type": "execute_result"
    }
   ],
   "source": [
    "results.ssr"
   ]
  },
  {
   "cell_type": "markdown",
   "metadata": {},
   "source": [
    "3.Create four other regression models whereby you come up with your own values for $b_0$ and $b_1$. Compute the sum of squared residuals for each model and fill in the table below. When complete, examine the $\\sum e_i^2$ columna and comment on what you have learned/confirmed.\n",
    "\n",
    "**Answer:** We notice that the OLS gives the smallest $\\sum e_i^2$. Other $\\beta_0$ and $\\beta_1$ regardless how they change, the $\\sum e_i^2$ is always much larger.\n",
    "\n",
    "| Model #1 | $b_0$ | $b_1$ | $\\sum e_i^2$ |\n",
    "|----------|-------|-------|--------------|\n",
    "|   OLS    |348.16 |-0.9516|   8374       |\n",
    "|   1      |350    |0.96   |  3059014     |\n",
    "|   2      |380|-0.98      | 185061       |\n",
    "|   3      |400    |-1.0   | 474046       |\n",
    "|   4      |320    |-0.94  |  155659      |"
   ]
  },
  {
   "cell_type": "code",
   "execution_count": 6,
   "metadata": {},
   "outputs": [
    {
     "name": "stdout",
     "output_type": "stream",
     "text": [
      "8374.05687906\n",
      "3059014.08744\n",
      "185061.07476\n",
      "474046.93\n",
      "155659.47524\n"
     ]
    }
   ],
   "source": [
    "def ssr(b0, b1):\n",
    "    return sum((pga.AvgDrive - (b0 + b1 * pga.DrvAcc))**2)\n",
    "\n",
    "print ssr(348.1576, -0.9516)\n",
    "print ssr(350, 0.96)\n",
    "print ssr(380, -0.98)\n",
    "print ssr(400, -1.0)\n",
    "print ssr(320, -0.94)"
   ]
  },
  {
   "cell_type": "markdown",
   "metadata": {},
   "source": [
    "### Question 3"
   ]
  },
  {
   "cell_type": "markdown",
   "metadata": {
    "collapsed": true
   },
   "source": [
    "Import `platsicHardness.txt`. The first column of data represents plastic hardness in Brinell units ($y$) and the second column data represents the number of hours elapsed since the plastic was molded ($x$). Run a SLR model along with all relevant diagnostics---do not include numerical/graphical output, just a basic summary, written or tabular, of what you found. Succinctly discuss what you observe. Do you observe any issues with the model?\n",
    "\n",
    "Run a Brown-Forsythe test to determine whether or not the error variances varies with the level of $x$. Divide the data into two groups, $x \\leq 24$ and $x > 24$, and use $\\alpha = 0.05$. State the hypothesis test, decision rule, and the conclusion. Discuss this result in context of what you discovered earlier. "
   ]
  },
  {
   "cell_type": "code",
   "execution_count": 7,
   "metadata": {},
   "outputs": [
    {
     "name": "stdout",
     "output_type": "stream",
     "text": [
      "(16, 2)\n"
     ]
    }
   ],
   "source": [
    "plastic = pd.read_table('plasticHardness.txt', names=['brinell', 'hour'], skipinitialspace=True, sep=' ')\n",
    "print plastic.shape"
   ]
  },
  {
   "cell_type": "code",
   "execution_count": 8,
   "metadata": {
    "scrolled": false
   },
   "outputs": [
    {
     "name": "stdout",
     "output_type": "stream",
     "text": [
      "                            OLS Regression Results                            \n",
      "==============================================================================\n",
      "Dep. Variable:                brinell   R-squared:                       0.973\n",
      "Model:                            OLS   Adj. R-squared:                  0.971\n",
      "Method:                 Least Squares   F-statistic:                     506.5\n",
      "Date:                Thu, 01 Mar 2018   Prob (F-statistic):           2.16e-12\n",
      "Time:                        21:18:08   Log-Likelihood:                -40.414\n",
      "No. Observations:                  16   AIC:                             84.83\n",
      "Df Residuals:                      14   BIC:                             86.37\n",
      "Df Model:                           1                                         \n",
      "Covariance Type:            nonrobust                                         \n",
      "==============================================================================\n",
      "                 coef    std err          t      P>|t|      [0.025      0.975]\n",
      "------------------------------------------------------------------------------\n",
      "const        168.6000      2.657     63.454      0.000     162.901     174.299\n",
      "hour           2.0344      0.090     22.506      0.000       1.840       2.228\n",
      "==============================================================================\n",
      "Omnibus:                        0.955   Durbin-Watson:                   2.466\n",
      "Prob(Omnibus):                  0.620   Jarque-Bera (JB):                0.711\n",
      "Skew:                           0.068   Prob(JB):                        0.701\n",
      "Kurtosis:                       1.976   Cond. No.                         96.7\n",
      "==============================================================================\n",
      "\n",
      "Warnings:\n",
      "[1] Standard Errors assume that the covariance matrix of the errors is correctly specified.\n"
     ]
    },
    {
     "name": "stderr",
     "output_type": "stream",
     "text": [
      "/Users/jinxin/anaconda2/lib/python2.7/site-packages/scipy/stats/stats.py:1334: UserWarning: kurtosistest only valid for n>=20 ... continuing anyway, n=16\n",
      "  \"anyway, n=%i\" % int(n))\n"
     ]
    }
   ],
   "source": [
    "X = sm.add_constant(plastic.hour)\n",
    "model = sm.OLS(plastic.brinell, X)\n",
    "results = model.fit()\n",
    "print(results.summary())"
   ]
  },
  {
   "cell_type": "markdown",
   "metadata": {},
   "source": [
    "**Answer: ** First, let's check if the mean of the erros is zero. Given the result below, we can see the mean is very close to zero. so the mean zero assumption is met."
   ]
  },
  {
   "cell_type": "code",
   "execution_count": 9,
   "metadata": {},
   "outputs": [
    {
     "data": {
      "text/plain": [
       "-4.263256414560601e-14"
      ]
     },
     "execution_count": 9,
     "metadata": {},
     "output_type": "execute_result"
    }
   ],
   "source": [
    "sum(results.resid) / len(plastic)"
   ]
  },
  {
   "cell_type": "markdown",
   "metadata": {},
   "source": [
    "Next, let's check for homoscedasticity. When running a regression of $residual^2$ on $hour$, we got a $\\beta_{hour}$ of -0.2277 with a p-value of 0.402. We fail to reject that $\\beta_{hour}$ is statistically different from 0. So there doesn't seem to be a heteroscedasticity problem."
   ]
  },
  {
   "cell_type": "code",
   "execution_count": 10,
   "metadata": {},
   "outputs": [
    {
     "name": "stdout",
     "output_type": "stream",
     "text": [
      "                            OLS Regression Results                            \n",
      "==============================================================================\n",
      "Dep. Variable:                      y   R-squared:                       0.051\n",
      "Model:                            OLS   Adj. R-squared:                 -0.017\n",
      "Method:                 Least Squares   F-statistic:                    0.7483\n",
      "Date:                Thu, 01 Mar 2018   Prob (F-statistic):              0.402\n",
      "Time:                        21:18:08   Log-Likelihood:                -57.518\n",
      "No. Observations:                  16   AIC:                             119.0\n",
      "Df Residuals:                      14   BIC:                             120.6\n",
      "Df Model:                           1                                         \n",
      "Covariance Type:            nonrobust                                         \n",
      "==============================================================================\n",
      "                 coef    std err          t      P>|t|      [0.025      0.975]\n",
      "------------------------------------------------------------------------------\n",
      "const         15.5281      7.738      2.007      0.065      -1.069      32.125\n",
      "hour          -0.2277      0.263     -0.865      0.402      -0.792       0.337\n",
      "==============================================================================\n",
      "Omnibus:                        3.420   Durbin-Watson:                   1.917\n",
      "Prob(Omnibus):                  0.181   Jarque-Bera (JB):                2.131\n",
      "Skew:                           0.893   Prob(JB):                        0.345\n",
      "Kurtosis:                       2.930   Cond. No.                         96.7\n",
      "==============================================================================\n",
      "\n",
      "Warnings:\n",
      "[1] Standard Errors assume that the covariance matrix of the errors is correctly specified.\n"
     ]
    }
   ],
   "source": [
    "X2 = sm.add_constant(plastic.hour)\n",
    "model2 = sm.OLS(results.resid**2, X2)\n",
    "results2 = model2.fit()\n",
    "print(results2.summary())"
   ]
  },
  {
   "cell_type": "markdown",
   "metadata": {},
   "source": [
    "Finally, let's run Brown-Forsythe test to check for homoscedasticity.\n",
    "\n",
    "$H_0: \\sigma^2_{hour <= 24} = \\sigma^2_{hour > 24}$\n",
    "\n",
    "$H_1: \\sigma^2_{hour <= 24} \\neq \\sigma^2_{hour > 24}$\n",
    "\n",
    "We got a p-value of 0.40 which is greater than 0.05 or the 5% significance level. We don't have enough evidence to reject the null hypothesis. Given the data we have, we can conclude that variance of errors is constant."
   ]
  },
  {
   "cell_type": "code",
   "execution_count": 11,
   "metadata": {},
   "outputs": [
    {
     "data": {
      "text/plain": [
       "LeveneResult(statistic=0.73236854364846271, pvalue=0.40652533559298387)"
      ]
     },
     "execution_count": 11,
     "metadata": {},
     "output_type": "execute_result"
    }
   ],
   "source": [
    "import scipy as sp\n",
    "sample_1 = results.resid[plastic.hour <= 24]\n",
    "sample_2 = results.resid[plastic.hour > 24]\n",
    "sp.stats.levene(sample_1, sample_2, center = 'median')"
   ]
  },
  {
   "cell_type": "markdown",
   "metadata": {},
   "source": [
    "### Question 4"
   ]
  },
  {
   "cell_type": "markdown",
   "metadata": {
    "collapsed": true
   },
   "source": [
    "Import `copierMaintenanceData.csv`. Column 1 is $y$ and column 2 is $x$.\n",
    "\n",
    "$x$ are the number of photocopiers serviced by a service company at a given location, and $y$ are the total number of minutes spent by the service person. "
   ]
  },
  {
   "cell_type": "code",
   "execution_count": 12,
   "metadata": {},
   "outputs": [
    {
     "data": {
      "text/html": [
       "<div>\n",
       "<style scoped>\n",
       "    .dataframe tbody tr th:only-of-type {\n",
       "        vertical-align: middle;\n",
       "    }\n",
       "\n",
       "    .dataframe tbody tr th {\n",
       "        vertical-align: top;\n",
       "    }\n",
       "\n",
       "    .dataframe thead th {\n",
       "        text-align: right;\n",
       "    }\n",
       "</style>\n",
       "<table border=\"1\" class=\"dataframe\">\n",
       "  <thead>\n",
       "    <tr style=\"text-align: right;\">\n",
       "      <th></th>\n",
       "      <th>y</th>\n",
       "      <th>x</th>\n",
       "    </tr>\n",
       "  </thead>\n",
       "  <tbody>\n",
       "    <tr>\n",
       "      <th>0</th>\n",
       "      <td>20</td>\n",
       "      <td>2</td>\n",
       "    </tr>\n",
       "    <tr>\n",
       "      <th>1</th>\n",
       "      <td>60</td>\n",
       "      <td>4</td>\n",
       "    </tr>\n",
       "    <tr>\n",
       "      <th>2</th>\n",
       "      <td>46</td>\n",
       "      <td>3</td>\n",
       "    </tr>\n",
       "    <tr>\n",
       "      <th>3</th>\n",
       "      <td>41</td>\n",
       "      <td>2</td>\n",
       "    </tr>\n",
       "    <tr>\n",
       "      <th>4</th>\n",
       "      <td>12</td>\n",
       "      <td>1</td>\n",
       "    </tr>\n",
       "  </tbody>\n",
       "</table>\n",
       "</div>"
      ],
      "text/plain": [
       "    y  x\n",
       "0  20  2\n",
       "1  60  4\n",
       "2  46  3\n",
       "3  41  2\n",
       "4  12  1"
      ]
     },
     "execution_count": 12,
     "metadata": {},
     "output_type": "execute_result"
    }
   ],
   "source": [
    "copier = pd.read_csv('copierMaintenanceData.csv', names=['y', 'x'])\n",
    "copier.head(5)"
   ]
  },
  {
   "cell_type": "markdown",
   "metadata": {},
   "source": [
    "Answer the following questions.\n",
    "\n",
    "1.Obtain the OLS estimates of the parameters. Please see the output below."
   ]
  },
  {
   "cell_type": "code",
   "execution_count": 13,
   "metadata": {},
   "outputs": [
    {
     "name": "stdout",
     "output_type": "stream",
     "text": [
      "                            OLS Regression Results                            \n",
      "==============================================================================\n",
      "Dep. Variable:                      y   R-squared:                       0.957\n",
      "Model:                            OLS   Adj. R-squared:                  0.957\n",
      "Method:                 Least Squares   F-statistic:                     968.7\n",
      "Date:                Thu, 01 Mar 2018   Prob (F-statistic):           4.01e-31\n",
      "Time:                        21:18:09   Log-Likelihood:                -161.27\n",
      "No. Observations:                  45   AIC:                             326.5\n",
      "Df Residuals:                      43   BIC:                             330.2\n",
      "Df Model:                           1                                         \n",
      "Covariance Type:            nonrobust                                         \n",
      "==============================================================================\n",
      "                 coef    std err          t      P>|t|      [0.025      0.975]\n",
      "------------------------------------------------------------------------------\n",
      "const         -0.5802      2.804     -0.207      0.837      -6.235       5.075\n",
      "x             15.0352      0.483     31.123      0.000      14.061      16.009\n",
      "==============================================================================\n",
      "Omnibus:                        1.399   Durbin-Watson:                   2.402\n",
      "Prob(Omnibus):                  0.497   Jarque-Bera (JB):                1.167\n",
      "Skew:                          -0.388   Prob(JB):                        0.558\n",
      "Kurtosis:                       2.853   Cond. No.                         12.5\n",
      "==============================================================================\n",
      "\n",
      "Warnings:\n",
      "[1] Standard Errors assume that the covariance matrix of the errors is correctly specified.\n"
     ]
    }
   ],
   "source": [
    "X = sm.add_constant(copier.x)\n",
    "model = sm.OLS(copier.y, X)\n",
    "results = model.fit()\n",
    "print(results.summary())"
   ]
  },
  {
   "cell_type": "markdown",
   "metadata": {},
   "source": [
    "2.Write out the fitted regression equation.\n",
    "\n",
    "**Answer:** $y = -0.5802 + 15.0352 * x$ "
   ]
  },
  {
   "cell_type": "markdown",
   "metadata": {},
   "source": [
    "3.What is the numerical value of $\\sum e_i^2$? Please see the output below."
   ]
  },
  {
   "cell_type": "code",
   "execution_count": 14,
   "metadata": {},
   "outputs": [
    {
     "data": {
      "text/plain": [
       "3416.3770234986932"
      ]
     },
     "execution_count": 14,
     "metadata": {},
     "output_type": "execute_result"
    }
   ],
   "source": [
    "sum(results.resid**2)"
   ]
  },
  {
   "cell_type": "markdown",
   "metadata": {},
   "source": [
    "4.Does $b_0$ provide any relevant information in this context?\n",
    "\n",
    "**Answer: ** $b_0$ usually serves as a baseline for y, meaning when the value of x is 0, what is the value of y. In the context of this problem, we can say when the number of photocopiers serviced by a company is 0, the total number of minutes spent by the service person is -0.5802. Therefore, $b_0$ doesn't really provide relevant information here."
   ]
  },
  {
   "cell_type": "markdown",
   "metadata": {},
   "source": [
    "5.Obtain a point estimate of the mean service time when 5 copiers are serviced.\n",
    "\n",
    "**Answer:** 74.5958.\n",
    "\n",
    "6.Compute the confidence and prediction intervals when 5 copiers are serviced."
   ]
  },
  {
   "cell_type": "code",
   "execution_count": 15,
   "metadata": {},
   "outputs": [
    {
     "data": {
      "text/html": [
       "<div>\n",
       "<style scoped>\n",
       "    .dataframe tbody tr th:only-of-type {\n",
       "        vertical-align: middle;\n",
       "    }\n",
       "\n",
       "    .dataframe tbody tr th {\n",
       "        vertical-align: top;\n",
       "    }\n",
       "\n",
       "    .dataframe thead th {\n",
       "        text-align: right;\n",
       "    }\n",
       "</style>\n",
       "<table border=\"1\" class=\"dataframe\">\n",
       "  <thead>\n",
       "    <tr style=\"text-align: right;\">\n",
       "      <th></th>\n",
       "      <th>mean</th>\n",
       "      <th>mean_se</th>\n",
       "      <th>mean_ci_lower</th>\n",
       "      <th>mean_ci_upper</th>\n",
       "      <th>obs_ci_lower</th>\n",
       "      <th>obs_ci_upper</th>\n",
       "    </tr>\n",
       "  </thead>\n",
       "  <tbody>\n",
       "    <tr>\n",
       "      <th>0</th>\n",
       "      <td>74.596084</td>\n",
       "      <td>1.329831</td>\n",
       "      <td>71.914224</td>\n",
       "      <td>77.277943</td>\n",
       "      <td>56.421325</td>\n",
       "      <td>92.770842</td>\n",
       "    </tr>\n",
       "  </tbody>\n",
       "</table>\n",
       "</div>"
      ],
      "text/plain": [
       "        mean   mean_se  mean_ci_lower  mean_ci_upper  obs_ci_lower  \\\n",
       "0  74.596084  1.329831      71.914224      77.277943     56.421325   \n",
       "\n",
       "   obs_ci_upper  \n",
       "0     92.770842  "
      ]
     },
     "execution_count": 15,
     "metadata": {},
     "output_type": "execute_result"
    }
   ],
   "source": [
    "model = smf.ols('y ~ x', data = copier).fit()\n",
    "model.get_prediction({'x':[5]}).summary_frame(alpha=0.05)"
   ]
  },
  {
   "cell_type": "markdown",
   "metadata": {},
   "source": [
    "7.Test the hypothesis that $H_0: \\beta_1 = 0$ using a $t$ test. Show all work.\n",
    "\n",
    "**Answer:** **Answer:** \n",
    "$H_0: \\beta_1 = 0 \\\\\n",
    "H_1: \\beta_1 \\neq 0$\n",
    "\n",
    "The critical value for a t-test is computed using $t-score = \\frac{b_1 - \\beta_1}{s(b_1)} ~~ \\tilde{} ~~ t_(n - 2)$ (the degrees of freedom is n - 2). \n",
    "\n",
    "For $\\alpha =  0.05$, we do the following:"
   ]
  },
  {
   "cell_type": "code",
   "execution_count": 16,
   "metadata": {},
   "outputs": [
    {
     "name": "stdout",
     "output_type": "stream",
     "text": [
      "2.01669219414 31.1287784679\n"
     ]
    }
   ],
   "source": [
    "from scipy import stats\n",
    "t_crit = stats.t.isf(.025, len(copier) - 2)\n",
    "t_star = 15.0352 / 0.483\n",
    "print t_crit, t_star"
   ]
  },
  {
   "cell_type": "markdown",
   "metadata": {},
   "source": [
    "From the test result above, we see that 31.128 > 2.016 which is the critical value at the 5% significance level. We have enough evidence to reject the $H_0: \\beta_1 = 0$ and accept $H_1$."
   ]
  },
  {
   "cell_type": "markdown",
   "metadata": {},
   "source": [
    "### Question 5"
   ]
  },
  {
   "cell_type": "markdown",
   "metadata": {
    "collapsed": true
   },
   "source": [
    "1.Create a vector of 10,000,000 random variables $\\sim \\mathcal{U}\\{0,1\\}$ and store them in the list called `myRndUnif`. Randomly sample 100,000 values `myRndUnif` from this vector and create a histogram from the sample. What is the distribution of the sample (visually)? Repeat this exercise a few more times, if necessary, to convince yourself that when randomly sampling from a $\\mathcal{U}\\{a,b\\}$ distribution, the sample is also $\\sim \\mathcal{U}\\{a,b\\}$."
   ]
  },
  {
   "cell_type": "code",
   "execution_count": 17,
   "metadata": {},
   "outputs": [
    {
     "data": {
      "text/plain": [
       "<matplotlib.axes._subplots.AxesSubplot at 0x117309bd0>"
      ]
     },
     "execution_count": 17,
     "metadata": {},
     "output_type": "execute_result"
    },
    {
     "data": {
      "image/png": "[encoded data removed]",
      "text/plain": [
       "<matplotlib.figure.Figure at 0x10a867790>"
      ]
     },
     "metadata": {},
     "output_type": "display_data"
    }
   ],
   "source": [
    "myRndUnif = np.random.uniform(size=10000000)\n",
    "myRndSample = np.random.choice(myRndUnif, 100000)\n",
    "sns.distplot(myRndSample)"
   ]
  },
  {
   "cell_type": "markdown",
   "metadata": {},
   "source": [
    "2.Randomly sample 100,000 **pairs** of values (groups of 2), and create a histogram of the mean of these samples. What does the distribution look like?\n",
    "\n",
    "**Answer:** The distribution is normal. You might want to write a for loop that randomly takes 2 samples 100,000 times. It's actually equivalent to randomly taking 100,000 samples twice, then make the pairs."
   ]
  },
  {
   "cell_type": "code",
   "execution_count": 18,
   "metadata": {},
   "outputs": [
    {
     "data": {
      "text/plain": [
       "<matplotlib.axes._subplots.AxesSubplot at 0x11c356b10>"
      ]
     },
     "execution_count": 18,
     "metadata": {},
     "output_type": "execute_result"
    },
    {
     "data": {
      "image/png": "[encoded data removed]",
      "text/plain": [
       "<matplotlib.figure.Figure at 0x1172d63d0>"
      ]
     },
     "metadata": {},
     "output_type": "display_data"
    }
   ],
   "source": [
    "myRndSample1 = np.random.choice(myRndUnif, 100000)\n",
    "myRndSample2 = np.random.choice(myRndUnif, 100000)\n",
    "avg = (myRndSample1 + myRndSample2) / 2\n",
    "sns.distplot(avg)"
   ]
  },
  {
   "cell_type": "markdown",
   "metadata": {},
   "source": [
    "3.Randomly sample 100,000 **groups of five values**, and create a histogram of the mean of these samples. What does the distribution look like?"
   ]
  },
  {
   "cell_type": "code",
   "execution_count": 19,
   "metadata": {},
   "outputs": [
    {
     "data": {
      "image/png": "[encoded data removed]",
      "text/plain": [
       "<matplotlib.figure.Figure at 0x116657210>"
      ]
     },
     "metadata": {},
     "output_type": "display_data"
    }
   ],
   "source": [
    "def hist_from_random_samples(ls, sample_size=100000, iteration=5):\n",
    "    sum_list = np.zeros(sample_size)\n",
    "    for i in range(iteration):\n",
    "        sum_list += np.random.choice(ls, 100000)\n",
    "    avg_list = sum_list / iteration\n",
    "    sns.distplot(avg_list)\n",
    "\n",
    "hist_from_random_samples(myRndUnif)"
   ]
  },
  {
   "cell_type": "markdown",
   "metadata": {},
   "source": [
    "4.Randomly sample 100,000 **groups of ten values**, and create a histogram of the mean of these samples. What does the distribution look like?"
   ]
  },
  {
   "cell_type": "code",
   "execution_count": 20,
   "metadata": {},
   "outputs": [
    {
     "data": {
      "image/png": "[encoded data removed]",
      "text/plain": [
       "<matplotlib.figure.Figure at 0x116662510>"
      ]
     },
     "metadata": {},
     "output_type": "display_data"
    }
   ],
   "source": [
    "hist_from_random_samples(myRndUnif, iteration=10)"
   ]
  },
  {
   "cell_type": "markdown",
   "metadata": {},
   "source": [
    "5.Randomly sample 100,000 **groups of thirty values**, and create a histogram of the mean of these samples. What does the distribution look like?"
   ]
  },
  {
   "cell_type": "code",
   "execution_count": 21,
   "metadata": {},
   "outputs": [
    {
     "data": {
      "image/png": "[encoded data removed]",
      "text/plain": [
       "<matplotlib.figure.Figure at 0x11cbaa210>"
      ]
     },
     "metadata": {},
     "output_type": "display_data"
    }
   ],
   "source": [
    "hist_from_random_samples(myRndUnif, iteration=30)"
   ]
  },
  {
   "cell_type": "markdown",
   "metadata": {},
   "source": [
    "6.Repeat steps 1 through 5 using an **exponential distribution**."
   ]
  },
  {
   "cell_type": "code",
   "execution_count": 22,
   "metadata": {
    "scrolled": true
   },
   "outputs": [
    {
     "data": {
      "text/plain": [
       "<matplotlib.axes._subplots.AxesSubplot at 0x11d24cc50>"
      ]
     },
     "execution_count": 22,
     "metadata": {},
     "output_type": "execute_result"
    },
    {
     "data": {
      "image/png": "[encoded data removed]",
      "text/plain": [
       "<matplotlib.figure.Figure at 0x11cbaa250>"
      ]
     },
     "metadata": {},
     "output_type": "display_data"
    }
   ],
   "source": [
    "myRndExp = np.random.exponential(size=10000000)\n",
    "myRndSample = np.random.choice(myRndExp, 100000)\n",
    "sns.distplot(myRndSample)"
   ]
  },
  {
   "cell_type": "markdown",
   "metadata": {},
   "source": [
    "**Summary:** As sample size gets from 2 to 30, the mean distribution tend to become normal."
   ]
  },
  {
   "cell_type": "code",
   "execution_count": 23,
   "metadata": {},
   "outputs": [
    {
     "data": {
      "image/png": "[encoded data removed]",
      "text/plain": [
       "<matplotlib.figure.Figure at 0x11c733dd0>"
      ]
     },
     "metadata": {},
     "output_type": "display_data"
    }
   ],
   "source": [
    "for i in [2, 5, 10, 30]:\n",
    "    hist_from_random_samples(myRndExp, iteration=i)"
   ]
  },
  {
   "cell_type": "markdown",
   "metadata": {},
   "source": [
    "### Question 6"
   ]
  },
  {
   "cell_type": "markdown",
   "metadata": {
    "collapsed": true
   },
   "source": [
    "You compute a coefficient of determination for a regression model an obtain an $R^2=0.832$. What does the strength of the coefficient of determination say about the causal relationship between the explanatory and response variables?\n",
    "\n",
    "**Answer: ** $R^2$ = 0.832 means 83.2% of the variation of the response variable can be explain by the independent variables. While it indicates that there is a strong strength of the relationship between the explanatory and responsib variables, it doesn't imply any causal relationship between the two."
   ]
  },
  {
   "cell_type": "markdown",
   "metadata": {},
   "source": [
    "### Question 7"
   ]
  },
  {
   "cell_type": "markdown",
   "metadata": {
    "collapsed": true
   },
   "source": [
    "When testing for the normality of residuals, I suggested you use a normality test such as the Shapiro-Wilk test. \n",
    "\n",
    "1. Read the entry at the following link: https://www.r-bloggers.com/normality-tests-don%E2%80%99t-do-what-you-think-they-do/\n",
    "\n",
    "2. Generate 10,000 standard normal random variates, and run a Shapiro-Wilk test on them to test for normality, using the Shapiro Wilk test in in the `SciPy` package. Why does this fail? What internal limitations are included in `scipy.stats.shipro()` to ensure that the problems described in the URL above don't occur?\n",
    "\n",
    "**Answer:** The Shapiro-Wilk test tests the null hypothesis that the data was drawn from a normal distribution. Given the test result from Scipy, we don't have enough evidence to conclude that the sample data is normally distributed. Based on the scipy.stats.shapiro() documentation, for N > 5000 the W test statistic is accurate but the p-value may not be.\n",
    "\n",
    "To ensure that the problems described in the URL above don't occur, we can usually use histogram and QQ-plot to get a good sense of whether the data are normally distributed."
   ]
  },
  {
   "cell_type": "code",
   "execution_count": 24,
   "metadata": {},
   "outputs": [
    {
     "name": "stderr",
     "output_type": "stream",
     "text": [
      "/Users/jinxin/anaconda2/lib/python2.7/site-packages/scipy/stats/morestats.py:1326: UserWarning: p-value may not be accurate for N > 5000.\n",
      "  warnings.warn(\"p-value may not be accurate for N > 5000.\")\n"
     ]
    },
    {
     "data": {
      "text/plain": [
       "(0.9997791647911072, 0.3998078405857086)"
      ]
     },
     "execution_count": 24,
     "metadata": {},
     "output_type": "execute_result"
    }
   ],
   "source": [
    "import scipy\n",
    "myRndNormal = np.random.normal(size=10000)\n",
    "scipy.stats.shapiro(myRndNormal)"
   ]
  },
  {
   "cell_type": "markdown",
   "metadata": {},
   "source": [
    "### Question 8"
   ]
  },
  {
   "cell_type": "markdown",
   "metadata": {
    "collapsed": true
   },
   "source": [
    "Import `pga_data.csv`, data on professional male golfers. Regress `AvgDrive` ($y$), the mean length of a golfer's drive in yards, against `DrvAcc` ($x$), the percentage of times a golfer is able to land their ball on the fairway when driving the ball. Manually code up a numerical Box-Cox search procedure for $\\lambda \\in [-5, 5]$ in increments of 0.1 to find the $\\lambda$ that minimizes SSE for this model. Create a graph with $\\lambda$ on the $x$-axis and $SSE_{\\lambda}$ on the $y$-axis. Report the $\\lambda$ that minimizes SSE for this model."
   ]
  },
  {
   "cell_type": "code",
   "execution_count": 25,
   "metadata": {},
   "outputs": [
    {
     "name": "stdout",
     "output_type": "stream",
     "text": [
      "The lambda that minimizes SSE is -2.050000\n"
     ]
    }
   ],
   "source": [
    "X = sm.add_constant(pga.DrvAcc)\n",
    "model = sm.OLS(pga.AvgDrive, X)\n",
    "results = model.fit()\n",
    "sse = results.ssr\n",
    "min_lambda = -6\n",
    "\n",
    "for lambda_ in np.arange(-5, 5.01, 0.01):\n",
    "    k2 = np.prod(np.power(pga.AvgDrive, 1.0 / len(pga.AvgDrive)))\n",
    "    k1 = 1 / (lambda_ * np.power(k2, lambda_ - 1))\n",
    "    X = sm.add_constant(pga.DrvAcc)\n",
    "    \n",
    "    if lambda_ != 0:       \n",
    "        model = sm.OLS(k1 * (np.power(pga.AvgDrive, lambda_) - 1), X)\n",
    "    else:\n",
    "        model = sm.OLS(k2 * np.log(newdata['AvgDrive']), X)\n",
    "        \n",
    "    results = model.fit()\n",
    "    if results.ssr < sse:\n",
    "        sse = results.ssr\n",
    "        min_lambda = lambda_\n",
    "        \n",
    "print(\"The lambda that minimizes SSE is %f\" % min_lambda)"
   ]
  },
  {
   "cell_type": "code",
   "execution_count": 26,
   "metadata": {},
   "outputs": [
    {
     "name": "stdout",
     "output_type": "stream",
     "text": [
      "3.52279339547e-11\n"
     ]
    }
   ],
   "source": [
    "X = sm.add_constant(pga.DrvAcc)\n",
    "model = sm.OLS(pga.AvgDrive**(-2.05), X)\n",
    "results = model.fit()\n",
    "print(results.ssr)"
   ]
  }
 ],
 "metadata": {
  "kernelspec": {
   "display_name": "Python 3",
   "language": "python",
   "name": "python3"
  },
  "language_info": {
   "codemirror_mode": {
    "name": "ipython",
    "version": 3
   },
   "file_extension": ".py",
   "mimetype": "text/x-python",
   "name": "python",
   "nbconvert_exporter": "python",
   "pygments_lexer": "ipython3",
   "version": "3.6.1"
  }
 },
 "nbformat": 4,
 "nbformat_minor": 2
}
