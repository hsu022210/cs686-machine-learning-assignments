{
 "cells": [
  {
   "cell_type": "code",
   "execution_count": 1,
   "metadata": {
    "collapsed": true
   },
   "outputs": [],
   "source": [
    "import pandas as pd\n",
    "import seaborn as sns\n",
    "import matplotlib.pyplot as plt\n",
    "%matplotlib inline"
   ]
  },
  {
   "cell_type": "code",
   "execution_count": 2,
   "metadata": {},
   "outputs": [
    {
     "data": {
      "text/html": [
       "<div>\n",
       "<style>\n",
       "    .dataframe thead tr:only-child th {\n",
       "        text-align: right;\n",
       "    }\n",
       "\n",
       "    .dataframe thead th {\n",
       "        text-align: left;\n",
       "    }\n",
       "\n",
       "    .dataframe tbody tr th {\n",
       "        vertical-align: top;\n",
       "    }\n",
       "</style>\n",
       "<table border=\"1\" class=\"dataframe\">\n",
       "  <thead>\n",
       "    <tr style=\"text-align: right;\">\n",
       "      <th></th>\n",
       "      <th>x1</th>\n",
       "      <th>x2</th>\n",
       "      <th>type</th>\n",
       "    </tr>\n",
       "  </thead>\n",
       "  <tbody>\n",
       "    <tr>\n",
       "      <th>0</th>\n",
       "      <td>3.948420</td>\n",
       "      <td>-0.319132</td>\n",
       "      <td>1</td>\n",
       "    </tr>\n",
       "    <tr>\n",
       "      <th>1</th>\n",
       "      <td>5.913813</td>\n",
       "      <td>0.125970</td>\n",
       "      <td>1</td>\n",
       "    </tr>\n",
       "    <tr>\n",
       "      <th>2</th>\n",
       "      <td>-0.013082</td>\n",
       "      <td>5.295910</td>\n",
       "      <td>-1</td>\n",
       "    </tr>\n",
       "    <tr>\n",
       "      <th>3</th>\n",
       "      <td>-0.193497</td>\n",
       "      <td>5.823372</td>\n",
       "      <td>-1</td>\n",
       "    </tr>\n",
       "    <tr>\n",
       "      <th>4</th>\n",
       "      <td>1.193963</td>\n",
       "      <td>5.395064</td>\n",
       "      <td>-1</td>\n",
       "    </tr>\n",
       "  </tbody>\n",
       "</table>\n",
       "</div>"
      ],
      "text/plain": [
       "         x1        x2  type\n",
       "0  3.948420 -0.319132     1\n",
       "1  5.913813  0.125970     1\n",
       "2 -0.013082  5.295910    -1\n",
       "3 -0.193497  5.823372    -1\n",
       "4  1.193963  5.395064    -1"
      ]
     },
     "execution_count": 2,
     "metadata": {},
     "output_type": "execute_result"
    }
   ],
   "source": [
    "input_data = pd.read_csv('linearly_sep.csv', names = [\"x1\", \"x2\", \"type\"])\n",
    "input_data.head()"
   ]
  },
  {
   "cell_type": "code",
   "execution_count": 3,
   "metadata": {},
   "outputs": [
    {
     "data": {
      "text/plain": [
       "<seaborn.axisgrid.FacetGrid at 0x111de80f0>"
      ]
     },
     "execution_count": 3,
     "metadata": {},
     "output_type": "execute_result"
    },
    {
     "data": {
      "image/png": "[encoded data removed]",
      "text/plain": [
       "<matplotlib.figure.Figure at 0x111de8390>"
      ]
     },
     "metadata": {},
     "output_type": "display_data"
    }
   ],
   "source": [
    "sns.lmplot(\"x1\", \"x2\",data=input_data, ci = None, hue=\"type\", fit_reg=False)"
   ]
  },
  {
   "cell_type": "code",
   "execution_count": 4,
   "metadata": {},
   "outputs": [],
   "source": [
    "# %load svm_basic.py\n",
    "from classifier import classifier\n",
    "from svmMLiA import smoPK, calcWs\n",
    "from numpy import dot as np_dot, nditer\n",
    "\n",
    "class svm_basic(classifier):\n",
    "    def __init__(self, c=1, toler=0.001, maxIter=50):\n",
    "        self.alpha = None\n",
    "        self.b = None\n",
    "        self.w = None\n",
    "        self.C = c\n",
    "        self.toler = toler\n",
    "        self.maxIter = maxIter\n",
    "\n",
    "    def fit(self, X, Y):\n",
    "        self.b, self.alpha = smoPK(X, Y, self.C, self.toler, self.maxIter)\n",
    "        self.w = calcWs(self.alpha, X, Y)\n",
    "\n",
    "    def predict(self, X):\n",
    "        result = np_dot(self.w.T, X.T) + self.b\n",
    "        for x in nditer(result, op_flags=['readwrite']):\n",
    "            if x >= 0:\n",
    "                x[...] = 1\n",
    "            else:\n",
    "                x[...] = -1\n",
    "        return result\n"
   ]
  },
  {
   "cell_type": "code",
   "execution_count": 5,
   "metadata": {
    "collapsed": true
   },
   "outputs": [],
   "source": [
    "from svmMLiA import loadDataSet\n",
    "from sklearn.model_selection import train_test_split\n",
    "from pandas import DataFrame, concat"
   ]
  },
  {
   "cell_type": "code",
   "execution_count": 6,
   "metadata": {},
   "outputs": [
    {
     "name": "stdout",
     "output_type": "stream",
     "text": [
      "L==H\n",
      "fullSet, iter: 0 i:0, pairs changed 0\n",
      "fullSet, iter: 0 i:1, pairs changed 1\n",
      "fullSet, iter: 0 i:2, pairs changed 2\n",
      "fullSet, iter: 0 i:3, pairs changed 3\n",
      "fullSet, iter: 0 i:4, pairs changed 3\n",
      "fullSet, iter: 0 i:5, pairs changed 4\n",
      "fullSet, iter: 0 i:6, pairs changed 4\n",
      "fullSet, iter: 0 i:7, pairs changed 4\n",
      "fullSet, iter: 0 i:8, pairs changed 4\n",
      "fullSet, iter: 0 i:9, pairs changed 4\n",
      "fullSet, iter: 0 i:10, pairs changed 4\n",
      "fullSet, iter: 0 i:11, pairs changed 4\n",
      "fullSet, iter: 0 i:12, pairs changed 4\n",
      "fullSet, iter: 0 i:13, pairs changed 4\n",
      "fullSet, iter: 0 i:14, pairs changed 4\n",
      "fullSet, iter: 0 i:15, pairs changed 4\n",
      "fullSet, iter: 0 i:16, pairs changed 4\n",
      "j not moving enough\n",
      "fullSet, iter: 0 i:17, pairs changed 4\n",
      "fullSet, iter: 0 i:18, pairs changed 4\n",
      "fullSet, iter: 0 i:19, pairs changed 4\n",
      "fullSet, iter: 0 i:20, pairs changed 4\n",
      "fullSet, iter: 0 i:21, pairs changed 4\n",
      "fullSet, iter: 0 i:22, pairs changed 4\n",
      "j not moving enough\n",
      "fullSet, iter: 0 i:23, pairs changed 4\n",
      "fullSet, iter: 0 i:24, pairs changed 4\n",
      "fullSet, iter: 0 i:25, pairs changed 4\n",
      "fullSet, iter: 0 i:26, pairs changed 4\n",
      "fullSet, iter: 0 i:27, pairs changed 4\n",
      "fullSet, iter: 0 i:28, pairs changed 4\n",
      "fullSet, iter: 0 i:29, pairs changed 4\n",
      "fullSet, iter: 0 i:30, pairs changed 4\n",
      "fullSet, iter: 0 i:31, pairs changed 4\n",
      "fullSet, iter: 0 i:32, pairs changed 4\n",
      "fullSet, iter: 0 i:33, pairs changed 4\n",
      "fullSet, iter: 0 i:34, pairs changed 4\n",
      "fullSet, iter: 0 i:35, pairs changed 4\n",
      "fullSet, iter: 0 i:36, pairs changed 4\n",
      "fullSet, iter: 0 i:37, pairs changed 4\n",
      "fullSet, iter: 0 i:38, pairs changed 5\n",
      "fullSet, iter: 0 i:39, pairs changed 5\n",
      "fullSet, iter: 0 i:40, pairs changed 5\n",
      "fullSet, iter: 0 i:41, pairs changed 5\n",
      "fullSet, iter: 0 i:42, pairs changed 5\n",
      "fullSet, iter: 0 i:43, pairs changed 5\n",
      "fullSet, iter: 0 i:44, pairs changed 5\n",
      "fullSet, iter: 0 i:45, pairs changed 5\n",
      "fullSet, iter: 0 i:46, pairs changed 5\n",
      "L==H\n",
      "fullSet, iter: 0 i:47, pairs changed 5\n",
      "fullSet, iter: 0 i:48, pairs changed 5\n",
      "fullSet, iter: 0 i:49, pairs changed 5\n",
      "fullSet, iter: 0 i:50, pairs changed 5\n",
      "fullSet, iter: 0 i:51, pairs changed 5\n",
      "L==H\n",
      "fullSet, iter: 0 i:52, pairs changed 5\n",
      "fullSet, iter: 0 i:53, pairs changed 5\n",
      "fullSet, iter: 0 i:54, pairs changed 5\n",
      "fullSet, iter: 0 i:55, pairs changed 5\n",
      "fullSet, iter: 0 i:56, pairs changed 5\n",
      "fullSet, iter: 0 i:57, pairs changed 5\n",
      "fullSet, iter: 0 i:58, pairs changed 5\n",
      "fullSet, iter: 0 i:59, pairs changed 5\n",
      "fullSet, iter: 0 i:60, pairs changed 5\n",
      "fullSet, iter: 0 i:61, pairs changed 5\n",
      "fullSet, iter: 0 i:62, pairs changed 5\n",
      "fullSet, iter: 0 i:63, pairs changed 5\n",
      "fullSet, iter: 0 i:64, pairs changed 5\n",
      "fullSet, iter: 0 i:65, pairs changed 5\n",
      "fullSet, iter: 0 i:66, pairs changed 5\n",
      "fullSet, iter: 0 i:67, pairs changed 5\n",
      "L==H\n",
      "fullSet, iter: 0 i:68, pairs changed 5\n",
      "fullSet, iter: 0 i:69, pairs changed 5\n",
      "fullSet, iter: 0 i:70, pairs changed 5\n",
      "L==H\n",
      "fullSet, iter: 0 i:71, pairs changed 5\n",
      "L==H\n",
      "fullSet, iter: 0 i:72, pairs changed 5\n",
      "fullSet, iter: 0 i:73, pairs changed 5\n",
      "fullSet, iter: 0 i:74, pairs changed 5\n",
      "fullSet, iter: 0 i:75, pairs changed 5\n",
      "fullSet, iter: 0 i:76, pairs changed 5\n",
      "fullSet, iter: 0 i:77, pairs changed 5\n",
      "fullSet, iter: 0 i:78, pairs changed 5\n",
      "fullSet, iter: 0 i:79, pairs changed 5\n",
      "iteration number: 1\n",
      "j not moving enough\n",
      "non-bound, iter: 1 i:2, pairs changed 0\n",
      "j not moving enough\n",
      "non-bound, iter: 1 i:3, pairs changed 0\n",
      "j not moving enough\n",
      "non-bound, iter: 1 i:5, pairs changed 0\n",
      "non-bound, iter: 1 i:38, pairs changed 0\n",
      "iteration number: 2\n",
      "fullSet, iter: 2 i:0, pairs changed 0\n",
      "fullSet, iter: 2 i:1, pairs changed 0\n",
      "j not moving enough\n",
      "fullSet, iter: 2 i:2, pairs changed 0\n",
      "j not moving enough\n",
      "fullSet, iter: 2 i:3, pairs changed 0\n",
      "L==H\n",
      "fullSet, iter: 2 i:4, pairs changed 0\n",
      "j not moving enough\n",
      "fullSet, iter: 2 i:5, pairs changed 0\n",
      "fullSet, iter: 2 i:6, pairs changed 0\n",
      "fullSet, iter: 2 i:7, pairs changed 0\n",
      "fullSet, iter: 2 i:8, pairs changed 0\n",
      "fullSet, iter: 2 i:9, pairs changed 0\n",
      "fullSet, iter: 2 i:10, pairs changed 0\n",
      "fullSet, iter: 2 i:11, pairs changed 0\n",
      "j not moving enough\n",
      "fullSet, iter: 2 i:12, pairs changed 0\n",
      "fullSet, iter: 2 i:13, pairs changed 0\n",
      "fullSet, iter: 2 i:14, pairs changed 0\n",
      "fullSet, iter: 2 i:15, pairs changed 0\n",
      "fullSet, iter: 2 i:16, pairs changed 0\n",
      "fullSet, iter: 2 i:17, pairs changed 0\n",
      "L==H\n",
      "fullSet, iter: 2 i:18, pairs changed 0\n",
      "fullSet, iter: 2 i:19, pairs changed 0\n",
      "fullSet, iter: 2 i:20, pairs changed 0\n",
      "fullSet, iter: 2 i:21, pairs changed 0\n",
      "fullSet, iter: 2 i:22, pairs changed 0\n",
      "fullSet, iter: 2 i:23, pairs changed 0\n",
      "fullSet, iter: 2 i:24, pairs changed 0\n",
      "fullSet, iter: 2 i:25, pairs changed 0\n",
      "fullSet, iter: 2 i:26, pairs changed 0\n",
      "fullSet, iter: 2 i:27, pairs changed 0\n",
      "fullSet, iter: 2 i:28, pairs changed 0\n",
      "fullSet, iter: 2 i:29, pairs changed 0\n",
      "j not moving enough\n",
      "fullSet, iter: 2 i:30, pairs changed 0\n",
      "fullSet, iter: 2 i:31, pairs changed 0\n",
      "fullSet, iter: 2 i:32, pairs changed 0\n",
      "fullSet, iter: 2 i:33, pairs changed 0\n",
      "fullSet, iter: 2 i:34, pairs changed 0\n",
      "fullSet, iter: 2 i:35, pairs changed 0\n",
      "fullSet, iter: 2 i:36, pairs changed 0\n",
      "fullSet, iter: 2 i:37, pairs changed 0\n",
      "fullSet, iter: 2 i:38, pairs changed 0\n",
      "fullSet, iter: 2 i:39, pairs changed 0\n",
      "fullSet, iter: 2 i:40, pairs changed 0\n",
      "fullSet, iter: 2 i:41, pairs changed 0\n",
      "fullSet, iter: 2 i:42, pairs changed 0\n",
      "fullSet, iter: 2 i:43, pairs changed 0\n",
      "fullSet, iter: 2 i:44, pairs changed 0\n",
      "fullSet, iter: 2 i:45, pairs changed 0\n",
      "fullSet, iter: 2 i:46, pairs changed 0\n",
      "L==H\n",
      "fullSet, iter: 2 i:47, pairs changed 0\n",
      "fullSet, iter: 2 i:48, pairs changed 0\n",
      "fullSet, iter: 2 i:49, pairs changed 0\n",
      "fullSet, iter: 2 i:50, pairs changed 0\n",
      "fullSet, iter: 2 i:51, pairs changed 0\n",
      "L==H\n",
      "fullSet, iter: 2 i:52, pairs changed 0\n",
      "fullSet, iter: 2 i:53, pairs changed 0\n",
      "fullSet, iter: 2 i:54, pairs changed 0\n",
      "fullSet, iter: 2 i:55, pairs changed 0\n",
      "fullSet, iter: 2 i:56, pairs changed 0\n",
      "fullSet, iter: 2 i:57, pairs changed 0\n",
      "fullSet, iter: 2 i:58, pairs changed 0\n",
      "fullSet, iter: 2 i:59, pairs changed 0\n",
      "fullSet, iter: 2 i:60, pairs changed 0\n",
      "fullSet, iter: 2 i:61, pairs changed 0\n",
      "fullSet, iter: 2 i:62, pairs changed 0\n",
      "fullSet, iter: 2 i:63, pairs changed 0\n",
      "fullSet, iter: 2 i:64, pairs changed 0\n",
      "fullSet, iter: 2 i:65, pairs changed 0\n",
      "fullSet, iter: 2 i:66, pairs changed 0\n",
      "fullSet, iter: 2 i:67, pairs changed 0\n",
      "L==H\n",
      "fullSet, iter: 2 i:68, pairs changed 0\n",
      "fullSet, iter: 2 i:69, pairs changed 0\n",
      "fullSet, iter: 2 i:70, pairs changed 0\n",
      "L==H\n",
      "fullSet, iter: 2 i:71, pairs changed 0\n",
      "L==H\n",
      "fullSet, iter: 2 i:72, pairs changed 0\n",
      "fullSet, iter: 2 i:73, pairs changed 0\n",
      "fullSet, iter: 2 i:74, pairs changed 0\n",
      "fullSet, iter: 2 i:75, pairs changed 0\n",
      "fullSet, iter: 2 i:76, pairs changed 0\n",
      "fullSet, iter: 2 i:77, pairs changed 0\n",
      "fullSet, iter: 2 i:78, pairs changed 0\n",
      "fullSet, iter: 2 i:79, pairs changed 0\n",
      "iteration number: 3\n"
     ]
    }
   ],
   "source": [
    "dataMat, labelMat = loadDataSet('linearly_sep.csv')\n",
    "X_train, X_test, y_train, y_test = train_test_split(dataMat, labelMat, test_size=0.2, random_state=121)\n",
    "model = svm_basic()\n",
    "model.fit(X_train, y_train)\n",
    "hypothesis = model.predict(X_test)"
   ]
  },
  {
   "cell_type": "code",
   "execution_count": 7,
   "metadata": {},
   "outputs": [],
   "source": [
    "df_x_test = DataFrame(X_test, columns = [\"x1\", \"x2\"])\n",
    "df_hypo = DataFrame(hypothesis.T, columns = [\"type\"])"
   ]
  },
  {
   "cell_type": "code",
   "execution_count": 8,
   "metadata": {},
   "outputs": [
    {
     "data": {
      "text/html": [
       "<div>\n",
       "<style>\n",
       "    .dataframe thead tr:only-child th {\n",
       "        text-align: right;\n",
       "    }\n",
       "\n",
       "    .dataframe thead th {\n",
       "        text-align: left;\n",
       "    }\n",
       "\n",
       "    .dataframe tbody tr th {\n",
       "        vertical-align: top;\n",
       "    }\n",
       "</style>\n",
       "<table border=\"1\" class=\"dataframe\">\n",
       "  <thead>\n",
       "    <tr style=\"text-align: right;\">\n",
       "      <th></th>\n",
       "      <th>x1</th>\n",
       "      <th>x2</th>\n",
       "      <th>type</th>\n",
       "    </tr>\n",
       "  </thead>\n",
       "  <tbody>\n",
       "    <tr>\n",
       "      <th>0</th>\n",
       "      <td>4.846514</td>\n",
       "      <td>1.772123</td>\n",
       "      <td>1.0</td>\n",
       "    </tr>\n",
       "    <tr>\n",
       "      <th>1</th>\n",
       "      <td>0.933640</td>\n",
       "      <td>5.224675</td>\n",
       "      <td>-1.0</td>\n",
       "    </tr>\n",
       "    <tr>\n",
       "      <th>2</th>\n",
       "      <td>0.874154</td>\n",
       "      <td>5.254460</td>\n",
       "      <td>-1.0</td>\n",
       "    </tr>\n",
       "    <tr>\n",
       "      <th>3</th>\n",
       "      <td>4.455876</td>\n",
       "      <td>-0.309145</td>\n",
       "      <td>1.0</td>\n",
       "    </tr>\n",
       "    <tr>\n",
       "      <th>4</th>\n",
       "      <td>1.495002</td>\n",
       "      <td>3.398053</td>\n",
       "      <td>-1.0</td>\n",
       "    </tr>\n",
       "  </tbody>\n",
       "</table>\n",
       "</div>"
      ],
      "text/plain": [
       "         x1        x2  type\n",
       "0  4.846514  1.772123   1.0\n",
       "1  0.933640  5.224675  -1.0\n",
       "2  0.874154  5.254460  -1.0\n",
       "3  4.455876 -0.309145   1.0\n",
       "4  1.495002  3.398053  -1.0"
      ]
     },
     "execution_count": 8,
     "metadata": {},
     "output_type": "execute_result"
    }
   ],
   "source": [
    "hypo_data = concat([df_x_test, df_hypo], axis=1)\n",
    "hypo_data.head()"
   ]
  },
  {
   "cell_type": "code",
   "execution_count": 9,
   "metadata": {},
   "outputs": [],
   "source": [
    "import seaborn as sns\n",
    "import matplotlib.pyplot as plt\n",
    "%matplotlib inline"
   ]
  },
  {
   "cell_type": "code",
   "execution_count": 10,
   "metadata": {},
   "outputs": [
    {
     "data": {
      "text/plain": [
       "<seaborn.axisgrid.FacetGrid at 0x1123bf940>"
      ]
     },
     "execution_count": 10,
     "metadata": {},
     "output_type": "execute_result"
    },
    {
     "data": {
      "image/png": "[encoded data removed]",
      "text/plain": [
       "<matplotlib.figure.Figure at 0x1123d2128>"
      ]
     },
     "metadata": {},
     "output_type": "display_data"
    }
   ],
   "source": [
    "sns.lmplot(\"x1\", \"x2\",data=hypo_data, ci = None, hue=\"type\", fit_reg=False)"
   ]
  },
  {
   "cell_type": "code",
   "execution_count": null,
   "metadata": {
    "collapsed": true
   },
   "outputs": [],
   "source": []
  }
 ],
 "metadata": {
  "kernelspec": {
   "display_name": "Python 3",
   "language": "python",
   "name": "python3"
  },
  "language_info": {
   "codemirror_mode": {
    "name": "ipython",
    "version": 3
   },
   "file_extension": ".py",
   "mimetype": "text/x-python",
   "name": "python",
   "nbconvert_exporter": "python",
   "pygments_lexer": "ipython3",
   "version": "3.6.1"
  }
 },
 "nbformat": 4,
 "nbformat_minor": 2
}
