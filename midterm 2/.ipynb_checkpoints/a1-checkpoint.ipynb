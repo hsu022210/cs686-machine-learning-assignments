{
 "cells": [
  {
   "cell_type": "code",
   "execution_count": 1,
   "metadata": {},
   "outputs": [],
   "source": [
    "import pandas as pd\n",
    "import numpy as np\n",
    "from sklearn.metrics import accuracy_score\n",
    "from sklearn.model_selection import train_test_split\n",
    "from sklearn.ensemble import RandomForestClassifier, AdaBoostClassifier\n",
    "from sklearn.model_selection import GridSearchCV\n",
    "from xgboost import XGBClassifier\n",
    "import seaborn as sns\n",
    "import matplotlib.pyplot as plt \n",
    "%matplotlib inline"
   ]
  },
  {
   "cell_type": "code",
   "execution_count": 2,
   "metadata": {},
   "outputs": [
    {
     "data": {
      "text/html": [
       "<div>\n",
       "<style>\n",
       "    .dataframe thead tr:only-child th {\n",
       "        text-align: right;\n",
       "    }\n",
       "\n",
       "    .dataframe thead th {\n",
       "        text-align: left;\n",
       "    }\n",
       "\n",
       "    .dataframe tbody tr th {\n",
       "        vertical-align: top;\n",
       "    }\n",
       "</style>\n",
       "<table border=\"1\" class=\"dataframe\">\n",
       "  <thead>\n",
       "    <tr style=\"text-align: right;\">\n",
       "      <th></th>\n",
       "      <th>MONTH</th>\n",
       "      <th>DAY_OF_WEEK</th>\n",
       "      <th>FL_DATE</th>\n",
       "      <th>UNIQUE_CARRIER</th>\n",
       "      <th>FL_NUM</th>\n",
       "      <th>ORIGIN</th>\n",
       "      <th>ORIGIN_CITY_NAME</th>\n",
       "      <th>DEST</th>\n",
       "      <th>DEST_CITY_NAME</th>\n",
       "      <th>CRS_DEP_TIME</th>\n",
       "      <th>ARR_DEL15</th>\n",
       "      <th>CRS_ELAPSED_TIME</th>\n",
       "      <th>DISTANCE</th>\n",
       "      <th>Unnamed: 13</th>\n",
       "    </tr>\n",
       "  </thead>\n",
       "  <tbody>\n",
       "    <tr>\n",
       "      <th>0</th>\n",
       "      <td>2.0</td>\n",
       "      <td>6.0</td>\n",
       "      <td>2017-02-25</td>\n",
       "      <td>B6</td>\n",
       "      <td>28.0</td>\n",
       "      <td>MCO</td>\n",
       "      <td>Orlando, FL</td>\n",
       "      <td>EWR</td>\n",
       "      <td>Newark, NJ</td>\n",
       "      <td>1000.0</td>\n",
       "      <td>0.0</td>\n",
       "      <td>156.0</td>\n",
       "      <td>937.0</td>\n",
       "      <td>NaN</td>\n",
       "    </tr>\n",
       "    <tr>\n",
       "      <th>1</th>\n",
       "      <td>2.0</td>\n",
       "      <td>7.0</td>\n",
       "      <td>2017-02-26</td>\n",
       "      <td>B6</td>\n",
       "      <td>28.0</td>\n",
       "      <td>MCO</td>\n",
       "      <td>Orlando, FL</td>\n",
       "      <td>EWR</td>\n",
       "      <td>Newark, NJ</td>\n",
       "      <td>739.0</td>\n",
       "      <td>0.0</td>\n",
       "      <td>153.0</td>\n",
       "      <td>937.0</td>\n",
       "      <td>NaN</td>\n",
       "    </tr>\n",
       "    <tr>\n",
       "      <th>2</th>\n",
       "      <td>2.0</td>\n",
       "      <td>1.0</td>\n",
       "      <td>2017-02-27</td>\n",
       "      <td>B6</td>\n",
       "      <td>28.0</td>\n",
       "      <td>MCO</td>\n",
       "      <td>Orlando, FL</td>\n",
       "      <td>EWR</td>\n",
       "      <td>Newark, NJ</td>\n",
       "      <td>1028.0</td>\n",
       "      <td>0.0</td>\n",
       "      <td>158.0</td>\n",
       "      <td>937.0</td>\n",
       "      <td>NaN</td>\n",
       "    </tr>\n",
       "    <tr>\n",
       "      <th>3</th>\n",
       "      <td>2.0</td>\n",
       "      <td>2.0</td>\n",
       "      <td>2017-02-28</td>\n",
       "      <td>B6</td>\n",
       "      <td>28.0</td>\n",
       "      <td>MCO</td>\n",
       "      <td>Orlando, FL</td>\n",
       "      <td>EWR</td>\n",
       "      <td>Newark, NJ</td>\n",
       "      <td>739.0</td>\n",
       "      <td>0.0</td>\n",
       "      <td>153.0</td>\n",
       "      <td>937.0</td>\n",
       "      <td>NaN</td>\n",
       "    </tr>\n",
       "    <tr>\n",
       "      <th>4</th>\n",
       "      <td>2.0</td>\n",
       "      <td>3.0</td>\n",
       "      <td>2017-02-01</td>\n",
       "      <td>B6</td>\n",
       "      <td>33.0</td>\n",
       "      <td>BTV</td>\n",
       "      <td>Burlington, VT</td>\n",
       "      <td>JFK</td>\n",
       "      <td>New York, NY</td>\n",
       "      <td>1907.0</td>\n",
       "      <td>0.0</td>\n",
       "      <td>90.0</td>\n",
       "      <td>266.0</td>\n",
       "      <td>NaN</td>\n",
       "    </tr>\n",
       "  </tbody>\n",
       "</table>\n",
       "</div>"
      ],
      "text/plain": [
       "   MONTH  DAY_OF_WEEK     FL_DATE UNIQUE_CARRIER  FL_NUM ORIGIN  \\\n",
       "0    2.0          6.0  2017-02-25             B6    28.0    MCO   \n",
       "1    2.0          7.0  2017-02-26             B6    28.0    MCO   \n",
       "2    2.0          1.0  2017-02-27             B6    28.0    MCO   \n",
       "3    2.0          2.0  2017-02-28             B6    28.0    MCO   \n",
       "4    2.0          3.0  2017-02-01             B6    33.0    BTV   \n",
       "\n",
       "  ORIGIN_CITY_NAME DEST DEST_CITY_NAME  CRS_DEP_TIME  ARR_DEL15  \\\n",
       "0      Orlando, FL  EWR     Newark, NJ        1000.0        0.0   \n",
       "1      Orlando, FL  EWR     Newark, NJ         739.0        0.0   \n",
       "2      Orlando, FL  EWR     Newark, NJ        1028.0        0.0   \n",
       "3      Orlando, FL  EWR     Newark, NJ         739.0        0.0   \n",
       "4   Burlington, VT  JFK   New York, NY        1907.0        0.0   \n",
       "\n",
       "   CRS_ELAPSED_TIME  DISTANCE  Unnamed: 13  \n",
       "0             156.0     937.0          NaN  \n",
       "1             153.0     937.0          NaN  \n",
       "2             158.0     937.0          NaN  \n",
       "3             153.0     937.0          NaN  \n",
       "4              90.0     266.0          NaN  "
      ]
     },
     "execution_count": 2,
     "metadata": {},
     "output_type": "execute_result"
    }
   ],
   "source": [
    "df = pd.read_csv(\"aggregated.csv\")\n",
    "# df = df.fillna(df.mean())\n",
    "df.head()"
   ]
  },
  {
   "cell_type": "code",
   "execution_count": 3,
   "metadata": {},
   "outputs": [
    {
     "data": {
      "text/html": [
       "<div>\n",
       "<style>\n",
       "    .dataframe thead tr:only-child th {\n",
       "        text-align: right;\n",
       "    }\n",
       "\n",
       "    .dataframe thead th {\n",
       "        text-align: left;\n",
       "    }\n",
       "\n",
       "    .dataframe tbody tr th {\n",
       "        vertical-align: top;\n",
       "    }\n",
       "</style>\n",
       "<table border=\"1\" class=\"dataframe\">\n",
       "  <thead>\n",
       "    <tr style=\"text-align: right;\">\n",
       "      <th></th>\n",
       "      <th>MONTH</th>\n",
       "      <th>DAY_OF_WEEK</th>\n",
       "      <th>FL_DATE</th>\n",
       "      <th>UNIQUE_CARRIER</th>\n",
       "      <th>FL_NUM</th>\n",
       "      <th>ORIGIN</th>\n",
       "      <th>DEST</th>\n",
       "      <th>CRS_DEP_TIME</th>\n",
       "      <th>ARR_DEL15</th>\n",
       "      <th>CRS_ELAPSED_TIME</th>\n",
       "      <th>DISTANCE</th>\n",
       "    </tr>\n",
       "  </thead>\n",
       "  <tbody>\n",
       "    <tr>\n",
       "      <th>0</th>\n",
       "      <td>2.0</td>\n",
       "      <td>6.0</td>\n",
       "      <td>2017-02-25</td>\n",
       "      <td>B6</td>\n",
       "      <td>28.0</td>\n",
       "      <td>MCO</td>\n",
       "      <td>EWR</td>\n",
       "      <td>1000.0</td>\n",
       "      <td>0.0</td>\n",
       "      <td>156.0</td>\n",
       "      <td>937.0</td>\n",
       "    </tr>\n",
       "    <tr>\n",
       "      <th>1</th>\n",
       "      <td>2.0</td>\n",
       "      <td>7.0</td>\n",
       "      <td>2017-02-26</td>\n",
       "      <td>B6</td>\n",
       "      <td>28.0</td>\n",
       "      <td>MCO</td>\n",
       "      <td>EWR</td>\n",
       "      <td>739.0</td>\n",
       "      <td>0.0</td>\n",
       "      <td>153.0</td>\n",
       "      <td>937.0</td>\n",
       "    </tr>\n",
       "    <tr>\n",
       "      <th>2</th>\n",
       "      <td>2.0</td>\n",
       "      <td>1.0</td>\n",
       "      <td>2017-02-27</td>\n",
       "      <td>B6</td>\n",
       "      <td>28.0</td>\n",
       "      <td>MCO</td>\n",
       "      <td>EWR</td>\n",
       "      <td>1028.0</td>\n",
       "      <td>0.0</td>\n",
       "      <td>158.0</td>\n",
       "      <td>937.0</td>\n",
       "    </tr>\n",
       "    <tr>\n",
       "      <th>3</th>\n",
       "      <td>2.0</td>\n",
       "      <td>2.0</td>\n",
       "      <td>2017-02-28</td>\n",
       "      <td>B6</td>\n",
       "      <td>28.0</td>\n",
       "      <td>MCO</td>\n",
       "      <td>EWR</td>\n",
       "      <td>739.0</td>\n",
       "      <td>0.0</td>\n",
       "      <td>153.0</td>\n",
       "      <td>937.0</td>\n",
       "    </tr>\n",
       "    <tr>\n",
       "      <th>4</th>\n",
       "      <td>2.0</td>\n",
       "      <td>3.0</td>\n",
       "      <td>2017-02-01</td>\n",
       "      <td>B6</td>\n",
       "      <td>33.0</td>\n",
       "      <td>BTV</td>\n",
       "      <td>JFK</td>\n",
       "      <td>1907.0</td>\n",
       "      <td>0.0</td>\n",
       "      <td>90.0</td>\n",
       "      <td>266.0</td>\n",
       "    </tr>\n",
       "  </tbody>\n",
       "</table>\n",
       "</div>"
      ],
      "text/plain": [
       "   MONTH  DAY_OF_WEEK     FL_DATE UNIQUE_CARRIER  FL_NUM ORIGIN DEST  \\\n",
       "0    2.0          6.0  2017-02-25             B6    28.0    MCO  EWR   \n",
       "1    2.0          7.0  2017-02-26             B6    28.0    MCO  EWR   \n",
       "2    2.0          1.0  2017-02-27             B6    28.0    MCO  EWR   \n",
       "3    2.0          2.0  2017-02-28             B6    28.0    MCO  EWR   \n",
       "4    2.0          3.0  2017-02-01             B6    33.0    BTV  JFK   \n",
       "\n",
       "   CRS_DEP_TIME  ARR_DEL15  CRS_ELAPSED_TIME  DISTANCE  \n",
       "0        1000.0        0.0             156.0     937.0  \n",
       "1         739.0        0.0             153.0     937.0  \n",
       "2        1028.0        0.0             158.0     937.0  \n",
       "3         739.0        0.0             153.0     937.0  \n",
       "4        1907.0        0.0              90.0     266.0  "
      ]
     },
     "execution_count": 3,
     "metadata": {},
     "output_type": "execute_result"
    }
   ],
   "source": [
    "df = df.drop(df.columns[[13]], axis=1)\n",
    "# df = df.drop(\"FL_DATE\", axis=1)\n",
    "df = df.drop(\"ORIGIN_CITY_NAME\", axis=1)\n",
    "df = df.drop(\"DEST_CITY_NAME\", axis=1)\n",
    "df.head()"
   ]
  },
  {
   "cell_type": "markdown",
   "metadata": {},
   "source": [
    "After viewing the data, I found there is a unnamed and empty column in dataset, so I removed it from data, also, I figured that city and airport code have roughly the same meaning, there might be two airports in one city but not one airport in two cities, so I removed the columns of city name and keep the columns of airport code."
   ]
  },
  {
   "cell_type": "code",
   "execution_count": 4,
   "metadata": {},
   "outputs": [
    {
     "name": "stdout",
     "output_type": "stream",
     "text": [
      "NaN value exists?: True\n"
     ]
    }
   ],
   "source": [
    "print(\"NaN value exists?:\", df.isnull().values.any())"
   ]
  },
  {
   "cell_type": "code",
   "execution_count": 5,
   "metadata": {},
   "outputs": [
    {
     "name": "stdout",
     "output_type": "stream",
     "text": [
      "NaN value exists?:\n",
      "MONTH False\n",
      "DAY_OF_WEEK False\n",
      "FL_DATE False\n",
      "UNIQUE_CARRIER False\n",
      "FL_NUM False\n",
      "ORIGIN False\n",
      "DEST False\n",
      "CRS_DEP_TIME False\n",
      "ARR_DEL15 True\n",
      "CRS_ELAPSED_TIME True\n",
      "DISTANCE False\n"
     ]
    }
   ],
   "source": [
    "print(\"NaN value exists?:\")\n",
    "for col in df.columns:\n",
    "    print(col, df[col].isnull().values.any())"
   ]
  },
  {
   "cell_type": "markdown",
   "metadata": {},
   "source": [
    "Turned out there is NaN value in the data so I checked what columns are having NaN value. For different columns, I specify particular strategy for different imputer that I think is suitable for that type of value. Most frequent for ARR_DEL15 which is a boolean value that indicates whether or not the delay time was more than 15 minutes and mean for CRS_ELAPSED_TIME which is a value indicates how long the filght took."
   ]
  },
  {
   "cell_type": "code",
   "execution_count": 6,
   "metadata": {
    "collapsed": true
   },
   "outputs": [],
   "source": [
    "from sklearn.preprocessing import Imputer\n",
    "def get_imputed_data(option, data):\n",
    "    print(\"-----------------------------------------\")\n",
    "    print(\"Imputer:\", option)\n",
    "    imputer = Imputer(missing_values=\"NaN\", strategy=option, axis=0)\n",
    "    data_imputed = imputer.fit_transform(data)\n",
    "    return data_imputed"
   ]
  },
  {
   "cell_type": "code",
   "execution_count": 7,
   "metadata": {},
   "outputs": [
    {
     "name": "stdout",
     "output_type": "stream",
     "text": [
      "-----------------------------------------\n",
      "Imputer: most_frequent\n",
      "-----------------------------------------\n",
      "Imputer: mean\n",
      "NaN value exists?: False\n"
     ]
    },
    {
     "data": {
      "text/html": [
       "<div>\n",
       "<style>\n",
       "    .dataframe thead tr:only-child th {\n",
       "        text-align: right;\n",
       "    }\n",
       "\n",
       "    .dataframe thead th {\n",
       "        text-align: left;\n",
       "    }\n",
       "\n",
       "    .dataframe tbody tr th {\n",
       "        vertical-align: top;\n",
       "    }\n",
       "</style>\n",
       "<table border=\"1\" class=\"dataframe\">\n",
       "  <thead>\n",
       "    <tr style=\"text-align: right;\">\n",
       "      <th></th>\n",
       "      <th>MONTH</th>\n",
       "      <th>DAY_OF_WEEK</th>\n",
       "      <th>FL_DATE</th>\n",
       "      <th>UNIQUE_CARRIER</th>\n",
       "      <th>FL_NUM</th>\n",
       "      <th>ORIGIN</th>\n",
       "      <th>DEST</th>\n",
       "      <th>CRS_DEP_TIME</th>\n",
       "      <th>ARR_DEL15</th>\n",
       "      <th>CRS_ELAPSED_TIME</th>\n",
       "      <th>DISTANCE</th>\n",
       "    </tr>\n",
       "  </thead>\n",
       "  <tbody>\n",
       "    <tr>\n",
       "      <th>0</th>\n",
       "      <td>2.0</td>\n",
       "      <td>6.0</td>\n",
       "      <td>2017-02-25</td>\n",
       "      <td>B6</td>\n",
       "      <td>28.0</td>\n",
       "      <td>MCO</td>\n",
       "      <td>EWR</td>\n",
       "      <td>1000.0</td>\n",
       "      <td>0.0</td>\n",
       "      <td>156.0</td>\n",
       "      <td>937.0</td>\n",
       "    </tr>\n",
       "    <tr>\n",
       "      <th>1</th>\n",
       "      <td>2.0</td>\n",
       "      <td>7.0</td>\n",
       "      <td>2017-02-26</td>\n",
       "      <td>B6</td>\n",
       "      <td>28.0</td>\n",
       "      <td>MCO</td>\n",
       "      <td>EWR</td>\n",
       "      <td>739.0</td>\n",
       "      <td>0.0</td>\n",
       "      <td>153.0</td>\n",
       "      <td>937.0</td>\n",
       "    </tr>\n",
       "    <tr>\n",
       "      <th>2</th>\n",
       "      <td>2.0</td>\n",
       "      <td>1.0</td>\n",
       "      <td>2017-02-27</td>\n",
       "      <td>B6</td>\n",
       "      <td>28.0</td>\n",
       "      <td>MCO</td>\n",
       "      <td>EWR</td>\n",
       "      <td>1028.0</td>\n",
       "      <td>0.0</td>\n",
       "      <td>158.0</td>\n",
       "      <td>937.0</td>\n",
       "    </tr>\n",
       "    <tr>\n",
       "      <th>3</th>\n",
       "      <td>2.0</td>\n",
       "      <td>2.0</td>\n",
       "      <td>2017-02-28</td>\n",
       "      <td>B6</td>\n",
       "      <td>28.0</td>\n",
       "      <td>MCO</td>\n",
       "      <td>EWR</td>\n",
       "      <td>739.0</td>\n",
       "      <td>0.0</td>\n",
       "      <td>153.0</td>\n",
       "      <td>937.0</td>\n",
       "    </tr>\n",
       "    <tr>\n",
       "      <th>4</th>\n",
       "      <td>2.0</td>\n",
       "      <td>3.0</td>\n",
       "      <td>2017-02-01</td>\n",
       "      <td>B6</td>\n",
       "      <td>33.0</td>\n",
       "      <td>BTV</td>\n",
       "      <td>JFK</td>\n",
       "      <td>1907.0</td>\n",
       "      <td>0.0</td>\n",
       "      <td>90.0</td>\n",
       "      <td>266.0</td>\n",
       "    </tr>\n",
       "  </tbody>\n",
       "</table>\n",
       "</div>"
      ],
      "text/plain": [
       "   MONTH  DAY_OF_WEEK     FL_DATE UNIQUE_CARRIER  FL_NUM ORIGIN DEST  \\\n",
       "0    2.0          6.0  2017-02-25             B6    28.0    MCO  EWR   \n",
       "1    2.0          7.0  2017-02-26             B6    28.0    MCO  EWR   \n",
       "2    2.0          1.0  2017-02-27             B6    28.0    MCO  EWR   \n",
       "3    2.0          2.0  2017-02-28             B6    28.0    MCO  EWR   \n",
       "4    2.0          3.0  2017-02-01             B6    33.0    BTV  JFK   \n",
       "\n",
       "   CRS_DEP_TIME  ARR_DEL15  CRS_ELAPSED_TIME  DISTANCE  \n",
       "0        1000.0        0.0             156.0     937.0  \n",
       "1         739.0        0.0             153.0     937.0  \n",
       "2        1028.0        0.0             158.0     937.0  \n",
       "3         739.0        0.0             153.0     937.0  \n",
       "4        1907.0        0.0              90.0     266.0  "
      ]
     },
     "execution_count": 7,
     "metadata": {},
     "output_type": "execute_result"
    }
   ],
   "source": [
    "df[[\"ARR_DEL15\"]] = get_imputed_data(\"most_frequent\", df[[\"ARR_DEL15\"]])\n",
    "df[[\"CRS_ELAPSED_TIME\"]] = get_imputed_data(\"mean\", df[[\"CRS_ELAPSED_TIME\"]])\n",
    "print(\"NaN value exists?:\", df.isnull().values.any())\n",
    "df.head()"
   ]
  },
  {
   "cell_type": "code",
   "execution_count": 8,
   "metadata": {
    "collapsed": true
   },
   "outputs": [],
   "source": [
    "from sklearn import preprocessing\n",
    "def encode_labels(labels):\n",
    "    le = preprocessing.LabelEncoder()\n",
    "    return le.fit_transform(labels)"
   ]
  },
  {
   "cell_type": "code",
   "execution_count": 9,
   "metadata": {},
   "outputs": [
    {
     "data": {
      "text/plain": [
       "MONTH               float64\n",
       "DAY_OF_WEEK         float64\n",
       "FL_DATE              object\n",
       "UNIQUE_CARRIER       object\n",
       "FL_NUM              float64\n",
       "ORIGIN               object\n",
       "DEST                 object\n",
       "CRS_DEP_TIME        float64\n",
       "ARR_DEL15           float64\n",
       "CRS_ELAPSED_TIME    float64\n",
       "DISTANCE            float64\n",
       "dtype: object"
      ]
     },
     "execution_count": 9,
     "metadata": {},
     "output_type": "execute_result"
    }
   ],
   "source": [
    "df.dtypes"
   ]
  },
  {
   "cell_type": "markdown",
   "metadata": {},
   "source": [
    "Do label encoding for all the varaibles that are string, so the model can recognize them and learn."
   ]
  },
  {
   "cell_type": "code",
   "execution_count": 10,
   "metadata": {},
   "outputs": [
    {
     "name": "stdout",
     "output_type": "stream",
     "text": [
      "FL_DATE\n",
      "UNIQUE_CARRIER\n",
      "ORIGIN\n",
      "DEST\n"
     ]
    },
    {
     "data": {
      "text/html": [
       "<div>\n",
       "<style>\n",
       "    .dataframe thead tr:only-child th {\n",
       "        text-align: right;\n",
       "    }\n",
       "\n",
       "    .dataframe thead th {\n",
       "        text-align: left;\n",
       "    }\n",
       "\n",
       "    .dataframe tbody tr th {\n",
       "        vertical-align: top;\n",
       "    }\n",
       "</style>\n",
       "<table border=\"1\" class=\"dataframe\">\n",
       "  <thead>\n",
       "    <tr style=\"text-align: right;\">\n",
       "      <th></th>\n",
       "      <th>MONTH</th>\n",
       "      <th>DAY_OF_WEEK</th>\n",
       "      <th>FL_DATE</th>\n",
       "      <th>UNIQUE_CARRIER</th>\n",
       "      <th>FL_NUM</th>\n",
       "      <th>ORIGIN</th>\n",
       "      <th>DEST</th>\n",
       "      <th>CRS_DEP_TIME</th>\n",
       "      <th>ARR_DEL15</th>\n",
       "      <th>CRS_ELAPSED_TIME</th>\n",
       "      <th>DISTANCE</th>\n",
       "    </tr>\n",
       "  </thead>\n",
       "  <tbody>\n",
       "    <tr>\n",
       "      <th>0</th>\n",
       "      <td>2.0</td>\n",
       "      <td>6.0</td>\n",
       "      <td>330</td>\n",
       "      <td>2</td>\n",
       "      <td>28.0</td>\n",
       "      <td>188</td>\n",
       "      <td>98</td>\n",
       "      <td>1000.0</td>\n",
       "      <td>0.0</td>\n",
       "      <td>156.0</td>\n",
       "      <td>937.0</td>\n",
       "    </tr>\n",
       "    <tr>\n",
       "      <th>1</th>\n",
       "      <td>2.0</td>\n",
       "      <td>7.0</td>\n",
       "      <td>331</td>\n",
       "      <td>2</td>\n",
       "      <td>28.0</td>\n",
       "      <td>188</td>\n",
       "      <td>98</td>\n",
       "      <td>739.0</td>\n",
       "      <td>0.0</td>\n",
       "      <td>153.0</td>\n",
       "      <td>937.0</td>\n",
       "    </tr>\n",
       "    <tr>\n",
       "      <th>2</th>\n",
       "      <td>2.0</td>\n",
       "      <td>1.0</td>\n",
       "      <td>332</td>\n",
       "      <td>2</td>\n",
       "      <td>28.0</td>\n",
       "      <td>188</td>\n",
       "      <td>98</td>\n",
       "      <td>1028.0</td>\n",
       "      <td>0.0</td>\n",
       "      <td>158.0</td>\n",
       "      <td>937.0</td>\n",
       "    </tr>\n",
       "    <tr>\n",
       "      <th>3</th>\n",
       "      <td>2.0</td>\n",
       "      <td>2.0</td>\n",
       "      <td>333</td>\n",
       "      <td>2</td>\n",
       "      <td>28.0</td>\n",
       "      <td>188</td>\n",
       "      <td>98</td>\n",
       "      <td>739.0</td>\n",
       "      <td>0.0</td>\n",
       "      <td>153.0</td>\n",
       "      <td>937.0</td>\n",
       "    </tr>\n",
       "    <tr>\n",
       "      <th>4</th>\n",
       "      <td>2.0</td>\n",
       "      <td>3.0</td>\n",
       "      <td>306</td>\n",
       "      <td>2</td>\n",
       "      <td>33.0</td>\n",
       "      <td>48</td>\n",
       "      <td>158</td>\n",
       "      <td>1907.0</td>\n",
       "      <td>0.0</td>\n",
       "      <td>90.0</td>\n",
       "      <td>266.0</td>\n",
       "    </tr>\n",
       "  </tbody>\n",
       "</table>\n",
       "</div>"
      ],
      "text/plain": [
       "   MONTH  DAY_OF_WEEK  FL_DATE  UNIQUE_CARRIER  FL_NUM  ORIGIN  DEST  \\\n",
       "0    2.0          6.0      330               2    28.0     188    98   \n",
       "1    2.0          7.0      331               2    28.0     188    98   \n",
       "2    2.0          1.0      332               2    28.0     188    98   \n",
       "3    2.0          2.0      333               2    28.0     188    98   \n",
       "4    2.0          3.0      306               2    33.0      48   158   \n",
       "\n",
       "   CRS_DEP_TIME  ARR_DEL15  CRS_ELAPSED_TIME  DISTANCE  \n",
       "0        1000.0        0.0             156.0     937.0  \n",
       "1         739.0        0.0             153.0     937.0  \n",
       "2        1028.0        0.0             158.0     937.0  \n",
       "3         739.0        0.0             153.0     937.0  \n",
       "4        1907.0        0.0              90.0     266.0  "
      ]
     },
     "execution_count": 10,
     "metadata": {},
     "output_type": "execute_result"
    }
   ],
   "source": [
    "for col in df.columns:\n",
    "    if col == \"ARR_DEL15\":\n",
    "        continue\n",
    "    if df[col].dtype != np.float64 and df[col].dtype != np.int64:\n",
    "        print(col)\n",
    "        df[col] = encode_labels(df[col])\n",
    "df.head()"
   ]
  },
  {
   "cell_type": "markdown",
   "metadata": {},
   "source": [
    "Splitting data to predited variable and predictor variables."
   ]
  },
  {
   "cell_type": "code",
   "execution_count": 11,
   "metadata": {},
   "outputs": [
    {
     "data": {
      "text/html": [
       "<div>\n",
       "<style>\n",
       "    .dataframe thead tr:only-child th {\n",
       "        text-align: right;\n",
       "    }\n",
       "\n",
       "    .dataframe thead th {\n",
       "        text-align: left;\n",
       "    }\n",
       "\n",
       "    .dataframe tbody tr th {\n",
       "        vertical-align: top;\n",
       "    }\n",
       "</style>\n",
       "<table border=\"1\" class=\"dataframe\">\n",
       "  <thead>\n",
       "    <tr style=\"text-align: right;\">\n",
       "      <th></th>\n",
       "      <th>MONTH</th>\n",
       "      <th>DAY_OF_WEEK</th>\n",
       "      <th>FL_DATE</th>\n",
       "      <th>UNIQUE_CARRIER</th>\n",
       "      <th>FL_NUM</th>\n",
       "      <th>ORIGIN</th>\n",
       "      <th>DEST</th>\n",
       "      <th>CRS_DEP_TIME</th>\n",
       "      <th>CRS_ELAPSED_TIME</th>\n",
       "      <th>DISTANCE</th>\n",
       "    </tr>\n",
       "  </thead>\n",
       "  <tbody>\n",
       "    <tr>\n",
       "      <th>0</th>\n",
       "      <td>2.0</td>\n",
       "      <td>6.0</td>\n",
       "      <td>330</td>\n",
       "      <td>2</td>\n",
       "      <td>28.0</td>\n",
       "      <td>188</td>\n",
       "      <td>98</td>\n",
       "      <td>1000.0</td>\n",
       "      <td>156.0</td>\n",
       "      <td>937.0</td>\n",
       "    </tr>\n",
       "    <tr>\n",
       "      <th>1</th>\n",
       "      <td>2.0</td>\n",
       "      <td>7.0</td>\n",
       "      <td>331</td>\n",
       "      <td>2</td>\n",
       "      <td>28.0</td>\n",
       "      <td>188</td>\n",
       "      <td>98</td>\n",
       "      <td>739.0</td>\n",
       "      <td>153.0</td>\n",
       "      <td>937.0</td>\n",
       "    </tr>\n",
       "    <tr>\n",
       "      <th>2</th>\n",
       "      <td>2.0</td>\n",
       "      <td>1.0</td>\n",
       "      <td>332</td>\n",
       "      <td>2</td>\n",
       "      <td>28.0</td>\n",
       "      <td>188</td>\n",
       "      <td>98</td>\n",
       "      <td>1028.0</td>\n",
       "      <td>158.0</td>\n",
       "      <td>937.0</td>\n",
       "    </tr>\n",
       "    <tr>\n",
       "      <th>3</th>\n",
       "      <td>2.0</td>\n",
       "      <td>2.0</td>\n",
       "      <td>333</td>\n",
       "      <td>2</td>\n",
       "      <td>28.0</td>\n",
       "      <td>188</td>\n",
       "      <td>98</td>\n",
       "      <td>739.0</td>\n",
       "      <td>153.0</td>\n",
       "      <td>937.0</td>\n",
       "    </tr>\n",
       "    <tr>\n",
       "      <th>4</th>\n",
       "      <td>2.0</td>\n",
       "      <td>3.0</td>\n",
       "      <td>306</td>\n",
       "      <td>2</td>\n",
       "      <td>33.0</td>\n",
       "      <td>48</td>\n",
       "      <td>158</td>\n",
       "      <td>1907.0</td>\n",
       "      <td>90.0</td>\n",
       "      <td>266.0</td>\n",
       "    </tr>\n",
       "  </tbody>\n",
       "</table>\n",
       "</div>"
      ],
      "text/plain": [
       "   MONTH  DAY_OF_WEEK  FL_DATE  UNIQUE_CARRIER  FL_NUM  ORIGIN  DEST  \\\n",
       "0    2.0          6.0      330               2    28.0     188    98   \n",
       "1    2.0          7.0      331               2    28.0     188    98   \n",
       "2    2.0          1.0      332               2    28.0     188    98   \n",
       "3    2.0          2.0      333               2    28.0     188    98   \n",
       "4    2.0          3.0      306               2    33.0      48   158   \n",
       "\n",
       "   CRS_DEP_TIME  CRS_ELAPSED_TIME  DISTANCE  \n",
       "0        1000.0             156.0     937.0  \n",
       "1         739.0             153.0     937.0  \n",
       "2        1028.0             158.0     937.0  \n",
       "3         739.0             153.0     937.0  \n",
       "4        1907.0              90.0     266.0  "
      ]
     },
     "execution_count": 11,
     "metadata": {},
     "output_type": "execute_result"
    }
   ],
   "source": [
    "x = df.drop(\"ARR_DEL15\", axis=1)\n",
    "x.head()"
   ]
  },
  {
   "cell_type": "code",
   "execution_count": 12,
   "metadata": {},
   "outputs": [
    {
     "data": {
      "text/plain": [
       "0    0.0\n",
       "1    0.0\n",
       "2    0.0\n",
       "3    0.0\n",
       "4    0.0\n",
       "Name: ARR_DEL15, dtype: float64"
      ]
     },
     "execution_count": 12,
     "metadata": {},
     "output_type": "execute_result"
    }
   ],
   "source": [
    "y = df[\"ARR_DEL15\"]\n",
    "y.head()"
   ]
  },
  {
   "cell_type": "markdown",
   "metadata": {},
   "source": [
    "Since the data is pretty big, I decided to use Random Forest Classifier, it handles large amounts of data very well and usually has good performance on predicting, plus we can run other booster classifiers as well and compare their performance."
   ]
  },
  {
   "cell_type": "code",
   "execution_count": 13,
   "metadata": {
    "collapsed": true
   },
   "outputs": [],
   "source": [
    "from sklearn.model_selection import cross_validate"
   ]
  },
  {
   "cell_type": "markdown",
   "metadata": {},
   "source": [
    "For running 10-fold cross validation, although accuracy is an obvious way to examine the performance of a model, we should also take all the true negative, false positive prediction into consideration, so I also included precision, recall, and F1 to score display."
   ]
  },
  {
   "cell_type": "code",
   "execution_count": 14,
   "metadata": {},
   "outputs": [
    {
     "name": "stdout",
     "output_type": "stream",
     "text": [
      "[CV]  ................................................................\n"
     ]
    },
    {
     "name": "stderr",
     "output_type": "stream",
     "text": [
      "/Users/hsu022210/anaconda/lib/python3.6/site-packages/sklearn/metrics/classification.py:1135: UndefinedMetricWarning: Precision is ill-defined and being set to 0.0 due to no predicted samples.\n",
      "  'precision', 'predicted', average, warn_for)\n",
      "/Users/hsu022210/anaconda/lib/python3.6/site-packages/sklearn/metrics/classification.py:1135: UndefinedMetricWarning: F-score is ill-defined and being set to 0.0 due to no predicted samples.\n",
      "  'precision', 'predicted', average, warn_for)\n",
      "[Parallel(n_jobs=1)]: Done   1 out of   1 | elapsed:   51.0s remaining:    0.0s\n"
     ]
    },
    {
     "name": "stdout",
     "output_type": "stream",
     "text": [
      "[CV]  , accuracy=0.8223803749395636, precision=0.0, recall=0.0, f1=0.0, total=  49.8s\n",
      "[CV]  ................................................................\n",
      "[CV]  , accuracy=0.8195562599976021, precision=0.09067796610169492, recall=0.0017616648556093384, f1=0.0034561839852708417, total=  50.0s\n",
      "[CV]  ................................................................\n"
     ]
    },
    {
     "name": "stderr",
     "output_type": "stream",
     "text": [
      "[Parallel(n_jobs=1)]: Done   2 out of   2 | elapsed:  1.7min remaining:    0.0s\n",
      "/Users/hsu022210/anaconda/lib/python3.6/site-packages/sklearn/metrics/classification.py:1135: UndefinedMetricWarning: Precision is ill-defined and being set to 0.0 due to no predicted samples.\n",
      "  'precision', 'predicted', average, warn_for)\n",
      "/Users/hsu022210/anaconda/lib/python3.6/site-packages/sklearn/metrics/classification.py:1135: UndefinedMetricWarning: F-score is ill-defined and being set to 0.0 due to no predicted samples.\n",
      "  'precision', 'predicted', average, warn_for)\n"
     ]
    },
    {
     "name": "stdout",
     "output_type": "stream",
     "text": [
      "[CV]  , accuracy=0.8223811765806812, precision=0.0, recall=0.0, f1=0.0, total=  41.8s\n",
      "[CV]  ................................................................\n"
     ]
    },
    {
     "name": "stderr",
     "output_type": "stream",
     "text": [
      "/Users/hsu022210/anaconda/lib/python3.6/site-packages/sklearn/metrics/classification.py:1135: UndefinedMetricWarning: Precision is ill-defined and being set to 0.0 due to no predicted samples.\n",
      "  'precision', 'predicted', average, warn_for)\n",
      "/Users/hsu022210/anaconda/lib/python3.6/site-packages/sklearn/metrics/classification.py:1135: UndefinedMetricWarning: F-score is ill-defined and being set to 0.0 due to no predicted samples.\n",
      "  'precision', 'predicted', average, warn_for)\n"
     ]
    },
    {
     "name": "stdout",
     "output_type": "stream",
     "text": [
      "[CV]  , accuracy=0.8223810034409818, precision=0.0, recall=0.0, f1=0.0, total=  45.8s\n",
      "[CV]  ................................................................\n"
     ]
    },
    {
     "name": "stderr",
     "output_type": "stream",
     "text": [
      "/Users/hsu022210/anaconda/lib/python3.6/site-packages/sklearn/metrics/classification.py:1135: UndefinedMetricWarning: Precision is ill-defined and being set to 0.0 due to no predicted samples.\n",
      "  'precision', 'predicted', average, warn_for)\n"
     ]
    },
    {
     "name": "stdout",
     "output_type": "stream",
     "text": [
      "[CV]  , accuracy=0.8223810034409818, precision=0.0, recall=0.0, f1=0.0, total=  45.2s\n"
     ]
    },
    {
     "name": "stderr",
     "output_type": "stream",
     "text": [
      "/Users/hsu022210/anaconda/lib/python3.6/site-packages/sklearn/metrics/classification.py:1135: UndefinedMetricWarning: F-score is ill-defined and being set to 0.0 due to no predicted samples.\n",
      "  'precision', 'predicted', average, warn_for)\n",
      "[Parallel(n_jobs=1)]: Done   5 out of   5 | elapsed:  3.9min finished\n"
     ]
    },
    {
     "data": {
      "text/html": [
       "<div>\n",
       "<style>\n",
       "    .dataframe thead tr:only-child th {\n",
       "        text-align: right;\n",
       "    }\n",
       "\n",
       "    .dataframe thead th {\n",
       "        text-align: left;\n",
       "    }\n",
       "\n",
       "    .dataframe tbody tr th {\n",
       "        vertical-align: top;\n",
       "    }\n",
       "</style>\n",
       "<table border=\"1\" class=\"dataframe\">\n",
       "  <thead>\n",
       "    <tr style=\"text-align: right;\">\n",
       "      <th></th>\n",
       "      <th>fit_time</th>\n",
       "      <th>score_time</th>\n",
       "      <th>test_accuracy</th>\n",
       "      <th>test_f1</th>\n",
       "      <th>test_precision</th>\n",
       "      <th>test_recall</th>\n",
       "    </tr>\n",
       "  </thead>\n",
       "  <tbody>\n",
       "    <tr>\n",
       "      <th>0</th>\n",
       "      <td>45.924666</td>\n",
       "      <td>3.920647</td>\n",
       "      <td>0.822380</td>\n",
       "      <td>0.000000</td>\n",
       "      <td>0.000000</td>\n",
       "      <td>0.000000</td>\n",
       "    </tr>\n",
       "    <tr>\n",
       "      <th>1</th>\n",
       "      <td>46.194027</td>\n",
       "      <td>3.766332</td>\n",
       "      <td>0.819556</td>\n",
       "      <td>0.003456</td>\n",
       "      <td>0.090678</td>\n",
       "      <td>0.001762</td>\n",
       "    </tr>\n",
       "    <tr>\n",
       "      <th>2</th>\n",
       "      <td>38.102208</td>\n",
       "      <td>3.711350</td>\n",
       "      <td>0.822381</td>\n",
       "      <td>0.000000</td>\n",
       "      <td>0.000000</td>\n",
       "      <td>0.000000</td>\n",
       "    </tr>\n",
       "    <tr>\n",
       "      <th>3</th>\n",
       "      <td>42.047410</td>\n",
       "      <td>3.717120</td>\n",
       "      <td>0.822381</td>\n",
       "      <td>0.000000</td>\n",
       "      <td>0.000000</td>\n",
       "      <td>0.000000</td>\n",
       "    </tr>\n",
       "    <tr>\n",
       "      <th>4</th>\n",
       "      <td>39.388852</td>\n",
       "      <td>5.820057</td>\n",
       "      <td>0.822381</td>\n",
       "      <td>0.000000</td>\n",
       "      <td>0.000000</td>\n",
       "      <td>0.000000</td>\n",
       "    </tr>\n",
       "  </tbody>\n",
       "</table>\n",
       "</div>"
      ],
      "text/plain": [
       "    fit_time  score_time  test_accuracy   test_f1  test_precision  test_recall\n",
       "0  45.924666    3.920647       0.822380  0.000000        0.000000     0.000000\n",
       "1  46.194027    3.766332       0.819556  0.003456        0.090678     0.001762\n",
       "2  38.102208    3.711350       0.822381  0.000000        0.000000     0.000000\n",
       "3  42.047410    3.717120       0.822381  0.000000        0.000000     0.000000\n",
       "4  39.388852    5.820057       0.822381  0.000000        0.000000     0.000000"
      ]
     },
     "execution_count": 14,
     "metadata": {},
     "output_type": "execute_result"
    }
   ],
   "source": [
    "scoring_list = [\"accuracy\", \"precision\", \"recall\", \"f1\"]\n",
    "model = RandomForestClassifier(n_estimators=10, max_depth=4)\n",
    "RF = cross_validate(model, x, y, cv=5, verbose=3, return_train_score=False, scoring=scoring_list)\n",
    "pd.DataFrame(RF)"
   ]
  },
  {
   "cell_type": "markdown",
   "metadata": {},
   "source": [
    "From the result above, we can see that although the models do have accuracy around 80%, but the scores for precision, recall and F1 are nearly 0. which means it's actually predicting almost every result to a majority value. I figured it might because of the unbalanced percentage of variety of value in our predicted variable. At this point it is not good enough to \"only\" check accuracy, we should also check out the f1, precision, recall scores."
   ]
  },
  {
   "cell_type": "code",
   "execution_count": 15,
   "metadata": {},
   "outputs": [
    {
     "name": "stdout",
     "output_type": "stream",
     "text": [
      "value percentages:\n"
     ]
    },
    {
     "data": {
      "text/plain": [
       "0.0    0.822381\n",
       "1.0    0.177619\n",
       "Name: ARR_DEL15, dtype: float64"
      ]
     },
     "execution_count": 15,
     "metadata": {},
     "output_type": "execute_result"
    }
   ],
   "source": [
    "print(\"value percentages:\")\n",
    "y.value_counts(normalize=True)"
   ]
  },
  {
   "cell_type": "markdown",
   "metadata": {},
   "source": [
    "And it is, it has an unbalanced quantity of data among variety of values. Around 82% of the predited variable are output as 0.0, near 17% of them are 1.0."
   ]
  },
  {
   "cell_type": "markdown",
   "metadata": {},
   "source": [
    "So I think it would be better if I make a balanced sample of data that contains 50% of predited variable value output as 1.0 and another 50% as 0.0."
   ]
  },
  {
   "cell_type": "code",
   "execution_count": 16,
   "metadata": {},
   "outputs": [
    {
     "name": "stdout",
     "output_type": "stream",
     "text": [
      "911071\n",
      "4218283\n",
      "value percentages:\n"
     ]
    },
    {
     "data": {
      "text/plain": [
       "1.0    0.5\n",
       "0.0    0.5\n",
       "Name: ARR_DEL15, dtype: float64"
      ]
     },
     "execution_count": 16,
     "metadata": {},
     "output_type": "execute_result"
    }
   ],
   "source": [
    "df_val1 = df[df[\"ARR_DEL15\"] == 1]\n",
    "print(len(df_val1))\n",
    "df_val0 = df[df[\"ARR_DEL15\"] == 0]\n",
    "print(len(df_val0))\n",
    "df_val0 = df[df[\"ARR_DEL15\"] == 0].sample(n=len(df_val1))\n",
    "new_df = pd.concat([df_val1, df_val0], ignore_index=True)\n",
    "\n",
    "print(\"value percentages:\")\n",
    "new_df[\"ARR_DEL15\"].value_counts(normalize=True)"
   ]
  },
  {
   "cell_type": "markdown",
   "metadata": {},
   "source": [
    "Creating new predicted variable and predictor variables from new balanced data."
   ]
  },
  {
   "cell_type": "code",
   "execution_count": 17,
   "metadata": {},
   "outputs": [
    {
     "data": {
      "text/html": [
       "<div>\n",
       "<style>\n",
       "    .dataframe thead tr:only-child th {\n",
       "        text-align: right;\n",
       "    }\n",
       "\n",
       "    .dataframe thead th {\n",
       "        text-align: left;\n",
       "    }\n",
       "\n",
       "    .dataframe tbody tr th {\n",
       "        vertical-align: top;\n",
       "    }\n",
       "</style>\n",
       "<table border=\"1\" class=\"dataframe\">\n",
       "  <thead>\n",
       "    <tr style=\"text-align: right;\">\n",
       "      <th></th>\n",
       "      <th>MONTH</th>\n",
       "      <th>DAY_OF_WEEK</th>\n",
       "      <th>FL_DATE</th>\n",
       "      <th>UNIQUE_CARRIER</th>\n",
       "      <th>FL_NUM</th>\n",
       "      <th>ORIGIN</th>\n",
       "      <th>DEST</th>\n",
       "      <th>CRS_DEP_TIME</th>\n",
       "      <th>CRS_ELAPSED_TIME</th>\n",
       "      <th>DISTANCE</th>\n",
       "    </tr>\n",
       "  </thead>\n",
       "  <tbody>\n",
       "    <tr>\n",
       "      <th>0</th>\n",
       "      <td>2.0</td>\n",
       "      <td>1.0</td>\n",
       "      <td>311</td>\n",
       "      <td>2</td>\n",
       "      <td>33.0</td>\n",
       "      <td>48</td>\n",
       "      <td>158</td>\n",
       "      <td>1907.0</td>\n",
       "      <td>90.0</td>\n",
       "      <td>266.0</td>\n",
       "    </tr>\n",
       "    <tr>\n",
       "      <th>1</th>\n",
       "      <td>2.0</td>\n",
       "      <td>3.0</td>\n",
       "      <td>313</td>\n",
       "      <td>2</td>\n",
       "      <td>33.0</td>\n",
       "      <td>48</td>\n",
       "      <td>158</td>\n",
       "      <td>1907.0</td>\n",
       "      <td>90.0</td>\n",
       "      <td>266.0</td>\n",
       "    </tr>\n",
       "    <tr>\n",
       "      <th>2</th>\n",
       "      <td>2.0</td>\n",
       "      <td>6.0</td>\n",
       "      <td>316</td>\n",
       "      <td>2</td>\n",
       "      <td>33.0</td>\n",
       "      <td>48</td>\n",
       "      <td>158</td>\n",
       "      <td>1907.0</td>\n",
       "      <td>90.0</td>\n",
       "      <td>266.0</td>\n",
       "    </tr>\n",
       "    <tr>\n",
       "      <th>3</th>\n",
       "      <td>2.0</td>\n",
       "      <td>7.0</td>\n",
       "      <td>317</td>\n",
       "      <td>2</td>\n",
       "      <td>33.0</td>\n",
       "      <td>48</td>\n",
       "      <td>158</td>\n",
       "      <td>1907.0</td>\n",
       "      <td>90.0</td>\n",
       "      <td>266.0</td>\n",
       "    </tr>\n",
       "    <tr>\n",
       "      <th>4</th>\n",
       "      <td>2.0</td>\n",
       "      <td>1.0</td>\n",
       "      <td>318</td>\n",
       "      <td>2</td>\n",
       "      <td>33.0</td>\n",
       "      <td>48</td>\n",
       "      <td>158</td>\n",
       "      <td>1907.0</td>\n",
       "      <td>90.0</td>\n",
       "      <td>266.0</td>\n",
       "    </tr>\n",
       "  </tbody>\n",
       "</table>\n",
       "</div>"
      ],
      "text/plain": [
       "   MONTH  DAY_OF_WEEK  FL_DATE  UNIQUE_CARRIER  FL_NUM  ORIGIN  DEST  \\\n",
       "0    2.0          1.0      311               2    33.0      48   158   \n",
       "1    2.0          3.0      313               2    33.0      48   158   \n",
       "2    2.0          6.0      316               2    33.0      48   158   \n",
       "3    2.0          7.0      317               2    33.0      48   158   \n",
       "4    2.0          1.0      318               2    33.0      48   158   \n",
       "\n",
       "   CRS_DEP_TIME  CRS_ELAPSED_TIME  DISTANCE  \n",
       "0        1907.0              90.0     266.0  \n",
       "1        1907.0              90.0     266.0  \n",
       "2        1907.0              90.0     266.0  \n",
       "3        1907.0              90.0     266.0  \n",
       "4        1907.0              90.0     266.0  "
      ]
     },
     "execution_count": 17,
     "metadata": {},
     "output_type": "execute_result"
    }
   ],
   "source": [
    "x = new_df.drop(\"ARR_DEL15\", axis=1)\n",
    "x.head()"
   ]
  },
  {
   "cell_type": "code",
   "execution_count": 18,
   "metadata": {},
   "outputs": [
    {
     "data": {
      "text/plain": [
       "0    1.0\n",
       "1    1.0\n",
       "2    1.0\n",
       "3    1.0\n",
       "4    1.0\n",
       "Name: ARR_DEL15, dtype: float64"
      ]
     },
     "execution_count": 18,
     "metadata": {},
     "output_type": "execute_result"
    }
   ],
   "source": [
    "y = new_df[\"ARR_DEL15\"]\n",
    "y.head()"
   ]
  },
  {
   "cell_type": "code",
   "execution_count": 19,
   "metadata": {
    "collapsed": true
   },
   "outputs": [],
   "source": [
    "scoring_list = [\"accuracy\", \"precision\", \"recall\", \"f1\"]"
   ]
  },
  {
   "cell_type": "code",
   "execution_count": 21,
   "metadata": {},
   "outputs": [
    {
     "name": "stderr",
     "output_type": "stream",
     "text": [
      "[Parallel(n_jobs=1)]: Done  10 out of  10 | elapsed:  4.7min finished\n"
     ]
    },
    {
     "data": {
      "text/html": [
       "<div>\n",
       "<style>\n",
       "    .dataframe thead tr:only-child th {\n",
       "        text-align: right;\n",
       "    }\n",
       "\n",
       "    .dataframe thead th {\n",
       "        text-align: left;\n",
       "    }\n",
       "\n",
       "    .dataframe tbody tr th {\n",
       "        vertical-align: top;\n",
       "    }\n",
       "</style>\n",
       "<table border=\"1\" class=\"dataframe\">\n",
       "  <thead>\n",
       "    <tr style=\"text-align: right;\">\n",
       "      <th></th>\n",
       "      <th>fit_time</th>\n",
       "      <th>score_time</th>\n",
       "      <th>test_accuracy</th>\n",
       "      <th>test_f1</th>\n",
       "      <th>test_precision</th>\n",
       "      <th>test_recall</th>\n",
       "    </tr>\n",
       "  </thead>\n",
       "  <tbody>\n",
       "    <tr>\n",
       "      <th>0</th>\n",
       "      <td>36.376876</td>\n",
       "      <td>0.706304</td>\n",
       "      <td>0.342407</td>\n",
       "      <td>0.213815</td>\n",
       "      <td>0.265790</td>\n",
       "      <td>0.178843</td>\n",
       "    </tr>\n",
       "    <tr>\n",
       "      <th>1</th>\n",
       "      <td>25.800208</td>\n",
       "      <td>0.810218</td>\n",
       "      <td>0.291218</td>\n",
       "      <td>0.021902</td>\n",
       "      <td>0.035324</td>\n",
       "      <td>0.015871</td>\n",
       "    </tr>\n",
       "    <tr>\n",
       "      <th>2</th>\n",
       "      <td>24.589000</td>\n",
       "      <td>1.032830</td>\n",
       "      <td>0.360170</td>\n",
       "      <td>0.164450</td>\n",
       "      <td>0.236923</td>\n",
       "      <td>0.125929</td>\n",
       "    </tr>\n",
       "    <tr>\n",
       "      <th>3</th>\n",
       "      <td>33.028751</td>\n",
       "      <td>0.674332</td>\n",
       "      <td>0.272174</td>\n",
       "      <td>0.000407</td>\n",
       "      <td>0.000650</td>\n",
       "      <td>0.000296</td>\n",
       "    </tr>\n",
       "    <tr>\n",
       "      <th>4</th>\n",
       "      <td>24.142147</td>\n",
       "      <td>0.743547</td>\n",
       "      <td>0.286696</td>\n",
       "      <td>0.000000</td>\n",
       "      <td>0.000000</td>\n",
       "      <td>0.000000</td>\n",
       "    </tr>\n",
       "    <tr>\n",
       "      <th>5</th>\n",
       "      <td>26.656772</td>\n",
       "      <td>0.667480</td>\n",
       "      <td>0.600744</td>\n",
       "      <td>0.645706</td>\n",
       "      <td>0.580350</td>\n",
       "      <td>0.727650</td>\n",
       "    </tr>\n",
       "    <tr>\n",
       "      <th>6</th>\n",
       "      <td>27.151543</td>\n",
       "      <td>0.678491</td>\n",
       "      <td>0.490742</td>\n",
       "      <td>0.475941</td>\n",
       "      <td>0.490187</td>\n",
       "      <td>0.462500</td>\n",
       "    </tr>\n",
       "    <tr>\n",
       "      <th>7</th>\n",
       "      <td>24.580758</td>\n",
       "      <td>0.778657</td>\n",
       "      <td>0.293095</td>\n",
       "      <td>0.000000</td>\n",
       "      <td>0.000000</td>\n",
       "      <td>0.000000</td>\n",
       "    </tr>\n",
       "    <tr>\n",
       "      <th>8</th>\n",
       "      <td>24.180471</td>\n",
       "      <td>0.790387</td>\n",
       "      <td>0.328603</td>\n",
       "      <td>0.067460</td>\n",
       "      <td>0.110401</td>\n",
       "      <td>0.048569</td>\n",
       "    </tr>\n",
       "    <tr>\n",
       "      <th>9</th>\n",
       "      <td>25.319645</td>\n",
       "      <td>0.779656</td>\n",
       "      <td>0.275034</td>\n",
       "      <td>0.000000</td>\n",
       "      <td>0.000000</td>\n",
       "      <td>0.000000</td>\n",
       "    </tr>\n",
       "  </tbody>\n",
       "</table>\n",
       "</div>"
      ],
      "text/plain": [
       "    fit_time  score_time  test_accuracy   test_f1  test_precision  test_recall\n",
       "0  36.376876    0.706304       0.342407  0.213815        0.265790     0.178843\n",
       "1  25.800208    0.810218       0.291218  0.021902        0.035324     0.015871\n",
       "2  24.589000    1.032830       0.360170  0.164450        0.236923     0.125929\n",
       "3  33.028751    0.674332       0.272174  0.000407        0.000650     0.000296\n",
       "4  24.142147    0.743547       0.286696  0.000000        0.000000     0.000000\n",
       "5  26.656772    0.667480       0.600744  0.645706        0.580350     0.727650\n",
       "6  27.151543    0.678491       0.490742  0.475941        0.490187     0.462500\n",
       "7  24.580758    0.778657       0.293095  0.000000        0.000000     0.000000\n",
       "8  24.180471    0.790387       0.328603  0.067460        0.110401     0.048569\n",
       "9  25.319645    0.779656       0.275034  0.000000        0.000000     0.000000"
      ]
     },
     "execution_count": 21,
     "metadata": {},
     "output_type": "execute_result"
    }
   ],
   "source": [
    "model = RandomForestClassifier(n_estimators=10, max_depth=4, random_state=123)\n",
    "newRF = cross_validate(model, x, y, cv=10, verbose=1, return_train_score=False, scoring=scoring_list)\n",
    "pd.DataFrame(newRF)"
   ]
  },
  {
   "cell_type": "code",
   "execution_count": 22,
   "metadata": {},
   "outputs": [
    {
     "data": {
      "text/plain": [
       "0.35408822329040152"
      ]
     },
     "execution_count": 22,
     "metadata": {},
     "output_type": "execute_result"
    }
   ],
   "source": [
    "newRF[\"test_accuracy\"].mean()"
   ]
  },
  {
   "cell_type": "markdown",
   "metadata": {},
   "source": [
    "With Random Forest Classifier, this time we got lower accuracy, around 35%, but way more reasonable f1 score on this model, which is a good sign, means the model is actually doing something instead of just predicting everything to a majority value!"
   ]
  },
  {
   "cell_type": "code",
   "execution_count": 23,
   "metadata": {},
   "outputs": [
    {
     "name": "stderr",
     "output_type": "stream",
     "text": [
      "[Parallel(n_jobs=1)]: Done  10 out of  10 | elapsed:  4.4min finished\n"
     ]
    },
    {
     "data": {
      "text/html": [
       "<div>\n",
       "<style>\n",
       "    .dataframe thead tr:only-child th {\n",
       "        text-align: right;\n",
       "    }\n",
       "\n",
       "    .dataframe thead th {\n",
       "        text-align: left;\n",
       "    }\n",
       "\n",
       "    .dataframe tbody tr th {\n",
       "        vertical-align: top;\n",
       "    }\n",
       "</style>\n",
       "<table border=\"1\" class=\"dataframe\">\n",
       "  <thead>\n",
       "    <tr style=\"text-align: right;\">\n",
       "      <th></th>\n",
       "      <th>fit_time</th>\n",
       "      <th>score_time</th>\n",
       "      <th>test_accuracy</th>\n",
       "      <th>test_f1</th>\n",
       "      <th>test_precision</th>\n",
       "      <th>test_recall</th>\n",
       "    </tr>\n",
       "  </thead>\n",
       "  <tbody>\n",
       "    <tr>\n",
       "      <th>0</th>\n",
       "      <td>23.822193</td>\n",
       "      <td>0.531240</td>\n",
       "      <td>0.303173</td>\n",
       "      <td>0.005888</td>\n",
       "      <td>0.010268</td>\n",
       "      <td>0.004127</td>\n",
       "    </tr>\n",
       "    <tr>\n",
       "      <th>1</th>\n",
       "      <td>23.990018</td>\n",
       "      <td>0.572726</td>\n",
       "      <td>0.286767</td>\n",
       "      <td>0.006559</td>\n",
       "      <td>0.010803</td>\n",
       "      <td>0.004709</td>\n",
       "    </tr>\n",
       "    <tr>\n",
       "      <th>2</th>\n",
       "      <td>23.664566</td>\n",
       "      <td>0.518463</td>\n",
       "      <td>0.346680</td>\n",
       "      <td>0.140278</td>\n",
       "      <td>0.205063</td>\n",
       "      <td>0.106600</td>\n",
       "    </tr>\n",
       "    <tr>\n",
       "      <th>3</th>\n",
       "      <td>26.166525</td>\n",
       "      <td>0.623400</td>\n",
       "      <td>0.268432</td>\n",
       "      <td>0.005075</td>\n",
       "      <td>0.007930</td>\n",
       "      <td>0.003732</td>\n",
       "    </tr>\n",
       "    <tr>\n",
       "      <th>4</th>\n",
       "      <td>38.833580</td>\n",
       "      <td>0.695818</td>\n",
       "      <td>0.272850</td>\n",
       "      <td>0.037876</td>\n",
       "      <td>0.055958</td>\n",
       "      <td>0.028626</td>\n",
       "    </tr>\n",
       "    <tr>\n",
       "      <th>5</th>\n",
       "      <td>26.999167</td>\n",
       "      <td>0.568515</td>\n",
       "      <td>0.574039</td>\n",
       "      <td>0.596632</td>\n",
       "      <td>0.566581</td>\n",
       "      <td>0.630050</td>\n",
       "    </tr>\n",
       "    <tr>\n",
       "      <th>6</th>\n",
       "      <td>23.423625</td>\n",
       "      <td>0.595339</td>\n",
       "      <td>0.425203</td>\n",
       "      <td>0.334062</td>\n",
       "      <td>0.397014</td>\n",
       "      <td>0.288342</td>\n",
       "    </tr>\n",
       "    <tr>\n",
       "      <th>7</th>\n",
       "      <td>23.447046</td>\n",
       "      <td>0.587198</td>\n",
       "      <td>0.291459</td>\n",
       "      <td>0.000000</td>\n",
       "      <td>0.000000</td>\n",
       "      <td>0.000000</td>\n",
       "    </tr>\n",
       "    <tr>\n",
       "      <th>8</th>\n",
       "      <td>22.800525</td>\n",
       "      <td>0.606922</td>\n",
       "      <td>0.315239</td>\n",
       "      <td>0.079757</td>\n",
       "      <td>0.121560</td>\n",
       "      <td>0.059348</td>\n",
       "    </tr>\n",
       "    <tr>\n",
       "      <th>9</th>\n",
       "      <td>24.325232</td>\n",
       "      <td>0.545231</td>\n",
       "      <td>0.266571</td>\n",
       "      <td>0.000000</td>\n",
       "      <td>0.000000</td>\n",
       "      <td>0.000000</td>\n",
       "    </tr>\n",
       "  </tbody>\n",
       "</table>\n",
       "</div>"
      ],
      "text/plain": [
       "    fit_time  score_time  test_accuracy   test_f1  test_precision  test_recall\n",
       "0  23.822193    0.531240       0.303173  0.005888        0.010268     0.004127\n",
       "1  23.990018    0.572726       0.286767  0.006559        0.010803     0.004709\n",
       "2  23.664566    0.518463       0.346680  0.140278        0.205063     0.106600\n",
       "3  26.166525    0.623400       0.268432  0.005075        0.007930     0.003732\n",
       "4  38.833580    0.695818       0.272850  0.037876        0.055958     0.028626\n",
       "5  26.999167    0.568515       0.574039  0.596632        0.566581     0.630050\n",
       "6  23.423625    0.595339       0.425203  0.334062        0.397014     0.288342\n",
       "7  23.447046    0.587198       0.291459  0.000000        0.000000     0.000000\n",
       "8  22.800525    0.606922       0.315239  0.079757        0.121560     0.059348\n",
       "9  24.325232    0.545231       0.266571  0.000000        0.000000     0.000000"
      ]
     },
     "execution_count": 23,
     "metadata": {},
     "output_type": "execute_result"
    }
   ],
   "source": [
    "model = XGBClassifier(n_estimators=10, max_depth=4, random_state=123)\n",
    "XGB = cross_validate(model, x, y, cv=10, verbose=1, return_train_score=False, scoring=scoring_list)\n",
    "pd.DataFrame(XGB)"
   ]
  },
  {
   "cell_type": "code",
   "execution_count": 24,
   "metadata": {},
   "outputs": [
    {
     "data": {
      "text/plain": [
       "0.33504143131355757"
      ]
     },
     "execution_count": 24,
     "metadata": {},
     "output_type": "execute_result"
    }
   ],
   "source": [
    "XGB[\"test_accuracy\"].mean()"
   ]
  },
  {
   "cell_type": "code",
   "execution_count": 25,
   "metadata": {},
   "outputs": [
    {
     "name": "stderr",
     "output_type": "stream",
     "text": [
      "[Parallel(n_jobs=1)]: Done  10 out of  10 | elapsed:  4.9min finished\n"
     ]
    },
    {
     "data": {
      "text/html": [
       "<div>\n",
       "<style>\n",
       "    .dataframe thead tr:only-child th {\n",
       "        text-align: right;\n",
       "    }\n",
       "\n",
       "    .dataframe thead th {\n",
       "        text-align: left;\n",
       "    }\n",
       "\n",
       "    .dataframe tbody tr th {\n",
       "        vertical-align: top;\n",
       "    }\n",
       "</style>\n",
       "<table border=\"1\" class=\"dataframe\">\n",
       "  <thead>\n",
       "    <tr style=\"text-align: right;\">\n",
       "      <th></th>\n",
       "      <th>fit_time</th>\n",
       "      <th>score_time</th>\n",
       "      <th>test_accuracy</th>\n",
       "      <th>test_f1</th>\n",
       "      <th>test_precision</th>\n",
       "      <th>test_recall</th>\n",
       "    </tr>\n",
       "  </thead>\n",
       "  <tbody>\n",
       "    <tr>\n",
       "      <th>0</th>\n",
       "      <td>28.989543</td>\n",
       "      <td>1.035521</td>\n",
       "      <td>0.342725</td>\n",
       "      <td>0.142237</td>\n",
       "      <td>0.204666</td>\n",
       "      <td>0.108992</td>\n",
       "    </tr>\n",
       "    <tr>\n",
       "      <th>1</th>\n",
       "      <td>27.179566</td>\n",
       "      <td>0.927263</td>\n",
       "      <td>0.302694</td>\n",
       "      <td>0.003764</td>\n",
       "      <td>0.006588</td>\n",
       "      <td>0.002634</td>\n",
       "    </tr>\n",
       "    <tr>\n",
       "      <th>2</th>\n",
       "      <td>27.350706</td>\n",
       "      <td>1.134946</td>\n",
       "      <td>0.374285</td>\n",
       "      <td>0.257866</td>\n",
       "      <td>0.316811</td>\n",
       "      <td>0.217415</td>\n",
       "    </tr>\n",
       "    <tr>\n",
       "      <th>3</th>\n",
       "      <td>29.933923</td>\n",
       "      <td>1.084522</td>\n",
       "      <td>0.285521</td>\n",
       "      <td>0.000000</td>\n",
       "      <td>0.000000</td>\n",
       "      <td>0.000000</td>\n",
       "    </tr>\n",
       "    <tr>\n",
       "      <th>4</th>\n",
       "      <td>27.815900</td>\n",
       "      <td>1.063581</td>\n",
       "      <td>0.267230</td>\n",
       "      <td>0.041562</td>\n",
       "      <td>0.060057</td>\n",
       "      <td>0.031776</td>\n",
       "    </tr>\n",
       "    <tr>\n",
       "      <th>5</th>\n",
       "      <td>28.670104</td>\n",
       "      <td>0.977034</td>\n",
       "      <td>0.612829</td>\n",
       "      <td>0.652709</td>\n",
       "      <td>0.591756</td>\n",
       "      <td>0.727661</td>\n",
       "    </tr>\n",
       "    <tr>\n",
       "      <th>6</th>\n",
       "      <td>27.953290</td>\n",
       "      <td>1.124462</td>\n",
       "      <td>0.476626</td>\n",
       "      <td>0.433303</td>\n",
       "      <td>0.472408</td>\n",
       "      <td>0.400178</td>\n",
       "    </tr>\n",
       "    <tr>\n",
       "      <th>7</th>\n",
       "      <td>28.403381</td>\n",
       "      <td>0.991027</td>\n",
       "      <td>0.480649</td>\n",
       "      <td>0.433108</td>\n",
       "      <td>0.476749</td>\n",
       "      <td>0.396786</td>\n",
       "    </tr>\n",
       "    <tr>\n",
       "      <th>8</th>\n",
       "      <td>27.376071</td>\n",
       "      <td>1.176955</td>\n",
       "      <td>0.335177</td>\n",
       "      <td>0.067020</td>\n",
       "      <td>0.112327</td>\n",
       "      <td>0.047757</td>\n",
       "    </tr>\n",
       "    <tr>\n",
       "      <th>9</th>\n",
       "      <td>28.254666</td>\n",
       "      <td>1.116507</td>\n",
       "      <td>0.256890</td>\n",
       "      <td>0.000000</td>\n",
       "      <td>0.000000</td>\n",
       "      <td>0.000000</td>\n",
       "    </tr>\n",
       "  </tbody>\n",
       "</table>\n",
       "</div>"
      ],
      "text/plain": [
       "    fit_time  score_time  test_accuracy   test_f1  test_precision  test_recall\n",
       "0  28.989543    1.035521       0.342725  0.142237        0.204666     0.108992\n",
       "1  27.179566    0.927263       0.302694  0.003764        0.006588     0.002634\n",
       "2  27.350706    1.134946       0.374285  0.257866        0.316811     0.217415\n",
       "3  29.933923    1.084522       0.285521  0.000000        0.000000     0.000000\n",
       "4  27.815900    1.063581       0.267230  0.041562        0.060057     0.031776\n",
       "5  28.670104    0.977034       0.612829  0.652709        0.591756     0.727661\n",
       "6  27.953290    1.124462       0.476626  0.433303        0.472408     0.400178\n",
       "7  28.403381    0.991027       0.480649  0.433108        0.476749     0.396786\n",
       "8  27.376071    1.176955       0.335177  0.067020        0.112327     0.047757\n",
       "9  28.254666    1.116507       0.256890  0.000000        0.000000     0.000000"
      ]
     },
     "execution_count": 25,
     "metadata": {},
     "output_type": "execute_result"
    }
   ],
   "source": [
    "model = AdaBoostClassifier(n_estimators=10, random_state=123)\n",
    "ADA = cross_validate(model, x, y, cv=10, verbose=1, return_train_score=False, scoring=scoring_list)\n",
    "pd.DataFrame(ADA)"
   ]
  },
  {
   "cell_type": "code",
   "execution_count": 26,
   "metadata": {},
   "outputs": [
    {
     "data": {
      "text/plain": [
       "0.37346269471597415"
      ]
     },
     "execution_count": 26,
     "metadata": {},
     "output_type": "execute_result"
    }
   ],
   "source": [
    "ADA[\"test_accuracy\"].mean()"
   ]
  },
  {
   "cell_type": "markdown",
   "metadata": {},
   "source": [
    "After running boosters, we can see that Adabooster is working slightly better than XGB and Random Forest with 4% and 2% difference."
   ]
  },
  {
   "cell_type": "markdown",
   "metadata": {},
   "source": [
    "Grid search on Random Forest Classifier for different parameter input."
   ]
  },
  {
   "cell_type": "code",
   "execution_count": 27,
   "metadata": {},
   "outputs": [
    {
     "name": "stdout",
     "output_type": "stream",
     "text": [
      "Fitting 10 folds for each of 4 candidates, totalling 40 fits\n"
     ]
    },
    {
     "name": "stderr",
     "output_type": "stream",
     "text": [
      "[Parallel(n_jobs=1)]: Done  40 out of  40 | elapsed: 30.8min finished\n"
     ]
    },
    {
     "data": {
      "text/plain": [
       "{'max_depth': 4, 'n_estimators': 10, 'random_state': 123}"
      ]
     },
     "execution_count": 27,
     "metadata": {},
     "output_type": "execute_result"
    }
   ],
   "source": [
    "param_grid = { \n",
    "    'n_estimators': [10, 15],\n",
    "    'max_depth': [4, 6],\n",
    "    'random_state': [123]\n",
    "#     'max_features': ['auto', 'sqrt', 'log2']\n",
    "}\n",
    "\n",
    "scoring_list = [\"accuracy\", \"precision\", \"recall\", \"f1\"]\n",
    "grid = GridSearchCV(estimator=RandomForestClassifier(), param_grid=param_grid, cv=10, verbose=1, scoring=scoring_list, refit=\"accuracy\")\n",
    "grid.fit(x, y)\n",
    "grid.best_params_"
   ]
  },
  {
   "cell_type": "code",
   "execution_count": 28,
   "metadata": {},
   "outputs": [
    {
     "data": {
      "text/plain": [
       "0.35408821046877798"
      ]
     },
     "execution_count": 28,
     "metadata": {},
     "output_type": "execute_result"
    }
   ],
   "source": [
    "grid.best_score_"
   ]
  },
  {
   "cell_type": "code",
   "execution_count": 34,
   "metadata": {},
   "outputs": [
    {
     "data": {
      "text/html": [
       "<div>\n",
       "<style>\n",
       "    .dataframe thead tr:only-child th {\n",
       "        text-align: right;\n",
       "    }\n",
       "\n",
       "    .dataframe thead th {\n",
       "        text-align: left;\n",
       "    }\n",
       "\n",
       "    .dataframe tbody tr th {\n",
       "        vertical-align: top;\n",
       "    }\n",
       "</style>\n",
       "<table border=\"1\" class=\"dataframe\">\n",
       "  <thead>\n",
       "    <tr style=\"text-align: right;\">\n",
       "      <th></th>\n",
       "      <th>mean_fit_time</th>\n",
       "      <th>mean_score_time</th>\n",
       "      <th>mean_test_accuracy</th>\n",
       "      <th>mean_test_f1</th>\n",
       "      <th>mean_test_precision</th>\n",
       "      <th>mean_test_recall</th>\n",
       "      <th>mean_train_accuracy</th>\n",
       "      <th>mean_train_f1</th>\n",
       "      <th>mean_train_precision</th>\n",
       "      <th>mean_train_recall</th>\n",
       "      <th>...</th>\n",
       "      <th>std_fit_time</th>\n",
       "      <th>std_score_time</th>\n",
       "      <th>std_test_accuracy</th>\n",
       "      <th>std_test_f1</th>\n",
       "      <th>std_test_precision</th>\n",
       "      <th>std_test_recall</th>\n",
       "      <th>std_train_accuracy</th>\n",
       "      <th>std_train_f1</th>\n",
       "      <th>std_train_precision</th>\n",
       "      <th>std_train_recall</th>\n",
       "    </tr>\n",
       "  </thead>\n",
       "  <tbody>\n",
       "    <tr>\n",
       "      <th>0</th>\n",
       "      <td>24.290194</td>\n",
       "      <td>0.689917</td>\n",
       "      <td>0.354088</td>\n",
       "      <td>0.158968</td>\n",
       "      <td>0.171963</td>\n",
       "      <td>0.155966</td>\n",
       "      <td>0.613861</td>\n",
       "      <td>0.635883</td>\n",
       "      <td>0.602036</td>\n",
       "      <td>0.675153</td>\n",
       "      <td>...</td>\n",
       "      <td>2.061248</td>\n",
       "      <td>0.040272</td>\n",
       "      <td>0.102718</td>\n",
       "      <td>0.216458</td>\n",
       "      <td>0.205327</td>\n",
       "      <td>0.234644</td>\n",
       "      <td>0.007320</td>\n",
       "      <td>0.010179</td>\n",
       "      <td>0.011085</td>\n",
       "      <td>0.032024</td>\n",
       "    </tr>\n",
       "    <tr>\n",
       "      <th>1</th>\n",
       "      <td>36.162141</td>\n",
       "      <td>0.940275</td>\n",
       "      <td>0.351597</td>\n",
       "      <td>0.159290</td>\n",
       "      <td>0.170928</td>\n",
       "      <td>0.156083</td>\n",
       "      <td>0.614856</td>\n",
       "      <td>0.638945</td>\n",
       "      <td>0.601772</td>\n",
       "      <td>0.682238</td>\n",
       "      <td>...</td>\n",
       "      <td>2.198139</td>\n",
       "      <td>0.128361</td>\n",
       "      <td>0.100587</td>\n",
       "      <td>0.215322</td>\n",
       "      <td>0.206787</td>\n",
       "      <td>0.230610</td>\n",
       "      <td>0.007313</td>\n",
       "      <td>0.009021</td>\n",
       "      <td>0.010731</td>\n",
       "      <td>0.029658</td>\n",
       "    </tr>\n",
       "    <tr>\n",
       "      <th>2</th>\n",
       "      <td>33.215793</td>\n",
       "      <td>0.752863</td>\n",
       "      <td>0.322020</td>\n",
       "      <td>0.094116</td>\n",
       "      <td>0.117816</td>\n",
       "      <td>0.080467</td>\n",
       "      <td>0.626289</td>\n",
       "      <td>0.648128</td>\n",
       "      <td>0.612395</td>\n",
       "      <td>0.688789</td>\n",
       "      <td>...</td>\n",
       "      <td>3.051049</td>\n",
       "      <td>0.039777</td>\n",
       "      <td>0.059808</td>\n",
       "      <td>0.136461</td>\n",
       "      <td>0.152423</td>\n",
       "      <td>0.126287</td>\n",
       "      <td>0.007526</td>\n",
       "      <td>0.010186</td>\n",
       "      <td>0.007538</td>\n",
       "      <td>0.022456</td>\n",
       "    </tr>\n",
       "    <tr>\n",
       "      <th>3</th>\n",
       "      <td>52.182080</td>\n",
       "      <td>1.097850</td>\n",
       "      <td>0.309295</td>\n",
       "      <td>0.066227</td>\n",
       "      <td>0.092983</td>\n",
       "      <td>0.051621</td>\n",
       "      <td>0.627001</td>\n",
       "      <td>0.647843</td>\n",
       "      <td>0.613556</td>\n",
       "      <td>0.686719</td>\n",
       "      <td>...</td>\n",
       "      <td>4.138913</td>\n",
       "      <td>0.076194</td>\n",
       "      <td>0.036019</td>\n",
       "      <td>0.081745</td>\n",
       "      <td>0.110847</td>\n",
       "      <td>0.064907</td>\n",
       "      <td>0.006434</td>\n",
       "      <td>0.010545</td>\n",
       "      <td>0.006090</td>\n",
       "      <td>0.023961</td>\n",
       "    </tr>\n",
       "  </tbody>\n",
       "</table>\n",
       "<p>4 rows × 108 columns</p>\n",
       "</div>"
      ],
      "text/plain": [
       "   mean_fit_time  mean_score_time  mean_test_accuracy  mean_test_f1  \\\n",
       "0      24.290194         0.689917            0.354088      0.158968   \n",
       "1      36.162141         0.940275            0.351597      0.159290   \n",
       "2      33.215793         0.752863            0.322020      0.094116   \n",
       "3      52.182080         1.097850            0.309295      0.066227   \n",
       "\n",
       "   mean_test_precision  mean_test_recall  mean_train_accuracy  mean_train_f1  \\\n",
       "0             0.171963          0.155966             0.613861       0.635883   \n",
       "1             0.170928          0.156083             0.614856       0.638945   \n",
       "2             0.117816          0.080467             0.626289       0.648128   \n",
       "3             0.092983          0.051621             0.627001       0.647843   \n",
       "\n",
       "   mean_train_precision  mean_train_recall        ...        std_fit_time  \\\n",
       "0              0.602036           0.675153        ...            2.061248   \n",
       "1              0.601772           0.682238        ...            2.198139   \n",
       "2              0.612395           0.688789        ...            3.051049   \n",
       "3              0.613556           0.686719        ...            4.138913   \n",
       "\n",
       "  std_score_time std_test_accuracy std_test_f1  std_test_precision  \\\n",
       "0       0.040272          0.102718    0.216458            0.205327   \n",
       "1       0.128361          0.100587    0.215322            0.206787   \n",
       "2       0.039777          0.059808    0.136461            0.152423   \n",
       "3       0.076194          0.036019    0.081745            0.110847   \n",
       "\n",
       "   std_test_recall  std_train_accuracy  std_train_f1  std_train_precision  \\\n",
       "0         0.234644            0.007320      0.010179             0.011085   \n",
       "1         0.230610            0.007313      0.009021             0.010731   \n",
       "2         0.126287            0.007526      0.010186             0.007538   \n",
       "3         0.064907            0.006434      0.010545             0.006090   \n",
       "\n",
       "   std_train_recall  \n",
       "0          0.032024  \n",
       "1          0.029658  \n",
       "2          0.022456  \n",
       "3          0.023961  \n",
       "\n",
       "[4 rows x 108 columns]"
      ]
     },
     "execution_count": 34,
     "metadata": {},
     "output_type": "execute_result"
    }
   ],
   "source": [
    "pd.DataFrame(grid.cv_results_)"
   ]
  },
  {
   "cell_type": "markdown",
   "metadata": {},
   "source": [
    "Grid search on Adaboost classifier with different parameter as input."
   ]
  },
  {
   "cell_type": "code",
   "execution_count": 37,
   "metadata": {},
   "outputs": [
    {
     "name": "stdout",
     "output_type": "stream",
     "text": [
      "Fitting 10 folds for each of 2 candidates, totalling 20 fits\n",
      "[CV] learning_rate=0.1, n_estimators=10, random_state=123 ............\n",
      "[CV]  learning_rate=0.1, n_estimators=10, random_state=123, total=  35.6s\n",
      "[CV] learning_rate=0.1, n_estimators=10, random_state=123 ............\n"
     ]
    },
    {
     "name": "stderr",
     "output_type": "stream",
     "text": [
      "[Parallel(n_jobs=1)]: Done   1 out of   1 | elapsed:   47.1s remaining:    0.0s\n"
     ]
    },
    {
     "name": "stdout",
     "output_type": "stream",
     "text": [
      "[CV]  learning_rate=0.1, n_estimators=10, random_state=123, total=  34.0s\n",
      "[CV] learning_rate=0.1, n_estimators=10, random_state=123 ............\n",
      "[CV]  learning_rate=0.1, n_estimators=10, random_state=123, total=  36.3s\n",
      "[CV] learning_rate=0.1, n_estimators=10, random_state=123 ............\n",
      "[CV]  learning_rate=0.1, n_estimators=10, random_state=123, total=  35.8s\n",
      "[CV] learning_rate=0.1, n_estimators=10, random_state=123 ............\n",
      "[CV]  learning_rate=0.1, n_estimators=10, random_state=123, total=  38.9s\n",
      "[CV] learning_rate=0.1, n_estimators=10, random_state=123 ............\n",
      "[CV]  learning_rate=0.1, n_estimators=10, random_state=123, total=  39.4s\n",
      "[CV] learning_rate=0.1, n_estimators=10, random_state=123 ............\n",
      "[CV]  learning_rate=0.1, n_estimators=10, random_state=123, total=  36.2s\n",
      "[CV] learning_rate=0.1, n_estimators=10, random_state=123 ............\n",
      "[CV]  learning_rate=0.1, n_estimators=10, random_state=123, total=  40.2s\n",
      "[CV] learning_rate=0.1, n_estimators=10, random_state=123 ............\n",
      "[CV]  learning_rate=0.1, n_estimators=10, random_state=123, total=  37.9s\n",
      "[CV] learning_rate=0.1, n_estimators=10, random_state=123 ............\n",
      "[CV]  learning_rate=0.1, n_estimators=10, random_state=123, total=  34.8s\n",
      "[CV] learning_rate=0.1, n_estimators=15, random_state=123 ............\n",
      "[CV]  learning_rate=0.1, n_estimators=15, random_state=123, total=  51.6s\n",
      "[CV] learning_rate=0.1, n_estimators=15, random_state=123 ............\n",
      "[CV]  learning_rate=0.1, n_estimators=15, random_state=123, total=  50.3s\n",
      "[CV] learning_rate=0.1, n_estimators=15, random_state=123 ............\n",
      "[CV]  learning_rate=0.1, n_estimators=15, random_state=123, total=  49.8s\n",
      "[CV] learning_rate=0.1, n_estimators=15, random_state=123 ............\n",
      "[CV]  learning_rate=0.1, n_estimators=15, random_state=123, total=  52.7s\n",
      "[CV] learning_rate=0.1, n_estimators=15, random_state=123 ............\n",
      "[CV]  learning_rate=0.1, n_estimators=15, random_state=123, total=  51.2s\n",
      "[CV] learning_rate=0.1, n_estimators=15, random_state=123 ............\n",
      "[CV]  learning_rate=0.1, n_estimators=15, random_state=123, total=  52.3s\n",
      "[CV] learning_rate=0.1, n_estimators=15, random_state=123 ............\n",
      "[CV]  learning_rate=0.1, n_estimators=15, random_state=123, total=  52.6s\n",
      "[CV] learning_rate=0.1, n_estimators=15, random_state=123 ............\n",
      "[CV]  learning_rate=0.1, n_estimators=15, random_state=123, total=  50.6s\n",
      "[CV] learning_rate=0.1, n_estimators=15, random_state=123 ............\n",
      "[CV]  learning_rate=0.1, n_estimators=15, random_state=123, total=  51.8s\n",
      "[CV] learning_rate=0.1, n_estimators=15, random_state=123 ............\n",
      "[CV]  learning_rate=0.1, n_estimators=15, random_state=123, total=  50.6s\n"
     ]
    },
    {
     "name": "stderr",
     "output_type": "stream",
     "text": [
      "[Parallel(n_jobs=1)]: Done  20 out of  20 | elapsed: 19.6min finished\n"
     ]
    },
    {
     "data": {
      "text/plain": [
       "{'learning_rate': 0.1, 'n_estimators': 10, 'random_state': 123}"
      ]
     },
     "execution_count": 37,
     "metadata": {},
     "output_type": "execute_result"
    }
   ],
   "source": [
    "param_grid = { \n",
    "    'n_estimators': [10, 15],\n",
    "    'learning_rate': [0.1],\n",
    "    'random_state': [123]\n",
    "#     'max_features': ['auto', 'sqrt', 'log2']\n",
    "}\n",
    "\n",
    "scoring_list = [\"accuracy\", \"precision\", \"recall\", \"f1\"]\n",
    "grid_ada = GridSearchCV(estimator=AdaBoostClassifier(), param_grid=param_grid, cv=10, verbose=2, scoring=scoring_list, refit=\"accuracy\")\n",
    "grid_ada.fit(x, y)\n",
    "grid_ada.best_params_"
   ]
  },
  {
   "cell_type": "code",
   "execution_count": 38,
   "metadata": {},
   "outputs": [
    {
     "data": {
      "text/plain": [
       "0.45020201499114776"
      ]
     },
     "execution_count": 38,
     "metadata": {},
     "output_type": "execute_result"
    }
   ],
   "source": [
    "grid_ada.best_score_"
   ]
  },
  {
   "cell_type": "code",
   "execution_count": 39,
   "metadata": {},
   "outputs": [
    {
     "data": {
      "text/html": [
       "<div>\n",
       "<style>\n",
       "    .dataframe thead tr:only-child th {\n",
       "        text-align: right;\n",
       "    }\n",
       "\n",
       "    .dataframe thead th {\n",
       "        text-align: left;\n",
       "    }\n",
       "\n",
       "    .dataframe tbody tr th {\n",
       "        vertical-align: top;\n",
       "    }\n",
       "</style>\n",
       "<table border=\"1\" class=\"dataframe\">\n",
       "  <thead>\n",
       "    <tr style=\"text-align: right;\">\n",
       "      <th></th>\n",
       "      <th>mean_fit_time</th>\n",
       "      <th>mean_score_time</th>\n",
       "      <th>mean_test_accuracy</th>\n",
       "      <th>mean_test_f1</th>\n",
       "      <th>mean_test_precision</th>\n",
       "      <th>mean_test_recall</th>\n",
       "      <th>mean_train_accuracy</th>\n",
       "      <th>mean_train_f1</th>\n",
       "      <th>mean_train_precision</th>\n",
       "      <th>mean_train_recall</th>\n",
       "      <th>...</th>\n",
       "      <th>std_fit_time</th>\n",
       "      <th>std_score_time</th>\n",
       "      <th>std_test_accuracy</th>\n",
       "      <th>std_test_f1</th>\n",
       "      <th>std_test_precision</th>\n",
       "      <th>std_test_recall</th>\n",
       "      <th>std_train_accuracy</th>\n",
       "      <th>std_train_f1</th>\n",
       "      <th>std_train_precision</th>\n",
       "      <th>std_train_recall</th>\n",
       "    </tr>\n",
       "  </thead>\n",
       "  <tbody>\n",
       "    <tr>\n",
       "      <th>0</th>\n",
       "      <td>35.539234</td>\n",
       "      <td>1.380383</td>\n",
       "      <td>0.450202</td>\n",
       "      <td>0.365035</td>\n",
       "      <td>0.350401</td>\n",
       "      <td>0.387402</td>\n",
       "      <td>0.595452</td>\n",
       "      <td>0.62616</td>\n",
       "      <td>0.582432</td>\n",
       "      <td>0.677833</td>\n",
       "      <td>...</td>\n",
       "      <td>1.893622</td>\n",
       "      <td>0.236359</td>\n",
       "      <td>0.137503</td>\n",
       "      <td>0.272190</td>\n",
       "      <td>0.247584</td>\n",
       "      <td>0.304164</td>\n",
       "      <td>0.011421</td>\n",
       "      <td>0.008973</td>\n",
       "      <td>0.012790</td>\n",
       "      <td>0.022529</td>\n",
       "    </tr>\n",
       "    <tr>\n",
       "      <th>1</th>\n",
       "      <td>49.679783</td>\n",
       "      <td>1.665556</td>\n",
       "      <td>0.421846</td>\n",
       "      <td>0.308548</td>\n",
       "      <td>0.304869</td>\n",
       "      <td>0.320517</td>\n",
       "      <td>0.599124</td>\n",
       "      <td>0.62726</td>\n",
       "      <td>0.586593</td>\n",
       "      <td>0.675042</td>\n",
       "      <td>...</td>\n",
       "      <td>0.922485</td>\n",
       "      <td>0.083384</td>\n",
       "      <td>0.136014</td>\n",
       "      <td>0.268942</td>\n",
       "      <td>0.245204</td>\n",
       "      <td>0.296610</td>\n",
       "      <td>0.011786</td>\n",
       "      <td>0.010871</td>\n",
       "      <td>0.013565</td>\n",
       "      <td>0.026608</td>\n",
       "    </tr>\n",
       "  </tbody>\n",
       "</table>\n",
       "<p>2 rows × 108 columns</p>\n",
       "</div>"
      ],
      "text/plain": [
       "   mean_fit_time  mean_score_time  mean_test_accuracy  mean_test_f1  \\\n",
       "0      35.539234         1.380383            0.450202      0.365035   \n",
       "1      49.679783         1.665556            0.421846      0.308548   \n",
       "\n",
       "   mean_test_precision  mean_test_recall  mean_train_accuracy  mean_train_f1  \\\n",
       "0             0.350401          0.387402             0.595452        0.62616   \n",
       "1             0.304869          0.320517             0.599124        0.62726   \n",
       "\n",
       "   mean_train_precision  mean_train_recall        ...        std_fit_time  \\\n",
       "0              0.582432           0.677833        ...            1.893622   \n",
       "1              0.586593           0.675042        ...            0.922485   \n",
       "\n",
       "  std_score_time std_test_accuracy std_test_f1  std_test_precision  \\\n",
       "0       0.236359          0.137503    0.272190            0.247584   \n",
       "1       0.083384          0.136014    0.268942            0.245204   \n",
       "\n",
       "   std_test_recall  std_train_accuracy  std_train_f1  std_train_precision  \\\n",
       "0         0.304164            0.011421      0.008973             0.012790   \n",
       "1         0.296610            0.011786      0.010871             0.013565   \n",
       "\n",
       "   std_train_recall  \n",
       "0          0.022529  \n",
       "1          0.026608  \n",
       "\n",
       "[2 rows x 108 columns]"
      ]
     },
     "execution_count": 39,
     "metadata": {},
     "output_type": "execute_result"
    }
   ],
   "source": [
    "pd.DataFrame(grid_ada.cv_results_)"
   ]
  },
  {
   "cell_type": "markdown",
   "metadata": {},
   "source": [
    "From the two grid search results above we can tell that the 45% accuracy on Adabooster with 10 trees as n_estimators and learning_rate as 0.1 is still the best model comparing to Random Forest and XGB classifier. On top of that, I did try to run SVM, although one of the disadvantage of it is that it natively sensitive to class inbalances, but I fixed it with making a balanced version sample of data, unfortunately my laptop hangs when I ran SVM, otherwise there would be more results to compare and discuss!"
   ]
  },
  {
   "cell_type": "code",
   "execution_count": null,
   "metadata": {
    "collapsed": true
   },
   "outputs": [],
   "source": []
  }
 ],
 "metadata": {
  "kernelspec": {
   "display_name": "Python 3",
   "language": "python",
   "name": "python3"
  },
  "language_info": {
   "codemirror_mode": {
    "name": "ipython",
    "version": 3
   },
   "file_extension": ".py",
   "mimetype": "text/x-python",
   "name": "python",
   "nbconvert_exporter": "python",
   "pygments_lexer": "ipython3",
   "version": "3.6.1"
  }
 },
 "nbformat": 4,
 "nbformat_minor": 2
}
