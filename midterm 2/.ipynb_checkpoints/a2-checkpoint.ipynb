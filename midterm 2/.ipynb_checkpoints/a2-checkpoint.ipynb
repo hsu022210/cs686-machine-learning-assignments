{
 "cells": [
  {
   "cell_type": "code",
   "execution_count": 1,
   "metadata": {
    "collapsed": true
   },
   "outputs": [],
   "source": [
    "import pandas as pd\n",
    "import numpy as np\n",
    "from sklearn.metrics import accuracy_score\n",
    "from sklearn.model_selection import train_test_split\n",
    "from sklearn.ensemble import RandomForestClassifier, AdaBoostClassifier\n",
    "from xgboost import XGBClassifier\n",
    "from sklearn.model_selection import GridSearchCV\n",
    "from xgboost import XGBClassifier"
   ]
  },
  {
   "cell_type": "markdown",
   "metadata": {},
   "source": [
    "Read data and check if there is any NaN value exists."
   ]
  },
  {
   "cell_type": "code",
   "execution_count": 2,
   "metadata": {},
   "outputs": [
    {
     "name": "stdout",
     "output_type": "stream",
     "text": [
      "NaN value exists? False\n"
     ]
    },
    {
     "data": {
      "text/html": [
       "<div>\n",
       "<style>\n",
       "    .dataframe thead tr:only-child th {\n",
       "        text-align: right;\n",
       "    }\n",
       "\n",
       "    .dataframe thead th {\n",
       "        text-align: left;\n",
       "    }\n",
       "\n",
       "    .dataframe tbody tr th {\n",
       "        vertical-align: top;\n",
       "    }\n",
       "</style>\n",
       "<table border=\"1\" class=\"dataframe\">\n",
       "  <thead>\n",
       "    <tr style=\"text-align: right;\">\n",
       "      <th></th>\n",
       "      <th>Weight</th>\n",
       "      <th>Age</th>\n",
       "      <th>Days</th>\n",
       "      <th>Vegan</th>\n",
       "      <th>Cats</th>\n",
       "      <th>Cash</th>\n",
       "      <th>Size</th>\n",
       "      <th>Toppings</th>\n",
       "    </tr>\n",
       "  </thead>\n",
       "  <tbody>\n",
       "    <tr>\n",
       "      <th>0</th>\n",
       "      <td>106.238809</td>\n",
       "      <td>36.596211</td>\n",
       "      <td>38</td>\n",
       "      <td>0</td>\n",
       "      <td>1</td>\n",
       "      <td>5.699125</td>\n",
       "      <td>No order</td>\n",
       "      <td>No order</td>\n",
       "    </tr>\n",
       "    <tr>\n",
       "      <th>1</th>\n",
       "      <td>184.378192</td>\n",
       "      <td>28.739952</td>\n",
       "      <td>28</td>\n",
       "      <td>0</td>\n",
       "      <td>0</td>\n",
       "      <td>1.171537</td>\n",
       "      <td>No order</td>\n",
       "      <td>No order</td>\n",
       "    </tr>\n",
       "    <tr>\n",
       "      <th>2</th>\n",
       "      <td>232.475732</td>\n",
       "      <td>106.605562</td>\n",
       "      <td>38</td>\n",
       "      <td>1</td>\n",
       "      <td>1</td>\n",
       "      <td>259.440103</td>\n",
       "      <td>Large</td>\n",
       "      <td>Hawaiian</td>\n",
       "    </tr>\n",
       "    <tr>\n",
       "      <th>3</th>\n",
       "      <td>112.811584</td>\n",
       "      <td>103.684648</td>\n",
       "      <td>112</td>\n",
       "      <td>0</td>\n",
       "      <td>0</td>\n",
       "      <td>13.886261</td>\n",
       "      <td>No order</td>\n",
       "      <td>No order</td>\n",
       "    </tr>\n",
       "    <tr>\n",
       "      <th>4</th>\n",
       "      <td>139.317810</td>\n",
       "      <td>15.045878</td>\n",
       "      <td>78</td>\n",
       "      <td>0</td>\n",
       "      <td>0</td>\n",
       "      <td>1934.054928</td>\n",
       "      <td>Medium</td>\n",
       "      <td>Pepperoni</td>\n",
       "    </tr>\n",
       "  </tbody>\n",
       "</table>\n",
       "</div>"
      ],
      "text/plain": [
       "       Weight         Age  Days  Vegan  Cats         Cash      Size   Toppings\n",
       "0  106.238809   36.596211    38      0     1     5.699125  No order   No order\n",
       "1  184.378192   28.739952    28      0     0     1.171537  No order   No order\n",
       "2  232.475732  106.605562    38      1     1   259.440103     Large   Hawaiian\n",
       "3  112.811584  103.684648   112      0     0    13.886261  No order   No order\n",
       "4  139.317810   15.045878    78      0     0  1934.054928    Medium  Pepperoni"
      ]
     },
     "execution_count": 2,
     "metadata": {},
     "output_type": "execute_result"
    }
   ],
   "source": [
    "train_df = pd.read_csv(\"train.csv\")\n",
    "train_df = train_df.drop(train_df.columns[[0]], axis=1)\n",
    "print(\"NaN value exists?\", train_df.isnull().values.any())\n",
    "train_df.head()"
   ]
  },
  {
   "cell_type": "code",
   "execution_count": 3,
   "metadata": {},
   "outputs": [
    {
     "name": "stdout",
     "output_type": "stream",
     "text": [
      "NaN value exists? False\n"
     ]
    },
    {
     "data": {
      "text/html": [
       "<div>\n",
       "<style>\n",
       "    .dataframe thead tr:only-child th {\n",
       "        text-align: right;\n",
       "    }\n",
       "\n",
       "    .dataframe thead th {\n",
       "        text-align: left;\n",
       "    }\n",
       "\n",
       "    .dataframe tbody tr th {\n",
       "        vertical-align: top;\n",
       "    }\n",
       "</style>\n",
       "<table border=\"1\" class=\"dataframe\">\n",
       "  <thead>\n",
       "    <tr style=\"text-align: right;\">\n",
       "      <th></th>\n",
       "      <th>Weight</th>\n",
       "      <th>Age</th>\n",
       "      <th>Days</th>\n",
       "      <th>Vegan</th>\n",
       "      <th>Cats</th>\n",
       "      <th>Cash</th>\n",
       "    </tr>\n",
       "  </thead>\n",
       "  <tbody>\n",
       "    <tr>\n",
       "      <th>0</th>\n",
       "      <td>215.241281</td>\n",
       "      <td>45.123194</td>\n",
       "      <td>19</td>\n",
       "      <td>0</td>\n",
       "      <td>0</td>\n",
       "      <td>1955.034280</td>\n",
       "    </tr>\n",
       "    <tr>\n",
       "      <th>1</th>\n",
       "      <td>251.301889</td>\n",
       "      <td>17.856168</td>\n",
       "      <td>38</td>\n",
       "      <td>0</td>\n",
       "      <td>0</td>\n",
       "      <td>2532.312093</td>\n",
       "    </tr>\n",
       "    <tr>\n",
       "      <th>2</th>\n",
       "      <td>189.421541</td>\n",
       "      <td>105.951771</td>\n",
       "      <td>3</td>\n",
       "      <td>0</td>\n",
       "      <td>0</td>\n",
       "      <td>241.320502</td>\n",
       "    </tr>\n",
       "    <tr>\n",
       "      <th>3</th>\n",
       "      <td>75.000000</td>\n",
       "      <td>37.001579</td>\n",
       "      <td>7</td>\n",
       "      <td>0</td>\n",
       "      <td>0</td>\n",
       "      <td>292.279276</td>\n",
       "    </tr>\n",
       "    <tr>\n",
       "      <th>4</th>\n",
       "      <td>156.416838</td>\n",
       "      <td>92.159389</td>\n",
       "      <td>63</td>\n",
       "      <td>0</td>\n",
       "      <td>2</td>\n",
       "      <td>325.376085</td>\n",
       "    </tr>\n",
       "  </tbody>\n",
       "</table>\n",
       "</div>"
      ],
      "text/plain": [
       "       Weight         Age  Days  Vegan  Cats         Cash\n",
       "0  215.241281   45.123194    19      0     0  1955.034280\n",
       "1  251.301889   17.856168    38      0     0  2532.312093\n",
       "2  189.421541  105.951771     3      0     0   241.320502\n",
       "3   75.000000   37.001579     7      0     0   292.279276\n",
       "4  156.416838   92.159389    63      0     2   325.376085"
      ]
     },
     "execution_count": 3,
     "metadata": {},
     "output_type": "execute_result"
    }
   ],
   "source": [
    "test_df = pd.read_csv(\"test.csv\")\n",
    "test_df = test_df.drop(test_df.columns[[0]], axis=1)\n",
    "print(\"NaN value exists?\", test_df.isnull().values.any())\n",
    "test_df.head()"
   ]
  },
  {
   "cell_type": "markdown",
   "metadata": {},
   "source": [
    "Next, some variables are categorical, they should be encoded into labels, but later on when we output results with models, we should use the same encoder for decoding label to original value, so I create a dictionary here to store the two encoder that were being used."
   ]
  },
  {
   "cell_type": "code",
   "execution_count": 4,
   "metadata": {
    "collapsed": true
   },
   "outputs": [],
   "source": [
    "from sklearn import preprocessing\n",
    "def encode_labels(labels):\n",
    "    le = preprocessing.LabelEncoder()\n",
    "    le.fit(labels)\n",
    "    return le, le.transform(labels)"
   ]
  },
  {
   "cell_type": "code",
   "execution_count": 5,
   "metadata": {},
   "outputs": [
    {
     "name": "stdout",
     "output_type": "stream",
     "text": [
      "Size\n",
      "Toppings\n"
     ]
    },
    {
     "data": {
      "text/html": [
       "<div>\n",
       "<style>\n",
       "    .dataframe thead tr:only-child th {\n",
       "        text-align: right;\n",
       "    }\n",
       "\n",
       "    .dataframe thead th {\n",
       "        text-align: left;\n",
       "    }\n",
       "\n",
       "    .dataframe tbody tr th {\n",
       "        vertical-align: top;\n",
       "    }\n",
       "</style>\n",
       "<table border=\"1\" class=\"dataframe\">\n",
       "  <thead>\n",
       "    <tr style=\"text-align: right;\">\n",
       "      <th></th>\n",
       "      <th>Weight</th>\n",
       "      <th>Age</th>\n",
       "      <th>Days</th>\n",
       "      <th>Vegan</th>\n",
       "      <th>Cats</th>\n",
       "      <th>Cash</th>\n",
       "      <th>Size</th>\n",
       "      <th>Toppings</th>\n",
       "    </tr>\n",
       "  </thead>\n",
       "  <tbody>\n",
       "    <tr>\n",
       "      <th>0</th>\n",
       "      <td>106.238809</td>\n",
       "      <td>36.596211</td>\n",
       "      <td>38</td>\n",
       "      <td>0</td>\n",
       "      <td>1</td>\n",
       "      <td>5.699125</td>\n",
       "      <td>3</td>\n",
       "      <td>4</td>\n",
       "    </tr>\n",
       "    <tr>\n",
       "      <th>1</th>\n",
       "      <td>184.378192</td>\n",
       "      <td>28.739952</td>\n",
       "      <td>28</td>\n",
       "      <td>0</td>\n",
       "      <td>0</td>\n",
       "      <td>1.171537</td>\n",
       "      <td>3</td>\n",
       "      <td>4</td>\n",
       "    </tr>\n",
       "    <tr>\n",
       "      <th>2</th>\n",
       "      <td>232.475732</td>\n",
       "      <td>106.605562</td>\n",
       "      <td>38</td>\n",
       "      <td>1</td>\n",
       "      <td>1</td>\n",
       "      <td>259.440103</td>\n",
       "      <td>1</td>\n",
       "      <td>2</td>\n",
       "    </tr>\n",
       "    <tr>\n",
       "      <th>3</th>\n",
       "      <td>112.811584</td>\n",
       "      <td>103.684648</td>\n",
       "      <td>112</td>\n",
       "      <td>0</td>\n",
       "      <td>0</td>\n",
       "      <td>13.886261</td>\n",
       "      <td>3</td>\n",
       "      <td>4</td>\n",
       "    </tr>\n",
       "    <tr>\n",
       "      <th>4</th>\n",
       "      <td>139.317810</td>\n",
       "      <td>15.045878</td>\n",
       "      <td>78</td>\n",
       "      <td>0</td>\n",
       "      <td>0</td>\n",
       "      <td>1934.054928</td>\n",
       "      <td>2</td>\n",
       "      <td>5</td>\n",
       "    </tr>\n",
       "  </tbody>\n",
       "</table>\n",
       "</div>"
      ],
      "text/plain": [
       "       Weight         Age  Days  Vegan  Cats         Cash  Size  Toppings\n",
       "0  106.238809   36.596211    38      0     1     5.699125     3         4\n",
       "1  184.378192   28.739952    28      0     0     1.171537     3         4\n",
       "2  232.475732  106.605562    38      1     1   259.440103     1         2\n",
       "3  112.811584  103.684648   112      0     0    13.886261     3         4\n",
       "4  139.317810   15.045878    78      0     0  1934.054928     2         5"
      ]
     },
     "execution_count": 5,
     "metadata": {},
     "output_type": "execute_result"
    }
   ],
   "source": [
    "predited_label_dict = {}\n",
    "\n",
    "for col in train_df.columns:\n",
    "    if train_df[col].dtype != np.float64 and train_df[col].dtype != np.int64:\n",
    "        print(col)\n",
    "        predited_label_dict[col], train_df[col] = encode_labels(train_df[col])\n",
    "train_df.head()"
   ]
  },
  {
   "cell_type": "code",
   "execution_count": 6,
   "metadata": {},
   "outputs": [
    {
     "name": "stdout",
     "output_type": "stream",
     "text": [
      "{'Size': LabelEncoder(), 'Toppings': LabelEncoder()}\n"
     ]
    }
   ],
   "source": [
    "print(predited_label_dict)"
   ]
  },
  {
   "cell_type": "markdown",
   "metadata": {},
   "source": [
    "Spliting x and y data from dataset."
   ]
  },
  {
   "cell_type": "code",
   "execution_count": 7,
   "metadata": {},
   "outputs": [
    {
     "data": {
      "text/html": [
       "<div>\n",
       "<style>\n",
       "    .dataframe thead tr:only-child th {\n",
       "        text-align: right;\n",
       "    }\n",
       "\n",
       "    .dataframe thead th {\n",
       "        text-align: left;\n",
       "    }\n",
       "\n",
       "    .dataframe tbody tr th {\n",
       "        vertical-align: top;\n",
       "    }\n",
       "</style>\n",
       "<table border=\"1\" class=\"dataframe\">\n",
       "  <thead>\n",
       "    <tr style=\"text-align: right;\">\n",
       "      <th></th>\n",
       "      <th>Weight</th>\n",
       "      <th>Age</th>\n",
       "      <th>Days</th>\n",
       "      <th>Vegan</th>\n",
       "      <th>Cats</th>\n",
       "      <th>Cash</th>\n",
       "    </tr>\n",
       "  </thead>\n",
       "  <tbody>\n",
       "    <tr>\n",
       "      <th>0</th>\n",
       "      <td>106.238809</td>\n",
       "      <td>36.596211</td>\n",
       "      <td>38</td>\n",
       "      <td>0</td>\n",
       "      <td>1</td>\n",
       "      <td>5.699125</td>\n",
       "    </tr>\n",
       "    <tr>\n",
       "      <th>1</th>\n",
       "      <td>184.378192</td>\n",
       "      <td>28.739952</td>\n",
       "      <td>28</td>\n",
       "      <td>0</td>\n",
       "      <td>0</td>\n",
       "      <td>1.171537</td>\n",
       "    </tr>\n",
       "    <tr>\n",
       "      <th>2</th>\n",
       "      <td>232.475732</td>\n",
       "      <td>106.605562</td>\n",
       "      <td>38</td>\n",
       "      <td>1</td>\n",
       "      <td>1</td>\n",
       "      <td>259.440103</td>\n",
       "    </tr>\n",
       "    <tr>\n",
       "      <th>3</th>\n",
       "      <td>112.811584</td>\n",
       "      <td>103.684648</td>\n",
       "      <td>112</td>\n",
       "      <td>0</td>\n",
       "      <td>0</td>\n",
       "      <td>13.886261</td>\n",
       "    </tr>\n",
       "    <tr>\n",
       "      <th>4</th>\n",
       "      <td>139.317810</td>\n",
       "      <td>15.045878</td>\n",
       "      <td>78</td>\n",
       "      <td>0</td>\n",
       "      <td>0</td>\n",
       "      <td>1934.054928</td>\n",
       "    </tr>\n",
       "  </tbody>\n",
       "</table>\n",
       "</div>"
      ],
      "text/plain": [
       "       Weight         Age  Days  Vegan  Cats         Cash\n",
       "0  106.238809   36.596211    38      0     1     5.699125\n",
       "1  184.378192   28.739952    28      0     0     1.171537\n",
       "2  232.475732  106.605562    38      1     1   259.440103\n",
       "3  112.811584  103.684648   112      0     0    13.886261\n",
       "4  139.317810   15.045878    78      0     0  1934.054928"
      ]
     },
     "execution_count": 7,
     "metadata": {},
     "output_type": "execute_result"
    }
   ],
   "source": [
    "x = train_df.drop([\"Size\", \"Toppings\"], axis=1)\n",
    "x.head()"
   ]
  },
  {
   "cell_type": "code",
   "execution_count": 8,
   "metadata": {},
   "outputs": [
    {
     "data": {
      "text/plain": [
       "0    3\n",
       "1    3\n",
       "2    1\n",
       "3    3\n",
       "4    2\n",
       "Name: Size, dtype: int64"
      ]
     },
     "execution_count": 8,
     "metadata": {},
     "output_type": "execute_result"
    }
   ],
   "source": [
    "y_size = train_df[\"Size\"]\n",
    "y_size.head()"
   ]
  },
  {
   "cell_type": "code",
   "execution_count": 9,
   "metadata": {},
   "outputs": [
    {
     "data": {
      "text/plain": [
       "0    4\n",
       "1    4\n",
       "2    2\n",
       "3    4\n",
       "4    5\n",
       "Name: Toppings, dtype: int64"
      ]
     },
     "execution_count": 9,
     "metadata": {},
     "output_type": "execute_result"
    }
   ],
   "source": [
    "y_toppings = train_df[\"Toppings\"]\n",
    "y_toppings.head()"
   ]
  },
  {
   "cell_type": "markdown",
   "metadata": {},
   "source": [
    "Based on the life experience and variables we have in dataset, I choosed KNN for the first attempt on model selecetion. Vegan people have higher probability on choosing same falvor of pizza then other group, also, people in similiar weight and age are more likely to get same size of pizza. Therefore, the distance calculation part in KNN algorithm might be helpful."
   ]
  },
  {
   "cell_type": "code",
   "execution_count": 10,
   "metadata": {
    "collapsed": true
   },
   "outputs": [],
   "source": [
    "from sklearn.model_selection import cross_validate, cross_val_score\n",
    "scoring_list = [\"accuracy\", \"f1_micro\"]\n",
    "y_list = [\"Size\", \"Toppings\"]"
   ]
  },
  {
   "cell_type": "code",
   "execution_count": 11,
   "metadata": {},
   "outputs": [],
   "source": [
    "from sklearn.neighbors import KNeighborsClassifier\n",
    "from sklearn.preprocessing import StandardScaler\n",
    "\n",
    "scalar = StandardScaler()\n",
    "x_scaled = scalar.fit(x).transform(x)"
   ]
  },
  {
   "cell_type": "code",
   "execution_count": 12,
   "metadata": {},
   "outputs": [
    {
     "name": "stdout",
     "output_type": "stream",
     "text": [
      "KNN\n",
      "Size accuracy: 0.21366354234\n",
      "   fit_time  score_time  test_accuracy  test_f1_micro\n",
      "0  0.002117    0.013327       0.192308       0.192308\n",
      "1  0.000825    0.002276       0.294118       0.294118\n",
      "2  0.000784    0.011650       0.215686       0.215686\n",
      "3  0.001271    0.002656       0.235294       0.235294\n",
      "4  0.004677    0.008432       0.294118       0.294118\n",
      "5  0.000806    0.002606       0.137255       0.137255\n",
      "6  0.003988    0.007814       0.142857       0.142857\n",
      "7  0.000731    0.003050       0.125000       0.125000\n",
      "8  0.003860    0.007133       0.312500       0.312500\n",
      "9  0.000691    0.002638       0.187500       0.187500\n",
      "KNN\n",
      "Toppings accuracy: 0.247516813012\n",
      "   fit_time  score_time  test_accuracy  test_f1_micro\n",
      "0  0.001991    0.016852       0.283019       0.283019\n",
      "1  0.002980    0.010729       0.264151       0.264151\n",
      "2  0.001253    0.003889       0.211538       0.211538\n",
      "3  0.001162    0.012273       0.307692       0.307692\n",
      "4  0.000774    0.003072       0.200000       0.200000\n",
      "5  0.006434    0.003948       0.224490       0.224490\n",
      "6  0.000781    0.002682       0.265306       0.265306\n",
      "7  0.001243    0.012161       0.208333       0.208333\n",
      "8  0.000768    0.002699       0.212766       0.212766\n",
      "9  0.004187    0.008263       0.297872       0.297872\n"
     ]
    },
    {
     "name": "stderr",
     "output_type": "stream",
     "text": [
      "[Parallel(n_jobs=1)]: Done  10 out of  10 | elapsed:    0.1s finished\n",
      "[Parallel(n_jobs=1)]: Done  10 out of  10 | elapsed:    0.1s finished\n"
     ]
    }
   ],
   "source": [
    "model = KNeighborsClassifier(n_neighbors=3)\n",
    "for y in y_list:\n",
    "    clf = cross_validate(model, x_scaled, train_df[y], cv=10, verbose=1, return_train_score=False, scoring=scoring_list)\n",
    "    print(\"KNN\")\n",
    "    print(y, \"accuracy:\", clf[\"test_accuracy\"].mean())\n",
    "    print(pd.DataFrame(clf))"
   ]
  },
  {
   "cell_type": "markdown",
   "metadata": {},
   "source": [
    "But turns out the accuracy is pretty bad, only roughly around 20%. Might because the distance calculation in KNN is not relative."
   ]
  },
  {
   "cell_type": "markdown",
   "metadata": {},
   "source": [
    "So I then run Random Forest Classifier since it generally has good performance and it handles all sort of data well. Also other boosters."
   ]
  },
  {
   "cell_type": "code",
   "execution_count": 13,
   "metadata": {},
   "outputs": [
    {
     "name": "stderr",
     "output_type": "stream",
     "text": [
      "[Parallel(n_jobs=1)]: Done  10 out of  10 | elapsed:    0.5s finished\n"
     ]
    },
    {
     "name": "stdout",
     "output_type": "stream",
     "text": [
      "Random Forest\n",
      "Size accuracy: 0.381634192138\n",
      "   fit_time  score_time  test_accuracy  test_f1_micro\n",
      "0  0.049322    0.014155       0.346154       0.346154\n",
      "1  0.068980    0.011780       0.372549       0.372549\n",
      "2  0.033516    0.003097       0.470588       0.470588\n",
      "3  0.033715    0.013470       0.411765       0.411765\n",
      "4  0.050110    0.003215       0.392157       0.392157\n",
      "5  0.031503    0.009561       0.333333       0.333333\n",
      "6  0.037161    0.011985       0.489796       0.489796\n",
      "7  0.033646    0.003793       0.333333       0.333333\n",
      "8  0.045984    0.003374       0.250000       0.250000\n",
      "9  0.034003    0.012103       0.416667       0.416667\n",
      "Random Forest\n",
      "Toppings accuracy: 0.431568731263\n",
      "   fit_time  score_time  test_accuracy  test_f1_micro\n",
      "0  0.033473    0.003326       0.396226       0.396226\n",
      "1  0.035335    0.003390       0.471698       0.471698\n",
      "2  0.032436    0.004997       0.442308       0.442308\n",
      "3  0.030010    0.009227       0.461538       0.461538\n",
      "4  0.047758    0.003356       0.380000       0.380000\n",
      "5  0.035637    0.012115       0.448980       0.448980\n",
      "6  0.035709    0.012744       0.448980       0.448980\n",
      "7  0.033667    0.004047       0.500000       0.500000\n",
      "8  0.037998    0.005856       0.404255       0.404255\n",
      "9  0.034115    0.004188       0.361702       0.361702\n"
     ]
    },
    {
     "name": "stderr",
     "output_type": "stream",
     "text": [
      "[Parallel(n_jobs=1)]: Done  10 out of  10 | elapsed:    0.4s finished\n"
     ]
    }
   ],
   "source": [
    "model = RandomForestClassifier(n_estimators=10, max_depth=4, random_state=123)\n",
    "for y in y_list:\n",
    "    clf = cross_validate(model, x, train_df[y], cv=10, verbose=1, return_train_score=False, scoring=scoring_list)\n",
    "    print(\"Random Forest\")\n",
    "    print(y, \"accuracy:\", clf[\"test_accuracy\"].mean())\n",
    "    print(pd.DataFrame(clf))"
   ]
  },
  {
   "cell_type": "code",
   "execution_count": 14,
   "metadata": {},
   "outputs": [
    {
     "name": "stderr",
     "output_type": "stream",
     "text": [
      "[Parallel(n_jobs=1)]: Done  10 out of  10 | elapsed:    0.5s finished\n"
     ]
    },
    {
     "name": "stdout",
     "output_type": "stream",
     "text": [
      "ADA\n",
      "Size accuracy: 0.323542109151\n",
      "   fit_time  score_time  test_accuracy  test_f1_micro\n",
      "0  0.037252    0.012965       0.230769       0.230769\n",
      "1  0.034612    0.010891       0.431373       0.431373\n",
      "2  0.049607    0.002861       0.294118       0.294118\n",
      "3  0.035898    0.012891       0.313725       0.313725\n",
      "4  0.039284    0.009830       0.392157       0.392157\n",
      "5  0.046705    0.004313       0.392157       0.392157\n",
      "6  0.046973    0.003245       0.306122       0.306122\n",
      "7  0.037535    0.011599       0.333333       0.333333\n",
      "8  0.045620    0.003781       0.333333       0.333333\n",
      "9  0.052533    0.015989       0.208333       0.208333\n",
      "ADA\n",
      "Toppings accuracy: 0.288856320168\n",
      "   fit_time  score_time  test_accuracy  test_f1_micro\n",
      "0  0.043216    0.012161       0.264151       0.264151\n",
      "1  0.036232    0.005514       0.415094       0.415094\n",
      "2  0.036185    0.003237       0.403846       0.403846\n",
      "3  0.046720    0.015659       0.346154       0.346154\n",
      "4  0.035758    0.010332       0.360000       0.360000\n",
      "5  0.036058    0.003101       0.408163       0.408163\n",
      "6  0.044255    0.005945       0.122449       0.122449\n",
      "7  0.049587    0.010346       0.270833       0.270833\n",
      "8  0.035802    0.012264       0.170213       0.170213\n",
      "9  0.035772    0.006885       0.127660       0.127660\n"
     ]
    },
    {
     "name": "stderr",
     "output_type": "stream",
     "text": [
      "[Parallel(n_jobs=1)]: Done  10 out of  10 | elapsed:    0.5s finished\n"
     ]
    }
   ],
   "source": [
    "model = AdaBoostClassifier(n_estimators=10, random_state=123)\n",
    "for y in y_list:\n",
    "    clf = cross_validate(model, x, train_df[y], cv=10, verbose=1, return_train_score=False, scoring=scoring_list)\n",
    "    print(\"ADA\")\n",
    "    print(y, \"accuracy:\", clf[\"test_accuracy\"].mean())\n",
    "    print(pd.DataFrame(clf))"
   ]
  },
  {
   "cell_type": "code",
   "execution_count": 15,
   "metadata": {},
   "outputs": [
    {
     "name": "stderr",
     "output_type": "stream",
     "text": [
      "[Parallel(n_jobs=1)]: Done  10 out of  10 | elapsed:    0.4s finished\n"
     ]
    },
    {
     "name": "stdout",
     "output_type": "stream",
     "text": [
      "XGB\n",
      "Size accuracy: 0.393691322683\n",
      "   fit_time  score_time  test_accuracy  test_f1_micro\n",
      "0  0.028290    0.004570       0.365385       0.365385\n",
      "1  0.028412    0.004481       0.431373       0.431373\n",
      "2  0.035500    0.014158       0.431373       0.431373\n",
      "3  0.031892    0.004012       0.411765       0.411765\n",
      "4  0.026374    0.008534       0.411765       0.411765\n",
      "5  0.022508    0.011187       0.352941       0.352941\n",
      "6  0.025474    0.007040       0.448980       0.448980\n",
      "7  0.030965    0.002404       0.354167       0.354167\n",
      "8  0.032021    0.002921       0.375000       0.375000\n",
      "9  0.038520    0.005889       0.354167       0.354167\n",
      "XGB\n",
      "Toppings accuracy: 0.471077478924\n",
      "   fit_time  score_time  test_accuracy  test_f1_micro\n",
      "0  0.031993    0.002935       0.471698       0.471698\n",
      "1  0.035881    0.011450       0.490566       0.490566\n",
      "2  0.032510    0.013917       0.557692       0.557692\n",
      "3  0.052642    0.028706       0.442308       0.442308\n",
      "4  0.049877    0.006565       0.440000       0.440000\n",
      "5  0.040041    0.013105       0.591837       0.591837\n",
      "6  0.041126    0.006971       0.408163       0.408163\n",
      "7  0.046180    0.002933       0.500000       0.500000\n",
      "8  0.032305    0.002704       0.382979       0.382979\n",
      "9  0.048139    0.004304       0.425532       0.425532\n"
     ]
    },
    {
     "name": "stderr",
     "output_type": "stream",
     "text": [
      "[Parallel(n_jobs=1)]: Done  10 out of  10 | elapsed:    0.5s finished\n"
     ]
    }
   ],
   "source": [
    "model = XGBClassifier(n_estimators=10, max_depth=3, random_state=123)\n",
    "for y in y_list:\n",
    "    clf = cross_validate(model, x, train_df[y], cv=10, verbose=1, return_train_score=False, scoring=scoring_list)\n",
    "    print(\"XGB\")\n",
    "    print(y, \"accuracy:\", clf[\"test_accuracy\"].mean())\n",
    "    print(pd.DataFrame(clf))"
   ]
  },
  {
   "cell_type": "markdown",
   "metadata": {},
   "source": [
    "The results are not obviously pleasant, but we can see that Random Forest and XGB worked a bit better compare to ADA."
   ]
  },
  {
   "cell_type": "markdown",
   "metadata": {},
   "source": [
    "Do grid search for entering different input, trees of 10, 15, and 20, max depth on 4, 6, 8 layers."
   ]
  },
  {
   "cell_type": "code",
   "execution_count": 16,
   "metadata": {},
   "outputs": [
    {
     "name": "stdout",
     "output_type": "stream",
     "text": [
      "Fitting 10 folds for each of 9 candidates, totalling 90 fits\n"
     ]
    },
    {
     "name": "stderr",
     "output_type": "stream",
     "text": [
      "[Parallel(n_jobs=1)]: Done  90 out of  90 | elapsed:    7.6s finished\n"
     ]
    },
    {
     "name": "stdout",
     "output_type": "stream",
     "text": [
      "Fitting 10 folds for each of 9 candidates, totalling 90 fits\n",
      "=============================================\n",
      "Best params (size): {'max_depth': 6, 'n_estimators': 15, 'random_state': 123}\n",
      "Best score (size): 0.412\n",
      "Best params (toppings): {'max_depth': 8, 'n_estimators': 15, 'random_state': 123}\n",
      "Best score (toppings): 0.456\n"
     ]
    },
    {
     "name": "stderr",
     "output_type": "stream",
     "text": [
      "[Parallel(n_jobs=1)]: Done  90 out of  90 | elapsed:    6.9s finished\n"
     ]
    }
   ],
   "source": [
    "param_grid = { \n",
    "    'n_estimators': [10, 15, 20],\n",
    "    'max_depth': [4, 6, 8],\n",
    "    'random_state': [123]\n",
    "#     'max_features': ['auto', 'sqrt', 'log2']\n",
    "}\n",
    "\n",
    "grid_size = GridSearchCV(estimator=RandomForestClassifier(), param_grid=param_grid, cv=10, verbose=1 ,scoring=scoring_list, refit=\"accuracy\")\n",
    "grid_size.fit(x, y_size)\n",
    "grid_toppings = GridSearchCV(estimator=RandomForestClassifier(), param_grid=param_grid, cv=10, verbose=1, scoring=scoring_list, refit=\"accuracy\")\n",
    "grid_toppings.fit(x, y_toppings)\n",
    "print(\"=============================================\")\n",
    "print(\"Best params (size):\", grid_size.best_params_)\n",
    "print(\"Best score (size):\", grid_size.best_score_)\n",
    "\n",
    "print(\"Best params (toppings):\", grid_toppings.best_params_)\n",
    "print(\"Best score (toppings):\", grid_toppings.best_score_)"
   ]
  },
  {
   "cell_type": "markdown",
   "metadata": {},
   "source": [
    "From the result above we can see that the best model among these inputs is max depth with 6, number of trees with 15 for predicting size and max depth with 8, number of trees with 15 for predicting toppings. Predictions are around 41% and 45%."
   ]
  },
  {
   "cell_type": "code",
   "execution_count": 17,
   "metadata": {},
   "outputs": [],
   "source": [
    "clf_size = RandomForestClassifier(n_estimators=15, max_depth=6)\n",
    "clf_size.fit(x, y_size)\n",
    "hyp_size = clf_size.predict(test_df)\n",
    "hyp_size = predited_label_dict[\"Size\"].inverse_transform(hyp_size)\n",
    "\n",
    "clf_toppings = RandomForestClassifier(n_estimators=15, max_depth=8)\n",
    "clf_toppings.fit(x, y_toppings)\n",
    "hyp_toppings = clf_toppings.predict(test_df)\n",
    "hyp_toppings = predited_label_dict[\"Toppings\"].inverse_transform(hyp_toppings)"
   ]
  },
  {
   "cell_type": "code",
   "execution_count": 18,
   "metadata": {},
   "outputs": [
    {
     "data": {
      "text/html": [
       "<div>\n",
       "<style>\n",
       "    .dataframe thead tr:only-child th {\n",
       "        text-align: right;\n",
       "    }\n",
       "\n",
       "    .dataframe thead th {\n",
       "        text-align: left;\n",
       "    }\n",
       "\n",
       "    .dataframe tbody tr th {\n",
       "        vertical-align: top;\n",
       "    }\n",
       "</style>\n",
       "<table border=\"1\" class=\"dataframe\">\n",
       "  <thead>\n",
       "    <tr style=\"text-align: right;\">\n",
       "      <th></th>\n",
       "      <th>Size</th>\n",
       "      <th>Toppings</th>\n",
       "    </tr>\n",
       "  </thead>\n",
       "  <tbody>\n",
       "    <tr>\n",
       "      <th>0</th>\n",
       "      <td>Large</td>\n",
       "      <td>Supreme</td>\n",
       "    </tr>\n",
       "    <tr>\n",
       "      <th>1</th>\n",
       "      <td>X-Large</td>\n",
       "      <td>Meat-lovers</td>\n",
       "    </tr>\n",
       "    <tr>\n",
       "      <th>2</th>\n",
       "      <td>X-Large</td>\n",
       "      <td>Cheese</td>\n",
       "    </tr>\n",
       "    <tr>\n",
       "      <th>3</th>\n",
       "      <td>Small</td>\n",
       "      <td>Supreme</td>\n",
       "    </tr>\n",
       "    <tr>\n",
       "      <th>4</th>\n",
       "      <td>Large</td>\n",
       "      <td>Cheese</td>\n",
       "    </tr>\n",
       "  </tbody>\n",
       "</table>\n",
       "</div>"
      ],
      "text/plain": [
       "      Size     Toppings\n",
       "0    Large      Supreme\n",
       "1  X-Large  Meat-lovers\n",
       "2  X-Large       Cheese\n",
       "3    Small      Supreme\n",
       "4    Large       Cheese"
      ]
     },
     "execution_count": 18,
     "metadata": {},
     "output_type": "execute_result"
    }
   ],
   "source": [
    "result_df = pd.DataFrame({'Size':hyp_size, 'Toppings':hyp_toppings})\n",
    "result_df.head()"
   ]
  },
  {
   "cell_type": "code",
   "execution_count": 20,
   "metadata": {
    "collapsed": true
   },
   "outputs": [],
   "source": [
    "result_df.to_csv(r'pred2.txt', header=None, sep=',', mode='a')"
   ]
  },
  {
   "cell_type": "code",
   "execution_count": 22,
   "metadata": {},
   "outputs": [
    {
     "data": {
      "text/plain": [
       "(500, 8)"
      ]
     },
     "execution_count": 22,
     "metadata": {},
     "output_type": "execute_result"
    }
   ],
   "source": [
    "train_df.shape"
   ]
  },
  {
   "cell_type": "code",
   "execution_count": 23,
   "metadata": {},
   "outputs": [
    {
     "data": {
      "text/html": [
       "<div>\n",
       "<style>\n",
       "    .dataframe thead tr:only-child th {\n",
       "        text-align: right;\n",
       "    }\n",
       "\n",
       "    .dataframe thead th {\n",
       "        text-align: left;\n",
       "    }\n",
       "\n",
       "    .dataframe tbody tr th {\n",
       "        vertical-align: top;\n",
       "    }\n",
       "</style>\n",
       "<table border=\"1\" class=\"dataframe\">\n",
       "  <thead>\n",
       "    <tr style=\"text-align: right;\">\n",
       "      <th></th>\n",
       "      <th>Weight</th>\n",
       "      <th>Age</th>\n",
       "      <th>Days</th>\n",
       "      <th>Vegan</th>\n",
       "      <th>Cats</th>\n",
       "      <th>Cash</th>\n",
       "      <th>Size</th>\n",
       "      <th>Toppings</th>\n",
       "    </tr>\n",
       "  </thead>\n",
       "  <tbody>\n",
       "    <tr>\n",
       "      <th>count</th>\n",
       "      <td>500.000000</td>\n",
       "      <td>500.000000</td>\n",
       "      <td>500.000000</td>\n",
       "      <td>500.00000</td>\n",
       "      <td>500.000000</td>\n",
       "      <td>500.000000</td>\n",
       "      <td>500.000000</td>\n",
       "      <td>500.000000</td>\n",
       "    </tr>\n",
       "    <tr>\n",
       "      <th>mean</th>\n",
       "      <td>149.848538</td>\n",
       "      <td>60.290461</td>\n",
       "      <td>43.540000</td>\n",
       "      <td>0.04200</td>\n",
       "      <td>0.396000</td>\n",
       "      <td>3797.894630</td>\n",
       "      <td>2.434000</td>\n",
       "      <td>2.900000</td>\n",
       "    </tr>\n",
       "    <tr>\n",
       "      <th>std</th>\n",
       "      <td>45.907961</td>\n",
       "      <td>28.123431</td>\n",
       "      <td>32.881527</td>\n",
       "      <td>0.20079</td>\n",
       "      <td>0.695811</td>\n",
       "      <td>22126.256472</td>\n",
       "      <td>1.551276</td>\n",
       "      <td>1.983398</td>\n",
       "    </tr>\n",
       "    <tr>\n",
       "      <th>min</th>\n",
       "      <td>75.000000</td>\n",
       "      <td>13.008069</td>\n",
       "      <td>0.000000</td>\n",
       "      <td>0.00000</td>\n",
       "      <td>0.000000</td>\n",
       "      <td>0.273849</td>\n",
       "      <td>0.000000</td>\n",
       "      <td>0.000000</td>\n",
       "    </tr>\n",
       "    <tr>\n",
       "      <th>25%</th>\n",
       "      <td>114.947429</td>\n",
       "      <td>35.549435</td>\n",
       "      <td>19.000000</td>\n",
       "      <td>0.00000</td>\n",
       "      <td>0.000000</td>\n",
       "      <td>56.529103</td>\n",
       "      <td>1.000000</td>\n",
       "      <td>1.000000</td>\n",
       "    </tr>\n",
       "    <tr>\n",
       "      <th>50%</th>\n",
       "      <td>148.742120</td>\n",
       "      <td>60.083296</td>\n",
       "      <td>38.000000</td>\n",
       "      <td>0.00000</td>\n",
       "      <td>0.000000</td>\n",
       "      <td>253.057224</td>\n",
       "      <td>2.000000</td>\n",
       "      <td>2.000000</td>\n",
       "    </tr>\n",
       "    <tr>\n",
       "      <th>75%</th>\n",
       "      <td>181.703051</td>\n",
       "      <td>84.853689</td>\n",
       "      <td>63.000000</td>\n",
       "      <td>0.00000</td>\n",
       "      <td>1.000000</td>\n",
       "      <td>1639.666602</td>\n",
       "      <td>4.000000</td>\n",
       "      <td>4.000000</td>\n",
       "    </tr>\n",
       "    <tr>\n",
       "      <th>max</th>\n",
       "      <td>299.348740</td>\n",
       "      <td>109.993134</td>\n",
       "      <td>199.000000</td>\n",
       "      <td>1.00000</td>\n",
       "      <td>5.000000</td>\n",
       "      <td>425434.282276</td>\n",
       "      <td>5.000000</td>\n",
       "      <td>6.000000</td>\n",
       "    </tr>\n",
       "  </tbody>\n",
       "</table>\n",
       "</div>"
      ],
      "text/plain": [
       "           Weight         Age        Days      Vegan        Cats  \\\n",
       "count  500.000000  500.000000  500.000000  500.00000  500.000000   \n",
       "mean   149.848538   60.290461   43.540000    0.04200    0.396000   \n",
       "std     45.907961   28.123431   32.881527    0.20079    0.695811   \n",
       "min     75.000000   13.008069    0.000000    0.00000    0.000000   \n",
       "25%    114.947429   35.549435   19.000000    0.00000    0.000000   \n",
       "50%    148.742120   60.083296   38.000000    0.00000    0.000000   \n",
       "75%    181.703051   84.853689   63.000000    0.00000    1.000000   \n",
       "max    299.348740  109.993134  199.000000    1.00000    5.000000   \n",
       "\n",
       "                Cash        Size    Toppings  \n",
       "count     500.000000  500.000000  500.000000  \n",
       "mean     3797.894630    2.434000    2.900000  \n",
       "std     22126.256472    1.551276    1.983398  \n",
       "min         0.273849    0.000000    0.000000  \n",
       "25%        56.529103    1.000000    1.000000  \n",
       "50%       253.057224    2.000000    2.000000  \n",
       "75%      1639.666602    4.000000    4.000000  \n",
       "max    425434.282276    5.000000    6.000000  "
      ]
     },
     "execution_count": 23,
     "metadata": {},
     "output_type": "execute_result"
    }
   ],
   "source": [
    "train_df.describe()"
   ]
  },
  {
   "cell_type": "markdown",
   "metadata": {},
   "source": [
    "The reason that prediction accuracy is not significantly impressive might be the dataset is too small that it does not have enough data for the model to learn and predict, another possible cause can be that when it comes to predicting size and topping, there might be more factors (predictor variables) in real world, which our dataset does not contain. In conclusion, we can either gather more data or consider more features for predicting."
   ]
  },
  {
   "cell_type": "code",
   "execution_count": null,
   "metadata": {
    "collapsed": true
   },
   "outputs": [],
   "source": []
  }
 ],
 "metadata": {
  "kernelspec": {
   "display_name": "Python 3",
   "language": "python",
   "name": "python3"
  },
  "language_info": {
   "codemirror_mode": {
    "name": "ipython",
    "version": 3
   },
   "file_extension": ".py",
   "mimetype": "text/x-python",
   "name": "python",
   "nbconvert_exporter": "python",
   "pygments_lexer": "ipython3",
   "version": "3.6.1"
  }
 },
 "nbformat": 4,
 "nbformat_minor": 2
}
